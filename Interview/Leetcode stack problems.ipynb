{
 "cells": [
  {
   "cell_type": "markdown",
   "metadata": {},
   "source": [
    "Min stack"
   ]
  },
  {
   "cell_type": "code",
   "execution_count": 15,
   "metadata": {
    "collapsed": false
   },
   "outputs": [
    {
     "name": "stdout",
     "output_type": "stream",
     "text": [
      "Element 9 has been inserted\n",
      "Element 8 has been inserted\n",
      "Element 7 has been inserted\n",
      "Element 9 has been removed\n",
      "The minimum element is 7\n",
      "The top element is 8\n"
     ]
    }
   ],
   "source": [
    "class stack():\n",
    "    def __init__(self):\n",
    "        self.stack = []\n",
    "        self.minstack = []\n",
    "    \n",
    "    def push(self,value):\n",
    "        self.stack.append(value)\n",
    "        if self.minstack == []:\n",
    "            self.minstack.append(value)\n",
    "        elif self.minstack[-1] >= value:   \n",
    "            self.minstack.append(value)\n",
    "        return \"Element {} has been inserted\".format(value)  \n",
    "    \n",
    "    def pop(self,value):\n",
    "        if self.minstack[-1] == value:\n",
    "            self.minstack.pop()\n",
    "        self.stack.pop()\n",
    "        return \"Element {} has been removed\".format(value)\n",
    "    \n",
    "    def min1stack(self):\n",
    "        if self.stack:\n",
    "            return \"The minimum element is {}\".format(self.minstack[-1])\n",
    "    \n",
    "    def top(self):\n",
    "        if self.stack:\n",
    "            return \"The top element is {}\".format((self.stack[-1]))\n",
    "    \n",
    "    \n",
    "stack1 = stack()\n",
    "print(stack1.push(9))\n",
    "print(stack1.push(8))\n",
    "print(stack1.push(7))\n",
    "print(stack1.pop(9))\n",
    "print(stack1.min1stack())\n",
    "print(stack1.top())     "
   ]
  },
  {
   "cell_type": "markdown",
   "metadata": {},
   "source": [
    "Implement stack using queue"
   ]
  },
  {
   "cell_type": "code",
   "execution_count": 16,
   "metadata": {
    "collapsed": false
   },
   "outputs": [
    {
     "data": {
      "text/plain": [
       "[10]"
      ]
     },
     "execution_count": 16,
     "metadata": {},
     "output_type": "execute_result"
    }
   ],
   "source": [
    "class Stack(object):\n",
    "    def __init__(self):\n",
    "        self.stack = []\n",
    "        \n",
    "\n",
    "    def push(self, x):\n",
    "        self.stack = [x] + self.stack\n",
    "        \n",
    "\n",
    "    def pop(self):\n",
    "        if not self.empty():\n",
    "            self.stack = self.stack[1:]                   \n",
    "        \n",
    "    def top(self):\n",
    "        if not self.empty():\n",
    "            return self.stack[0]\n",
    "        \n",
    "\n",
    "    def empty(self):\n",
    "        return len(self.stack) == 0\n",
    "        \n",
    "        \n",
    "\n",
    "stack = Stack()        \n",
    "stack.push(10)\n",
    "stack.push(100)\n",
    "stack.pop()\n",
    "stack.stack"
   ]
  },
  {
   "cell_type": "markdown",
   "metadata": {},
   "source": [
    "Implement queue using stack"
   ]
  },
  {
   "cell_type": "code",
   "execution_count": 18,
   "metadata": {
    "collapsed": false
   },
   "outputs": [
    {
     "name": "stdout",
     "output_type": "stream",
     "text": [
      "None\n",
      "None\n",
      "None\n",
      "100\n"
     ]
    }
   ],
   "source": [
    "class Queue(object):\n",
    "    def __init__(self):\n",
    "        self.stack = []\n",
    "        \n",
    "\n",
    "    def push(self, x):\n",
    "        self.stack.append(x)\n",
    "        \n",
    "        \n",
    "    def pop(self):\n",
    "        if len(self.stack)>0:\n",
    "            self.stack = self.stack[1:]\n",
    "        \n",
    "\n",
    "    def peek(self):\n",
    "        if len(self.stack)>0:\n",
    "            return self.stack[0]       \n",
    "\n",
    "    def empty(self):\n",
    "        return len(self.stack)==0\n",
    "    \n",
    "stack = Queue()        \n",
    "print(stack.push(10))\n",
    "print(stack.push(100))\n",
    "print(stack.pop())\n",
    "print(stack.peek())"
   ]
  },
  {
   "cell_type": "code",
   "execution_count": null,
   "metadata": {
    "collapsed": true
   },
   "outputs": [],
   "source": []
  }
 ],
 "metadata": {
  "anaconda-cloud": {},
  "kernelspec": {
   "display_name": "Python [default]",
   "language": "python",
   "name": "python3"
  },
  "language_info": {
   "codemirror_mode": {
    "name": "ipython",
    "version": 3
   },
   "file_extension": ".py",
   "mimetype": "text/x-python",
   "name": "python",
   "nbconvert_exporter": "python",
   "pygments_lexer": "ipython3",
   "version": "3.5.2"
  }
 },
 "nbformat": 4,
 "nbformat_minor": 1
}
