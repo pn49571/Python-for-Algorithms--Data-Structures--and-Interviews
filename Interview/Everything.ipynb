{
 "cells": [
  {
   "cell_type": "markdown",
   "metadata": {},
   "source": [
    "# Power sum\n",
    "Find the number of ways that a given integer, , can be expressed as the sum of the  power of unique, natural numbers."
   ]
  },
  {
   "cell_type": "code",
   "execution_count": null,
   "metadata": {
    "collapsed": true
   },
   "outputs": [],
   "source": [
    "x = int(input())\n",
    "n = int(input())\n",
    "dp = [1] + [0] * x\n",
    "for i in range(1, int(pow(x, 1 / n)) + 1):\n",
    "    u = i ** n\n",
    "    for j in range(x, u - 1, -1):\n",
    "        dp[j] += dp[j - u]\n",
    "print(dp[-1])"
   ]
  },
  {
   "cell_type": "markdown",
   "metadata": {},
   "source": [
    "# Fizz Buzz\n",
    "multiples of three it should output “Fizz” instead of the number and for the multiples of five output “Buzz”. For numbers which are multiples of both three and five output “FizzBuzz”."
   ]
  },
  {
   "cell_type": "code",
   "execution_count": null,
   "metadata": {
    "collapsed": true
   },
   "outputs": [],
   "source": [
    "class Solution(object):\n",
    "    def fizzBuzz(self, n):\n",
    "        return ['Fizz' * (not i % 3) + 'Buzz' * (not i % 5) or str(i) for i in range(1, n+1)]\n",
    "                    "
   ]
  },
  {
   "cell_type": "markdown",
   "metadata": {},
   "source": [
    "# Reverse a string\n",
    "Write a function that takes a string as input and returns the string reversed."
   ]
  },
  {
   "cell_type": "code",
   "execution_count": null,
   "metadata": {
    "collapsed": true
   },
   "outputs": [],
   "source": [
    "class Solution(object):\n",
    "    def reverseString(self, s):\n",
    "        return s[::-1]\n",
    "        \n",
    "if __name__ == '__main__':\n",
    "    print(Solution().reverseString('sai'))"
   ]
  },
  {
   "cell_type": "markdown",
   "metadata": {},
   "source": [
    "# Single Number\n",
    "Given an array of integers, every element appears twice except for one. Find that single one."
   ]
  },
  {
   "cell_type": "code",
   "execution_count": null,
   "metadata": {
    "collapsed": true
   },
   "outputs": [],
   "source": [
    "class Solution(object):\n",
    "    def singleNumber(self, nums):\n",
    "        res = 0\n",
    "        for num in nums:\n",
    "            res ^= num\n",
    "        return res"
   ]
  },
  {
   "cell_type": "markdown",
   "metadata": {},
   "source": [
    "# Maximum Depth of Binary Tree\n",
    "Given a binary tree, find its maximum depth.\n",
    "\n",
    "The maximum depth is the number of nodes along the longest path from the root node down to the farthest leaf node."
   ]
  },
  {
   "cell_type": "code",
   "execution_count": null,
   "metadata": {
    "collapsed": true
   },
   "outputs": [],
   "source": [
    "# Definition for a binary tree node.\n",
    "# class TreeNode(object):\n",
    "#     def __init__(self, x):\n",
    "#         self.val = x\n",
    "#         self.left = None\n",
    "#         self.right = None\n",
    "\n",
    "class Solution(object):\n",
    "    def maxDepth(self, root):\n",
    "        \"\"\"\n",
    "        :type root: TreeNode\n",
    "        :rtype: int\n",
    "        \"\"\"\n",
    "        return 1 + max(map(self.maxDepth, (root.left, root.right))) if root else 0"
   ]
  },
  {
   "cell_type": "markdown",
   "metadata": {},
   "source": [
    "# Sum of Two Integers\n",
    "Calculate the sum of two integers a and b, but you are not allowed to use the operator + and -."
   ]
  },
  {
   "cell_type": "code",
   "execution_count": null,
   "metadata": {
    "collapsed": true
   },
   "outputs": [],
   "source": [
    "class Solution(object):\n",
    "    def getSum(self, a, b):\n",
    "        \"\"\"\n",
    "        :type a: int\n",
    "        :type b: int\n",
    "        :rtype: int\n",
    "        \"\"\"\n",
    "        return a+b "
   ]
  },
  {
   "cell_type": "markdown",
   "metadata": {},
   "source": [
    "# Move zeroes\n",
    "Given an array nums, write a function to move all 0's to the end of it while maintaining the relative order of the non-zero elements.\n",
    "\n",
    "For example, given nums = [0, 1, 0, 3, 12], after calling your function, nums should be [1, 3, 12, 0, 0]."
   ]
  },
  {
   "cell_type": "code",
   "execution_count": null,
   "metadata": {
    "collapsed": true
   },
   "outputs": [],
   "source": [
    "class Solution(object):\n",
    "    def moveZeroes(self, nums):\n",
    "        \"\"\"\n",
    "        :type nums: List[int]\n",
    "        :rtype: void Do not return anything, modify nums in-place instead.\n",
    "        \"\"\"\n",
    "        for num in nums:\n",
    "            if num == 0:\n",
    "                nums.remove(num)\n",
    "                nums.append(num)\n",
    "        return"
   ]
  },
  {
   "cell_type": "markdown",
   "metadata": {},
   "source": [
    "# Excel Sheet Column Number\n",
    "Given a column title as appear in an Excel sheet, return its corresponding column number."
   ]
  },
  {
   "cell_type": "code",
   "execution_count": null,
   "metadata": {
    "collapsed": true
   },
   "outputs": [],
   "source": [
    "class Solution(object):\n",
    "    def titleToNumber(self, s):\n",
    "        \"\"\"\n",
    "        :type s: str\n",
    "        :rtype: int\n",
    "        \"\"\"\n",
    "        sum=0\n",
    "        power=0\n",
    "        for i in s[::-1]: # reverse the string\n",
    "            sum+=((ord(i)-64)*(26**power)) \n",
    "            power+=1\n",
    "        return sum     "
   ]
  },
  {
   "cell_type": "markdown",
   "metadata": {},
   "source": [
    "# Best Time to Buy and Sell Stock II\n",
    "Design an algorithm to find the maximum profit. You may complete as many transactions as you like (ie, buy one and sell one share of the stock multiple times). However, you may not engage in multiple transactions at the same time (ie, you must sell the stock before you buy again)."
   ]
  },
  {
   "cell_type": "code",
   "execution_count": null,
   "metadata": {
    "collapsed": true
   },
   "outputs": [],
   "source": [
    "class Solution(object):\n",
    "    def maxProfit(self, prices):\n",
    "        \"\"\"\n",
    "        :type prices: List[int]\n",
    "        :rtype: int\n",
    "        \"\"\"\n",
    "        return sum(max(prices[i + 1] - prices[i], 0) for i in range(len(prices) - 1))"
   ]
  },
  {
   "cell_type": "markdown",
   "metadata": {},
   "source": [
    "# First Unique Character in a String\n",
    "Given a string, find the first non-repeating character in it and return it's index. If it doesn't exist, return -1."
   ]
  },
  {
   "cell_type": "code",
   "execution_count": null,
   "metadata": {
    "collapsed": true
   },
   "outputs": [],
   "source": [
    "class Solution(object):\n",
    "    def deleteNode(self, node):\n",
    "        \"\"\"\n",
    "        :type node: ListNode\n",
    "        :rtype: void Do not return anything, modify node in-place instead.\n",
    "        \"\"\"\n",
    "        node.val = node.next.val\n",
    "        node.next = node.next.next"
   ]
  },
  {
   "cell_type": "markdown",
   "metadata": {},
   "source": [
    "# Palindrome partition\n",
    "Detect number of sub palindromes "
   ]
  },
  {
   "cell_type": "code",
   "execution_count": null,
   "metadata": {
    "collapsed": true
   },
   "outputs": [],
   "source": [
    "def partition(s):\n",
    "    return [[s[:i]] + rest\n",
    "            for i in range(1, len(s)+1)\n",
    "            if s[:i] == s[i-1::-1]\n",
    "            for rest in partition(s[i:])] or [[]]\n",
    "\n",
    "def palindrome(s):\n",
    "    s1= partition(s)\n",
    "    l = [item for sublist in s1 for item in sublist]\n",
    "    return (len(set(l)))\n",
    "\n",
    "palindrome('aabaa')"
   ]
  },
  {
   "cell_type": "markdown",
   "metadata": {},
   "source": [
    "# Delete Node in a Linked List\n",
    "Write a function to delete a node (except the tail) in a singly linked list, given only access to that node."
   ]
  },
  {
   "cell_type": "code",
   "execution_count": null,
   "metadata": {
    "collapsed": true
   },
   "outputs": [],
   "source": [
    "# Definition for singly-linked list.\n",
    "# class ListNode(object):\n",
    "#     def __init__(self, x):\n",
    "#         self.val = x\n",
    "#         self.next = None\n",
    "\n",
    "class Solution(object):\n",
    "    def deleteNode(self, node):\n",
    "        \"\"\"\n",
    "        :type node: ListNode\n",
    "        :rtype: void Do not return anything, modify node in-place instead.\n",
    "        \"\"\"\n",
    "        node.val = node.next.val\n",
    "        node.next = node.next.next"
   ]
  },
  {
   "cell_type": "markdown",
   "metadata": {},
   "source": [
    "# Braces\n",
    "Determine if a given string has valid braces or not using 'YES' and 'NO'"
   ]
  },
  {
   "cell_type": "code",
   "execution_count": null,
   "metadata": {
    "collapsed": true
   },
   "outputs": [],
   "source": [
    "lefts = '{[('\n",
    "rights = '}])'\n",
    "closes = { a:b for a,b in zip(rights,lefts)}\n",
    "    \n",
    "def valid(s):\n",
    "    stack = []\n",
    "    for c in s:\n",
    "        if c in lefts:\n",
    "            stack.append(c)\n",
    "        elif c in rights:\n",
    "            if not stack or stack.pop() != closes[c]:\n",
    "                return False\n",
    "    return not stack  # stack must be empty at the end\n",
    "\n",
    "\n",
    "def braces(values):\n",
    "    s1 = []\n",
    "    for s in values:\n",
    "        if valid(s):\n",
    "            s1.append('YES')\n",
    "        else:\n",
    "            s1.append('NO')\n",
    "    return s1\n",
    "braces(['()))','()'])"
   ]
  },
  {
   "cell_type": "markdown",
   "metadata": {},
   "source": [
    "# Majority Element\n",
    "Given an array of size n, find the majority element. The majority element is the element that appears more than ⌊ n/2 ⌋ times."
   ]
  },
  {
   "cell_type": "code",
   "execution_count": null,
   "metadata": {
    "collapsed": true
   },
   "outputs": [],
   "source": [
    "class Solution(object):\n",
    "    def majorityElement(self, nums):\n",
    "        \"\"\"\n",
    "        :type nums: List[int]\n",
    "        :rtype: int\n",
    "        \"\"\"\n",
    "        return sorted(nums)[len(nums)/2]"
   ]
  },
  {
   "cell_type": "markdown",
   "metadata": {},
   "source": [
    "# Bit complement\n",
    "Find the bit complement. For example 50 bit number complement is 13 "
   ]
  },
  {
   "cell_type": "code",
   "execution_count": null,
   "metadata": {
    "collapsed": true
   },
   "outputs": [],
   "source": [
    "import math\n",
    "def findComplement(num):\n",
    "    mask = (1 << 1 + int(math.log(num, 2))) - 1\n",
    "    return mask ^ num\n",
    "\n",
    "findComplement(50)"
   ]
  },
  {
   "cell_type": "markdown",
   "metadata": {},
   "source": [
    "# Valid Anagram\n",
    "Given two strings s and t, write a function to determine if t is an anagram of s.\n",
    "\n",
    "For example,\n",
    "s = \"anagram\", t = \"nagaram\", return true.\n",
    "s = \"rat\", t = \"car\", return false."
   ]
  },
  {
   "cell_type": "code",
   "execution_count": 1,
   "metadata": {
    "collapsed": true
   },
   "outputs": [],
   "source": [
    "class Solution(object):\n",
    "    def isAnagram(self, s, t):\n",
    "        \"\"\"\n",
    "        :type s: str\n",
    "        :type t: str\n",
    "        :rtype: bool\n",
    "        \"\"\"\n",
    "        if sorted(s) == sorted(t):\n",
    "            return True\n",
    "        else:\n",
    "            return False"
   ]
  },
  {
   "cell_type": "markdown",
   "metadata": {},
   "source": [
    "# Contains Duplicate\n",
    "Given an array of integers, find if the array contains any duplicates. Your function should return true if any value appears at least twice in the array, and it should return false if every element is distinct"
   ]
  },
  {
   "cell_type": "code",
   "execution_count": null,
   "metadata": {
    "collapsed": true
   },
   "outputs": [],
   "source": [
    "class Solution(object):\n",
    "    def containsDuplicate(self, nums):\n",
    "        \"\"\"\n",
    "        :type nums: List[int]\n",
    "        :rtype: bool\n",
    "        \"\"\"\n",
    "        return len(nums) != len(set(nums))"
   ]
  },
  {
   "cell_type": "markdown",
   "metadata": {},
   "source": [
    "# Roman to Integer\n",
    "Given a roman numeral, convert it to an integer."
   ]
  },
  {
   "cell_type": "code",
   "execution_count": null,
   "metadata": {
    "collapsed": true
   },
   "outputs": [],
   "source": [
    "class Solution(object):\n",
    "    def romanToInt(self, s):\n",
    "        roman = {'M': 1000,'D': 500 ,'C': 100,'L': 50,'X': 10,'V': 5,'I': 1}\n",
    "        z = 0\n",
    "        for i in range(0, len(s) - 1):\n",
    "            if roman[s[i]] < roman[s[i+1]]:\n",
    "                z -= roman[s[i]]\n",
    "            else:\n",
    "                z += roman[s[i]]\n",
    "        return z + roman[s[-1]]"
   ]
  },
  {
   "cell_type": "markdown",
   "metadata": {},
   "source": [
    "# Reverse Linked List\n",
    "Reverse a singly linked list."
   ]
  },
  {
   "cell_type": "code",
   "execution_count": null,
   "metadata": {
    "collapsed": true
   },
   "outputs": [],
   "source": [
    "class Solution:\n",
    "    def reverseList(self, head):\n",
    "        prev = None\n",
    "        while head:\n",
    "            curr = head\n",
    "            head = head.next\n",
    "            curr.next = prev\n",
    "            prev = curr\n",
    "        return prev"
   ]
  },
  {
   "cell_type": "markdown",
   "metadata": {},
   "source": [
    "# Date diffrence\n",
    "Print the number of days diffrence between two dates"
   ]
  },
  {
   "cell_type": "code",
   "execution_count": null,
   "metadata": {
    "collapsed": true
   },
   "outputs": [],
   "source": [
    "from datetime import date\n",
    "def datbetween(year1,month1,day1,year2,month2,day2):\n",
    "    d0 = date(year1, month1, day1)\n",
    "    d1 = date(year2, month2, day2)\n",
    "    delta = d0 - d1\n",
    "    return (abs(delta.days))\n",
    "\n",
    "datbetween(2008,8,18,2009,9,19)"
   ]
  },
  {
   "cell_type": "markdown",
   "metadata": {},
   "source": [
    "# Odd numbers\n",
    "Print number of odd numbers between the 2 input integers"
   ]
  },
  {
   "cell_type": "code",
   "execution_count": null,
   "metadata": {
    "collapsed": true
   },
   "outputs": [],
   "source": [
    "def oddNumbers(l, r):\n",
    "    lst = []\n",
    "    for i in range(l,(r+1)):\n",
    "        if i % 2 != 0:\n",
    "            lst.append(str(i))\n",
    "    return lst\n",
    "\n",
    "oddNumbers(96,97)"
   ]
  },
  {
   "cell_type": "markdown",
   "metadata": {},
   "source": [
    "# Intersection of Two Arrays II\n",
    "Given two arrays, write a function to compute their intersection.\n",
    "\n",
    "Example:\n",
    "Given nums1 = [1, 2, 2, 1], nums2 = [2, 2], return [2, 2]."
   ]
  },
  {
   "cell_type": "code",
   "execution_count": null,
   "metadata": {
    "collapsed": true
   },
   "outputs": [],
   "source": [
    "class Solution(object):\n",
    "    def intersect(self, nums1, nums2):\n",
    "        \"\"\"\n",
    "        :type nums1: List[int]\n",
    "        :type nums2: List[int]\n",
    "        :rtype: List[int]\n",
    "        \"\"\"\n",
    "        return list((collections.Counter(nums1) & collections.Counter(nums2)).elements())"
   ]
  },
  {
   "cell_type": "markdown",
   "metadata": {},
   "source": [
    "# Missing Number\n",
    "Given an array containing n distinct numbers taken from 0, 1, 2, ..., n, find the one that is missing from the array.\n",
    "\n",
    "For example,\n",
    "Given nums = [0, 1, 3] return 2."
   ]
  },
  {
   "cell_type": "code",
   "execution_count": null,
   "metadata": {
    "collapsed": true
   },
   "outputs": [],
   "source": [
    "class Solution(object):\n",
    "    def missingNumber(self, nums):\n",
    "           n = len(nums)\n",
    "           return n * (n+1) / 2 - sum(nums)"
   ]
  },
  {
   "cell_type": "markdown",
   "metadata": {},
   "source": [
    "# Convert Sorted Array to Binary Search Tree\n",
    "Given an array where elements are sorted in ascending order, convert it to a height balanced BST."
   ]
  },
  {
   "cell_type": "code",
   "execution_count": null,
   "metadata": {
    "collapsed": true
   },
   "outputs": [],
   "source": [
    "# Definition for a  binary tree node\n",
    "# class TreeNode:\n",
    "#     def __init__(self, x):\n",
    "#         self.val = x\n",
    "#         self.left = None\n",
    "#         self.right = None\n",
    "\n",
    "class Solution:\n",
    "    # @param num, a list of integers\n",
    "    # @return a tree node\n",
    "    # 12:37\n",
    "    def sortedArrayToBST(self, num):\n",
    "        if not num:\n",
    "            return None\n",
    "\n",
    "        mid = len(num) // 2\n",
    "\n",
    "        root = TreeNode(num[mid])\n",
    "        root.left = self.sortedArrayToBST(num[:mid])\n",
    "        root.right = self.sortedArrayToBST(num[mid+1:])\n",
    "\n",
    "        return root"
   ]
  },
  {
   "cell_type": "markdown",
   "metadata": {},
   "source": [
    "# Braces\n",
    "Check for braces with True or false output"
   ]
  },
  {
   "cell_type": "code",
   "execution_count": null,
   "metadata": {
    "collapsed": true
   },
   "outputs": [],
   "source": [
    "class Solution(object):\n",
    "    def isValid(self, s):\n",
    "        while \"()\" in s or \"{}\" in s or \"[]\" in s:\n",
    "            s = s.replace(\"()\",\"\").replace(\"{}\",\"\").replace(\"[]\",\"\")\n",
    "        return len(s) == 0   "
   ]
  },
  {
   "cell_type": "markdown",
   "metadata": {},
   "source": [
    "# Best Time to Buy and Sell Stock\n",
    "Say you have an array for which the ith element is the price of a given stock on day i.\n",
    "\n",
    "If you were only permitted to complete at most one transaction (ie, buy one and sell one share of the stock), design an algorithm to find the maximum profit.\n",
    "\n",
    "Input: [7, 6, 4, 3, 1]\n",
    "Output: 0\n",
    "\n",
    "In this case, no transaction is done, i.e. max profit = 0."
   ]
  },
  {
   "cell_type": "code",
   "execution_count": null,
   "metadata": {
    "collapsed": true
   },
   "outputs": [],
   "source": [
    "class Solution(object):\n",
    "\tdef maxProfit(self, prices):\n",
    "            if len(prices) < 2:\n",
    "                return 0\n",
    "            ret = 0\n",
    "            buy = prices[0]\n",
    "            for price in prices[1:]:\n",
    "                if price > buy:\n",
    "                    ret = max(ret, price - buy)\n",
    "                else:\n",
    "                    buy = price\n",
    "            return ret"
   ]
  },
  {
   "cell_type": "markdown",
   "metadata": {},
   "source": [
    "# Happy Number\n",
    "Write an algorithm to determine if a number is \"happy\".\n",
    "Example: 19 is a happy number\n",
    "\n",
    "12 + 92 = 82\n",
    "82 + 22 = 68\n",
    "62 + 82 = 100\n",
    "12 + 02 + 02 = 1"
   ]
  },
  {
   "cell_type": "code",
   "execution_count": null,
   "metadata": {
    "collapsed": true
   },
   "outputs": [],
   "source": [
    "class Solution(object):\n",
    "    def isHappy(self, n):\n",
    "            Hash = {}\n",
    "            while n != 1:\n",
    "                if n in Hash: \n",
    "                    return False\n",
    "                else: \n",
    "                    Hash[n] = True\n",
    "                    n = sum([pow(int(c) , 2) for c in str(n)])\n",
    "            return True"
   ]
  },
  {
   "cell_type": "markdown",
   "metadata": {},
   "source": [
    "# Power of Three\n",
    "Given an integer, write a function to determine if it is a power of three. "
   ]
  },
  {
   "cell_type": "code",
   "execution_count": null,
   "metadata": {
    "collapsed": true
   },
   "outputs": [],
   "source": [
    "class Solution(object):\n",
    "    def isPowerOfThree(self, n):\n",
    "        if n <= 0:\n",
    "        \treturn False\n",
    "\n",
    "        while n % 3 == 0:        \t\n",
    "        \tn = n / 3\n",
    "\n",
    "        return True if n == 1 else False"
   ]
  },
  {
   "cell_type": "markdown",
   "metadata": {},
   "source": [
    "# Climbing Stairs\n",
    "You are climbing a stair case. It takes n steps to reach to the top.\n",
    "\n",
    "Each time you can either climb 1 or 2 steps. In how many distinct ways can you climb to the top?"
   ]
  },
  {
   "cell_type": "code",
   "execution_count": null,
   "metadata": {
    "collapsed": true
   },
   "outputs": [],
   "source": [
    "class Solution(object):\n",
    "    def climbStairs(self, n):\n",
    "        a, b = 1, 1\n",
    "        for i in range(n):\n",
    "            a, b = b, a + b\n",
    "        return a"
   ]
  },
  {
   "cell_type": "markdown",
   "metadata": {},
   "source": [
    "# Maximum Subarray\n",
    "Find the contiguous subarray within an array (containing at least one number) which has the largest sum.\n",
    "\n",
    "For example, given the array [-2,1,-3,4,-1,2,1,-5,4],\n",
    "the contiguous subarray [4,-1,2,1] has the largest sum = 6."
   ]
  },
  {
   "cell_type": "code",
   "execution_count": null,
   "metadata": {
    "collapsed": true
   },
   "outputs": [],
   "source": [
    "class Solution(object):\n",
    "    def maxSubArray(self, nums):\n",
    "            if not nums:\n",
    "                return 0\n",
    "            curSum = maxSum = nums[0]\n",
    "            for num in nums[1:]:\n",
    "                curSum = max(num, curSum + num)\n",
    "                maxSum = max(maxSum, curSum)\n",
    "            return maxSum"
   ]
  },
  {
   "cell_type": "markdown",
   "metadata": {},
   "source": [
    "# Number of 1 Bits\n",
    "Write a function that takes an unsigned integer and returns the number of ’1' bits it has (also known as the Hamming weight).\n",
    "\n",
    "For example, the 32-bit integer ’11' has binary representation 00000000000000000000000000001011, so the function should return 3."
   ]
  },
  {
   "cell_type": "code",
   "execution_count": null,
   "metadata": {
    "collapsed": true
   },
   "outputs": [],
   "source": [
    "class Solution(object):\n",
    "    def hammingWeight(self, n):\n",
    "        return len([i for i  in list('{:32b}'.format(n & 0xffffffff)) if i == '1'])"
   ]
  },
  {
   "cell_type": "markdown",
   "metadata": {},
   "source": [
    "# Merge Two Sorted Lists\n",
    "Merge two sorted linked lists and return it as a new list. "
   ]
  },
  {
   "cell_type": "code",
   "execution_count": null,
   "metadata": {
    "collapsed": true
   },
   "outputs": [],
   "source": [
    "# Definition for singly-linked list.\n",
    "# class ListNode(object):\n",
    "#     def __init__(self, x):\n",
    "#         self.val = x\n",
    "#         self.next = None\n",
    "\n",
    "class Solution(object):\n",
    "    def mergeTwoLists(self, l1, l2):\n",
    "        if not l1 or not l2:\n",
    "            return l1 or l2\n",
    "        if l1.val < l2.val:\n",
    "            l1.next = self.mergeTwoLists(l1.next, l2)\n",
    "            return l1\n",
    "        else:\n",
    "            l2.next = self.mergeTwoLists(l1, l2.next)\n",
    "            return l2\n",
    "            "
   ]
  },
  {
   "cell_type": "markdown",
   "metadata": {},
   "source": [
    "# House Robber\n",
    "ou are a professional robber planning to rob houses along a street. Each house has a certain amount of money stashed, the only constraint stopping you from robbing each of them is that adjacent houses have security system connected and it will automatically contact the police if two adjacent houses were broken into on the same night.\n",
    "\n",
    "Given a list of non-negative integers representing the amount of money of each house, determine the maximum amount of money you can rob tonight without alerting the police."
   ]
  },
  {
   "cell_type": "code",
   "execution_count": null,
   "metadata": {
    "collapsed": true
   },
   "outputs": [],
   "source": [
    "class Solution(object):\n",
    "    def rob(self, nums):\n",
    "            max_far = near = 0\n",
    "            for x in nums:\n",
    "                near,max_far = x + max_far,max(near, max_far)\n",
    "            return max(near, max_far)"
   ]
  },
  {
   "cell_type": "markdown",
   "metadata": {},
   "source": [
    "# Plus One\n",
    "Given a non-negative integer represented as a non-empty array of digits, plus one to the integer."
   ]
  },
  {
   "cell_type": "code",
   "execution_count": null,
   "metadata": {
    "collapsed": true
   },
   "outputs": [],
   "source": [
    "class Solution(object):\n",
    "        def plusOne(self,digits):\n",
    "            num = 0\n",
    "            for i in range(len(digits)):\n",
    "                num += digits[i] * pow(10, (len(digits)-1-i))\n",
    "            return [int(i) for i in str(num+1)]"
   ]
  },
  {
   "cell_type": "markdown",
   "metadata": {},
   "source": [
    "# Pascal's Triangle\n",
    "Given numRows, generate the first numRows of Pascal's triangle.\n",
    "\n",
    "For example, given numRows = 5,\n",
    "Return\n",
    "\n",
    "[\n",
    "     [1],\n",
    "    [1,1],\n",
    "   [1,2,1],\n",
    "  [1,3,3,1],\n",
    " [1,4,6,4,1]\n",
    "]"
   ]
  },
  {
   "cell_type": "code",
   "execution_count": null,
   "metadata": {
    "collapsed": true
   },
   "outputs": [],
   "source": [
    "class Solution(object):\n",
    "    def generate(self, numRows):\n",
    "            res = [[1]]\n",
    "            for i in range(1, numRows):\n",
    "                res += [map(lambda x, y: x+y, res[-1] + [0], [0] + res[-1])]\n",
    "            return res[:numRows]"
   ]
  },
  {
   "cell_type": "markdown",
   "metadata": {},
   "source": [
    "# Factorial Trailing Zeroes\n",
    "Given an integer n, return the number of trailing zeroes in n!."
   ]
  },
  {
   "cell_type": "code",
   "execution_count": null,
   "metadata": {
    "collapsed": true
   },
   "outputs": [],
   "source": [
    "class Solution(object):\n",
    "        def trailingZeroes(self, n):\n",
    "                r = 0\n",
    "                while n > 0:\n",
    "                    n /= 5\n",
    "                    r += n\n",
    "                return r"
   ]
  },
  {
   "cell_type": "markdown",
   "metadata": {},
   "source": [
    "# Two Sum\n",
    "Given nums = [2, 7, 11, 15], target = 9,\n",
    "\n",
    "Because nums[0] + nums[1] = 2 + 7 = 9,\n",
    "return [0, 1]."
   ]
  },
  {
   "cell_type": "code",
   "execution_count": null,
   "metadata": {
    "collapsed": true
   },
   "outputs": [],
   "source": [
    "class Solution(object):\n",
    "    def reverseString(self, s):\n",
    "        s ='sai'\n",
    "        s1 = ''\n",
    "        length = len(s)\n",
    "        for i in range((length-1),-1,-1):\n",
    "            s1+=s[i]\n",
    "        return s1"
   ]
  },
  {
   "cell_type": "markdown",
   "metadata": {},
   "source": [
    "# Reverse Bits\n",
    "Reverse bits of a given 32 bits unsigned integer.\n",
    "\n",
    "For example, given input 43261596 (represented in binary as 00000010100101000001111010011100), return 964176192 (represented in binary as 00111001011110000010100101000000)."
   ]
  },
  {
   "cell_type": "code",
   "execution_count": null,
   "metadata": {
    "collapsed": true
   },
   "outputs": [],
   "source": [
    "class Solution:\n",
    "    def reverseBits(self, n):\n",
    "        oribin='{0:032b}'.format(n)\n",
    "        reversebin=oribin[::-1]\n",
    "        return int(reversebin,2)"
   ]
  },
  {
   "cell_type": "markdown",
   "metadata": {},
   "source": [
    "# Count Primes\n",
    "Count the number of prime numbers less than a non-negative number, n."
   ]
  },
  {
   "cell_type": "code",
   "execution_count": null,
   "metadata": {
    "collapsed": true
   },
   "outputs": [],
   "source": [
    "class Solution(object):\n",
    "        def countPrimes(self, n):\n",
    "            if n < 3:\n",
    "                return 0\n",
    "            primes = [True] * n\n",
    "            primes[0] = primes[1] = False\n",
    "            for i in range(2, int(n ** 0.5) + 1):\n",
    "                if primes[i]:\n",
    "                    primes[i * i: n: i] = [False] * len(primes[i * i: n: i])\n",
    "            return sum(primes)"
   ]
  },
  {
   "cell_type": "markdown",
   "metadata": {},
   "source": [
    "# Valid Palindrome\n",
    "Given a string, determine if it is a palindrome, considering only alphanumeric characters and ignoring cases.\n",
    "\n",
    "For example,\n",
    "\"A man, a plan, a canal: Panama\" is a palindrome.\n",
    "\"race a car\" is not a palindrome."
   ]
  },
  {
   "cell_type": "code",
   "execution_count": null,
   "metadata": {
    "collapsed": true
   },
   "outputs": [],
   "source": [
    "class Solution(object):\n",
    "    def isPalindrome(self, s):\n",
    "        s = \"\".join([c.lower() for c in s if c.isalnum()])\n",
    "        return s == s[::-1]"
   ]
  },
  {
   "cell_type": "markdown",
   "metadata": {},
   "source": [
    "# Rotate Array\n",
    "Rotate an array of n elements to the right by k steps.\n",
    "\n",
    "For example, with n = 7 and k = 3, the array [1,2,3,4,5,6,7] is rotated to [5,6,7,1,2,3,4]."
   ]
  },
  {
   "cell_type": "code",
   "execution_count": null,
   "metadata": {
    "collapsed": true
   },
   "outputs": [],
   "source": [
    "class Solution(object):\n",
    "    def rotate(self, nums, k):\n",
    "        k = k % len(nums)\n",
    "        nums[:] = nums[-k:] + nums[:-k]"
   ]
  },
  {
   "cell_type": "markdown",
   "metadata": {},
   "source": [
    "# Reverse Integer\n",
    "Reverse digits of an integer.\n",
    "\n",
    "Example1: x = 123, return 321\n",
    "Example2: x = -123, return -321"
   ]
  },
  {
   "cell_type": "code",
   "execution_count": null,
   "metadata": {
    "collapsed": true
   },
   "outputs": [],
   "source": [
    "class Solution(object):\n",
    "    def reverse(self, x):\n",
    "        result =  (-1 if x < 0 else 1) * int(str(abs(x))[::-1])\n",
    "        if abs(result) > 2** 31: \n",
    "            return 0\n",
    "        else:\n",
    "            return result\n",
    "if __name__==\"__main__\":\n",
    "    print(Solution().reverse( 123))"
   ]
  },
  {
   "cell_type": "markdown",
   "metadata": {},
   "source": [
    "# Hamming Distance\n",
    "The Hamming distance between two integers is the number of positions at which the corresponding bits are different.\n",
    "Input: x = 1, y = 4\n",
    "\n",
    "Output: 2\n",
    "\n",
    "Explanation:\n",
    "1   (0 0 0 1)\n",
    "4   (0 1 0 0)\n",
    "       ↑   ↑\n",
    "\n",
    "The above arrows point to positions where the corresponding bits are different."
   ]
  },
  {
   "cell_type": "code",
   "execution_count": null,
   "metadata": {
    "collapsed": true
   },
   "outputs": [],
   "source": [
    "class Solution(object):\n",
    "    def hammingDistance(self, x, y):\n",
    "        return bin(x^y).count('1')\n",
    "if __name__ == '__main__':\n",
    "    print (Solution().hammingDistance(1,4))"
   ]
  },
  {
   "cell_type": "markdown",
   "metadata": {},
   "source": [
    "# Array Partition I\n",
    "Given an array of 2n integers, your task is to group these integers into n pairs of integer, say (a1, b1), (a2, b2), ..., (an, bn) which makes sum of min(ai, bi) for all i from 1 to n as large as possible.\n",
    "\n",
    "Input: [1,4,3,2]\n",
    "\n",
    "Output: 4\n",
    "Explanation: n is 2, and the maximum sum of pairs is 4."
   ]
  },
  {
   "cell_type": "code",
   "execution_count": null,
   "metadata": {
    "collapsed": true
   },
   "outputs": [],
   "source": [
    "class Solution(object):\n",
    "    def arrayPairSum(self, nums):\n",
    "        \"\"\"\n",
    "        :type nums: List[int]\n",
    "        :rtype: int\n",
    "        \"\"\"           \n",
    "        return sum(sorted(nums)[::2])"
   ]
  },
  {
   "cell_type": "markdown",
   "metadata": {},
   "source": [
    "# Number Complement\n",
    "Given a positive integer, output its complement number. \n",
    "Input: 5\n",
    "Output: 2\n",
    "Explanation: The binary representation of 5 is 101 (no leading zero bits), and its complement is 010. So you need to output 2."
   ]
  },
  {
   "cell_type": "code",
   "execution_count": null,
   "metadata": {
    "collapsed": true
   },
   "outputs": [],
   "source": [
    "class Solution(object):\n",
    "    def findComplement(self, num):\n",
    "        i = 1\n",
    "        while i <= num:\n",
    "            i = i << 1\n",
    "        return (i - 1) ^ num"
   ]
  },
  {
   "cell_type": "markdown",
   "metadata": {},
   "source": [
    "# Reverse Words in a String III\n",
    "Given a string, you need to reverse the order of characters in each word within a sentence while still preserving whitespace and initial word order.\n",
    "Input: \"Let's take LeetCode contest\"\n",
    "Output: \"s'teL ekat edoCteeL tsetnoc\""
   ]
  },
  {
   "cell_type": "code",
   "execution_count": null,
   "metadata": {
    "collapsed": true
   },
   "outputs": [],
   "source": [
    "class Solution(object):\n",
    "    def reverseWords(self, s):\n",
    "        \"\"\"\n",
    "        :type s: str\n",
    "        :rtype: str\n",
    "        \"\"\"\n",
    "        return  ' '.join([str(i[::-1]) for i in s.split(' ')])"
   ]
  },
  {
   "cell_type": "markdown",
   "metadata": {},
   "source": [
    "# Keyboard Row\n",
    "Given a List of words, return the words that can be typed using letters of alphabet on only one row's of American keyboard like the image below.\n",
    "\n",
    "Input: [\"Hello\", \"Alaska\", \"Dad\", \"Peace\"]\n",
    "Output: [\"Alaska\", \"Dad\"]"
   ]
  },
  {
   "cell_type": "code",
   "execution_count": null,
   "metadata": {
    "collapsed": true
   },
   "outputs": [],
   "source": [
    "class Solution(object):\n",
    "    def findWords(self, words):\n",
    "            a=set('qwertyuiop')\n",
    "            b=set('asdfghjkl')\n",
    "            c=set('zxcvbnm')\n",
    "            ans=[]\n",
    "            for word in words:\n",
    "                t=set(word.lower())\n",
    "                if a&t==t:\n",
    "                    ans.append(word)\n",
    "                if b&t==t:\n",
    "                    ans.append(word)\n",
    "                if c&t==t:\n",
    "                    ans.append(word)\n",
    "            return ans"
   ]
  },
  {
   "cell_type": "markdown",
   "metadata": {},
   "source": [
    "# Reshape the Matrix\n",
    "You're given a matrix represented by a two-dimensional array, and two positive integers r and c representing the row number and column number of the wanted reshaped matrix, respectively.\n",
    "\n",
    "Input: \n",
    "nums = \n",
    "[[1,2],\n",
    " [3,4]]\n",
    "r = 1, c = 4\n",
    "Output: \n",
    "[[1,2,3,4]]\n",
    "Explanation:\n",
    "The row-traversing of nums is [1,2,3,4]. The new reshaped matrix is a 1 * 4 matrix, fill it row by row by using the previous list.\n",
    "\n",
    "Input: \n",
    "nums = \n",
    "[[1,2],\n",
    " [3,4]]\n",
    "r = 2, c = 4\n",
    "Output: \n",
    "[[1,2],\n",
    " [3,4]]\n",
    "Explanation:\n",
    "There is no way to reshape a 2 * 2 matrix to a 2 * 4 matrix. So output the original matrix."
   ]
  },
  {
   "cell_type": "code",
   "execution_count": null,
   "metadata": {
    "collapsed": true
   },
   "outputs": [],
   "source": [
    "class Solution(object):\n",
    "    def matrixReshape(self, nums, r, c):\n",
    "        \"\"\"\n",
    "        :type nums: List[List[int]]\n",
    "        :type r: int\n",
    "        :type c: int\n",
    "        :rtype: List[List[int]]\n",
    "        \"\"\"\n",
    "        A = [x for row in nums for x in row]\n",
    "        return [A[i*c:(i+1)*c] for i in range(r)] if c * r == len(A) else nums"
   ]
  },
  {
   "cell_type": "markdown",
   "metadata": {},
   "source": [
    "# Distribute Candies\n",
    "Given an integer array with even length, where different numbers in this array represent different kinds of candies. Each number means one candy of the corresponding kind. You need to distribute these candies equally in number to brother and sister. Return the maximum number of kinds of candies the sister could gain.\n",
    "\n",
    "Input: candies = [1,1,2,2,3,3]\n",
    "Output: 3\n",
    "Explanation:\n",
    "There are three different kinds of candies (1, 2 and 3), and two candies for each kind.\n",
    "Optimal distribution: The sister has candies [1,2,3] and the brother has candies [1,2,3], too. \n",
    "The sister has three different kinds of candies. \n",
    "\n",
    "Input: candies = [1,1,2,3]\n",
    "Output: 2\n",
    "Explanation: For example, the sister has candies [2,3] and the brother has candies [1,1]. \n",
    "The sister has two different kinds of candies, the brother has only one kind of candies. "
   ]
  },
  {
   "cell_type": "code",
   "execution_count": null,
   "metadata": {
    "collapsed": true
   },
   "outputs": [],
   "source": [
    "class Solution(object):\n",
    "    def distributeCandies(self, candies):\n",
    "        \"\"\"\n",
    "        :type candies: List[int]\n",
    "        :rtype: int\n",
    "        \"\"\"\n",
    "        return min(len(candies) / 2, len(set(candies)))"
   ]
  },
  {
   "cell_type": "markdown",
   "metadata": {},
   "source": [
    "# Next Greater Element I\n",
    "You are given two arrays (without duplicates) nums1 and nums2 where nums1’s elements are subset of nums2. Find all the next greater numbers for nums1's elements in the corresponding places of nums2.\n",
    "\n",
    "Input: nums1 = [4,1,2], nums2 = [1,3,4,2].\n",
    "Output: [-1,3,-1]\n",
    "Explanation:\n",
    "    For number 4 in the first array, you cannot find the next greater number for it in the second array, so output -1.\n",
    "    For number 1 in the first array, the next greater number for it in the second array is 3.\n",
    "    For number 2 in the first array, there is no next greater number for it in the second array, so output -1."
   ]
  },
  {
   "cell_type": "code",
   "execution_count": null,
   "metadata": {
    "collapsed": true
   },
   "outputs": [],
   "source": [
    "class Solution(object):\n",
    "    def nextGreaterElement(self, findNums, nums):\n",
    "        greater,stack = {},[]\n",
    "        for n in nums:\n",
    "            while stack and n > stack[-1]:\n",
    "                greater[stack.pop()] = n\n",
    "            stack.append(n)\n",
    "        return [greater[n] if n in greater else -1 for n in findNums]"
   ]
  },
  {
   "cell_type": "markdown",
   "metadata": {},
   "source": [
    "# Max Consecutive Ones\n",
    "Given a binary array, find the maximum number of consecutive 1s in this array.\n",
    "\n",
    "Input: [1,1,0,1,1,1]\n",
    "Output: 3\n",
    "Explanation: The first two digits or the last three digits are consecutive 1s.\n",
    "    The maximum number of consecutive 1s is 3."
   ]
  },
  {
   "cell_type": "code",
   "execution_count": null,
   "metadata": {
    "collapsed": true
   },
   "outputs": [],
   "source": [
    "class Solution(object):\n",
    "    def findMaxConsecutiveOnes(self, nums):\n",
    "        cnt = 0\n",
    "        ans = 0\n",
    "        for num in nums:\n",
    "            if num == 1:\n",
    "                cnt += 1\n",
    "                ans = max(ans, cnt)\n",
    "            else:\n",
    "                cnt = 0\n",
    "        return ans\n",
    "if __name__==\"__main__\":\n",
    "    print(Solution().findMaxConsecutiveOnes([1,1,1,1,1,0,1,1]))"
   ]
  },
  {
   "cell_type": "markdown",
   "metadata": {},
   "source": [
    "# Longest Uncommon Subsequence I\n",
    "Given a group of two strings, you need to find the longest uncommon subsequence of this group of two strings. The longest uncommon subsequence is defined as the longest subsequence of one of these strings and this subsequence should not be any subsequence of the other strings.\n",
    "\n",
    "Input: \"aba\", \"cdc\"\n",
    "Output: 3\n",
    "Explanation: The longest uncommon subsequence is \"aba\" (or \"cdc\"), \n",
    "because \"aba\" is a subsequence of \"aba\", \n",
    "but not a subsequence of any other strings in the group of two strings. "
   ]
  },
  {
   "cell_type": "code",
   "execution_count": null,
   "metadata": {
    "collapsed": true
   },
   "outputs": [],
   "source": [
    "class Solution(object):\n",
    "    def findLUSlength(self, A, B):\n",
    "        if A == B:\n",
    "            return -1\n",
    "        return max(len(A), len(B))"
   ]
  },
  {
   "cell_type": "markdown",
   "metadata": {},
   "source": [
    "# Detect Capital\n",
    "\n",
    "Given a word, you need to judge whether the usage of capitals in it is right or not.\n",
    "\n",
    "We define the usage of capitals in a word to be right when one of the following cases holds:\n",
    "\n",
    "All letters in this word are capitals, like \"USA\".\n",
    "All letters in this word are not capitals, like \"leetcode\".\n",
    "Only the first letter in this word is capital if it has more than one letter, like \"Google\"."
   ]
  },
  {
   "cell_type": "code",
   "execution_count": null,
   "metadata": {
    "collapsed": true
   },
   "outputs": [],
   "source": [
    "class Solution(object):\n",
    "    def detectCapitalUse(self, word):\n",
    "        return word.isupper() or word.islower() or word.istitle()\n",
    "if __name__==\"__main__\":\n",
    "    print(Solution().detectCapitalUse(\"Google\"))"
   ]
  },
  {
   "cell_type": "markdown",
   "metadata": {},
   "source": [
    "# Repeated Substring Pattern\n",
    "Given a non-empty string check if it can be constructed by taking a substring of it and appending multiple copies of the substring together. You may assume the given string consists of lowercase English letters only and its length will not exceed 10000.\n",
    "\n",
    "\n",
    "\n",
    "Input: \"abab\"\n",
    "\n",
    "Output: True\n",
    "\n",
    "Explanation: It's the substring \"ab\" twice.\n"
   ]
  },
  {
   "cell_type": "code",
   "execution_count": null,
   "metadata": {
    "collapsed": true
   },
   "outputs": [],
   "source": [
    "class Solution(object):\n",
    "    def repeatedSubstringPattern(self, s):\n",
    "        ss = (s*2)[1:-1]\n",
    "        return s in ss"
   ]
  },
  {
   "cell_type": "markdown",
   "metadata": {},
   "source": [
    "# SOS messages\n",
    "Check for number of scrambled sos messages "
   ]
  },
  {
   "cell_type": "code",
   "execution_count": null,
   "metadata": {
    "collapsed": true
   },
   "outputs": [],
   "source": [
    "count = 0\n",
    "for x,y in zip(input(),'SOS'*33) :\n",
    "    if x != y:\n",
    "        count += 1\n",
    "print(count)"
   ]
  },
  {
   "cell_type": "markdown",
   "metadata": {},
   "source": [
    "# Fibonacci series"
   ]
  },
  {
   "cell_type": "code",
   "execution_count": null,
   "metadata": {
    "collapsed": true
   },
   "outputs": [],
   "source": [
    "def fib(n):\n",
    "    if n == 0: return 0\n",
    "    elif n == 1: return 1\n",
    "    else: return fib(n-1)+fib(n-2)"
   ]
  },
  {
   "cell_type": "markdown",
   "metadata": {},
   "source": [
    "# Minimum List"
   ]
  },
  {
   "cell_type": "code",
   "execution_count": null,
   "metadata": {
    "collapsed": true
   },
   "outputs": [],
   "source": [
    "def countX(steps):\n",
    "        listx = [len(list1)]\n",
    "        listy = [len(list1)]\n",
    "        for q in list1:\n",
    "            x,y = q.split(' ') \n",
    "            x,y = [int(x),int(y)]\n",
    "            listx.append(x)\n",
    "            listy.append(y)\n",
    "        return (min(listx)*min(listy))  "
   ]
  },
  {
   "cell_type": "markdown",
   "metadata": {},
   "source": [
    "# Convert sublists into lists"
   ]
  },
  {
   "cell_type": "code",
   "execution_count": null,
   "metadata": {
    "collapsed": true
   },
   "outputs": [],
   "source": [
    "list1 = ['1',['2','2','2'],'4']\n",
    "l = [item for sublist in list1 for item in sublist]\n",
    "print(l)"
   ]
  },
  {
   "cell_type": "markdown",
   "metadata": {},
   "source": [
    "# Doctor Sort"
   ]
  },
  {
   "cell_type": "code",
   "execution_count": null,
   "metadata": {
    "collapsed": true
   },
   "outputs": [],
   "source": [
    "from operator import itemgetter\n",
    "def doctorsort(s):\n",
    "    s1 = str()\n",
    "    lst2 = []\n",
    "    lst = s.split('\\n')\n",
    "    for i in sorted(lst, key=itemgetter(0)):\n",
    "        s1 += i + '\\n'\n",
    "    return s1\n",
    "\n",
    "csv = '''1,alex,80405,13,5\n",
    "6,sam,94032,31.4,9\n",
    "4,will,94110,31.6,6.1\n",
    "7,jim,94036,35,19\n",
    "2,jane,94032,35,2.8\n",
    "5,jess,94117,48,4\n",
    "3,bob,94123,320,1.5'''\n",
    "\n",
    "doctorsort(csv)  "
   ]
  },
  {
   "cell_type": "markdown",
   "metadata": {},
   "source": [
    "# Find the Difference\n",
    "Given two strings s and t which consist of only lowercase letters.\n",
    "Input:\n",
    "s = \"abcd\"\n",
    "t = \"abcde\"\n",
    "\n",
    "Output:\n",
    "e\n",
    "\n",
    "Explanation:\n",
    "'e' is the letter that was added."
   ]
  },
  {
   "cell_type": "code",
   "execution_count": 6,
   "metadata": {
    "collapsed": false
   },
   "outputs": [
    {
     "data": {
      "text/plain": [
       "['e']"
      ]
     },
     "execution_count": 6,
     "metadata": {},
     "output_type": "execute_result"
    }
   ],
   "source": [
    "class Solution(object):\n",
    "    def findTheDifference(self, s, t):\n",
    "        return list((collections.Counter(t) - collections.Counter(s)))[0]"
   ]
  },
  {
   "cell_type": "raw",
   "metadata": {},
   "source": [
    "Invert Binary Tree\n",
    "\n",
    "Invert a binary tree.\n",
    "\n",
    "     4\n",
    "   /   \\\n",
    "  2     7\n",
    " / \\   / \\\n",
    "1   3 6   9\n",
    "to\n",
    "     4\n",
    "   /   \\\n",
    "  7     2\n",
    " / \\   / \\\n",
    "9   6 3   1"
   ]
  },
  {
   "cell_type": "code",
   "execution_count": null,
   "metadata": {
    "collapsed": true
   },
   "outputs": [],
   "source": [
    "# Definition for a binary tree node.\n",
    "# class TreeNode(object):\n",
    "#     def __init__(self, x):\n",
    "#         self.val = x\n",
    "#         self.left = None\n",
    "#         self.right = None\n",
    "\n",
    "class Solution(object):\n",
    "    def invertTree(self, root):\n",
    "        \"\"\"\n",
    "        :type root: TreeNode\n",
    "        :rtype: TreeNode\n",
    "        \"\"\"\n",
    "        if root:\n",
    "            invert = self.invertTree\n",
    "            root.left, root.right = invert(root.right), invert(root.left)\n",
    "            return root"
   ]
  },
  {
   "cell_type": "markdown",
   "metadata": {},
   "source": [
    "# Add Digits\n",
    "\n",
    "Given a non-negative integer num, repeatedly add all its digits until the result has only one digit.\n",
    "\n",
    "For example:\n",
    "\n",
    "Given num = 38, the process is like: 3 + 8 = 11, 1 + 1 = 2. Since 2 has only one digit, return it."
   ]
  },
  {
   "cell_type": "code",
   "execution_count": 17,
   "metadata": {
    "collapsed": false
   },
   "outputs": [],
   "source": [
    "class Solution(object):\n",
    "    def addDigits(self, num):\n",
    "        \"\"\"\n",
    "        :type num: int\n",
    "        :rtype: int\n",
    "        \"\"\"\n",
    "        while len(str(num)) != 1: \n",
    "            out = sum([int(i) for i in str(num)])\n",
    "            num = out\n",
    "        return num"
   ]
  },
  {
   "cell_type": "markdown",
   "metadata": {},
   "source": [
    "# Minimum Index Sum of Two Lists\n",
    "Suppose Andy and Doris want to choose a restaurant for dinner, and they both have a list of favorite restaurants represented by strings.\n",
    "\n",
    "You need to help them find out their common interest with the least list index sum.\n",
    "\n",
    "Input:\n",
    "[\"Shogun\", \"Tapioca Express\", \"Burger King\", \"KFC\"]\n",
    "[\"KFC\", \"Shogun\", \"Burger King\"]\n",
    "Output: [\"Shogun\"]\n",
    "Explanation: The restaurant they both like and have the least index sum is \"Shogun\" with index sum 1 (0+1)."
   ]
  },
  {
   "cell_type": "code",
   "execution_count": 28,
   "metadata": {
    "collapsed": false
   },
   "outputs": [
    {
     "data": {
      "text/plain": [
       "['Shogun']"
      ]
     },
     "execution_count": 28,
     "metadata": {},
     "output_type": "execute_result"
    }
   ],
   "source": [
    "import collections\n",
    "def findRestaurant(list1, list2):\n",
    "    d1 = {v: i for i, v in enumerate(list1)}\n",
    "    d2 = {v: i for i, v in enumerate(list2)}\n",
    "    d = collections.defaultdict(list)\n",
    "    for r in set(list1) & set(list2):\n",
    "        d[(d1[r] + d2[r])].append(r)\n",
    "    return d[min(d.keys())]\n",
    "    \n",
    "    \n",
    "findRestaurant([\"Shogun\", \"Tapioca Express\", \"Burger King\", \"KFC\"],[\"KFC\", \"Shogun\", \"Burger King\"])"
   ]
  },
  {
   "cell_type": "markdown",
   "metadata": {},
   "source": [
    "# Construct the Rectangle\n",
    "\n",
    "For a web developer, it is very important to know how to design a web page's size. So, given a specific rectangular web page’s area, your job by now is to design a rectangular web page, whose length L and width W satisfy the following requirements:\n",
    "\n",
    "1. The area of the rectangular web page you designed must equal to the given target area.\n",
    "\n",
    "2. The width W should not be larger than the length L, which means L >= W.\n",
    "\n",
    "3. The difference between length L and width W should be as small as possible."
   ]
  },
  {
   "cell_type": "code",
   "execution_count": null,
   "metadata": {
    "collapsed": true
   },
   "outputs": [],
   "source": [
    "def constructRectangle(area):\n",
    "    mid = int(math.sqrt(area))\n",
    "    while mid > 0:\n",
    "        if area % mid == 0:\n",
    "            return [int(area / mid), int(mid)]\n",
    "    mid -= 1\n",
    "        "
   ]
  },
  {
   "cell_type": "markdown",
   "metadata": {},
   "source": [
    "# Relative Ranks\n",
    "Given scores of N athletes, find their relative ranks and the people with the top three highest scores, who will be awarded medals: \"Gold Medal\", \"Silver Medal\" and \"Bronze Medal\".\n",
    "\n",
    "Input: [5, 4, 3, 2, 1]\n",
    "Output: [\"Gold Medal\", \"Silver Medal\", \"Bronze Medal\", \"4\", \"5\"]\n",
    "Explanation: The first three athletes got the top three highest scores, so they got \"Gold Medal\", \"Silver Medal\" and \"Bronze Medal\". \n",
    "For the left two athletes, you just need to output their relative ranks according to their scores."
   ]
  },
  {
   "cell_type": "code",
   "execution_count": 38,
   "metadata": {
    "collapsed": false
   },
   "outputs": [
    {
     "data": {
      "text/plain": [
       "['Gold Medal', 'Silver Medal', 'Bronze Medal', '4', '5']"
      ]
     },
     "execution_count": 38,
     "metadata": {},
     "output_type": "execute_result"
    }
   ],
   "source": [
    "def findRelativeRanks(nums):\n",
    "    ranks = [\"Gold Medal\",\"Silver Medal\",\"Bronze Medal\"]\n",
    "    ranks.extend(sorted(nums)[3:])\n",
    "    return list(map(lambda x: str(x),ranks))\n",
    "\n",
    "findRelativeRanks([1,2,3,4,5])"
   ]
  },
  {
   "cell_type": "raw",
   "metadata": {},
   "source": [
    "Sum of Left Leaves\n",
    "\n",
    "Find the sum of all left leaves in a given binary tree.\n",
    "\n",
    "Example:\n",
    "\n",
    "    3\n",
    "   / \\\n",
    "  9  20\n",
    "    /  \\\n",
    "   15   7\n",
    "\n",
    "There are two left leaves in the binary tree, with values 9 and 15 respectively. Return 24."
   ]
  },
  {
   "cell_type": "code",
   "execution_count": null,
   "metadata": {
    "collapsed": true
   },
   "outputs": [],
   "source": [
    "# Definition for a binary tree node.\n",
    "# class TreeNode(object):\n",
    "#     def __init__(self, x):\n",
    "#         self.val = x\n",
    "#         self.left = None\n",
    "#         self.right = None\n",
    "\n",
    "class Solution(object):\n",
    "    def sumOfLeftLeaves(self, root):\n",
    "        if not root: return 0\n",
    "        if root.left and not root.left.left and not root.left.right:\n",
    "            return root.left.val + self.sumOfLeftLeaves(root.right)\n",
    "        return self.sumOfLeftLeaves(root.left) + self.sumOfLeftLeaves(root.right)   # isn't leave"
   ]
  },
  {
   "cell_type": "markdown",
   "metadata": {},
   "source": [
    "# Same Tree\n",
    "\n",
    "Given two binary trees, write a function to check if they are equal or not.\n",
    "\n",
    "Two binary trees are considered equal if they are structurally identical and the nodes have the same value.\n",
    "\n"
   ]
  },
  {
   "cell_type": "code",
   "execution_count": null,
   "metadata": {
    "collapsed": true
   },
   "outputs": [],
   "source": [
    "def isSameTree(self, p, q):\n",
    "    if p and q:\n",
    "        return p.val == q.val and self.isSameTree(p.left, q.left) and self.isSameTree(p.right, q.right)\n",
    "    return p is q"
   ]
  },
  {
   "cell_type": "markdown",
   "metadata": {},
   "source": [
    "# Factorial for a given number"
   ]
  },
  {
   "cell_type": "code",
   "execution_count": null,
   "metadata": {
    "collapsed": true
   },
   "outputs": [],
   "source": [
    "def factorial(n):\n",
    "    if n == 0:\n",
    "        return 1\n",
    "    else:\n",
    "        return n * factorial(n-1)"
   ]
  },
  {
   "cell_type": "markdown",
   "metadata": {},
   "source": [
    "# Check if any digits in a list having its permutation divisible by 8"
   ]
  },
  {
   "cell_type": "code",
   "execution_count": 35,
   "metadata": {
    "collapsed": false
   },
   "outputs": [
    {
     "data": {
      "text/plain": [
       "['YES', 'YES']"
      ]
     },
     "execution_count": 35,
     "metadata": {},
     "output_type": "execute_result"
    }
   ],
   "source": [
    "def perm(num):\n",
    "    s = str()\n",
    "    from itertools import permutations\n",
    "    perms = [''.join(p) for p in permutations(str(num))]\n",
    "    for i in perms:\n",
    "        if int(i) % 8 == 0:\n",
    "            s += 'YES'\n",
    "    return (s)\n",
    "\n",
    "def checkDivisibility(arr):\n",
    "    s = []\n",
    "    for i in arr:\n",
    "        output = perm(i)\n",
    "        if output:\n",
    "            s.append(output)\n",
    "        else:\n",
    "            s.append('NO')\n",
    "    return s\n",
    "\n",
    "checkDivisibility(['123','65'])"
   ]
  },
  {
   "cell_type": "markdown",
   "metadata": {},
   "source": [
    "# Find Maximum difference between two numbers in a list"
   ]
  },
  {
   "cell_type": "code",
   "execution_count": 39,
   "metadata": {
    "collapsed": false
   },
   "outputs": [
    {
     "data": {
      "text/plain": [
       "5"
      ]
     },
     "execution_count": 39,
     "metadata": {},
     "output_type": "execute_result"
    }
   ],
   "source": [
    "import operator\n",
    "def max_difference(xs):\n",
    "    max_idx, max_elem = max(enumerate(xs), key=operator.itemgetter(1))\n",
    "\n",
    "    if max_idx == 0:\n",
    "        return -1\n",
    "    return max_elem - min(xs[:max_idx])\n",
    "\n",
    "max_difference([1,2,3,4,5,6])"
   ]
  },
  {
   "cell_type": "raw",
   "metadata": {},
   "source": [
    "# A single line containing the number of minimum operations corresponding to each test case.\n",
    "\n",
    "Sample Input\n",
    "\n",
    "4\n",
    "abc\n",
    "abcba\n",
    "abcd\n",
    "cba\n",
    "Sample Output\n",
    "\n",
    "2\n",
    "0\n",
    "4\n",
    "2\n",
    "Explanation\n",
    "\n",
    "For the first test case, abc -> abb -> aba.\n",
    "For the second test case, abcba is already a palindromic string.\n",
    "For the third test case, abcd -> abcc -> abcb -> abca = abca -> abba.\n",
    "For the fourth test case, cba -> bba -> aba."
   ]
  },
  {
   "cell_type": "code",
   "execution_count": 44,
   "metadata": {
    "collapsed": false
   },
   "outputs": [
    {
     "data": {
      "text/plain": [
       "[2, 2]"
      ]
     },
     "execution_count": 44,
     "metadata": {},
     "output_type": "execute_result"
    }
   ],
   "source": [
    "def mystery(letter):\n",
    "    s1 = []\n",
    "    for i in letter:\n",
    "        output = int()\n",
    "        s = list(map(ord, i))\n",
    "        output = (sum(map(abs, (s[x] - s[-x - 1] for x in range(len(s)//2)))))\n",
    "        s1.append(output)\n",
    "    return(s1)\n",
    "\n",
    "mystery(['abc','cba'])"
   ]
  },
  {
   "cell_type": "raw",
   "metadata": {},
   "source": [
    "Algorithmic Crush:\n",
    "\n",
    "You are given a list of size N, initialized with zeroes. You have to perform M operations on the list and output the maximum of final values of all the N elements in the list. For every operation, you are given three integers a, b and k. The value k needs to be added to all the elements ranging from index a through b (both inclusive).\n",
    "\n",
    "Input Format\n",
    "\n",
    "The first line will contain two integers N and M separated by a single space.\n",
    "The next M lines will each contain three integers a, b and k separated spaces.\n",
    "The numbers in the list are numbered from 1 to N.\n",
    "\n",
    "Output Format\n",
    "\n",
    "A single integer on a separate line line containing maximum value in the updated list.\n",
    "\n",
    "Constraints\n",
    "\n",
    "3≤N≤1073≤N≤107\n",
    "1≤M≤2⋅1051≤M≤2⋅105\n",
    "1≤a≤b≤N1≤a≤b≤N\n",
    "0≤k≤1090≤k≤109\n",
    "Sample input:\n",
    "\n",
    "5 3\n",
    "1 2 100\n",
    "2 5 100\n",
    "3 4 100\n",
    "Sample output:\n",
    "\n",
    "200\n",
    "Explanation\n",
    "\n",
    "After the first update, the list will be 100 100 0 0 0.\n",
    "After the second update, the list will be 100 200 100 100 100.\n",
    "After the third update, the list will be 100 200 200 200 100.\n",
    "So, the required answer will be 200."
   ]
  },
  {
   "cell_type": "code",
   "execution_count": null,
   "metadata": {
    "collapsed": true
   },
   "outputs": [],
   "source": [
    "tempArray = [int(n) for n in input().split(\" \")]\n",
    "N = tempArray[0]\n",
    "M = tempArray[1]\n",
    "arr = [0 for x in range(N)]\n",
    "for i in range(0,M):\n",
    "    tempArray = [int(n) for n in input().split(\" \")]\n",
    "    for j in range(tempArray[0]-1, tempArray[1]):\n",
    "        arr[j] = arr[j] + tempArray[2] \n",
    "print(max(arr))"
   ]
  },
  {
   "cell_type": "markdown",
   "metadata": {},
   "source": [
    "# Ugly Number\n",
    "\n",
    "Ugly numbers are positive numbers whose prime factors only include 2, 3, 5. For example, 6, 8 are ugly while 14 is not ugly since it includes another prime factor 7."
   ]
  },
  {
   "cell_type": "code",
   "execution_count": null,
   "metadata": {
    "collapsed": true
   },
   "outputs": [],
   "source": [
    "def isUgly(self, num):\n",
    "    if num <= 0:\n",
    "        return False\n",
    "    for x in [2, 3, 5]:\n",
    "        while num % x == 0:\n",
    "            num = num / x\n",
    "    return num == 1"
   ]
  },
  {
   "cell_type": "raw",
   "metadata": {},
   "source": [
    "Remove element\n",
    "\n",
    "Given an array and a value, remove all instances of that value in place and return the new length.\n",
    "\n",
    "Do not allocate extra space for another array, you must do this in place with constant memory.\n",
    "\n",
    "The order of elements can be changed. It doesn't matter what you leave beyond the new length.\n",
    "\n",
    "Example:\n",
    "Given input array nums = [3,2,2,3], val = 3\n",
    "\n",
    "Your function should return length = 2, with the first two elements of nums being 2."
   ]
  },
  {
   "cell_type": "code",
   "execution_count": null,
   "metadata": {
    "collapsed": true
   },
   "outputs": [],
   "source": [
    "def removeElement(nums, val):\n",
    "  \n",
    "        start, end = 0, len(nums)-1 \n",
    "        f=0\n",
    "        while start <=end:\n",
    "            if nums[start] == val:\n",
    "                start+=1\n",
    "            elif nums[end]==val:\n",
    "                end-=1\n",
    "            else:\n",
    "                nums[f]=nums[start]\n",
    "                f+=1\n",
    "                start+=1\n",
    "        return f"
   ]
  },
  {
   "cell_type": "markdown",
   "metadata": {},
   "source": [
    "# Remove duplicates from a linked list"
   ]
  },
  {
   "cell_type": "code",
   "execution_count": null,
   "metadata": {
    "collapsed": true
   },
   "outputs": [],
   "source": [
    "# Definition for singly-linked list.\n",
    "# class ListNode(object):\n",
    "#     def __init__(self, x):\n",
    "#         self.val = x\n",
    "#         self.next = None\n",
    "\n",
    "class Solution(object):\n",
    "    def deleteDuplicates(self, head):\n",
    "        \"\"\"\n",
    "        :type head: ListNode\n",
    "        :rtype: ListNode\n",
    "        \"\"\"\n",
    "        cur = head\n",
    "        while cur:\n",
    "            while cur.next and cur.next.val == cur.val:\n",
    "                cur.next = cur.next.next     # skip duplicated node\n",
    "            cur = cur.next     # not duplicate of current node, move to next node\n",
    "        return head        "
   ]
  },
  {
   "cell_type": "markdown",
   "metadata": {},
   "source": [
    "# Power of Four\n",
    "Given an integer (signed 32 bits), write a function to check whether it is a power of 4."
   ]
  },
  {
   "cell_type": "code",
   "execution_count": null,
   "metadata": {
    "collapsed": true
   },
   "outputs": [],
   "source": [
    "def isPowerOfFour(num):\n",
    "    return num != 0 and num &(num-1) == 0 and num & 1431655765== num\n",
    "        "
   ]
  },
  {
   "cell_type": "markdown",
   "metadata": {},
   "source": [
    "# IP validation check"
   ]
  },
  {
   "cell_type": "code",
   "execution_count": 11,
   "metadata": {
    "collapsed": false
   },
   "outputs": [
    {
     "data": {
      "text/plain": [
       "['IPv4', 'Neither']"
      ]
     },
     "execution_count": 11,
     "metadata": {},
     "output_type": "execute_result"
    }
   ],
   "source": [
    "import re\n",
    "\n",
    "def checkIps(ip_array):\n",
    "    output = []\n",
    "    pattern = re.compile(r\"\"\"^(?P<IPv4>^((25[0-5]|2[0-4][0-9]|1[0-9][0-9]|[1-9]?[0-9])\\.){3}(25[0-5]|2[0-4][0-9]|1[0-9][0-9]|[1-9]?[0-9])$)|(?P<IPv6>^([A-F0-9]{1,4}:){7}[A-F0-9]{1,4}$)\"\"\", re.VERBOSE|re.IGNORECASE)\n",
    "    for i in ip_array:\n",
    "        b=str(str(i))\n",
    "        assert len(b)<=500\n",
    "        matching = pattern.match(b)\n",
    "        if matching:\n",
    "            output.append((\"IPv4\") if matching.group(\"IPv4\") else \"IPv6\" if matching.group(\"IPv6\") else \"Neither\")\n",
    "        else:\n",
    "            output.append(\"Neither\")\n",
    "    return output\n",
    "\n",
    "checkIps(['121.18.19.20', 'This is junk'])"
   ]
  },
  {
   "cell_type": "markdown",
   "metadata": {},
   "source": [
    "# Json scarping with python"
   ]
  },
  {
   "cell_type": "code",
   "execution_count": 37,
   "metadata": {
    "collapsed": false
   },
   "outputs": [
    {
     "data": {
      "text/plain": [
       "['Amazing Spiderman Syndrome',\n",
       " 'Fighting, Flying and Driving: The Stunts of Spiderman 3',\n",
       " \"Hollywood's Master Storytellers: Spiderman Live\",\n",
       " 'Italian Spiderman',\n",
       " 'Spiderman',\n",
       " 'Spiderman',\n",
       " 'Spiderman 5',\n",
       " 'Spiderman and Grandma',\n",
       " 'Spiderman in Cannes',\n",
       " 'Superman, Spiderman or Batman',\n",
       " 'The Amazing Spiderman T4 Premiere Special',\n",
       " 'The Death of Spiderman',\n",
       " 'They Call Me Spiderman']"
      ]
     },
     "execution_count": 37,
     "metadata": {},
     "output_type": "execute_result"
    }
   ],
   "source": [
    "import json\n",
    "from pprint import pprint\n",
    "import urllib.request\n",
    "def getMovieTitles(substr):\n",
    "    i = 2\n",
    "    output1 = []\n",
    "    page = urllib.request.urlopen('https://jsonmock.hackerrank.com/api/movies/search/?Title={}'.format(substr))\n",
    "    output = page.read().decode(\"utf-8\")\n",
    "    d = json.loads(output)\n",
    "    for x in range(0,len(d['data'])):\n",
    "        output1.append(d['data'][x]['Title'])\n",
    "\n",
    "    while d['total_pages'] >= i:\n",
    "        page = urllib.request.urlopen('https://jsonmock.hackerrank.com/api/movies/search/?Title={}&page={}'.format(substr,i))\n",
    "        output = page.read().decode(\"utf-8\")\n",
    "        d1 = json.loads(output)\n",
    "        for x in range(0,len(d1['data'])):\n",
    "            output1.append(d1['data'][x]['Title']) \n",
    "        i += 1\n",
    "    return (sorted(output1))\n",
    "\n",
    "getMovieTitles('spiderman')"
   ]
  },
  {
   "cell_type": "markdown",
   "metadata": {},
   "source": [
    "# Difference between the 2 programs."
   ]
  },
  {
   "cell_type": "code",
   "execution_count": 41,
   "metadata": {
    "collapsed": false
   },
   "outputs": [
    {
     "name": "stdout",
     "output_type": "stream",
     "text": [
      "sai 2\n",
      "2\n"
     ]
    }
   ],
   "source": [
    "x = 2\n",
    "y = x\n",
    "print('sai',y)\n",
    "x = x + 1\n",
    "#print(x)\n",
    "print(str(y))"
   ]
  },
  {
   "cell_type": "code",
   "execution_count": 44,
   "metadata": {
    "collapsed": false
   },
   "outputs": [
    {
     "name": "stdout",
     "output_type": "stream",
     "text": [
      "[1, 2, 3]\n",
      "[1, 2, 3, 4]\n",
      "[1, 2, 3, 4]\n"
     ]
    }
   ],
   "source": [
    "x = [1,2,3]\n",
    "y = x\n",
    "print(y)\n",
    "x.append(4)\n",
    "print(x)\n",
    "print(y)"
   ]
  },
  {
   "cell_type": "raw",
   "metadata": {},
   "source": [
    "Super Reduced String\n",
    "\n",
    "If the final string is empty, print Empty String; otherwise, print the final non-reducible string.\n",
    "\n",
    "Sample Input 0\n",
    "\n",
    "aaabccddd\n",
    "Sample Output 0\n",
    "\n",
    "abd\n",
    "Sample Case 0\n",
    "\n",
    "Steve can perform the following sequence of operations to get the final string:\n",
    "\n",
    "aaabccddd → abccddd\n",
    "abccddd → abddd\n",
    "abddd → abd\n",
    "Thus, we print abd."
   ]
  },
  {
   "cell_type": "code",
   "execution_count": 3,
   "metadata": {
    "collapsed": false
   },
   "outputs": [
    {
     "name": "stdout",
     "output_type": "stream",
     "text": [
      "abd\n"
     ]
    }
   ],
   "source": [
    "import re\n",
    "def super_reduced_string(s):\n",
    "    s, regex = s.strip(), re.compile(r'(\\w)(\\1)')\n",
    "    match = regex.search(s)\n",
    "    while match:    \n",
    "        s = s.replace(match.group(),'')        \n",
    "        match = regex.search(s)\n",
    "    print(s if s else 'Empty String')\n",
    "    \n",
    "super_reduced_string(input())"
   ]
  },
  {
   "cell_type": "raw",
   "metadata": {},
   "source": [
    "CamelCase\n",
    "\n",
    "Print the number of words in string .\n",
    "\n",
    "Sample Input\n",
    "saveChangesInTheEditor\n",
    "\n",
    "Sample Output\n",
    "5\n",
    "\n",
    "String  contains five words:\n",
    "\n",
    "save\n",
    "Changes\n",
    "In\n",
    "The\n",
    "Editor\n",
    "Thus, we print  on a new line."
   ]
  },
  {
   "cell_type": "markdown",
   "metadata": {},
   "source": [
    "# CamelCase\n",
    "\n",
    "Alice wrote a sequence of words in CamelCase as a string of letters, , having the following properties:\n",
    "\n",
    "It is a concatenation of one or more words consisting of English letters.\n",
    "All letters in the first word are lowercase.\n",
    "For each of the subsequent words, the first letter is uppercase and rest of the letters are lowercase.\n",
    "\n",
    "Print the number of words in string .\n",
    "\n",
    "Sample Input\n",
    "\n",
    "saveChangesInTheEditor\n",
    "Sample Output\n",
    "\n",
    "5"
   ]
  },
  {
   "cell_type": "code",
   "execution_count": 10,
   "metadata": {
    "collapsed": false
   },
   "outputs": [
    {
     "name": "stdout",
     "output_type": "stream",
     "text": [
      "5\n"
     ]
    }
   ],
   "source": [
    "import sys\n",
    "s = 'saveChangesInTheEditor'\n",
    "print(sum(map(str.isupper, s)) + 1)"
   ]
  },
  {
   "cell_type": "code",
   "execution_count": 11,
   "metadata": {
    "collapsed": false
   },
   "outputs": [
    {
     "data": {
      "text/plain": [
       "{'a', 'b', 'e', 'f'}"
      ]
     },
     "execution_count": 11,
     "metadata": {},
     "output_type": "execute_result"
    }
   ],
   "source": [
    "s = 'beabeefeab'\n",
    "set(s)\n"
   ]
  },
  {
   "cell_type": "raw",
   "metadata": {},
   "source": [
    "Two Characters \n",
    "\n",
    "Print a single integer denoting the maximum length of  for the given ; if it is not possible to form string , print  instead.\n",
    "\n",
    "Sample Input\n",
    "\n",
    "10\n",
    "beabeefeab\n",
    "Sample Output\n",
    "\n",
    "5\n",
    "Explanation\n",
    "\n",
    "The characters present in  are a, b, e, and f. This means that  must consist of two of those characters.\n",
    "\n",
    "If we delete e and f, the resulting string is babab. This is a valid  as there are only two distinct characters (a and b), and they are alternating within the string.\n",
    "\n",
    "If we delete a and f, the resulting string is bebeeeb. This is not a valid string  because there are three consecutive e's present.\n",
    "\n",
    "If we delete only e, the resulting string is babfab. This is not a valid string  because it contains three distinct characters.\n",
    "\n",
    "Thus, we print the length of babab, which is , as our answer."
   ]
  },
  {
   "cell_type": "code",
   "execution_count": 12,
   "metadata": {
    "collapsed": false
   },
   "outputs": [
    {
     "name": "stdout",
     "output_type": "stream",
     "text": [
      "5\n"
     ]
    }
   ],
   "source": [
    "from itertools import combinations\n",
    "\n",
    "def meet_pattern(s):\n",
    "    return all(s[i-1] != s[i] for i in range(1,len(s)))\n",
    "\n",
    "letters = set(s)\n",
    "max_len = 0\n",
    "for pair in combinations(letters,2):\n",
    "    substr = \"\".join(i for i in s if i in pair)\n",
    "    if meet_pattern(substr):\n",
    "        max_len = max(max_len, len(substr))\n",
    "print(max_len)"
   ]
  },
  {
   "cell_type": "raw",
   "metadata": {},
   "source": [
    "Check whether a string has a sub string\n",
    "\n",
    "For each query, print YES on a new line if s contains hackerrank; otherwise, print NO instead.\n",
    "\n",
    "Sample Input 0\n",
    "\n",
    "2\n",
    "hereiamstackerrank\n",
    "hackerworld\n",
    "\n",
    "Sample Output 0\n",
    "\n",
    "YES\n",
    "NO"
   ]
  },
  {
   "cell_type": "code",
   "execution_count": null,
   "metadata": {
    "collapsed": true
   },
   "outputs": [],
   "source": [
    "import re\n",
    "for _ in range(int(input().strip())):\n",
    "    print('YES' if re.search(r'.*h.*a.*c.*k.*e.*r.*r.*a.*n.*k.*',input().strip()) else 'NO')"
   ]
  },
  {
   "cell_type": "raw",
   "metadata": {},
   "source": [
    "For each test case, print the encoded string.\n",
    "\n",
    "Sample Input\n",
    "11\n",
    "middle-Outz\n",
    "2\n",
    "\n",
    "Sample Output\n",
    "okffng-Qwvb\n",
    "\n",
    "Explanation\n",
    "\n",
    "Each unencrypted letter is replaced with the letter occurring  spaces after it when listed alphabetically. Think of the alphabet as being both case-sensitive and circular; if  rotates past the end of the alphabet, it loops back to the beginning (i.e.: the letter after  is , and the letter after  is ).\n",
    "\n",
    "Selected Examples: \n",
    " m(ASCII 109) becomes  o(ASCII 111). \n",
    " i(ASCII 105) becomes  k(ASCII 107). \n",
    " remains the same, as symbols are not encoded. \n",
    " O(ASCII 79) becomes  Q(ASCII 81). \n",
    " z(ASCII 122) becomes  b(ASCII 98); because z is the last letter of the alphabet,  a (ASCII 97) is the next letter after it in lower-case rotation."
   ]
  },
  {
   "cell_type": "code",
   "execution_count": null,
   "metadata": {
    "collapsed": true
   },
   "outputs": [],
   "source": [
    "n = int(input().strip())\n",
    "s = input().strip()\n",
    "k = int(input().strip()) % 26\n",
    "l = list(s)\n",
    "e = []\n",
    "for item in l:\n",
    "    z = ord(item)\n",
    "    if (z >= 97 and z<=122):\n",
    "        if (z+k) > 122:\n",
    "            e.append(chr(96 + (z+k-122)))\n",
    "        else:\n",
    "            e.append(chr(z+k))\n",
    "    elif (z>=65 and z<=90):\n",
    "        if (z+k) > 90:\n",
    "            e.append(chr(64 + (z+k-90)))\n",
    "        else:\n",
    "            e.append(chr(z+k))\n",
    "    else:\n",
    "        e.append(item)\n",
    "print(\"\".join([x for x in e]))"
   ]
  },
  {
   "cell_type": "markdown",
   "metadata": {},
   "source": [
    "# Panagrams\n",
    "\n",
    "\"The quick brown fox jumps over the lazy dog\" repeatedly, because it is a pangram. (Pangrams are sentences constructed by using every letter of the alphabet at least once.)\n",
    "\n",
    "Sample Input\n",
    "Input #1\n",
    "We promptly judged antique ivory buckles for the next prize    \n",
    "\n",
    "Input #2\n",
    "We promptly judged antique ivory buckles for the prize    \n",
    "\n",
    "Sample Output\n",
    "Output #1\n",
    "pangram\n",
    "\n",
    "Output #2\n",
    "not pangram"
   ]
  },
  {
   "cell_type": "code",
   "execution_count": 17,
   "metadata": {
    "collapsed": false
   },
   "outputs": [
    {
     "name": "stdout",
     "output_type": "stream",
     "text": [
      "The quick brown fox jumps over the lazy dog\n",
      "pangram\n"
     ]
    }
   ],
   "source": [
    "from collections import Counter\n",
    "print(\"pangram\" if len(Counter(input().lower())) == 27 \\\n",
    "      else \"not pangram\")"
   ]
  },
  {
   "cell_type": "raw",
   "metadata": {},
   "source": [
    "Weighted uniform strings\n",
    "\n",
    "Input Format\n",
    "\n",
    "The first line contains a string denoting s (the original string). \n",
    "The second line contains an integer denoting  (the number of queries). \n",
    "Each line i of the n subsequent lines contains an integer denoting xi (the weight of a uniform subtring of s that may or may not exist).\n",
    "\n",
    "Print  lines. For each query, print Yes on a new line if ; otherwise, print No instead.\n",
    "\n",
    "Sample Input 0\n",
    "\n",
    "abccddde\n",
    "6\n",
    "1\n",
    "3\n",
    "12\n",
    "5\n",
    "9\n",
    "10\n",
    "Sample Output 0\n",
    "\n",
    "Yes\n",
    "Yes\n",
    "Yes\n",
    "Yes\n",
    "No\n",
    "No"
   ]
  },
  {
   "cell_type": "code",
   "execution_count": null,
   "metadata": {
    "collapsed": true
   },
   "outputs": [],
   "source": [
    "alpha = {'a':1, 'b':2, 'c':3, 'd':4, 'e':5, 'f':6, 'g':7, 'h':8, 'i':9, 'j':10, 'k':11, 'l':12, 'm':13, 'n':14, 'o':15, 'p':16, 'q':17, 'r':18, 's':19, 't':20, 'u':21, 'v':22, 'w':23, 'x':24, 'y':25, 'z':26}\n",
    "\n",
    "s = input().strip()\n",
    "n = int(input().strip())\n",
    "scores = set()\n",
    "ctr=1\n",
    "for i in range(len(s)):\n",
    "    score = alpha[s[i]]\n",
    "    ctr = ctr+1 if (i+1 != len(s) and s[i+1] == s[i]) else 1\n",
    "    scores.add(score*ctr)\n",
    "\n",
    "for a0 in range(n):\n",
    "    x = int(input().strip())\n",
    "    print(\"Yes\" if x in scores else \"No\")"
   ]
  },
  {
   "cell_type": "raw",
   "metadata": {},
   "source": [
    "Funny String\n",
    "\n",
    "For each String  (where ), print whether it is Funny or Not Funny on a new line.\n",
    "\n",
    "Sample Input\n",
    "2\n",
    "acxz\n",
    "bcxz\n",
    "\n",
    "Sample Output\n",
    "Funny\n",
    "Not Funny\n",
    "\n",
    "Explanation : https://www.hackerrank.com/challenges/funny-string\n",
    "    \n",
    "Compare same elements and find diffrences"
   ]
  },
  {
   "cell_type": "code",
   "execution_count": null,
   "metadata": {
    "collapsed": true
   },
   "outputs": [],
   "source": [
    "n=int(input())\n",
    "for _ in range(n):\n",
    "    st=[str(x) for x in input().strip()]\n",
    "    diff=[abs(ord(a)-ord(b)) for a,b in zip(st,st[1:])]\n",
    "    print(\"Funny\" if (diff==diff[::-1]) else \"Not Funny\")"
   ]
  },
  {
   "cell_type": "raw",
   "metadata": {},
   "source": [
    "Print the number of characters common in all the elements of a list. If they are NOne print 0.\n",
    "\n",
    "Sample Input\n",
    "3\n",
    "abcdde\n",
    "baccd\n",
    "eeabg\n",
    "\n",
    "Sample Output\n",
    "2"
   ]
  },
  {
   "cell_type": "code",
   "execution_count": 20,
   "metadata": {
    "collapsed": false
   },
   "outputs": [
    {
     "name": "stdout",
     "output_type": "stream",
     "text": [
      "[{'baccd', 'eeabg', 'abcdde'}]\n",
      "3\n"
     ]
    }
   ],
   "source": [
    "rocks = [set(input()) for _ in range(int(input()))]\n",
    "gems = set.intersection(*rocks)\n",
    "print(len(gems))"
   ]
  },
  {
   "cell_type": "code",
   "execution_count": 3,
   "metadata": {
    "collapsed": false
   },
   "outputs": [
    {
     "name": "stdout",
     "output_type": "stream",
     "text": [
      " "
     ]
    }
   ],
   "source": [
    "def profi():\n",
    "    return sum([i for i in range(0,1000)])\n",
    "\n",
    "%prun profi()"
   ]
  },
  {
   "cell_type": "code",
   "execution_count": 7,
   "metadata": {
    "collapsed": false
   },
   "outputs": [
    {
     "name": "stdout",
     "output_type": "stream",
     "text": [
      "Overwriting memory.py\n"
     ]
    }
   ],
   "source": [
    "%%file memory.py\n",
    "\n",
    "@profile\n",
    "def profi():\n",
    "    return sum([i for i in range(0,1000)])\n",
    "\n",
    "profi"
   ]
  },
  {
   "cell_type": "code",
   "execution_count": 10,
   "metadata": {
    "collapsed": false
   },
   "outputs": [
    {
     "name": "stdout",
     "output_type": "stream",
     "text": [
      "/usr/bin/python: No module named memory_profiler\r\n"
     ]
    }
   ],
   "source": [
    "!python -m memory_profiler memory.py"
   ]
  },
  {
   "cell_type": "code",
   "execution_count": 12,
   "metadata": {
    "collapsed": false
   },
   "outputs": [
    {
     "name": "stderr",
     "output_type": "stream",
     "text": [
      "/usr/local/lib/python3.5/dist-packages/memory_profiler.py:1095: UserWarning: psutil can not be used, posix used instead\n",
      "  new_backend, _backend))\n"
     ]
    }
   ],
   "source": [
    "from memory_profiler import profile\n",
    "\n",
    "@profile\n",
    "def my_func():\n",
    "    a = [1] * (10 ** 6)\n",
    "    b = [2] * (2 * 10 ** 7)\n",
    "    del b\n",
    "    return a"
   ]
  },
  {
   "cell_type": "markdown",
   "metadata": {
    "collapsed": true
   },
   "source": [
    "# Merge two binary trees"
   ]
  },
  {
   "cell_type": "code",
   "execution_count": null,
   "metadata": {
    "collapsed": true
   },
   "outputs": [],
   "source": [
    "# Definition for a binary tree node.\n",
    "# class TreeNode(object):\n",
    "#     def __init__(self, x):\n",
    "#         self.val = x\n",
    "#         self.left = None\n",
    "#         self.right = None\n",
    "\n",
    "\n",
    "class Solution(object):\n",
    "    def mergeTrees(self, t1, t2):\n",
    "        \"\"\"\n",
    "        :type t1: TreeNode\n",
    "        :type t2: TreeNode\n",
    "        :rtype: TreeNode\n",
    "        \"\"\"\n",
    "        if not t1 and not t2: return None\n",
    "        if t1:\n",
    "            v1, L1, R1 = t1.val, t1.left, t1.right\n",
    "        else:\n",
    "            v1, L1, R1 = 0, None, None\n",
    "        if t2:\n",
    "            v2, L2, R2 = t2.val, t2.left, t2.right\n",
    "        else:\n",
    "            v2, L2, R2 = 0, None, None\n",
    "        node = TreeNode(v1+v2)\n",
    "        node.left = self.mergeTrees(L1, L2)\n",
    "        node.right = self.mergeTrees(R1, R2)\n",
    "        return node"
   ]
  },
  {
   "cell_type": "markdown",
   "metadata": {},
   "source": [
    "# Nim Game\n",
    "\n",
    "You are playing the following Nim Game with your friend: There is a heap of stones on the table, each time one of you take turns to remove 1 to 3 stones. The one who removes the last stone will be the winner. You will take the first turn to remove the stones.\n",
    "\n",
    "Both of you are very clever and have optimal strategies for the game. Write a function to determine whether you can win the game given the number of stones in the heap.\n",
    "\n",
    "For example, if there are 4 stones in the heap, then you will never win the game: no matter 1, 2, or 3 stones you remove, the last stone will always be removed by your friend.\n",
    "\n"
   ]
  },
  {
   "cell_type": "code",
   "execution_count": null,
   "metadata": {
    "collapsed": true
   },
   "outputs": [],
   "source": [
    "def canWinNim(self, n):\n",
    "    return bool(n % 4)  "
   ]
  },
  {
   "cell_type": "markdown",
   "metadata": {},
   "source": [
    "# Find All Numbers Disappeared in an Array\n",
    "\n",
    "Given an array of integers where 1 ≤ a[i] ≤ n (n = size of array), some elements appear twice and others appear once.\n",
    "\n",
    "Find all the elements of [1, n] inclusive that do not appear in this array.\n",
    "\n",
    "Could you do it without extra space and in O(n) runtime? You may assume the returned list does not count as extra space."
   ]
  },
  {
   "cell_type": "code",
   "execution_count": null,
   "metadata": {
    "collapsed": true
   },
   "outputs": [],
   "source": [
    "def findDisappearedNumbers(nums):\n",
    "    # For each number i in nums,\n",
    "    # we mark the number that i points as negative.\n",
    "    # Then we filter the list, get all the indexes\n",
    "    # who points to a positive number\n",
    "    for i in range(len(nums)):\n",
    "        index = abs(nums[i]) - 1\n",
    "        nums[index] = - abs(nums[index])\n",
    "    return [i + 1 for i in range(len(nums)) if nums[i] > 0]\n"
   ]
  },
  {
   "cell_type": "markdown",
   "metadata": {
    "collapsed": true
   },
   "source": [
    "# Reverse Bits"
   ]
  },
  {
   "cell_type": "code",
   "execution_count": null,
   "metadata": {
    "collapsed": true
   },
   "outputs": [],
   "source": [
    "b = '{:0{width}b}'.format(n, width=width)\n",
    "int(b[::-1], 2)"
   ]
  },
  {
   "cell_type": "markdown",
   "metadata": {},
   "source": [
    "# Check if a decimal integer is a palindrome"
   ]
  },
  {
   "cell_type": "code",
   "execution_count": 2,
   "metadata": {
    "collapsed": false
   },
   "outputs": [
    {
     "data": {
      "text/plain": [
       "[0, 1, 2, 3, 4, 5, 6, 7, 8, 9, 11]"
      ]
     },
     "execution_count": 2,
     "metadata": {},
     "output_type": "execute_result"
    }
   ],
   "source": [
    "def palinum(n):\n",
    "    results = list()\n",
    "    for each in range(n):\n",
    "        s = str(each)\n",
    "        if s == ''.join(reversed(s)):\n",
    "            results.append(each)\n",
    "    return results\n",
    "palinum(16)"
   ]
  },
  {
   "cell_type": "markdown",
   "metadata": {},
   "source": [
    "# Generate uniform random numbers"
   ]
  },
  {
   "cell_type": "code",
   "execution_count": null,
   "metadata": {
    "collapsed": true
   },
   "outputs": [],
   "source": [
    "from random import randint\n",
    "print(randint(0, 9))"
   ]
  },
  {
   "cell_type": "markdown",
   "metadata": {},
   "source": [
    "# Calculate overlapped area between two rectangles"
   ]
  },
  {
   "cell_type": "code",
   "execution_count": 4,
   "metadata": {
    "collapsed": false
   },
   "outputs": [
    {
     "name": "stdout",
     "output_type": "stream",
     "text": [
      "0.5\n"
     ]
    }
   ],
   "source": [
    "from collections import namedtuple\n",
    "Rectangle = namedtuple('Rectangle', 'xmin ymin xmax ymax')\n",
    "\n",
    "ra = Rectangle(3., 3., 5., 5.)\n",
    "rb = Rectangle(1., 1., 4., 3.5)\n",
    "# intersection here is (3, 3, 4, 3.5), or an area of 1*.5=.5\n",
    "\n",
    "def area(a, b):  # returns None if rectangles don't intersect\n",
    "    dx = min(a.xmax, b.xmax) - max(a.xmin, b.xmin)\n",
    "    dy = min(a.ymax, b.ymax) - max(a.ymin, b.ymin)\n",
    "    if (dx>=0) and (dy>=0):\n",
    "        return dx*dy\n",
    "\n",
    "print(area(ra, rb))\n",
    "#  0.5 "
   ]
  },
  {
   "cell_type": "markdown",
   "metadata": {},
   "source": [
    "# Get the Highest common factor or GCD "
   ]
  },
  {
   "cell_type": "code",
   "execution_count": null,
   "metadata": {
    "collapsed": true
   },
   "outputs": [],
   "source": [
    "def hcf(no1,no2):\n",
    "    while no1!=no2:\n",
    "        if no1>no2:\n",
    "            no1-=no2\n",
    "        elif no2>no1:\n",
    "            no2-=no1\n",
    "    return no1"
   ]
  },
  {
   "cell_type": "markdown",
   "metadata": {},
   "source": [
    "# Print prime numbers in a interval"
   ]
  },
  {
   "cell_type": "code",
   "execution_count": 6,
   "metadata": {
    "collapsed": false
   },
   "outputs": [
    {
     "name": "stdout",
     "output_type": "stream",
     "text": [
      "2\n",
      "3\n",
      "5\n",
      "7\n",
      "11\n",
      "13\n",
      "17\n",
      "19\n",
      "23\n",
      "29\n",
      "31\n",
      "37\n",
      "41\n",
      "43\n",
      "47\n",
      "53\n",
      "59\n",
      "61\n",
      "67\n",
      "71\n",
      "73\n",
      "79\n",
      "83\n",
      "89\n",
      "97\n"
     ]
    }
   ],
   "source": [
    "lower = 1\n",
    "upper = 100\n",
    "for num in range(lower,upper + 1):\n",
    "   # prime numbers are greater than 1\n",
    "   if num > 1:\n",
    "        for i in range(2,num):\n",
    "            if (num % i) == 0:\n",
    "                break\n",
    "        else:\n",
    "            print(num)"
   ]
  },
  {
   "cell_type": "markdown",
   "metadata": {},
   "source": [
    "# Permutation of a list"
   ]
  },
  {
   "cell_type": "code",
   "execution_count": 8,
   "metadata": {
    "collapsed": false
   },
   "outputs": [
    {
     "data": {
      "text/plain": [
       "[['abcd', 'dasc'], ['dasc', 'abcd']]"
      ]
     },
     "execution_count": 8,
     "metadata": {},
     "output_type": "execute_result"
    }
   ],
   "source": [
    "def all_perms(elements):\n",
    "    if len(elements) <=1:\n",
    "        yield elements\n",
    "    else:\n",
    "        for perm in all_perms(elements[1:]):\n",
    "            for i in range(len(elements)):\n",
    "                # nb elements[0:1] works in both string and list contexts\n",
    "                yield perm[:i] + elements[0:1] + perm[i:]\n",
    "                \n",
    "\n",
    "list(all_perms(['abcd','dasc']))"
   ]
  },
  {
   "cell_type": "markdown",
   "metadata": {},
   "source": [
    "# Permutation of a string"
   ]
  },
  {
   "cell_type": "code",
   "execution_count": 11,
   "metadata": {
    "collapsed": false
   },
   "outputs": [
    {
     "data": {
      "text/plain": [
       "['sa', 'as']"
      ]
     },
     "execution_count": 11,
     "metadata": {},
     "output_type": "execute_result"
    }
   ],
   "source": [
    "def perms(s):        \n",
    "    if(len(s)==1): return [s]\n",
    "    result=[]\n",
    "    for i,v in enumerate(s):\n",
    "        result += [v+p for p in perms(s[:i]+s[i+1:])]\n",
    "    return result\n",
    "\n",
    "perms('sa')"
   ]
  },
  {
   "cell_type": "markdown",
   "metadata": {},
   "source": [
    "# Inverse permutation "
   ]
  },
  {
   "cell_type": "code",
   "execution_count": null,
   "metadata": {
    "collapsed": true
   },
   "outputs": [],
   "source": [
    "def inv(perm):\n",
    "    inverse = [0] * len(perm)\n",
    "    for i, p in enumerate(perm):\n",
    "        inverse[p] = i\n",
    "    return inverse\n",
    "\n",
    "perm = [3, 0, 2, 1]\n",
    "print(inv(perm))\n",
    "for i in perm:\n",
    "    print(inv(perm)[i])\n"
   ]
  },
  {
   "cell_type": "markdown",
   "metadata": {},
   "source": [
    "# next permutation"
   ]
  },
  {
   "cell_type": "code",
   "execution_count": null,
   "metadata": {
    "collapsed": true
   },
   "outputs": [],
   "source": [
    "class Solution(object):\n",
    "    def nextPermutation(self, nums):\n",
    "        \"\"\"\n",
    "        :type nums: List[int]\n",
    "        :rtype: void Do not return anything, modify nums in-place instead.\n",
    "        \"\"\"\n",
    "        # find longest non-increasing suffix\n",
    "        right = len(nums)-1\n",
    "        while nums[right] <= nums[right-1] and right-1 >=0:\n",
    "            right -= 1\n",
    "        if right == 0:\n",
    "            return self.reverse(nums,0,len(nums)-1)\n",
    "        # find pivot\n",
    "        pivot = right-1\n",
    "        successor = 0\n",
    "        # find rightmost succesor\n",
    "        for i in range(len(nums)-1,pivot,-1):\n",
    "            if nums[i] > nums[pivot]:\n",
    "                successor = i\n",
    "                break\n",
    "        # swap pivot and successor\n",
    "        nums[pivot],nums[successor] = nums[successor],nums[pivot]  \n",
    "        # reverse suffix\n",
    "        self.reverse(nums,pivot+1,len(nums)-1)\n",
    "        \n",
    "    def reverse(self,nums,l,r):\n",
    "        while l < r:\n",
    "            nums[l],nums[r] = nums[r],nums[l]\n",
    "            l += 1\n",
    "            r -= 1"
   ]
  },
  {
   "cell_type": "markdown",
   "metadata": {},
   "source": [
    "# Rotate an array by i position"
   ]
  },
  {
   "cell_type": "code",
   "execution_count": null,
   "metadata": {
    "collapsed": true
   },
   "outputs": [],
   "source": [
    "from collections import deque\n",
    ">>> d=deque([1,2,3,4,5])\n",
    ">>> d\n",
    "deque([1, 2, 3, 4, 5])\n",
    ">>> d.rotate(2)\n",
    ">>> d\n",
    "deque([4, 5, 1, 2, 3])\n",
    ">>> d.rotate(-2)\n",
    ">>> d\n",
    "deque([1, 2, 3, 4, 5])"
   ]
  },
  {
   "cell_type": "code",
   "execution_count": null,
   "metadata": {
    "collapsed": true
   },
   "outputs": [],
   "source": [
    "# or\n",
    ">>> li=[1,2,3,4,5]\n",
    ">>> li[2:]+li[:2]\n",
    "[3, 4, 5, 1, 2]\n",
    ">>> li[-2:]+li[:-2]\n",
    "[4, 5, 1, 2, 3]"
   ]
  },
  {
   "cell_type": "markdown",
   "metadata": {},
   "source": [
    "# Print array in spiral form"
   ]
  },
  {
   "cell_type": "code",
   "execution_count": 14,
   "metadata": {
    "collapsed": false
   },
   "outputs": [
    {
     "name": "stdout",
     "output_type": "stream",
     "text": [
      "1 2 3 4 5\n",
      "16 17 18 19 6\n",
      "15 24 25 20 7\n",
      "14 23 22 21 8\n",
      "13 12 11 10 9\n"
     ]
    }
   ],
   "source": [
    "def spiral_matrix(n):\n",
    "    m = [[0] * n for i in range(n)]\n",
    "    dx, dy = [0, 1, 0, -1], [1, 0, -1, 0]\n",
    "    x, y, c = 0, -1, 1\n",
    "    for i in range(n + n - 1):\n",
    "        for j in range((n + n - i) // 2):\n",
    "            x += dx[i % 4]\n",
    "            y += dy[i % 4]\n",
    "            m[x][y] = c\n",
    "            c += 1\n",
    "    return m\n",
    "for i in spiral_matrix(5): print(*i)"
   ]
  },
  {
   "cell_type": "markdown",
   "metadata": {
    "collapsed": true
   },
   "source": [
    "Write a Python function to get a string made of 4 copies of the last two characters of a specified string (length must be at least 2). "
   ]
  },
  {
   "cell_type": "code",
   "execution_count": 17,
   "metadata": {
    "collapsed": false
   },
   "outputs": [
    {
     "data": {
      "text/plain": [
       "'onononon'"
      ]
     },
     "execution_count": 17,
     "metadata": {},
     "output_type": "execute_result"
    }
   ],
   "source": [
    "String = 'Python'\n",
    "(String[-2:])*4"
   ]
  },
  {
   "cell_type": "raw",
   "metadata": {},
   "source": [
    "Write a Python function to get a string made of its first three characters of a specified string. If the length of the string is less than 3 then return the original string. "
   ]
  },
  {
   "cell_type": "code",
   "execution_count": 19,
   "metadata": {
    "collapsed": false
   },
   "outputs": [
    {
     "data": {
      "text/plain": [
       "'Pyt'"
      ]
     },
     "execution_count": 19,
     "metadata": {},
     "output_type": "execute_result"
    }
   ],
   "source": [
    "String = 'Python'\n",
    "String[0:3] if len(String) > 3 else String"
   ]
  },
  {
   "cell_type": "raw",
   "metadata": {},
   "source": [
    "Write a Python program to get the last part of a string before a specified character."
   ]
  },
  {
   "cell_type": "code",
   "execution_count": 21,
   "metadata": {
    "collapsed": false
   },
   "outputs": [
    {
     "data": {
      "text/plain": [
       "'http://www.w3resource.com/python'"
      ]
     },
     "execution_count": 21,
     "metadata": {},
     "output_type": "execute_result"
    }
   ],
   "source": [
    "url = 'http://www.w3resource.com/python-exercises'\n",
    "url.split('-')[0]    "
   ]
  },
  {
   "cell_type": "raw",
   "metadata": {},
   "source": [
    "Write a Python function to reverses a string if it's length is a multiple of 4"
   ]
  },
  {
   "cell_type": "code",
   "execution_count": 23,
   "metadata": {
    "collapsed": false
   },
   "outputs": [
    {
     "data": {
      "text/plain": [
       "'htyP'"
      ]
     },
     "execution_count": 23,
     "metadata": {},
     "output_type": "execute_result"
    }
   ],
   "source": [
    "String = 'Pyth'\n",
    "String[::-1] if (len(String) % 4 == 0) else String"
   ]
  },
  {
   "cell_type": "raw",
   "metadata": {},
   "source": [
    "Write a Python function to convert a given string to all uppercase if it contains at least 2 uppercase characters in the first 4 characters"
   ]
  },
  {
   "cell_type": "code",
   "execution_count": 39,
   "metadata": {
    "collapsed": false
   },
   "outputs": [
    {
     "data": {
      "text/plain": [
       "'PYTHON'"
      ]
     },
     "execution_count": 39,
     "metadata": {},
     "output_type": "execute_result"
    }
   ],
   "source": [
    "String = 'PYThon'\n",
    "count = 0\n",
    "for i in range(0,4): \n",
    "    if String[i].isupper():\n",
    "        count += 1 \n",
    "String.upper() if count > 2 else String"
   ]
  },
  {
   "cell_type": "raw",
   "metadata": {},
   "source": [
    "Write a Python program to sort a string lexicographically."
   ]
  },
  {
   "cell_type": "code",
   "execution_count": 41,
   "metadata": {
    "collapsed": false
   },
   "outputs": [
    {
     "data": {
      "text/plain": [
       "'hnopty'"
      ]
     },
     "execution_count": 41,
     "metadata": {},
     "output_type": "execute_result"
    }
   ],
   "source": [
    "String = 'python'\n",
    "''.join(sorted(String))"
   ]
  },
  {
   "cell_type": "raw",
   "metadata": {},
   "source": [
    "Write a Python program to remove a newline in Python."
   ]
  },
  {
   "cell_type": "code",
   "execution_count": 47,
   "metadata": {
    "collapsed": false
   },
   "outputs": [
    {
     "data": {
      "text/plain": [
       "'Pythonsai'"
      ]
     },
     "execution_count": 47,
     "metadata": {},
     "output_type": "execute_result"
    }
   ],
   "source": [
    "String = 'Python \\n sai'\n",
    "\"\".join((String.replace('\\n','').split()))"
   ]
  },
  {
   "cell_type": "raw",
   "metadata": {},
   "source": [
    "Write a Python program to check whether a string starts with specified characters."
   ]
  },
  {
   "cell_type": "code",
   "execution_count": 48,
   "metadata": {
    "collapsed": false
   },
   "outputs": [
    {
     "data": {
      "text/plain": [
       "True"
      ]
     },
     "execution_count": 48,
     "metadata": {},
     "output_type": "execute_result"
    }
   ],
   "source": [
    "String = 'Python sai'\n",
    "sub = 'Pyt'\n",
    "String.startswith(sub)"
   ]
  },
  {
   "cell_type": "raw",
   "metadata": {},
   "source": [
    "Write a Python program to create a Caesar encryption"
   ]
  },
  {
   "cell_type": "code",
   "execution_count": 50,
   "metadata": {
    "collapsed": false
   },
   "outputs": [
    {
     "name": "stdout",
     "output_type": "stream",
     "text": [
      "\n",
      "['c', 'd', 'F']\n",
      "\n"
     ]
    }
   ],
   "source": [
    "def caesar_encrypt(realText, step):\n",
    "    outText = []\n",
    "    cryptText = []\n",
    "\n",
    "    uppercase = ['A', 'B', 'C', 'D', 'E', 'F', 'G', 'H', 'I', 'J', 'K', 'L', 'M', 'N', 'O', 'P', 'Q', 'R', 'S', 'T', 'U', 'V', 'W', 'X', 'Y', 'Z']\n",
    "    lowercase = ['a', 'b', 'c', 'd', 'e', 'f', 'g', 'h', 'i', 'j', 'k', 'l', 'm', 'n', 'o', 'p', 'q', 'r', 's', 't', 'u', 'v', 'w', 'x', 'y', 'z']\n",
    "\n",
    "    for eachLetter in realText:\n",
    "        if eachLetter in uppercase:\n",
    "            index = uppercase.index(eachLetter)\n",
    "            crypting = (index + step) % 26\n",
    "            cryptText.append(crypting)\n",
    "            newLetter = uppercase[crypting]\n",
    "            outText.append(newLetter)\n",
    "        elif eachLetter in lowercase:\n",
    "            index = lowercase.index(eachLetter)\n",
    "            crypting = (index + step) % 26\n",
    "            cryptText.append(crypting)\n",
    "            newLetter = lowercase[crypting]\n",
    "            outText.append(newLetter)\n",
    "    return outText\n",
    "\n",
    "code = caesar_encrypt('abD', 2)\n",
    "print()\n",
    "print(code)\n",
    "print()\n"
   ]
  },
  {
   "cell_type": "raw",
   "metadata": {},
   "source": [
    "Write a Python program to display formatted text (width=50) as output"
   ]
  },
  {
   "cell_type": "code",
   "execution_count": 53,
   "metadata": {
    "collapsed": false
   },
   "outputs": [
    {
     "name": "stdout",
     "output_type": "stream",
     "text": [
      "\n",
      "   Python is a widely used high-level, general-purpose, interpreted,   dynamic programming language.\n",
      "Its design philosophy emphasizes   code readability, and its syntax allows programmers to express\n",
      "concepts in fewer lines of code than possible in languages such   as C++ or Java.\n",
      "\n"
     ]
    }
   ],
   "source": [
    "import textwrap\n",
    "sample_text = '''\n",
    "  Python is a widely used high-level, general-purpose, interpreted,\n",
    "  dynamic programming language. Its design philosophy emphasizes\n",
    "  code readability, and its syntax allows programmers to express\n",
    "  concepts in fewer lines of code than possible in languages such\n",
    "  as C++ or Java.\n",
    "  '''\n",
    "print()\n",
    "print(textwrap.fill(sample_text, width=100))\n",
    "print()"
   ]
  },
  {
   "cell_type": "raw",
   "metadata": {},
   "source": [
    "Write a Python program to remove existing indentation from all of the lines in a given text."
   ]
  },
  {
   "cell_type": "code",
   "execution_count": 54,
   "metadata": {
    "collapsed": false
   },
   "outputs": [
    {
     "name": "stdout",
     "output_type": "stream",
     "text": [
      "\n",
      "\n",
      "Python is a widely used high-level, general-purpose, interpreted,\n",
      "dynamic programming language. Its design philosophy emphasizes\n",
      "code readability, and its syntax allows programmers to express\n",
      "concepts in fewer lines of code than possible in languages such\n",
      "as C++ or Java.\n",
      "\n",
      "\n"
     ]
    }
   ],
   "source": [
    "import textwrap\n",
    "sample_text = '''\n",
    "    Python is a widely used high-level, general-purpose, interpreted,\n",
    "    dynamic programming language. Its design philosophy emphasizes\n",
    "    code readability, and its syntax allows programmers to express\n",
    "    concepts in fewer lines of code than possible in languages such\n",
    "    as C++ or Java.\n",
    "    '''\n",
    "text_without_Indentation = textwrap.dedent(sample_text)\n",
    "print()\n",
    "print(text_without_Indentation )\n",
    "print()"
   ]
  },
  {
   "cell_type": "raw",
   "metadata": {},
   "source": [
    "Write a Python program to add a prefix text to all of the lines in a string."
   ]
  },
  {
   "cell_type": "code",
   "execution_count": 55,
   "metadata": {
    "collapsed": false
   },
   "outputs": [
    {
     "name": "stdout",
     "output_type": "stream",
     "text": [
      "\n",
      ">  Python is a widely used high-level, general-\n",
      "> purpose, interpreted, dynamic programming\n",
      "> language. Its design philosophy emphasizes code\n",
      "> readability, and its syntax allows programmers to\n",
      "> express concepts in fewer lines of code than\n",
      "> possible in languages such as C++ or Java.\n",
      "\n"
     ]
    }
   ],
   "source": [
    "import textwrap\n",
    "sample_text ='''\n",
    "    Python is a widely used high-level, general-purpose, interpreted,\n",
    "    dynamic programming language. Its design philosophy emphasizes\n",
    "    code readability, and its syntax allows programmers to express\n",
    "    concepts in fewer lines of code than possible in languages such\n",
    "    as C++ or Java.\n",
    "    '''\n",
    "text_without_Indentation = textwrap.dedent(sample_text)\n",
    "wrapped = textwrap.fill(text_without_Indentation, width=50)\n",
    "#wrapped += '\\n\\nSecond paragraph after a blank line.'\n",
    "final_result = textwrap.indent(wrapped, '> ')\n",
    "print()\n",
    "print(final_result)\n",
    "print()\n"
   ]
  },
  {
   "cell_type": "raw",
   "metadata": {},
   "source": [
    "Write a Python program to set the indentation of the first line."
   ]
  },
  {
   "cell_type": "code",
   "execution_count": 57,
   "metadata": {
    "collapsed": false
   },
   "outputs": [
    {
     "name": "stdout",
     "output_type": "stream",
     "text": [
      "\n",
      "Python is a widely used high-level, general-\n",
      "    purpose, interpreted, dynamic programming\n",
      "    language. Its design philosophy emphasizes\n",
      "    code readability, and its syntax allows\n",
      "    programmers to express concepts in fewer lines\n",
      "    of code than possible in languages such as C++\n",
      "    or Java.\n",
      "\n"
     ]
    }
   ],
   "source": [
    "import textwrap\n",
    "sample_text ='''\n",
    "Python is a widely used high-level, general-purpose, interpreted, dynamic\n",
    "programming language. Its design philosophy emphasizes code readability,\n",
    "and its syntax allows programmers to express concepts in fewer lines of\n",
    "code than possible in languages such as C++ or Java.\n",
    "    '''\n",
    "\n",
    "text1 =  textwrap.dedent(sample_text).strip()\n",
    "print()\n",
    "print(textwrap.fill(text1,\n",
    "                    initial_indent='',\n",
    "                    subsequent_indent=' ' * 4,\n",
    "                    width=50,\n",
    "                    ))\n",
    "print()\n"
   ]
  },
  {
   "cell_type": "raw",
   "metadata": {},
   "source": [
    "Write a Python program to print the following floating numbers upto 2 decimal places."
   ]
  },
  {
   "cell_type": "code",
   "execution_count": 62,
   "metadata": {
    "collapsed": false
   },
   "outputs": [
    {
     "name": "stdout",
     "output_type": "stream",
     "text": [
      "\n",
      "Original Number:  3.1415926\n",
      "Formatted Number with sign: 3.14\n",
      "Original Number:  -12.9999\n",
      "Formatted Number with sign: -13.00\n",
      "\n"
     ]
    }
   ],
   "source": [
    "x = 3.1415926\n",
    "y = -12.9999\n",
    "print(\"\\nOriginal Number: \", x)\n",
    "print(\"Formatted Number with sign: \"+\"{:.2f}\".format(x));\n",
    "print(\"Original Number: \", y)\n",
    "print(\"Formatted Number with sign: \"+\"{:.2f}\".format(y));\n",
    "print()"
   ]
  },
  {
   "cell_type": "raw",
   "metadata": {},
   "source": [
    "Write a Python program to print the following floating numbers upto 2 decimal places with a sign."
   ]
  },
  {
   "cell_type": "code",
   "execution_count": null,
   "metadata": {
    "collapsed": true
   },
   "outputs": [],
   "source": [
    "x = 3.1415926\n",
    "y = -12.9999\n",
    "print(\"\\nOriginal Number: \", x)\n",
    "print(\"Formatted Number with sign: \"+\"{:+.2f}\".format(x));\n",
    "print(\"Original Number: \", y)\n",
    "print(\"Formatted Number with sign: \"+\"{:+.2f}\".format(y));\n",
    "print()"
   ]
  },
  {
   "cell_type": "markdown",
   "metadata": {},
   "source": [
    "Write a Python program to print the following floating numbers with no decimal places."
   ]
  },
  {
   "cell_type": "code",
   "execution_count": 64,
   "metadata": {
    "collapsed": false
   },
   "outputs": [
    {
     "name": "stdout",
     "output_type": "stream",
     "text": [
      "\n",
      "Original Number:  3.1415926\n",
      "Formatted Number with no decimal places: 3\n",
      "Original Number:  -12.9999\n",
      "Formatted Number with no decimal places: -13\n",
      "\n"
     ]
    }
   ],
   "source": [
    "x = 3.1415926\n",
    "y = -12.9999\n",
    "print(\"\\nOriginal Number: \", x)\n",
    "print(\"Formatted Number with no decimal places: \"+\"{:.0f}\".format(x));\n",
    "print(\"Original Number: \", y)\n",
    "print(\"Formatted Number with no decimal places: \"+\"{:.0f}\".format(y));\n",
    "print()\n"
   ]
  },
  {
   "cell_type": "raw",
   "metadata": {},
   "source": [
    "Write a Python program to print the following integers with zeros on the left of specified width."
   ]
  },
  {
   "cell_type": "code",
   "execution_count": 65,
   "metadata": {
    "collapsed": false
   },
   "outputs": [
    {
     "name": "stdout",
     "output_type": "stream",
     "text": [
      "\n",
      "Original Number:  3\n",
      "Formatted Number(left padding, width 2): 03\n",
      "Original Number:  123\n",
      "Formatted Number(left padding, width 6): 000123\n",
      "\n"
     ]
    }
   ],
   "source": [
    "x = 3\n",
    "y = 123\n",
    "print(\"\\nOriginal Number: \", x)\n",
    "print(\"Formatted Number(left padding, width 2): \"+\"{:0>2d}\".format(x));\n",
    "print(\"Original Number: \", y)\n",
    "print(\"Formatted Number(left padding, width 6): \"+\"{:0>6d}\".format(y));\n",
    "print()"
   ]
  },
  {
   "cell_type": "raw",
   "metadata": {},
   "source": [
    "Write a Python program to print the following integers with '*' on the right of specified width."
   ]
  },
  {
   "cell_type": "code",
   "execution_count": 67,
   "metadata": {
    "collapsed": false
   },
   "outputs": [
    {
     "name": "stdout",
     "output_type": "stream",
     "text": [
      "\n",
      "Original Number:  3\n",
      "Formatted Number(right padding, width 2):  3\n",
      "Original Number:  123\n",
      "Formatted Number(right padding, width 6):  123**\n",
      "\n"
     ]
    }
   ],
   "source": [
    "x = 3\n",
    "y = 123\n",
    "print(\"\\nOriginal Number: \", x)\n",
    "print(\"Formatted Number(right padding, width 2): \"+\"{:*< 2d}\".format(x));\n",
    "print(\"Original Number: \", y)\n",
    "print(\"Formatted Number(right padding, width 6): \"+\"{:*< 6d}\".format(y));\n",
    "print()"
   ]
  },
  {
   "cell_type": "raw",
   "metadata": {},
   "source": [
    "Write a Python program to display a number with a comma separator. "
   ]
  },
  {
   "cell_type": "code",
   "execution_count": 72,
   "metadata": {
    "collapsed": false
   },
   "outputs": [
    {
     "name": "stdout",
     "output_type": "stream",
     "text": [
      "\n",
      "Original Number:  3000000\n",
      "Formatted Number with comma separator: 3,000,000\n",
      "Original Number:  30000000\n",
      "Formatted Number with comma separator: 30,000,000\n",
      "\n"
     ]
    }
   ],
   "source": [
    "x = 3000000\n",
    "y = 30000000\n",
    "print(\"\\nOriginal Number: \", x)\n",
    "print(\"Formatted Number with comma separator: \"+\"{:,}\".format(x));\n",
    "print(\"Original Number: \", y)\n",
    "print(\"Formatted Number with comma separator: \"+\"{:,}\".format(y));\n",
    "print()\n"
   ]
  },
  {
   "cell_type": "raw",
   "metadata": {},
   "source": [
    "Write a Python program to format a number with a percentage. "
   ]
  },
  {
   "cell_type": "code",
   "execution_count": 73,
   "metadata": {
    "collapsed": false
   },
   "outputs": [
    {
     "name": "stdout",
     "output_type": "stream",
     "text": [
      "\n",
      "Original Number:  0.25\n",
      "Formatted Number with percentage: 25.00%\n",
      "Original Number:  -0.25\n",
      "Formatted Number with percentage: -25.00%\n",
      "\n"
     ]
    }
   ],
   "source": [
    "x = 0.25\n",
    "y = -0.25\n",
    "print(\"\\nOriginal Number: \", x)\n",
    "print(\"Formatted Number with percentage: \"+\"{:.2%}\".format(x));\n",
    "print(\"Original Number: \", y)\n",
    "print(\"Formatted Number with percentage: \"+\"{:.2%}\".format(y));\n",
    "print()"
   ]
  },
  {
   "cell_type": "raw",
   "metadata": {},
   "source": [
    "Write a Python program to display a number in left, right and center aligned of width 10."
   ]
  },
  {
   "cell_type": "code",
   "execution_count": 74,
   "metadata": {
    "collapsed": false
   },
   "outputs": [
    {
     "name": "stdout",
     "output_type": "stream",
     "text": [
      "\n",
      "Original Number:  22\n",
      "Left aligned (width 10)   : 22       \n",
      "Right aligned (width 10)  :        22\n",
      "Center aligned (width 10) :    22    \n",
      "\n"
     ]
    }
   ],
   "source": [
    "x = 22\n",
    "print(\"\\nOriginal Number: \", x)\n",
    "print(\"Left aligned (width 10)   :\"+\"{:< 10d}\".format(x));\n",
    "print(\"Right aligned (width 10)  :\"+\"{:10d}\".format(x));\n",
    "print(\"Center aligned (width 10) :\"+\"{:^10d}\".format(x));\n",
    "print()"
   ]
  },
  {
   "cell_type": "raw",
   "metadata": {},
   "source": [
    "Write a Python program to count occurrences of a substring in a string."
   ]
  },
  {
   "cell_type": "code",
   "execution_count": 75,
   "metadata": {
    "collapsed": false
   },
   "outputs": [
    {
     "name": "stdout",
     "output_type": "stream",
     "text": [
      "\n",
      "1\n",
      "\n"
     ]
    }
   ],
   "source": [
    "str1 = 'The quick brown fox jumps over the lazy dog.'\n",
    "print()\n",
    "print(str1.count(\"fox\"))\n",
    "print()"
   ]
  },
  {
   "cell_type": "raw",
   "metadata": {},
   "source": [
    "Write a Python program to reverse a string."
   ]
  },
  {
   "cell_type": "code",
   "execution_count": 76,
   "metadata": {
    "collapsed": false
   },
   "outputs": [
    {
     "data": {
      "text/plain": [
       "'.god yzal eht revo spmuj xof nworb kciuq ehT'"
      ]
     },
     "execution_count": 76,
     "metadata": {},
     "output_type": "execute_result"
    }
   ],
   "source": [
    "str1 = 'The quick brown fox jumps over the lazy dog.'\n",
    "str1[::-1]"
   ]
  },
  {
   "cell_type": "raw",
   "metadata": {},
   "source": [
    "Write a Python program to strip a set of characters from a string."
   ]
  },
  {
   "cell_type": "code",
   "execution_count": 78,
   "metadata": {
    "collapsed": false
   },
   "outputs": [
    {
     "name": "stdout",
     "output_type": "stream",
     "text": [
      "\n",
      "Original String: \n",
      "The quick brown fox jumps over the lazy dog.\n",
      "After stripping a,e,i,o,u\n",
      "Th qck brwn fx jmps vr th lzy dg.\n",
      "\n"
     ]
    }
   ],
   "source": [
    "def strip_chars(str, chars):\n",
    "    return \"\".join(c for c in str if c not in chars)\n",
    "\n",
    "print(\"\\nOriginal String: \")\n",
    "print(\"The quick brown fox jumps over the lazy dog.\")\n",
    "print(\"After stripping a,e,i,o,u\")      \n",
    "print(strip_chars(\"The quick brown fox jumps over the lazy dog.\", \"aeiou\"))\n",
    "print()"
   ]
  },
  {
   "cell_type": "raw",
   "metadata": {},
   "source": [
    "Write a python program to count repeated characters in a string. "
   ]
  },
  {
   "cell_type": "code",
   "execution_count": 82,
   "metadata": {
    "collapsed": false
   },
   "outputs": [
    {
     "name": "stdout",
     "output_type": "stream",
     "text": [
      "o 4\n",
      "e 3\n",
      "h 2\n",
      "r 2\n",
      "u 2\n",
      "t 2\n"
     ]
    }
   ],
   "source": [
    "import collections\n",
    "str1 = 'thequickbrownfoxjumpsoverthelazydog'\n",
    "d = collections.defaultdict(int)\n",
    "for c in str1:\n",
    "    d[c] += 1\n",
    "\n",
    "for c in sorted(d, key=d.get, reverse=True):\n",
    "    if d[c] > 1:\n",
    "        print('%s %d' % (c, d[c]))"
   ]
  },
  {
   "cell_type": "raw",
   "metadata": {},
   "source": [
    "Write a Python program to print the square and cube symbol in the area of a rectangle and volume of a cylinder."
   ]
  },
  {
   "cell_type": "code",
   "execution_count": 83,
   "metadata": {
    "collapsed": false
   },
   "outputs": [
    {
     "name": "stdout",
     "output_type": "stream",
     "text": [
      "The area of the rectangle is 1256.66cm²\n",
      "The volume of the cylinder is 1254.725cm³\n"
     ]
    }
   ],
   "source": [
    "area = 1256.66\n",
    "volume = 1254.725\n",
    "decimals = 2\n",
    "print(\"The area of the rectangle is {0:.{1}f}cm\\u00b2\".format(area, decimals))\n",
    "decimals = 3\n",
    "print(\"The volume of the cylinder is {0:.{1}f}cm\\u00b3\".format(volume, decimals))\n"
   ]
  },
  {
   "cell_type": "raw",
   "metadata": {},
   "source": [
    "Write a Python program to print the index of the character in a string. "
   ]
  },
  {
   "cell_type": "code",
   "execution_count": 91,
   "metadata": {
    "collapsed": false
   },
   "outputs": [
    {
     "name": "stdout",
     "output_type": "stream",
     "text": [
      "Current character t position at 0\n",
      "Current character h position at 1\n",
      "Current character e position at 2\n",
      "Current character q position at 3\n",
      "Current character u position at 4\n",
      "Current character i position at 5\n",
      "Current character c position at 6\n",
      "Current character k position at 7\n"
     ]
    }
   ],
   "source": [
    "str1 = 'thequick'\n",
    "for i in str1:\n",
    "    print('Current character ' + i + ' position at ' + str(str1.index(i)))"
   ]
  },
  {
   "cell_type": "raw",
   "metadata": {},
   "source": [
    "Write a Python program to check if a string contains all letters of the alphabet."
   ]
  },
  {
   "cell_type": "code",
   "execution_count": 96,
   "metadata": {
    "collapsed": false
   },
   "outputs": [
    {
     "name": "stdout",
     "output_type": "stream",
     "text": [
      "True\n"
     ]
    }
   ],
   "source": [
    "str1 = 'abcdefghijklmnopqrstuvwxyz'\n",
    "alpha = ['A', 'B', 'C', 'D', 'E', 'F', 'G', 'H', 'I', 'J', 'K', 'L', 'M', 'N', 'O', 'P', 'Q', 'R', 'S', 'T', 'U', 'V', 'W', 'X', 'Y', 'Z']\n",
    "count = 0\n",
    "for i in str1:\n",
    "    if (i.upper()) in (alpha):\n",
    "        count += 1\n",
    "if (len(str1)) == count:\n",
    "    print(True)\n",
    "else:\n",
    "    print(False)"
   ]
  },
  {
   "cell_type": "raw",
   "metadata": {},
   "source": [
    "Write a Python program to swap comma and dot in a string"
   ]
  },
  {
   "cell_type": "code",
   "execution_count": 97,
   "metadata": {
    "collapsed": false
   },
   "outputs": [
    {
     "name": "stdout",
     "output_type": "stream",
     "text": [
      "32,054.23\n"
     ]
    }
   ],
   "source": [
    "amount = \"32.054,23\"\n",
    "maketrans = amount.maketrans\n",
    "amount = amount.translate(maketrans(',.', '.,'))\n",
    "print(amount)"
   ]
  },
  {
   "cell_type": "raw",
   "metadata": {},
   "source": [
    "Write a Python program to count and display the vowels of a given text."
   ]
  },
  {
   "cell_type": "code",
   "execution_count": 98,
   "metadata": {
    "collapsed": false
   },
   "outputs": [
    {
     "name": "stdout",
     "output_type": "stream",
     "text": [
      "4\n",
      "['e', 'o', 'u', 'e']\n"
     ]
    }
   ],
   "source": [
    "def vowel(text):\n",
    "    vowels = \"aeiuoAEIOU\"\n",
    "    print(len([letter for letter in text if letter in vowels]))\n",
    "    print([letter for letter in text if letter in vowels])\n",
    "vowel('w3resource');"
   ]
  },
  {
   "cell_type": "raw",
   "metadata": {},
   "source": [
    "Write a Python program to split a string on the last occurrence of the delimiter."
   ]
  },
  {
   "cell_type": "code",
   "execution_count": 99,
   "metadata": {
    "collapsed": false
   },
   "outputs": [
    {
     "name": "stdout",
     "output_type": "stream",
     "text": [
      "['w,3,r,e,s,o,u,r,c', 'e']\n",
      "['w,3,r,e,s,o,u,r', 'c', 'e']\n",
      "['w,3,r,e,s', 'o', 'u', 'r', 'c', 'e']\n"
     ]
    }
   ],
   "source": [
    "str1 = \"w,3,r,e,s,o,u,r,c,e\"\n",
    "print(str1.rsplit(',', 1))\n",
    "print(str1.rsplit(',', 2))\n",
    "print(str1.rsplit(',', 5))"
   ]
  },
  {
   "cell_type": "raw",
   "metadata": {
    "collapsed": true
   },
   "source": [
    "Multiply all elements in a list"
   ]
  },
  {
   "cell_type": "code",
   "execution_count": 2,
   "metadata": {
    "collapsed": false
   },
   "outputs": [
    {
     "data": {
      "text/plain": [
       "720"
      ]
     },
     "execution_count": 2,
     "metadata": {},
     "output_type": "execute_result"
    }
   ],
   "source": [
    "from functools import reduce\n",
    "reduce(lambda x, y: x*y, [1,2,3,4,5,6])"
   ]
  },
  {
   "cell_type": "raw",
   "metadata": {},
   "source": [
    "Minimum from list"
   ]
  },
  {
   "cell_type": "code",
   "execution_count": 4,
   "metadata": {
    "collapsed": false
   },
   "outputs": [
    {
     "data": {
      "text/plain": [
       "[4, 3, 2, 1]"
      ]
     },
     "execution_count": 4,
     "metadata": {},
     "output_type": "execute_result"
    }
   ],
   "source": [
    "sorted([1,2,3,4],reverse=True)"
   ]
  },
  {
   "cell_type": "raw",
   "metadata": {},
   "source": [
    "Remove duplicates without set"
   ]
  },
  {
   "cell_type": "code",
   "execution_count": null,
   "metadata": {
    "collapsed": true
   },
   "outputs": [],
   "source": [
    "a = [10,20,30,20,10,50,60,40,80,50,40]\n",
    "\n",
    "dup_items = set()\n",
    "uniq_items = []\n",
    "for x in a:\n",
    "    if x not in dup_items:\n",
    "        uniq_items.append(x)\n",
    "        dup_items.add(x)\n",
    "\n",
    "print(dup_items)"
   ]
  },
  {
   "cell_type": "raw",
   "metadata": {},
   "source": [
    "Print a list after removing specified elements"
   ]
  },
  {
   "cell_type": "code",
   "execution_count": null,
   "metadata": {
    "collapsed": true
   },
   "outputs": [],
   "source": [
    "color = ['Red', 'Green', 'White', 'Black', 'Pink', 'Yellow']\n",
    "color = [x for (i,x) in enumerate(color) if i not in (0,4,5)]"
   ]
  },
  {
   "cell_type": "raw",
   "metadata": {},
   "source": [
    "Generate a 3D array"
   ]
  },
  {
   "cell_type": "code",
   "execution_count": 5,
   "metadata": {
    "collapsed": false
   },
   "outputs": [
    {
     "name": "stdout",
     "output_type": "stream",
     "text": [
      "[[['*', '*', '*', '*', '*', '*'], ['*', '*', '*', '*', '*', '*'], ['*', '*', '*', '*', '*', '*'], ['*', '*', '*', '*', '*', '*']], [['*', '*', '*', '*', '*', '*'], ['*', '*', '*', '*', '*', '*'], ['*', '*', '*', '*', '*', '*'], ['*', '*', '*', '*', '*', '*']], [['*', '*', '*', '*', '*', '*'], ['*', '*', '*', '*', '*', '*'], ['*', '*', '*', '*', '*', '*'], ['*', '*', '*', '*', '*', '*']]]\n"
     ]
    }
   ],
   "source": [
    "array = [[ ['*' for col in range(6)] for col in range(4)] for row in range(3)]\n",
    "print(array)"
   ]
  },
  {
   "cell_type": "raw",
   "metadata": {},
   "source": [
    "Shuffle a list"
   ]
  },
  {
   "cell_type": "code",
   "execution_count": null,
   "metadata": {
    "collapsed": true
   },
   "outputs": [],
   "source": [
    "from random import shuffle\n",
    "color = ['Red', 'Green', 'White', 'Black', 'Pink', 'Yellow']\n",
    "shuffle(color)\n",
    "print(color)"
   ]
  },
  {
   "cell_type": "raw",
   "metadata": {},
   "source": [
    "Generate and print a list of first and last 5 elements where the values are square of numbers between two numbers"
   ]
  },
  {
   "cell_type": "code",
   "execution_count": 6,
   "metadata": {
    "collapsed": false
   },
   "outputs": [
    {
     "name": "stdout",
     "output_type": "stream",
     "text": [
      "[1, 4, 9, 16, 25]\n",
      "[256, 289, 324, 361, 400]\n"
     ]
    }
   ],
   "source": [
    "def printValues():\n",
    "    l = list()\n",
    "    for i in range(1,21):\n",
    "        l.append(i**2)\n",
    "    print(l[:5])\n",
    "    print(l[-5:])\n",
    "\n",
    "printValues()"
   ]
  },
  {
   "cell_type": "raw",
   "metadata": {},
   "source": [
    "Permutation in  list"
   ]
  },
  {
   "cell_type": "code",
   "execution_count": 7,
   "metadata": {
    "collapsed": false
   },
   "outputs": [
    {
     "name": "stdout",
     "output_type": "stream",
     "text": [
      "[(1, 2, 3), (1, 3, 2), (2, 1, 3), (2, 3, 1), (3, 1, 2), (3, 2, 1)]\n"
     ]
    }
   ],
   "source": [
    "import itertools\n",
    "print(list(itertools.permutations([1,2,3])))"
   ]
  },
  {
   "cell_type": "raw",
   "metadata": {},
   "source": [
    "Find the index of an item in a specified list"
   ]
  },
  {
   "cell_type": "code",
   "execution_count": null,
   "metadata": {
    "collapsed": true
   },
   "outputs": [],
   "source": [
    "num =[10, 30, 4, -6]\n",
    "print(num.index(30))"
   ]
  },
  {
   "cell_type": "raw",
   "metadata": {},
   "source": [
    "Select an item randomly from a list"
   ]
  },
  {
   "cell_type": "code",
   "execution_count": null,
   "metadata": {
    "collapsed": true
   },
   "outputs": [],
   "source": [
    "import random\n",
    "color_list = ['Red', 'Blue', 'Green', 'White', 'Black']\n",
    "print(random.choice(color_list))"
   ]
  },
  {
   "cell_type": "raw",
   "metadata": {},
   "source": [
    "Get the frequency of the elements in a list"
   ]
  },
  {
   "cell_type": "code",
   "execution_count": null,
   "metadata": {
    "collapsed": true
   },
   "outputs": [],
   "source": [
    "import collections\n",
    "my_list = [10,10,10,10,20,20,20,20,40,40,50,50,30]\n",
    "print(\"Original List : \",my_list)\n",
    "ctr = collections.Counter(my_list)\n",
    "print(\"Frequency of the elements in the List : \",ctr)"
   ]
  },
  {
   "cell_type": "raw",
   "metadata": {},
   "source": [
    "Generate all sublists of a list"
   ]
  },
  {
   "cell_type": "code",
   "execution_count": null,
   "metadata": {
    "collapsed": true
   },
   "outputs": [],
   "source": [
    "def sub_lists(my_list):\n",
    "    subs = [[]]\n",
    "    for i in range(len(my_list)):\n",
    "        n = i+1\n",
    "        while n <= len(my_list):\n",
    "            sub = my_list[i:n]\n",
    "            subs.append(sub)\n",
    "            n += 1\n",
    "\n",
    "    return subs\n",
    "\n",
    "l1 = [10, 20, 30, 40]\n",
    "l2 = ['X', 'Y', 'Z']\n",
    "print(sub_lists(l1))\n",
    "print(sub_lists(l2))"
   ]
  },
  {
   "cell_type": "raw",
   "metadata": {},
   "source": [
    "Write a Python program to change the position of every n-th value with the (n+1)th in a list."
   ]
  },
  {
   "cell_type": "code",
   "execution_count": null,
   "metadata": {
    "collapsed": true
   },
   "outputs": [],
   "source": [
    "from itertools import zip_longest, chain, tee\n",
    "def replace2copy(lst):\n",
    "    lst1, lst2 = tee(iter(lst), 2)\n",
    "    return list(chain.from_iterable(zip_longest(lst[1::2], lst[::2])))\n",
    "n = [0,1,2,3,4,5]\n",
    "print(replace2copy(n))"
   ]
  },
  {
   "cell_type": "raw",
   "metadata": {},
   "source": [
    "Write a Python program to split a list based on first character of word."
   ]
  },
  {
   "cell_type": "code",
   "execution_count": 9,
   "metadata": {
    "collapsed": false
   },
   "outputs": [
    {
     "name": "stdout",
     "output_type": "stream",
     "text": [
      "a\n",
      "ask\n",
      "b\n",
      "be\n",
      "c\n",
      "call\n",
      "come\n",
      "d\n",
      "do\n",
      "f\n",
      "feel\n",
      "find\n",
      "g\n",
      "get\n",
      "give\n",
      "go\n",
      "h\n",
      "have\n",
      "k\n",
      "know\n",
      "l\n",
      "leave\n",
      "look\n",
      "m\n",
      "make\n",
      "s\n",
      "say\n",
      "see\n",
      "seem\n",
      "t\n",
      "take\n",
      "tell\n",
      "think\n",
      "u\n",
      "use\n",
      "w\n",
      "want\n",
      "work\n"
     ]
    }
   ],
   "source": [
    "from itertools import groupby\n",
    "from operator import itemgetter\n",
    "\n",
    "word_list = ['be','have','do','say','get','make','go','know','take','see','come','think',\n",
    "     'look','want','give','use','find','tell','ask','work','seem','feel','leave','call']\n",
    "\n",
    "for letter, words in groupby(sorted(word_list), key=itemgetter(0)):\n",
    "    print(letter)\n",
    "    for word in words:\n",
    "        print(word)"
   ]
  },
  {
   "cell_type": "raw",
   "metadata": {},
   "source": [
    "Write a Python program to generate groups of five consecutive numbers in a list."
   ]
  },
  {
   "cell_type": "code",
   "execution_count": 10,
   "metadata": {
    "collapsed": false
   },
   "outputs": [
    {
     "name": "stdout",
     "output_type": "stream",
     "text": [
      "[[1, 2, 3, 4, 5], [6, 7, 8, 9, 10], [11, 12, 13, 14, 15], [16, 17, 18, 19, 20], [21, 22, 23, 24, 25]]\n"
     ]
    }
   ],
   "source": [
    "l = [[5*i + j for j in range(1,6)] for i in range(5)]\n",
    "print(l)"
   ]
  },
  {
   "cell_type": "raw",
   "metadata": {},
   "source": [
    "Insert an element before each element of a list"
   ]
  },
  {
   "cell_type": "code",
   "execution_count": 11,
   "metadata": {
    "collapsed": false
   },
   "outputs": [
    {
     "name": "stdout",
     "output_type": "stream",
     "text": [
      "Original List:  ['Red', 'Green', 'Black']\n",
      "Original List:  ['c', 'Red', 'c', 'Green', 'c', 'Black']\n"
     ]
    }
   ],
   "source": [
    "color = ['Red', 'Green', 'Black']\n",
    "print(\"Original List: \",color)\n",
    "color = [v for elt in color for v in ('c', elt)]\n",
    "print(\"Original List: \",color)"
   ]
  },
  {
   "cell_type": "raw",
   "metadata": {},
   "source": [
    "Compute the similarity between two lists"
   ]
  },
  {
   "cell_type": "code",
   "execution_count": null,
   "metadata": {
    "collapsed": true
   },
   "outputs": [],
   "source": [
    "from collections import Counter\n",
    "color1 = [\"red\", \"orange\", \"green\", \"blue\", \"white\"]\n",
    "color2 = [\"black\", \"yellow\", \"green\", \"blue\"]\n",
    "counter1 = Counter(color1)\n",
    "counter2 = Counter(color2)\n",
    "print(\"Color1-Color2: \",list(counter1 - counter2))\n",
    "print(\"Color2-Color1: \",list(counter2 - counter1))"
   ]
  },
  {
   "cell_type": "raw",
   "metadata": {},
   "source": [
    "Get the depth of a dictionary"
   ]
  },
  {
   "cell_type": "code",
   "execution_count": null,
   "metadata": {
    "collapsed": true
   },
   "outputs": [],
   "source": [
    "def dict_depth(d):\n",
    "    if isinstance(d, dict):\n",
    "        return 1 + (max(map(dict_depth, d.values())) if d else 0)\n",
    "    return 0\n",
    "dic = {'a':1, 'b': {'c': {'d': {}}}}\n",
    "print(dict_depth(dic))"
   ]
  },
  {
   "cell_type": "raw",
   "metadata": {},
   "source": [
    "Remove duplicates from a list of lists"
   ]
  },
  {
   "cell_type": "code",
   "execution_count": null,
   "metadata": {
    "collapsed": true
   },
   "outputs": [],
   "source": [
    "import itertools\n",
    "num = [[10, 20], [40], [30, 56, 25], [10, 20], [33], [40]]\n",
    "print(\"Original List\", num)\n",
    "num.sort()\n",
    "new_num = list(num for num,_ in itertools.groupby(num))\n",
    "print(\"New List\", new_num)"
   ]
  },
  {
   "cell_type": "raw",
   "metadata": {},
   "source": [
    "Access dictionary key’s element by index"
   ]
  },
  {
   "cell_type": "code",
   "execution_count": null,
   "metadata": {
    "collapsed": true
   },
   "outputs": [],
   "source": [
    "num = {'physics': 80, 'math': 90, 'chemistry': 86}\n",
    "print(list(num)[0])"
   ]
  },
  {
   "cell_type": "raw",
   "metadata": {},
   "source": [
    "Remove key values pairs from a list of dictionaries"
   ]
  },
  {
   "cell_type": "code",
   "execution_count": 12,
   "metadata": {
    "collapsed": false
   },
   "outputs": [
    {
     "name": "stdout",
     "output_type": "stream",
     "text": [
      "Original List: \n",
      "[{'key2': 'value2', 'key1': 'value1'}, {'key2': 'value4', 'key1': 'value3'}]\n",
      "New List: \n",
      "[{'key2': 'value2'}, {'key2': 'value4'}]\n"
     ]
    }
   ],
   "source": [
    "original_list = [{'key1':'value1', 'key2':'value2'}, {'key1':'value3', 'key2':'value4'}]\n",
    "print(\"Original List: \")\n",
    "print(original_list)\n",
    "new_list = [{k: v for k, v in d.items() if k != 'key1'} for d in original_list]\n",
    "print(\"New List: \")\n",
    "print(new_list)"
   ]
  },
  {
   "cell_type": "raw",
   "metadata": {},
   "source": [
    "Replace the last element in a list with another list"
   ]
  },
  {
   "cell_type": "code",
   "execution_count": 13,
   "metadata": {
    "collapsed": false
   },
   "outputs": [
    {
     "name": "stdout",
     "output_type": "stream",
     "text": [
      "[1, 3, 5, 7, 9, 2, 4, 6, 8]\n"
     ]
    }
   ],
   "source": [
    "num1 = [1, 3, 5, 7, 9, 10]\n",
    "num2 = [2, 4, 6, 8]\n",
    "num1[-1:] = num2\n",
    "print(num1)"
   ]
  },
  {
   "cell_type": "raw",
   "metadata": {},
   "source": [
    "Add a key to a dictionary"
   ]
  },
  {
   "cell_type": "code",
   "execution_count": null,
   "metadata": {
    "collapsed": true
   },
   "outputs": [],
   "source": [
    "d = {0:10, 1:20}\n",
    "print(d)\n",
    "d.update({2:30})\n",
    "print(d)"
   ]
  },
  {
   "cell_type": "raw",
   "metadata": {},
   "source": [
    "Concatenate following dictionaries to create a new one"
   ]
  },
  {
   "cell_type": "code",
   "execution_count": null,
   "metadata": {
    "collapsed": true
   },
   "outputs": [],
   "source": [
    "dic1={1:10, 2:20}\n",
    "dic2={3:30, 4:40}\n",
    "dic3={5:50,6:60}\n",
    "dic4 = {}\n",
    "for d in (dic1, dic2, dic3): dic4.update(d)\n",
    "print(dic4)"
   ]
  },
  {
   "cell_type": "raw",
   "metadata": {},
   "source": [
    "Check if a given key already exists in a dictionary"
   ]
  },
  {
   "cell_type": "code",
   "execution_count": null,
   "metadata": {
    "collapsed": true
   },
   "outputs": [],
   "source": [
    "d = {1: 10, 2: 20, 3: 30, 4: 40, 5: 50, 6: 60}\n",
    "def is_key_present(x):\n",
    "  if x in d:\n",
    "      print('Key is present in the dictionary')\n",
    "  else:\n",
    "      print('Key is not present in the dictionary')\n",
    "is_key_present(5)\n",
    "is_key_present(9)"
   ]
  },
  {
   "cell_type": "raw",
   "metadata": {},
   "source": [
    "Iterate over dictionaries using for loops"
   ]
  },
  {
   "cell_type": "code",
   "execution_count": null,
   "metadata": {
    "collapsed": true
   },
   "outputs": [],
   "source": [
    "d = {'x': 10, 'y': 20, 'z': 30} \n",
    "for dict_key, dict_value in d.items():\n",
    "    print(dict_key,'->',dict_value)"
   ]
  },
  {
   "cell_type": "markdown",
   "metadata": {},
   "source": [
    "Generate and print a dictionary that contains a number in the form "
   ]
  },
  {
   "cell_type": "code",
   "execution_count": 18,
   "metadata": {
    "collapsed": false
   },
   "outputs": [
    {
     "name": "stdout",
     "output_type": "stream",
     "text": [
      "2\n",
      "{0: 0, 1: 1}\n"
     ]
    }
   ],
   "source": [
    "num = int(input())\n",
    "dic = {}\n",
    "for i in range(num):\n",
    "    dic[i] = i*i\n",
    "print(dic)"
   ]
  },
  {
   "cell_type": "raw",
   "metadata": {},
   "source": [
    "Print a dictionary where the keys are numbers between 1 and 15 and the values are square of keys"
   ]
  },
  {
   "cell_type": "code",
   "execution_count": 19,
   "metadata": {
    "collapsed": false
   },
   "outputs": [
    {
     "name": "stdout",
     "output_type": "stream",
     "text": [
      "{0: 0, 1: 1, 2: 4, 3: 9, 4: 16, 5: 25, 6: 36, 7: 49, 8: 64, 9: 81, 10: 100, 11: 121, 12: 144, 13: 169, 14: 196, 15: 225}\n"
     ]
    }
   ],
   "source": [
    "for i in range(1,16):\n",
    "    dic[i] = i*i\n",
    "print(dic)"
   ]
  },
  {
   "cell_type": "raw",
   "metadata": {},
   "source": [
    "Write a Python program to remove a key from a dictionary"
   ]
  },
  {
   "cell_type": "code",
   "execution_count": 21,
   "metadata": {
    "collapsed": false
   },
   "outputs": [
    {
     "name": "stdout",
     "output_type": "stream",
     "text": [
      "{0: 0, 1: 1, 2: 4, 3: 9, 5: 25, 6: 36, 7: 49, 8: 64, 9: 81, 10: 100, 11: 121, 12: 144, 13: 169, 14: 196, 15: 225}\n"
     ]
    }
   ],
   "source": [
    "for i in range(1,4):\n",
    "    dic[i] = i*i\n",
    "del dic[4]\n",
    "print(dic)"
   ]
  },
  {
   "cell_type": "raw",
   "metadata": {},
   "source": [
    "Get the maximum and minimum value in a dictionary"
   ]
  },
  {
   "cell_type": "code",
   "execution_count": null,
   "metadata": {
    "collapsed": true
   },
   "outputs": [],
   "source": [
    "my_dict = {'x':500, 'y':5874, 'z': 560}\n",
    "\n",
    "key_max = max(my_dict.keys(), key=(lambda k: my_dict[k]))\n",
    "key_min = min(my_dict.keys(), key=(lambda k: my_dict[k]))\n",
    "\n",
    "print('Maximum Value: ',my_dict[key_max])\n",
    "print('Minimum Value: ',my_dict[key_min])"
   ]
  },
  {
   "cell_type": "raw",
   "metadata": {},
   "source": [
    " Get a dictionary from an object's fields"
   ]
  },
  {
   "cell_type": "code",
   "execution_count": null,
   "metadata": {
    "collapsed": true
   },
   "outputs": [],
   "source": [
    "class dictObj(object):\n",
    "    def __init__(self):\n",
    "        self.x = 'red'\n",
    "        self.y = 'Yellow'\n",
    "        self.z = 'Green'\n",
    "    def do_nothing(self):\n",
    "        pass\n",
    "test = dictObj()\n",
    "print(test.__dict__)"
   ]
  },
  {
   "cell_type": "raw",
   "metadata": {},
   "source": [
    "Print all unique values in a dictionary"
   ]
  },
  {
   "cell_type": "code",
   "execution_count": null,
   "metadata": {
    "collapsed": true
   },
   "outputs": [],
   "source": [
    "L = [{\"V\":\"S001\"}, {\"V\": \"S002\"}, {\"VI\": \"S001\"}, {\"VI\": \"S005\"}, {\"VII\":\"S005\"}, {\"V\":\"S009\"},{\"VIII\":\"S007\"}]\n",
    "print(\"Original List: \",L)\n",
    "u_value = set( val for dic in L for val in dic.values())\n",
    "print(\"Unique Values: \",u_value)\n"
   ]
  },
  {
   "cell_type": "raw",
   "metadata": {},
   "source": [
    "Create and display all combinations of letters, selecting each letter from a different key in a dictionary"
   ]
  },
  {
   "cell_type": "code",
   "execution_count": null,
   "metadata": {
    "collapsed": true
   },
   "outputs": [],
   "source": [
    "import itertools      \n",
    "d ={'1':['a','b'], '2':['c','d']}\n",
    "for combo in itertools.product(*[d[k] for k in sorted(d.keys())]):\n",
    "    print(''.join(combo))"
   ]
  },
  {
   "cell_type": "raw",
   "metadata": {},
   "source": [
    "Create a dictionary from a string"
   ]
  },
  {
   "cell_type": "code",
   "execution_count": null,
   "metadata": {
    "collapsed": true
   },
   "outputs": [],
   "source": [
    "from collections import defaultdict, Counter\n",
    "str1 = 'w3resource' \n",
    "my_dict = {}\n",
    "for letter in str1:\n",
    "    my_dict[letter] = my_dict.get(letter, 0) + 1\n",
    "print(my_dict)"
   ]
  },
  {
   "cell_type": "raw",
   "metadata": {},
   "source": [
    "Print a dictionary in table format"
   ]
  },
  {
   "cell_type": "code",
   "execution_count": null,
   "metadata": {
    "collapsed": true
   },
   "outputs": [],
   "source": [
    "my_dict = {'C1':[1,2,3],'C2':[5,6,7],'C3':[9,10,11]}\n",
    "for row in zip(*([key] + (value) for key, value in sorted(my_dict.items()))):\n",
    "    print(*row)"
   ]
  },
  {
   "cell_type": "raw",
   "metadata": {},
   "source": [
    "Count number of items in a dictionary value that is a list"
   ]
  },
  {
   "cell_type": "code",
   "execution_count": null,
   "metadata": {
    "collapsed": true
   },
   "outputs": [],
   "source": [
    "dict =  {'Alex': ['subj1', 'subj2', 'subj3'], 'David': ['subj1', 'subj2']}\n",
    "ctr = sum(map(len, dict.values()))\n",
    "print(ctr)"
   ]
  },
  {
   "cell_type": "raw",
   "metadata": {},
   "source": [
    "Sort Counter by value"
   ]
  },
  {
   "cell_type": "code",
   "execution_count": null,
   "metadata": {
    "collapsed": true
   },
   "outputs": [],
   "source": [
    "from collections import Counter\n",
    "x = Counter({'Math':81, 'Physics':83, 'Chemistry':87})\n",
    "print(x.most_common())"
   ]
  },
  {
   "cell_type": "raw",
   "metadata": {},
   "source": [
    "Intersection of sets"
   ]
  },
  {
   "cell_type": "code",
   "execution_count": 22,
   "metadata": {
    "collapsed": false
   },
   "outputs": [
    {
     "name": "stdout",
     "output_type": "stream",
     "text": [
      "{'blue'}\n"
     ]
    }
   ],
   "source": [
    "setx = set([\"green\", \"blue\"])\n",
    "sety = set([\"blue\", \"yellow\"])\n",
    "setz = setx & sety\n",
    "print(setz)"
   ]
  },
  {
   "cell_type": "raw",
   "metadata": {},
   "source": [
    "Union of sets"
   ]
  },
  {
   "cell_type": "code",
   "execution_count": 23,
   "metadata": {
    "collapsed": false
   },
   "outputs": [
    {
     "name": "stdout",
     "output_type": "stream",
     "text": [
      "{'green', 'blue', 'yellow'}\n"
     ]
    }
   ],
   "source": [
    "setx = set([\"green\", \"blue\"])\n",
    "sety = set([\"blue\", \"yellow\"])\n",
    "seta = setx | sety\n",
    "print(seta)"
   ]
  },
  {
   "cell_type": "raw",
   "metadata": {},
   "source": [
    "Issubset and Issuperset"
   ]
  },
  {
   "cell_type": "code",
   "execution_count": null,
   "metadata": {
    "collapsed": true
   },
   "outputs": [],
   "source": [
    "setx = set([\"apple\", \"mango\"])\n",
    "sety = set([\"mango\", \"orange\"])\n",
    "setz = set([\"mango\"])\n",
    "issubset = setx <= sety\n",
    "print(issubset)\n",
    "issuperset = setx >= sety\n",
    "print(issuperset)\n",
    "issubset = setz <= sety\n",
    "print(issubset)\n",
    "issuperset = sety >= setz\n",
    "print(issuperset)"
   ]
  },
  {
   "cell_type": "raw",
   "metadata": {},
   "source": [
    "Clear sets"
   ]
  },
  {
   "cell_type": "code",
   "execution_count": null,
   "metadata": {
    "collapsed": true
   },
   "outputs": [],
   "source": [
    "setp = set([\"Red\", \"Green\"])\n",
    "setq = setp.copy()\n",
    "print(setq)\n",
    "setq.clear()\n",
    "print(setq)"
   ]
  },
  {
   "cell_type": "raw",
   "metadata": {},
   "source": [
    "Find maximum and the minimum value in a set"
   ]
  },
  {
   "cell_type": "code",
   "execution_count": null,
   "metadata": {
    "collapsed": true
   },
   "outputs": [],
   "source": [
    "seta = set([5, 10, 3, 15, 2, 20])\n",
    "#Find maximum value\n",
    "print(max(seta))\n",
    "#Find minimum value\n",
    "print(min(seta))"
   ]
  },
  {
   "cell_type": "code",
   "execution_count": null,
   "metadata": {
    "collapsed": true
   },
   "outputs": [],
   "source": []
  }
 ],
 "metadata": {
  "anaconda-cloud": {},
  "kernelspec": {
   "display_name": "Python [default]",
   "language": "python",
   "name": "python3"
  },
  "language_info": {
   "codemirror_mode": {
    "name": "ipython",
    "version": 3
   },
   "file_extension": ".py",
   "mimetype": "text/x-python",
   "name": "python",
   "nbconvert_exporter": "python",
   "pygments_lexer": "ipython3",
   "version": "3.5.2"
  }
 },
 "nbformat": 4,
 "nbformat_minor": 1
}
