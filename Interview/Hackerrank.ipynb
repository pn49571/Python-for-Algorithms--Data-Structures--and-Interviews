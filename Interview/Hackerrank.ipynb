{
 "cells": [
  {
   "cell_type": "markdown",
   "metadata": {},
   "source": [
    "# set"
   ]
  },
  {
   "cell_type": "raw",
   "metadata": {},
   "source": [
    "Check Strict Superset\n",
    "Sample Input 0\n",
    "\n",
    "1 2 3 4 5 6 7 8 9 10 11 12 23 45 84 78\n",
    "2\n",
    "1 2 3 4 5\n",
    "100 11 12\n",
    "Sample Output 0\n",
    "\n",
    "False\n",
    "Explanation 0\n",
    "\n",
    "Set  is the strict superset of the set but not of the set because  is not in set "
   ]
  },
  {
   "cell_type": "code",
   "execution_count": null,
   "metadata": {
    "collapsed": true
   },
   "outputs": [],
   "source": [
    "A  = set(input().split())\n",
    "n = int(input())\n",
    "check = True\n",
    "for i in range(n):\n",
    "    s = set(input().split())\n",
    "    if (s&A != s) or (s == A):\n",
    "        check = False\n",
    "        break\n",
    "print(check)"
   ]
  },
  {
   "cell_type": "markdown",
   "metadata": {},
   "source": [
    "check a subset\n",
    "\n",
    "Sample Input\n",
    "\n",
    "3\n",
    "5\n",
    "1 2 3 5 6\n",
    "9\n",
    "9 8 5 6 3 2 1 4 7\n",
    "1\n",
    "2\n",
    "5\n",
    "3 6 5 4 1\n",
    "7\n",
    "1 2 3 5 6 8 9\n",
    "3\n",
    "9 8 2\n",
    "Sample Output\n",
    "\n",
    "True \n",
    "False\n",
    "False\n",
    "Explanation\n",
    "\n",
    "Test Case 01 Explanation\n",
    "\n",
    "Set A = {1 2 3 5 6} \n",
    "Set B = {9 8 5 6 3 2 1 4 7} \n",
    "All the elements of set  are elements of set . \n",
    "Hence, set A is a subset of set B."
   ]
  },
  {
   "cell_type": "code",
   "execution_count": null,
   "metadata": {
    "collapsed": true
   },
   "outputs": [],
   "source": [
    "for i in range(int(input())): #More than 4 lines will result in 0 score. Blank lines won't be counted. \n",
    "    a = int(input()); A = set(input().split()) \n",
    "    b = int(input()); B = set(input().split())\n",
    "    print((A & B) == A)"
   ]
  },
  {
   "cell_type": "markdown",
   "metadata": {},
   "source": [
    "Introduction to Sets\n",
    "https://www.hackerrank.com/challenges/py-introduction-to-sets"
   ]
  },
  {
   "cell_type": "code",
   "execution_count": null,
   "metadata": {
    "collapsed": true
   },
   "outputs": [],
   "source": [
    "n = input()\n",
    "ar = map(int,input().split(' '))\n",
    "ar=set(ar)\n",
    "print(sum(ar) / len(ar))"
   ]
  },
  {
   "cell_type": "raw",
   "metadata": {},
   "source": [
    "Symmentic diffrence\n",
    "Output the symmetric difference integers in ascending order, one per line.\n",
    "\n",
    "Sample Input\n",
    "4\n",
    "2 4 5 9\n",
    "4\n",
    "2 4 11 12\n",
    "\n",
    "Sample Output\n",
    "5\n",
    "9\n",
    "11\n",
    "12\n"
   ]
  },
  {
   "cell_type": "code",
   "execution_count": null,
   "metadata": {
    "collapsed": true
   },
   "outputs": [],
   "source": [
    "e = int(input())\n",
    "eng = set(map(int,input().split())) \n",
    "f = int(input())\n",
    "fre = set(map(int,input().split()))\n",
    "print(len(eng ^ fre))"
   ]
  },
  {
   "cell_type": "markdown",
   "metadata": {},
   "source": [
    "No idea ! \n",
    "https://www.hackerrank.com/challenges/no-idea"
   ]
  },
  {
   "cell_type": "code",
   "execution_count": null,
   "metadata": {
    "collapsed": true
   },
   "outputs": [],
   "source": [
    "from collections import Counter\n",
    "n, m = map(int,input().split())\n",
    "ar = list(map(int,input().split()))\n",
    "ar_set = set(ar)\n",
    "ar_counter = Counter(ar)\n",
    "set_a = set(map(int,input().split()))\n",
    "set_b = set(map(int,input().split()))\n",
    "intersect_ar_a = list(ar_set&set_a)\n",
    "intersect_ar_b = list(ar_set&set_b)\n",
    "result = 0\n",
    "for element in intersect_ar_a:\n",
    "    result += ar_counter[element]\n",
    "for element in intersect_ar_b:\n",
    "    result -= ar_counter[element]\n",
    "    \n",
    "print(result)"
   ]
  },
  {
   "cell_type": "markdown",
   "metadata": {},
   "source": [
    "set.add()\n",
    "\n",
    "Sample Input\n",
    "\n",
    "7\n",
    "UK\n",
    "China\n",
    "USA\n",
    "France\n",
    "New Zealand\n",
    "UK\n",
    "France \n",
    "Sample Output\n",
    "\n",
    "5\n",
    "Explanation\n",
    "\n",
    "UK and France repeat twice. Hence, the total number of distinct country stamps is  (five)."
   ]
  },
  {
   "cell_type": "code",
   "execution_count": null,
   "metadata": {
    "collapsed": true
   },
   "outputs": [],
   "source": [
    "n = int(input())\n",
    "country_set = set()\n",
    "for i in range(n):\n",
    "    country_name = input()\n",
    "    country_set.add(country_name)\n",
    "print(len(country_set))"
   ]
  },
  {
   "cell_type": "markdown",
   "metadata": {},
   "source": [
    "Set .discard(), .remove() & .pop()\n",
    "https://www.hackerrank.com/challenges/py-set-discard-remove-pop"
   ]
  },
  {
   "cell_type": "code",
   "execution_count": null,
   "metadata": {
    "collapsed": true
   },
   "outputs": [],
   "source": [
    "n = int(input())\n",
    "s = set(map(int, input().split())) \n",
    "n = int(input())\n",
    "for i in range(n):\n",
    "    cmd = list(input().split(' '))\n",
    "    if (len(cmd) == 1):\n",
    "        s.pop()\n",
    "    else:\n",
    "        value = int(cmd[1])\n",
    "        s.discard(value)\n",
    "print(sum(s))"
   ]
  },
  {
   "cell_type": "markdown",
   "metadata": {},
   "source": [
    "Set .union() Operation\n",
    "https://www.hackerrank.com/challenges/py-set-union"
   ]
  },
  {
   "cell_type": "code",
   "execution_count": null,
   "metadata": {
    "collapsed": true
   },
   "outputs": [],
   "source": [
    "n = input()\n",
    "eng = set(map(int,input().split()))\n",
    "b = input()\n",
    "fre = set(map(int,input().split()))\n",
    "print(len(eng.union(fre)))"
   ]
  },
  {
   "cell_type": "markdown",
   "metadata": {},
   "source": [
    "set.intersection()\n",
    "Output the total number of students who have subscriptions to both English and French newspapers.\n",
    "\n",
    "Sample Input\n",
    "\n",
    "9\n",
    "1 2 3 4 5 6 7 8 9\n",
    "9\n",
    "10 1 2 3 11 21 55 6 8\n",
    "Sample Output\n",
    "\n",
    "5\n",
    "Explanation"
   ]
  },
  {
   "cell_type": "code",
   "execution_count": null,
   "metadata": {
    "collapsed": true
   },
   "outputs": [],
   "source": [
    "e = int(input())\n",
    "eng = set(map(int,input().split()))\n",
    "f = int(input())\n",
    "fre = set(map(int,input().split()))\n",
    "print(len(eng & fre))"
   ]
  },
  {
   "cell_type": "markdown",
   "metadata": {},
   "source": [
    "Set Mutations\n",
    "\n",
    "https://www.hackerrank.com/challenges/py-set-mutations"
   ]
  },
  {
   "cell_type": "code",
   "execution_count": null,
   "metadata": {
    "collapsed": true
   },
   "outputs": [],
   "source": [
    "n = int(input())\n",
    "a = set(map(int,input().split()))\n",
    "N = int(input())\n",
    "for i in range(N):\n",
    "    cmd = input().split()\n",
    "    opt = cmd[0]\n",
    "    s = set(map(int,input().split()))\n",
    "    if (opt == 'update'):\n",
    "        a |= s\n",
    "    elif (opt == 'intersection_update'):\n",
    "        a &= s\n",
    "    elif (opt == 'difference_update'):\n",
    "        a -= s\n",
    "    elif (opt == 'symmetric_difference_update'):\n",
    "        a ^= s\n",
    "print(sum(a))"
   ]
  },
  {
   "cell_type": "markdown",
   "metadata": {},
   "source": [
    "The captains room\n",
    "https://www.hackerrank.com/challenges/py-the-captains-room"
   ]
  },
  {
   "cell_type": "code",
   "execution_count": 5,
   "metadata": {
    "collapsed": false
   },
   "outputs": [
    {
     "name": "stdout",
     "output_type": "stream",
     "text": [
      "145 113\n",
      "32\n",
      "{1, 2, 3, 4, 5, 6, 8} 4\n",
      "{1, 2, 3, 4, 5, 6, 8} 8\n",
      "{1, 2, 3, 4, 5, 6, 8} 12\n",
      "{1, 2, 3, 4, 5, 6, 8} 16\n",
      "{1, 2, 3, 4, 5, 6, 8} 20\n",
      "{1, 2, 3, 4, 5, 6, 8} 24\n",
      "{1, 2, 3, 4, 5, 6, 8} 32\n",
      "8\n"
     ]
    }
   ],
   "source": [
    "k = 5\n",
    "room_number_list = [1, 2, 3, 6, 5, 4, 4, 2, 5, 3, 6, 1,6, 5, 3, 2, 4, 1,2, 5, 1, 4, 3, 6, 8, 4, 3, 1, 5, 6, 2 ]\n",
    "room_number_set = set(room_number_list)\n",
    "room_number_list_sum = sum(room_number_list)\n",
    "room_number_set_sum = sum(room_number_set) * k\n",
    "print(room_number_set_sum,room_number_list_sum)\n",
    "diff = room_number_set_sum - room_number_list_sum\n",
    "print(diff)\n",
    "for i in room_number_set:\n",
    "    print(room_number_set,(k-1)*i)\n",
    "    if diff == ((k-1)*i):\n",
    "        print(i)\n",
    "        break"
   ]
  },
  {
   "cell_type": "markdown",
   "metadata": {},
   "source": [
    "# XML"
   ]
  },
  {
   "cell_type": "markdown",
   "metadata": {},
   "source": [
    "XML 1 - Find the Score\n",
    "\n",
    "Sample Input\n",
    "6\n",
    "<feed xml:lang='en'>\n",
    "    <title>HackerRank</title>\n",
    "    <subtitle lang='en'>Programming challenges</subtitle>\n",
    "    <link rel='alternate' type='text/html' href='http://hackerrank.com/'/>\n",
    "    <updated>2013-12-25T12:00:00</updated>\n",
    "</feed>\n",
    "\n",
    "Sample Output\n",
    "5"
   ]
  },
  {
   "cell_type": "code",
   "execution_count": null,
   "metadata": {
    "collapsed": true
   },
   "outputs": [],
   "source": [
    "xml_str=\"\"\n",
    "n=int(raw_input())\n",
    "for i in range(0,n):\n",
    "    tmp_str=raw_input()\n",
    "    xml_str=xml_str+tmp_str\n",
    "    \n",
    "cnt=xml_str.count(\"='\")\n",
    "print cnt"
   ]
  },
  {
   "cell_type": "markdown",
   "metadata": {},
   "source": [
    "XML2 - Find the Maximum Depth\n",
    "https://www.hackerrank.com/challenges/xml2-find-the-maximum-depth"
   ]
  },
  {
   "cell_type": "code",
   "execution_count": null,
   "metadata": {
    "collapsed": true
   },
   "outputs": [],
   "source": [
    "xml_str=\"\"\n",
    "n=int(raw_input())\n",
    "for i in range(0,n):\n",
    "    tmp_str=raw_input()\n",
    "    xml_str=xml_str+tmp_str\n",
    "    \n",
    "import xml.etree.ElementTree as etree\n",
    "tree = etree.ElementTree(etree.fromstring(xml_str))\n",
    "root=tree.getroot()\n",
    "ar=[]\n",
    "def cnt_node(node):\n",
    "    return max( [0] + [cnt_node(child)+1 for child in node])\n",
    "cnt=cnt_node(root)\n",
    "print cnt"
   ]
  },
  {
   "cell_type": "markdown",
   "metadata": {},
   "source": [
    "Introduction to Regex Module\n",
    "https://www.hackerrank.com/challenges/introduction-to-regex\n"
   ]
  },
  {
   "cell_type": "markdown",
   "metadata": {},
   "source": [
    "# Regex"
   ]
  },
  {
   "cell_type": "code",
   "execution_count": null,
   "metadata": {
    "collapsed": true
   },
   "outputs": [],
   "source": [
    "import re\n",
    "n = int(input())\n",
    "for i in range(n):\n",
    "    s = input()    \n",
    "    search_result = re.search(r'^[+-]?\\d*\\.\\d+$',s)\n",
    "    print(bool(search_result))"
   ]
  },
  {
   "cell_type": "markdown",
   "metadata": {},
   "source": [
    "re.split()\n",
    "\n",
    "Sample Input\n",
    "\n",
    "100,000,000.000\n",
    "Sample Output\n",
    "\n",
    "100\n",
    "000\n",
    "000\n",
    "000"
   ]
  },
  {
   "cell_type": "code",
   "execution_count": null,
   "metadata": {
    "collapsed": true
   },
   "outputs": [],
   "source": [
    "import re;[print(i) for i in re.split(\"[,\\.]?\",input().strip()) if i]"
   ]
  },
  {
   "cell_type": "markdown",
   "metadata": {},
   "source": [
    "Group(), Groups() & Groupdict()\n",
    "\n",
    "Sample Input\n",
    "\n",
    "..12345678910111213141516171820212223\n",
    "Sample Output\n",
    "\n",
    "1"
   ]
  },
  {
   "cell_type": "code",
   "execution_count": null,
   "metadata": {
    "collapsed": true
   },
   "outputs": [],
   "source": [
    "import re\n",
    "s = input()\n",
    "res = re.search(r'([A-Za-z0-9])\\1',s)\n",
    "if res == None:\n",
    "    print(-1)\n",
    "else:\n",
    "    print(res.group(1))"
   ]
  },
  {
   "cell_type": "markdown",
   "metadata": {},
   "source": [
    "Re.findall() & Re.finditer()\n",
    "Sample Input\n",
    "\n",
    "rabcdeefgyYhFjkIoomnpOeorteeeeet\n",
    "Sample Output\n",
    "\n",
    "ee\n",
    "Ioo\n",
    "Oeo\n",
    "eeeee"
   ]
  },
  {
   "cell_type": "code",
   "execution_count": null,
   "metadata": {
    "collapsed": true
   },
   "outputs": [],
   "source": [
    "import re\n",
    "s = input()\n",
    "result = re.findall(r'(?<=[QWRTYPSDFGHJKLZXCVBNMqwrtypsdfghjklzxcvbnm])([AEIOUaeiou]{2,})(?=[QWRTYPSDFGHJKLZXCVBNMqwrtypsdfghjklzxcvbnm])',s)\n",
    "if result:\n",
    "    for i in result:\n",
    "        print(i)\n",
    "else:\n",
    "    print(-1)"
   ]
  },
  {
   "cell_type": "raw",
   "metadata": {},
   "source": [
    "Re.start() & Re.end()\n",
    "\n",
    "Sample Input\n",
    "\n",
    "aaadaa\n",
    "aa\n",
    "\n",
    "Sample Output\n",
    "(0, 1)  \n",
    "(1, 2)\n",
    "(4, 5)"
   ]
  },
  {
   "cell_type": "code",
   "execution_count": null,
   "metadata": {
    "collapsed": true
   },
   "outputs": [],
   "source": [
    "import re\n",
    "s = input().strip()\n",
    "k = input().strip()\n",
    "s_len = len(s)\n",
    "found_flag = False\n",
    "for i in range(s_len):\n",
    "    match_result = re.match(k,s[i:])\n",
    "    if match_result:\n",
    "        start_index = i+match_result.start()\n",
    "        end_index = i+match_result.end()-1\n",
    "        print((start_index,end_index))\n",
    "        found_flag = True\n",
    "if found_flag == False:\n",
    "    print('(-1, -1)')"
   ]
  },
  {
   "cell_type": "markdown",
   "metadata": {},
   "source": [
    "Regex Substitution\n",
    "Sample Input\n",
    "\n",
    "11\n",
    "a = 1;\n",
    "b = input();\n",
    "\n",
    "if a + b > 0 && a - b < 0:\n",
    "    start()\n",
    "elif a*b > 10 || a/b < 1:\n",
    "    stop()\n",
    "print set(list(a)) | set(list(b)) \n",
    "#Note do not change &&& or ||| or & or |\n",
    "#Only change those '&&' which have space on both sides.\n",
    "#Only change those '|| which have space on both sides.\n",
    "Sample Output\n",
    "\n",
    "a = 1;\n",
    "b = input();\n",
    "\n",
    "if a + b > 0 and a - b < 0:\n",
    "    start()\n",
    "elif a*b > 10 or a/b < 1:\n",
    "    stop()\n",
    "print set(list(a)) | set(list(b)) \n",
    "#Note do not change &&& or ||| or & or |\n",
    "#Only change those '&&' which have space on both sides.\n",
    "#Only change those '|| which have space on both sides.   \n"
   ]
  },
  {
   "cell_type": "code",
   "execution_count": null,
   "metadata": {
    "collapsed": true
   },
   "outputs": [],
   "source": [
    "import re, sys\n",
    "n = int(input())\n",
    "for line in sys.stdin:\n",
    "    remove_and = re.sub(r'(?<= )(&&)(?= )',\"and\",line)\n",
    "    remove_or = re.sub(r'(?<= )(\\|\\|)(?= )',\"or\",remove_and)\n",
    "    print(remove_or,end='')"
   ]
  },
  {
   "cell_type": "markdown",
   "metadata": {},
   "source": [
    "Validating Roman Numerals\n",
    "\n",
    "Input Format\n",
    "\n",
    "A single line of input containing a string of Roman characters.\n",
    "\n",
    "Output Format\n",
    "\n",
    "Output a single line containing True or False according to the instructions above."
   ]
  },
  {
   "cell_type": "code",
   "execution_count": null,
   "metadata": {
    "collapsed": true
   },
   "outputs": [],
   "source": [
    "import re\n",
    "def my_func(s):\n",
    "    s = s.upper()\n",
    "    res=re.search(r'^M{0,4}(CM|CD|D?C{0,3})(XC|XL|L?X{0,3})(IX|IV|V?I{0,3})$',s)\n",
    "    if(s==\"MMMM\"):\n",
    "        print \"False\"\n",
    "    else:\n",
    "        if res:\n",
    "            print \"True\"\n",
    "        else:\n",
    "            print \"False\"\n",
    "my_func(raw_input())"
   ]
  },
  {
   "cell_type": "raw",
   "metadata": {},
   "source": [
    "Validating phone numbers\n",
    "\n",
    "For every string listed, print \"YES\" if it is a valid mobile number and \"NO\" if it is not on separate lines. Do not print the quotes.\n",
    "\n",
    "Sample Input\n",
    "\n",
    "2\n",
    "9587456281\n",
    "1252478965\n",
    "Sample Output\n",
    "\n",
    "YES\n",
    "NO"
   ]
  },
  {
   "cell_type": "code",
   "execution_count": null,
   "metadata": {
    "collapsed": true
   },
   "outputs": [],
   "source": [
    "n=int(raw_input())\n",
    "for i in range(0,n):\n",
    "    tmp_str=raw_input()\n",
    "    len_tmp_str=len(tmp_str)\n",
    "    if(len_tmp_str!=10):\n",
    "        ##print \"LENGTH PROBLEM\"\n",
    "        print \"NO\"\n",
    "    elif(tmp_str[0]!=\"7\" and tmp_str[0]!=\"8\" and tmp_str[0]!=\"9\"):\n",
    "        ##print \"START PROBLEM\"        \n",
    "        print \"NO\"\n",
    "    else:\n",
    "        check=1\n",
    "        for i in tmp_str:\n",
    "            if(i>=\"0\" and i<=\"9\"):\n",
    "                continue\n",
    "            else:\n",
    "                check=0\n",
    "                break\n",
    "        if(check==1):\n",
    "            print \"YES\"\n",
    "        else:\n",
    "            ##print \"NUMBER PROBLEM\"            \n",
    "            print \"NO\""
   ]
  },
  {
   "cell_type": "code",
   "execution_count": null,
   "metadata": {
    "collapsed": true
   },
   "outputs": [],
   "source": [
    "Validating email address"
   ]
  },
  {
   "cell_type": "code",
   "execution_count": 10,
   "metadata": {
    "collapsed": false
   },
   "outputs": [
    {
     "name": "stdout",
     "output_type": "stream",
     "text": [
      "DEXTER <dexter@hotmail.com>\n",
      "DEXTER <dexter@hotmail.com>\n"
     ]
    }
   ],
   "source": [
    "import re, email.utils\n",
    "n = 1\n",
    "for t in range(n):\n",
    "    s = input()\n",
    "    x,y = s.split(' ')\n",
    "    match_result = re.match(r'(^<[A-Za-z0-9\\._-]+)@([A-Za-z]+)\\.([A-Za-z]{1,3})>$',y)\n",
    "    if match_result:\n",
    "        print(x,y)"
   ]
  },
  {
   "cell_type": "markdown",
   "metadata": {},
   "source": [
    "Hex Color Code\n",
    "\n",
    "Sample Input\n",
    "\n",
    "11\n",
    "#BED\n",
    "{\n",
    "    color: #FfFdF8; background-color:#aef;\n",
    "    font-size: 123px;\n",
    "    background: -webkit-linear-gradient(top, #f9f9f9, #fff);\n",
    "}\n",
    "#Cab\n",
    "{\n",
    "    background-color: #ABC;\n",
    "    border: 2px dashed #fff;\n",
    "}   \n",
    "Sample Output\n",
    "\n",
    "#FfFdF8\n",
    "#aef\n",
    "#f9f9f9\n",
    "#fff\n",
    "#ABC\n",
    "#fff"
   ]
  },
  {
   "cell_type": "code",
   "execution_count": null,
   "metadata": {
    "collapsed": true
   },
   "outputs": [],
   "source": [
    "import re\n",
    "n = int(input())\n",
    "for t in range(n):\n",
    "    s = input()\n",
    "    match_result = re.findall(r'(#[0-9A-Fa-f]{3}|#[0-9A-Fa-f]{6})(?:[;,.)]{1})',s)\n",
    "    for i in match_result:\n",
    "        if i != '':\n",
    "            print(i)"
   ]
  },
  {
   "cell_type": "markdown",
   "metadata": {},
   "source": [
    "HTML parser\n",
    "\n",
    "Code\n",
    "\n",
    "from HTMLParser import HTMLParser\n",
    "\n",
    "# create a subclass and override the handler methods\n",
    "class MyHTMLParser(HTMLParser):\n",
    "    def handle_starttag(self, tag, attrs):\n",
    "        print \"Found a start tag  :\", tag\n",
    "    def handle_endtag(self, tag):\n",
    "        print \"Found an end tag   :\", tag\n",
    "    def handle_startendtag(self, tag, attrs):\n",
    "        print \"Found an empty tag :\", tag\n",
    "\n",
    "# instantiate the parser and fed it some HTML\n",
    "parser = MyHTMLParser()\n",
    "parser.feed(\"<html><head><title>HTML Parser - I</title></head>\"\n",
    "            +\"<body><h1>HackerRank</h1><br /></body></html>\")\n",
    "Output\n",
    "\n",
    "Found a start tag  : html\n",
    "Found a start tag  : head\n",
    "Found a start tag  : title\n",
    "Found an end tag   : title\n",
    "Found an end tag   : head\n",
    "Found a start tag  : body\n",
    "Found a start tag  : h1\n",
    "Found an end tag   : h1\n",
    "Found an empty tag : br\n",
    "Found an end tag   : body\n",
    "Found an end tag   : html"
   ]
  },
  {
   "cell_type": "code",
   "execution_count": null,
   "metadata": {
    "collapsed": true
   },
   "outputs": [],
   "source": [
    "from HTMLParser import HTMLParser\n",
    "import re\n",
    "class MyHTMLParser(HTMLParser):\n",
    "    def handle_starttag(self, tag, attrs):\n",
    "        print \"Start :\", tag\n",
    "        for attr in attrs:\n",
    "            print \"->\", attr[0], \">\", attr[1]\n",
    "    def handle_endtag(self, tag):\n",
    "        print \"End   :\", tag\n",
    "    def handle_startendtag(self, tag, attrs):\n",
    "        print \"Empty :\", tag\n",
    "        for attr in attrs:\n",
    "            print \"->\", attr[0], \">\", attr[1]\n",
    "parser = MyHTMLParser()\n",
    "texts = str()\n",
    "for _ in range(int(raw_input().strip())):\n",
    "    texts += raw_input()\n",
    "texts = re.sub(r\"\\<\\!--.*?--\\>\", \"\", texts)\n",
    "parser.feed(texts)"
   ]
  },
  {
   "cell_type": "markdown",
   "metadata": {},
   "source": [
    "Input Format\n",
    "\n",
    "The first line contains integer , the number of lines in the HTML code snippet.\n",
    "The next  lines contains HTML code.\n",
    "\n",
    "Constraints\n",
    "\n",
    "\n",
    "Output Format\n",
    "\n",
    "Print the single-line comments, multi-line comments and the data in order of their occurrence from top to bottom in the snippet.\n",
    "\n",
    "Format the answers as explained in the problem statement.\n",
    "\n",
    "Sample Input\n",
    "\n",
    "4\n",
    "<!--[if IE 9]>IE9-specific content\n",
    "<![endif]-->\n",
    "<div> Welcome to HackerRank</div>\n",
    "<!--[if IE 9]>IE9-specific content<![endif]-->\n",
    "Sample Output\n",
    "\n",
    ">>> Multi-line Comment\n",
    "[if IE 9]>IE9-specific content\n",
    "<![endif]\n",
    ">>> Data\n",
    " Welcome to HackerRank\n",
    ">>> Single-line Comment\n",
    "[if IE 9]>IE9-specific content<![endif]"
   ]
  },
  {
   "cell_type": "code",
   "execution_count": null,
   "metadata": {
    "collapsed": true
   },
   "outputs": [],
   "source": [
    "from html.parser import HTMLParser\n",
    "\n",
    "class MyHTMLParser(HTMLParser):\n",
    "    def handle_comment(self, data):\n",
    "        if '\\n' in data:\n",
    "            print('>>> Multi-line Comment')\n",
    "        else:\n",
    "            print('>>> Single-line Comment')\n",
    "        print(data)\n",
    "    \n",
    "    def handle_data(self, data):\n",
    "        if data != '\\n':\n",
    "            print('>>>Data')\n",
    "            print(data)\n",
    "  \n",
    "html = \"\"       \n",
    "for i in range(int(input())):\n",
    "    html += input().rstrip()\n",
    "    html += '\\n'\n",
    "    \n",
    "parser = MyHTMLParser()\n",
    "parser.feed(html)\n",
    "parser.close()"
   ]
  },
  {
   "cell_type": "raw",
   "metadata": {},
   "source": [
    "Detect HTML Tags, Attributes and Attribute Values\n",
    "Sample Input\n",
    "\n",
    "9\n",
    "<head>\n",
    "<title>HTML</title>\n",
    "</head>\n",
    "<object type=\"application/x-flash\" \n",
    "  data=\"your-file.swf\" \n",
    "  width=\"0\" height=\"0\">\n",
    "  <!-- <param name=\"movie\" value=\"your-file.swf\" /> -->\n",
    "  <param name=\"quality\" value=\"high\"/>\n",
    "</object>\n",
    "Sample Output\n",
    "\n",
    "head\n",
    "title\n",
    "object\n",
    "-> type > application/x-flash\n",
    "-> data > your-file.swf\n",
    "-> width > 0\n",
    "-> height > 0\n",
    "param\n",
    "-> name > quality\n",
    "-> value > high\n",
    "Explanation\n",
    "\n",
    "head tag: Print the head tag only because it has no attribute.\n",
    "\n",
    "title tag: Print the title tag only because it has no attribute.\n",
    "\n",
    "object tag: Print the object tag. In the next  lines, print the attributes type, data, width and                     height along with their respective values.\n",
    "\n",
    "<!-- Comment --> tag: Don't detect anything inside it.\n",
    "\n",
    "param tag: Print the param tag. In the next  lines, print the attributes name along with                     their respective values.\n"
   ]
  },
  {
   "cell_type": "code",
   "execution_count": null,
   "metadata": {
    "collapsed": true
   },
   "outputs": [],
   "source": [
    "from html.parser import HTMLParser\n",
    "\n",
    "class CustomHTMLParser(HTMLParser):\n",
    "    def handle_starttag(self,tag,attrs):\n",
    "        print(tag)\n",
    "        self.handle_attrs(attrs)\n",
    "    def handle_startendtag(self,tag,attrs):\n",
    "        print(tag)\n",
    "        self.handle_attrs(attrs)\n",
    "    def handle_attrs(self,attrs):\n",
    "        for attrs_pair in attrs:\n",
    "            print('->',attrs_pair[0].strip(),'>',attrs_pair[1].strip())        \n",
    "\n",
    "n = int(input())\n",
    "html_string = ''\n",
    "for i in range(n):\n",
    "    html_string += input()\n",
    "    \n",
    "customHTMLParser = CustomHTMLParser()\n",
    "customHTMLParser.feed(html_string)\n",
    "customHTMLParser.close()"
   ]
  },
  {
   "cell_type": "markdown",
   "metadata": {},
   "source": [
    "Compare triplets\n",
    "\n",
    "Sample Input\n",
    "5 6 7\n",
    "3 6 10\n",
    "\n",
    "Sample Output\n",
    "1 1 \n",
    "\n",
    "https://www.hackerrank.com/challenges/compare-the-triplets/problem "
   ]
  },
  {
   "cell_type": "code",
   "execution_count": null,
   "metadata": {
    "collapsed": true
   },
   "outputs": [],
   "source": [
    "def solve(a0, a1, a2, b0, b1, b2):\n",
    "    # Complete this function\n",
    "    a = (1 if a0 > b0 else 0) + (1 if a1 > b1 else 0) + (1 if a2 > b2 else 0)\n",
    "    b = (1 if a0 < b0 else 0) + (1 if a1 < b1 else 0) + (1 if a2 < b2 else 0)\n",
    "    return (a,b)"
   ]
  },
  {
   "cell_type": "markdown",
   "metadata": {},
   "source": [
    "A Very Big Sum\n",
    "\n",
    "Sample Input\n",
    "\n",
    "5\n",
    "1000000001 1000000002 1000000003 1000000004 1000000005\n",
    "Output\n",
    "\n",
    "5000000015"
   ]
  },
  {
   "cell_type": "code",
   "execution_count": null,
   "metadata": {
    "collapsed": true
   },
   "outputs": [],
   "source": [
    "from functools import reduce\n",
    "\n",
    "def aVeryBigSum(n, ar):\n",
    "    # Complete this function\n",
    "    return (reduce((lambda x, y: x + y ), ar))\n"
   ]
  },
  {
   "cell_type": "markdown",
   "metadata": {},
   "source": [
    "Diagonal Diffrence\n",
    "\n",
    "Sample Input\n",
    "\n",
    "3\n",
    "11 2 4\n",
    "4 5 6\n",
    "10 8 -12\n",
    "Sample Output\n",
    "\n",
    "15\n",
    "Explanation\n",
    "\n",
    "The primary diagonal is:\n",
    "\n",
    "11\n",
    "   5\n",
    "     -12\n",
    "Sum across the primary diagonal: 11 + 5 - 12 = 4\n",
    "\n",
    "The secondary diagonal is:\n",
    "\n",
    "     4\n",
    "   5\n",
    "10\n",
    "Sum across the secondary diagonal: 4 + 5 + 10 = 19 \n",
    "Difference: |4 - 19| = 15"
   ]
  },
  {
   "cell_type": "code",
   "execution_count": null,
   "metadata": {
    "collapsed": true
   },
   "outputs": [],
   "source": [
    "n = int(input())\n",
    "diagonal1, diagonal2 = 0, 0\n",
    "for i in range(n):\n",
    "    row = input().split()\n",
    "    diagonal1 += int(row[i])\n",
    "    diagonal2 += int(row[n-1-i])\n",
    "print(abs(diagonal1-diagonal2))"
   ]
  },
  {
   "cell_type": "markdown",
   "metadata": {},
   "source": [
    "Plus Minus\n",
    "\n",
    "https://www.hackerrank.com/challenges/plus-minus/problem"
   ]
  },
  {
   "cell_type": "code",
   "execution_count": null,
   "metadata": {
    "collapsed": true
   },
   "outputs": [],
   "source": [
    "n = float(input())\n",
    "lst = [int(x) for x in input().split()]\n",
    "print format(len([x for x in lst if x > 0])/n, \".6f\")\n",
    "print format(len([x for x in lst if x < 0])/n, \".6f\")\n",
    "print format(len([x for x in lst if x == 0])/n, \".6f\")"
   ]
  },
  {
   "cell_type": "markdown",
   "metadata": {},
   "source": [
    "Stair case:\n",
    "    \n",
    "Input Format\n",
    "\n",
    "A single integer, , denoting the size of the staircase.\n",
    "\n",
    "Output Format\n",
    "\n",
    "Print a staircase of size  using # symbols and spaces.\n",
    "\n",
    "Note: The last line must have  spaces in it.\n",
    "\n",
    "Sample Input\n",
    "\n",
    "6 \n",
    "Sample Output\n",
    "\n",
    "     #\n",
    "    ##\n",
    "   ###\n",
    "  ####\n",
    " #####\n",
    "######"
   ]
  },
  {
   "cell_type": "code",
   "execution_count": null,
   "metadata": {
    "collapsed": true
   },
   "outputs": [],
   "source": [
    "n = int(input())\n",
    "for i in range(1,n+1):\n",
    "    print(('#'*i).rjust(n,' '))"
   ]
  },
  {
   "cell_type": "markdown",
   "metadata": {},
   "source": [
    "Min-Max sum list\n",
    "\n",
    "Sample Input\n",
    "1 2 3 4 5\n",
    "\n",
    "Sample Output\n",
    "10 14\n"
   ]
  },
  {
   "cell_type": "code",
   "execution_count": null,
   "metadata": {
    "collapsed": true
   },
   "outputs": [],
   "source": [
    "lst = map(int,input().strip().split(' '))\n",
    "x = sum(lst)\n",
    "print (x-(max(lst))), (x-(min(lst)))"
   ]
  },
  {
   "cell_type": "markdown",
   "metadata": {},
   "source": [
    "Birthday Cake Candles : Blow the tallest candles\n",
    "\n",
    "https://www.hackerrank.com/challenges/birthday-cake-candles"
   ]
  },
  {
   "cell_type": "code",
   "execution_count": null,
   "metadata": {
    "collapsed": true
   },
   "outputs": [],
   "source": [
    "n = int(input().strip())\n",
    "height = [int(height_temp) for height_temp in input().strip().split(' ')]\n",
    "\n",
    "print(height.count(max(height)))"
   ]
  },
  {
   "cell_type": "markdown",
   "metadata": {},
   "source": [
    "Time Conversion\n",
    "\n",
    "Sample Input\n",
    "07:05:45PM\n",
    "\n",
    "Sample Output\n",
    "19:05:45"
   ]
  },
  {
   "cell_type": "code",
   "execution_count": null,
   "metadata": {
    "collapsed": true
   },
   "outputs": [],
   "source": [
    "from time import strptime, strftime\n",
    "print strftime(\"%H:%M:%S\", strptime(input(), \"%I:%M:%S%p\"))"
   ]
  },
  {
   "cell_type": "markdown",
   "metadata": {},
   "source": [
    "Grading Students\n",
    "https://www.hackerrank.com/challenges/grading/problem"
   ]
  },
  {
   "cell_type": "code",
   "execution_count": null,
   "metadata": {
    "collapsed": true
   },
   "outputs": [],
   "source": [
    "grades = [int(input()) for __ in range(int(input()))]\n",
    "[print(g+5 - g%5 if g%5 > 2 and g>37 else g) for g in grades]"
   ]
  },
  {
   "cell_type": "markdown",
   "metadata": {},
   "source": [
    "Anagram Solution\n",
    "Problem\n",
    "Given two strings, check to see if they are anagrams. An anagram is when the two strings can be written using the exact same letters (so you can just rearrange the letters to get a different phrase or word).\n",
    "For example:\n",
    "\"public relations\" is an anagram of \"crap built on lies.\"\n",
    "\n",
    "\"clint eastwood\" is an anagram of \"old west action\"\n",
    "\n",
    "Note: Ignore spaces and capitalization. So \"d go\" is an anagram of \"God\" and \"dog\" and \"o d g\"."
   ]
  },
  {
   "cell_type": "code",
   "execution_count": null,
   "metadata": {
    "collapsed": true
   },
   "outputs": [],
   "source": [
    "def anagram(s1,s2):\n",
    "    \n",
    "    # Remove spaces and lowercase letters\n",
    "    s1 = s1.replace(' ','').lower()\n",
    "    s2 = s2.replace(' ','').lower()\n",
    "    \n",
    "    # Return boolean for sorted match.\n",
    "    return sorted(s1) == sorted(s2)"
   ]
  },
  {
   "cell_type": "code",
   "execution_count": null,
   "metadata": {
    "collapsed": true
   },
   "outputs": [],
   "source": [
    "def anagram2(s1,s2):\n",
    "    \n",
    "    # Remove spaces and lowercase letters\n",
    "    s1 = s1.replace(' ','').lower()\n",
    "    s2 = s2.replace(' ','').lower()\n",
    "    \n",
    "    # Edge Case to check if same number of letters\n",
    "    if len(s1) != len(s2):\n",
    "        return False\n",
    "    \n",
    "    # Create counting dictionary (Note could use DefaultDict from Collections module)\n",
    "    count = {}\n",
    "    \n",
    "    \n",
    "        \n",
    "    # Fill dictionary for first string (add counts)\n",
    "    for letter in s1:\n",
    "        if letter in count:\n",
    "            count[letter] += 1\n",
    "        else:\n",
    "            count[letter] = 1\n",
    "            \n",
    "    # Fill dictionary for second string (subtract counts)\n",
    "    for letter in s2:\n",
    "        if letter in count:\n",
    "            count[letter] -= 1\n",
    "        else:\n",
    "            count[letter] = 1\n",
    "    \n",
    "    # Check that all counts are 0\n",
    "    for k in count:\n",
    "        if count[k] != 0:\n",
    "            return False\n",
    "\n",
    "    # Otherwise they're anagrams\n",
    "    return True"
   ]
  },
  {
   "cell_type": "markdown",
   "metadata": {},
   "source": [
    "Array Pair Sum\n",
    "Problem\n",
    "Given an integer array, output all the unique pairs that sum up to a specific value k.\n",
    "So the input:\n",
    "pair_sum([1,3,2,2],4)\n",
    "\n",
    "would return 2 pairs:\n",
    " (1,3)\n",
    " (2,2)\n",
    "\n",
    "NOTE: FOR TESTING PURPOSES< CHANGE YOUR FUNCTION SO IT OUTPUTS THE NUMBER OF PAIRS"
   ]
  },
  {
   "cell_type": "code",
   "execution_count": null,
   "metadata": {
    "collapsed": true
   },
   "outputs": [],
   "source": [
    "def pair_sum(arr,k):\n",
    "    \n",
    "    if len(arr)<2:\n",
    "        return\n",
    "    \n",
    "    # Sets for tracking\n",
    "    seen = set()\n",
    "    output = set()\n",
    "    \n",
    "    # For every number in array\n",
    "    for num in arr:\n",
    "        \n",
    "        # Set target difference\n",
    "        target = k-num\n",
    "        \n",
    "        # Add it to set if target hasn't been seen\n",
    "        if target not in seen:\n",
    "            seen.add(num)\n",
    "        \n",
    "        else:\n",
    "            # Add a tuple with the corresponding pair\n",
    "            output.add( (min(num,target),  max(num,target)) )\n",
    "    \n",
    "    \n",
    "    # FOR TESTING\n",
    "    return len(output)\n",
    "    # Nice one-liner for printing output\n",
    "    #return '\\n'.join(map(str,list(output)))"
   ]
  },
  {
   "cell_type": "markdown",
   "metadata": {},
   "source": [
    "Find the Missing Element¶\n",
    "Problem\n",
    "Consider an array of non-negative integers. A second array is formed by shuffling the elements of the first array and deleting a random element. Given these two arrays, find which element is missing in the second array.\n",
    "Here is an example input, the first array is shuffled and the number 5 is removed to construct the second array.\n",
    "Input:\n",
    "finder([1,2,3,4,5,6,7],[3,7,2,1,4,6])\n",
    "\n",
    "Output:\n",
    "5 is the missing number\n"
   ]
  },
  {
   "cell_type": "code",
   "execution_count": null,
   "metadata": {
    "collapsed": true
   },
   "outputs": [],
   "source": [
    "import collections\n",
    "\n",
    "def finder2(arr1, arr2): \n",
    "    \n",
    "    # Using default dict to avoid key errors\n",
    "    d=collections.defaultdict(int) \n",
    "    \n",
    "    # Add a count for every instance in Array 1\n",
    "    for num in arr2:\n",
    "        d[num]+=1 \n",
    "    \n",
    "    # Check if num not in dictionary\n",
    "    for num in arr1: \n",
    "        if d[num]==0: \n",
    "            return num \n",
    "        \n",
    "        # Otherwise, subtract a count\n",
    "        else: d[num]-=1"
   ]
  },
  {
   "cell_type": "code",
   "execution_count": null,
   "metadata": {
    "collapsed": true
   },
   "outputs": [],
   "source": [
    "def finder(arr1,arr2):\n",
    "    \n",
    "    # Sort the arrays\n",
    "    arr1.sort()\n",
    "    arr2.sort()\n",
    "    \n",
    "    # Compare elements in the sorted arrays\n",
    "    for num1, num2 in zip(arr1,arr2):\n",
    "        if num1!= num2:\n",
    "            return num1\n",
    "    \n",
    "    # Otherwise return last element\n",
    "    return arr1[-1]"
   ]
  },
  {
   "cell_type": "markdown",
   "metadata": {},
   "source": [
    "Largest Continuous Sum\n",
    "Problem\n",
    "Given an array of integers (positive and negative) find the largest continuous sum."
   ]
  },
  {
   "cell_type": "code",
   "execution_count": null,
   "metadata": {
    "collapsed": true
   },
   "outputs": [],
   "source": [
    "def large_cont_sum(arr): \n",
    "    \n",
    "    # Check to see if array is length 0\n",
    "    if len(arr)==0: \n",
    "        return 0\n",
    "    \n",
    "    # Start the max and current sum at the first element\n",
    "    max_sum=current_sum=arr[0] \n",
    "    \n",
    "    # For every element in array\n",
    "    for num in arr[1:]: \n",
    "        \n",
    "        # Set current sum as the higher of the two\n",
    "        current_sum=max(current_sum+num, num)\n",
    "        \n",
    "        # Set max as the higher between the currentSum and the current max\n",
    "        max_sum=max(current_sum, max_sum) \n",
    "        \n",
    "    return max_sum"
   ]
  },
  {
   "cell_type": "markdown",
   "metadata": {},
   "source": [
    "Sentence Reversal\n",
    "\n",
    "Problem\n",
    "Given a string of words, reverse all the words. For example:\n",
    "Given:\n",
    "'This is the best'\n",
    "\n",
    "Return:\n",
    "'best the is This'\n",
    "\n",
    "As part of this exercise you should remove all leading and trailing whitespace. So that inputs such as:\n",
    "'  space here'  and 'space here      '\n",
    "\n",
    "both become:\n",
    "'here space'"
   ]
  },
  {
   "cell_type": "code",
   "execution_count": null,
   "metadata": {
    "collapsed": true
   },
   "outputs": [],
   "source": [
    "def rev_word1(s):\n",
    "    return \" \".join(reversed(s.split()))\n",
    "\n",
    "#Or\n",
    "\n",
    "def rev_word2(s):\n",
    "    return \" \".join(s.split()[::-1])"
   ]
  },
  {
   "cell_type": "code",
   "execution_count": null,
   "metadata": {
    "collapsed": true
   },
   "outputs": [],
   "source": [
    "\n",
    "def rev_word3(s):\n",
    "    \"\"\"\n",
    "    Manually doing the splits on the spaces.\n",
    "    \"\"\"\n",
    "    \n",
    "    words = []\n",
    "    length = len(s)\n",
    "    spaces = [' ']\n",
    "    \n",
    "    # Index Tracker\n",
    "    i = 0\n",
    "    \n",
    "    # While index is less than length of string\n",
    "    while i < length:\n",
    "        \n",
    "        # If element isn't a space\n",
    "        if s[i] not in spaces:\n",
    "            \n",
    "            # The word starts at this index\n",
    "            word_start = i\n",
    "            \n",
    "            while i < length and s[i] not in spaces:\n",
    "                \n",
    "                # Get index where word ends\n",
    "                i += 1\n",
    "            # Append that word to the list\n",
    "            words.append(s[word_start:i])\n",
    "        # Add to index\n",
    "        i += 1\n",
    "        \n",
    "    # Join the reversed words\n",
    "    return \" \".join(reversed(words))"
   ]
  },
  {
   "cell_type": "markdown",
   "metadata": {},
   "source": [
    "String Compression\n",
    "Problem\n",
    "Given a string in the form 'AAAABBBBCCCCCDDEEEE' compress it to become 'A4B4C5D2E4'. For this problem, you can falsely \"compress\" strings of single or double letters. For instance, it is okay for 'AAB' to return 'A2B1' even though this technically takes more space.\n",
    "The function should also be case sensitive, so that a string 'AAAaaa' returns 'A3a3'."
   ]
  },
  {
   "cell_type": "code",
   "execution_count": null,
   "metadata": {
    "collapsed": true
   },
   "outputs": [],
   "source": [
    "\n",
    "def compress(s):\n",
    "    \"\"\"\n",
    "    This solution compresses without checking. Known as the RunLength Compression algorithm.\n",
    "    \"\"\"\n",
    "    \n",
    "    # Begin Run as empty string\n",
    "    r = \"\"\n",
    "    l = len(s)\n",
    "    \n",
    "    # Check for length 0\n",
    "    if l == 0:\n",
    "        return \"\"\n",
    "    \n",
    "    # Check for length 1\n",
    "    if l == 1:\n",
    "        return s + \"1\"\n",
    "    \n",
    "    #Intialize Values\n",
    "    cnt = 1\n",
    "    i = 1\n",
    "    \n",
    "    while i < l:\n",
    "        \n",
    "        # Check to see if it is the same letter\n",
    "        if s[i] == s[i - 1]: \n",
    "            # Add a count if same as previous\n",
    "            cnt += 1\n",
    "        else:\n",
    "            # Otherwise store the previous data\n",
    "            r = r + s[i - 1] + str(cnt)\n",
    "            cnt = 1\n",
    "            \n",
    "        # Add to index count to terminate while loop\n",
    "        i += 1\n",
    "    \n",
    "    # Put everything back into run\n",
    "    r = r + s[i - 1] + str(cnt)\n",
    "    \n",
    "    return r"
   ]
  },
  {
   "cell_type": "markdown",
   "metadata": {},
   "source": [
    "Unique Characters in String\n",
    "Problem\n",
    "Given a string,determine if it is compreised of all unique characters. For example, the string 'abcde' has all unique characters and should return True. The string 'aabcde' contains duplicate characters and should return false."
   ]
  },
  {
   "cell_type": "code",
   "execution_count": null,
   "metadata": {
    "collapsed": true
   },
   "outputs": [],
   "source": [
    "def uni_char2(s):\n",
    "    chars = set()\n",
    "    for let in s:\n",
    "        # Check if in set\n",
    "        if let in chars:\n",
    "            return False\n",
    "        else:\n",
    "            #Add it to the set\n",
    "            chars.add(let)\n",
    "    return True"
   ]
  },
  {
   "cell_type": "markdown",
   "metadata": {},
   "source": [
    "Alphabetical substring\n",
    "Input: string\n",
    "Output: the sub string that has the most characters in a row that are in alphabetical order. If there is a tie then print the first occurance."
   ]
  },
  {
   "cell_type": "code",
   "execution_count": null,
   "metadata": {
    "collapsed": true
   },
   "outputs": [],
   "source": [
    "s = \"azcbobobegghakl\"\n",
    "longest = s[0]\n",
    "current = s[0]\n",
    "for c in s[1:]:\n",
    "    if c >= current[-1]:\n",
    "        current += c\n",
    "    else:\n",
    "        if len(current) > len(longest):\n",
    "            longest = current\n",
    "        current = c\n",
    "print \"Longest substring in alphabetical order is:\", longest"
   ]
  },
  {
   "cell_type": "markdown",
   "metadata": {},
   "source": [
    "Bisection guess"
   ]
  },
  {
   "cell_type": "code",
   "execution_count": null,
   "metadata": {
    "collapsed": true
   },
   "outputs": [],
   "source": [
    "print(\"Please think of a number between 0 and 100!\")\n",
    "ans = 'n'\n",
    "start = 0\n",
    "end = 100\n",
    "\n",
    "while True:\n",
    "    guess = (start+end)/2\n",
    "\n",
    "    print(\"Is your secret number %s?\" % guess) \n",
    "    \n",
    "    ans = raw_input(\"Enter 'h' to indicate the guess is too high. Enter 'l' to indicate the guess is too low. Enter 'c' to indicate I guessed correctly.\")\n",
    "\n",
    "    if ans == 'c':\n",
    "        print(\"Game over. Your secret number was: %d\" % guess)\n",
    "        break\n",
    "    elif ans == 'h':\n",
    "        end = guess\n",
    "        lastguess = -guess\n",
    "    elif ans == 'l':\n",
    "        start = guess\n",
    "        lastguess = guess\n",
    "    else: \n",
    "        print(\"Sorry, I did not understand your input\")"
   ]
  },
  {
   "cell_type": "markdown",
   "metadata": {
    "collapsed": true
   },
   "source": [
    "count_occurances\n",
    "#Count string letters in unsorted string - O(n)"
   ]
  },
  {
   "cell_type": "code",
   "execution_count": null,
   "metadata": {
    "collapsed": true
   },
   "outputs": [],
   "source": [
    "def list_count3(num_list, n):\n",
    "    num_counts = dict((num, num_list.count(n)) for num in num_list)\n",
    "    return num_counts[n]"
   ]
  },
  {
   "cell_type": "code",
   "execution_count": null,
   "metadata": {
    "collapsed": true
   },
   "outputs": [],
   "source": [
    "def high_occ(string):\n",
    "    letter_dict = {}\n",
    "    high_value = 0\n",
    "    for i in string:\n",
    "        letter_dict[i] = letter_dict.get(i, 0) + 1\n",
    "    for key, value in letter_dict.iteritems():\n",
    "        if value > high_value:\n",
    "            high_value = value\n",
    "    return high_value"
   ]
  },
  {
   "cell_type": "markdown",
   "metadata": {},
   "source": [
    "Return index of the second occurance of a num in list - O(n)"
   ]
  },
  {
   "cell_type": "code",
   "execution_count": null,
   "metadata": {
    "collapsed": true
   },
   "outputs": [],
   "source": [
    "def find_num2(list1, num):\n",
    "    count = result = 0\n",
    "    for x, n in enumerate(list1):\n",
    "        if n == num:\n",
    "            count += 1\n",
    "            if count == 2:    \n",
    "                result = x\n",
    "            else:\n",
    "                result = \"Doesn't exist\"\n",
    "    return result"
   ]
  },
  {
   "cell_type": "markdown",
   "metadata": {},
   "source": [
    " find a missing number by adding the values and subtracting - O(n)"
   ]
  },
  {
   "cell_type": "code",
   "execution_count": null,
   "metadata": {
    "collapsed": true
   },
   "outputs": [],
   "source": [
    "def miss_num2(list1, list2):\n",
    "    return abs(sum(list1)-sum(list2))"
   ]
  },
  {
   "cell_type": "markdown",
   "metadata": {},
   "source": [
    "Factorial of a number"
   ]
  },
  {
   "cell_type": "code",
   "execution_count": null,
   "metadata": {
    "collapsed": true
   },
   "outputs": [],
   "source": [
    " # Recursive solution\n",
    "def rec_fact(n):\n",
    "    if n == 0:\n",
    "        return 1\n",
    "    else:\n",
    "        return (n * rec_fact(n - 1))"
   ]
  },
  {
   "cell_type": "code",
   "execution_count": null,
   "metadata": {
    "collapsed": true
   },
   "outputs": [],
   "source": [
    "def loop_sol_1(n):\n",
    "    if n == 0:\n",
    "        n = 1\n",
    "    num = n\n",
    "    while num > 1:\n",
    "        num -= 1\n",
    "        n *= num\n",
    "    return n"
   ]
  },
  {
   "cell_type": "markdown",
   "metadata": {},
   "source": [
    "Fibonacci series"
   ]
  },
  {
   "cell_type": "code",
   "execution_count": null,
   "metadata": {
    "collapsed": true
   },
   "outputs": [],
   "source": [
    "def fib_recursive(num):\n",
    "    if num < 2:\n",
    "        return num\n",
    "    else:\n",
    "        return fib_recursive(num - 1) + fib_recursive(num - 2)"
   ]
  },
  {
   "cell_type": "code",
   "execution_count": null,
   "metadata": {
    "collapsed": true
   },
   "outputs": [],
   "source": [
    "def fib_iteration(num):\n",
    "    alist = []\n",
    "    first = 0\n",
    "    second = 1\n",
    "    while num >= 0:\n",
    "        alist.append(first)\n",
    "        num -= 1\n",
    "        first, second = second, (first + second)\n",
    "    return alist[num]"
   ]
  },
  {
   "cell_type": "markdown",
   "metadata": {},
   "source": [
    "Find the smallest number subset"
   ]
  },
  {
   "cell_type": "code",
   "execution_count": null,
   "metadata": {
    "collapsed": true
   },
   "outputs": [],
   "source": [
    "def small_sub(l,k):\n",
    "    for j in range(len(l)):\n",
    "        for i in range(len(l)):\n",
    "            if l[j] < l[i]:\n",
    "                l[i], l[j] = l[j], l[i]\n",
    "    return l[0:k]\n",
    "\n",
    "# Apply sort - O(n)\n",
    "def small_sub2(l,k):\n",
    "    l.sort()\n",
    "    return l[0:k]"
   ]
  },
  {
   "cell_type": "markdown",
   "metadata": {},
   "source": [
    "if divisible by 5 or contains 5 as a digit in the number => \"fizz\"\n",
    "if divisible by 7 or contains 7 as a digit in the number => \"buzz\" \n",
    "if divisible by 5 and 7, or contains 5 and 7, or divisible by 5 and contains 7, \n",
    "or divisible by 7 and contains 5 => \"fizz buzz\" "
   ]
  },
  {
   "cell_type": "code",
   "execution_count": null,
   "metadata": {
    "collapsed": true
   },
   "outputs": [],
   "source": [
    "def fizz_buzz2(num):\n",
    "    low_val = []\n",
    "\n",
    "    for n in range(1, (num+1)):\n",
    "        div_5 = has_5 = div_7 = has_7 = False\n",
    "\n",
    "        #Find where number meets conditions\n",
    "        if n%5 == 0: \n",
    "            div_5 = True \n",
    "        if str(n).find('5') != -1:\n",
    "            has_5 = True\n",
    "        if n%7 == 0:\n",
    "            div_7 = True\n",
    "        if str(n).find('7') != -1:\n",
    "            has_7 = True\n",
    "\n",
    "        #Run comparison to find fizz buzz conditions and print\n",
    "        if (div_5 and div_7) or (has_5 and has_7) or (div_5 and has_7) or (has_5 and div_7):\n",
    "            print 'fizz buzz'\n",
    "        elif (div_5 or has_5):\n",
    "            print 'fizz'\n",
    "        elif (div_7 or has_7):\n",
    "            print 'buzz'\n",
    "        else:\n",
    "            print n"
   ]
  },
  {
   "cell_type": "markdown",
   "metadata": {},
   "source": [
    "Flatten list = concatenation of list"
   ]
  },
  {
   "cell_type": "code",
   "execution_count": null,
   "metadata": {
    "collapsed": true
   },
   "outputs": [],
   "source": [
    "def flatten_list(list_of_lists):\n",
    "    return [item for sublist in list_of_lists for item in sublist]"
   ]
  },
  {
   "cell_type": "code",
   "execution_count": null,
   "metadata": {
    "collapsed": true
   },
   "outputs": [],
   "source": [
    "gcd"
   ]
  },
  {
   "cell_type": "code",
   "execution_count": null,
   "metadata": {
    "collapsed": true
   },
   "outputs": [],
   "source": [
    "def gcd_recursion(a, b):\n",
    "    '''\n",
    "    Applying Euclid's algorithm\n",
    "    '''\n",
    "    if b == 0:\n",
    "        return a\n",
    "    else:\n",
    "        return gcd_recursion(b, a%b)\n",
    "    \n",
    "def gcd(a, b):\n",
    "    test_value = min(a, b)\n",
    "    if a % test_value == 0 and b % test_value == 0:\n",
    "        return test_value\n",
    "    while test_value > 0:\n",
    "        test_value -= 1\n",
    "        if a % test_value == 0 and b % test_value == 0:\n",
    "            return test_value"
   ]
  },
  {
   "cell_type": "markdown",
   "metadata": {},
   "source": [
    "list interaction"
   ]
  },
  {
   "cell_type": "code",
   "execution_count": null,
   "metadata": {
    "collapsed": true
   },
   "outputs": [],
   "source": [
    "def list_int3(list1, list2):\n",
    "    return set(list(set(list1) & set(list2)))"
   ]
  },
  {
   "cell_type": "code",
   "execution_count": null,
   "metadata": {
    "collapsed": true
   },
   "outputs": [],
   "source": [
    "logarithmn"
   ]
  },
  {
   "cell_type": "code",
   "execution_count": null,
   "metadata": {
    "collapsed": true
   },
   "outputs": [],
   "source": [
    "def myLog(x, b):\n",
    "    if x < b:\n",
    "        return 0\n",
    "    else:\n",
    "        return myLog(x/b, b) + 1"
   ]
  },
  {
   "cell_type": "markdown",
   "metadata": {},
   "source": [
    "Palindrome string"
   ]
  },
  {
   "cell_type": "code",
   "execution_count": null,
   "metadata": {
    "collapsed": true
   },
   "outputs": [],
   "source": [
    "#Recursive solution.\n",
    "def pal(word):\n",
    "    if len(word) < 2:\n",
    "        return True\n",
    "    if word[0] == word [-1]:\n",
    "        return pal(word[1:-1])\n",
    "    if word[0] != word [-1]:\n",
    "        return False\n",
    "\n",
    "#Simple reverse list solution. O(n)\n",
    "def pal2(word):\n",
    "    return word == word[::-1]"
   ]
  },
  {
   "cell_type": "markdown",
   "metadata": {},
   "source": [
    "Turn matrix- transpose"
   ]
  },
  {
   "cell_type": "code",
   "execution_count": null,
   "metadata": {
    "collapsed": true
   },
   "outputs": [],
   "source": [
    "def rotate_explain(matrix):\n",
    "    n = len(matrix)\n",
    "    new_matrix = []\n",
    "\n",
    "    for i in range(n):\n",
    "        new_row = []\n",
    "        for row in matrix:\n",
    "            new_row.append(row[i])\n",
    "        new_matrix.append(new_row[::-1]) # Reverse new_row before appending.\n",
    "    \n",
    "    return new_matrix"
   ]
  },
  {
   "cell_type": "markdown",
   "metadata": {},
   "source": [
    "Temporary seats"
   ]
  },
  {
   "cell_type": "code",
   "execution_count": null,
   "metadata": {
    "collapsed": false
   },
   "outputs": [
    {
     "name": "stdout",
     "output_type": "stream",
     "text": [
      "seats> (0!r)\n",
      "press_enter\n",
      "seats> (0!r)\n",
      "press_enter4\n",
      "seats> (0!r)\n",
      "press_enter5\n",
      "seats> (0!r)\n",
      "press_enter6!\n",
      "seats> (0!r)\n"
     ]
    }
   ],
   "source": [
    "def last_person4(seats):\n",
    "    while len(seats) > 1:\n",
    "        print(\"seats> (0!r)\".format(seats))\n",
    "        pop_odd = (len(seats) % 2 == 0)\n",
    "\n",
    "        if pop_odd:\n",
    "            seats = [seat for i, seat in enumerate(seats) if i % 2 == 0]\n",
    "        else:\n",
    "            seats = [seat for i, seat in enumerate(seats) if i % 2 == 1]\n",
    "        input('press_enter')\n",
    "\n",
    "    return seats\n",
    "\n",
    "print(last_person4(seats = [i for i in range(1, 101)]))"
   ]
  },
  {
   "cell_type": "markdown",
   "metadata": {},
   "source": [
    "String subset"
   ]
  },
  {
   "cell_type": "code",
   "execution_count": null,
   "metadata": {
    "collapsed": true
   },
   "outputs": [],
   "source": [
    "#Check which string would be a subset assuming the order submitted changes\n",
    "def find_main_str(str1, str2):\n",
    "    if len(str1) > len(str2):\n",
    "        return (str1, str2)\n",
    "    else:\n",
    "        return (str2, str1)\n",
    "\n",
    "#O(n)\n",
    "def match2(str1,str2):\n",
    "    large, small = find_main_str(str1,str2)\n",
    "\n",
    "    if small in large:\n",
    "        return True\n"
   ]
  },
  {
   "cell_type": "markdown",
   "metadata": {},
   "source": [
    "String interlace\n",
    "\n",
    "Returns a new str with elements of s1 and s2 interlaced,\n",
    "beginning with s1. If strings are not of same length, \n",
    "then the extra elements should appear at the end."
   ]
  },
  {
   "cell_type": "code",
   "execution_count": null,
   "metadata": {
    "collapsed": true
   },
   "outputs": [],
   "source": [
    "def laceStrings(s1, s2):\n",
    "    size = min(len(s1), len(s2))\n",
    "    longest_str = max(s1,s2)\n",
    "    result = ''\n",
    "\n",
    "    for i in range(size):\n",
    "        result += s1[i] + s2[i]\n",
    "    \n",
    "    return result + longest_str[size:]\n",
    "\n",
    "def laceStringsRecur(s1, s2):\n",
    "\n",
    "    def helpLaceStrings(s1, s2, out):\n",
    "        if s1 == '':\n",
    "            return s2\n",
    "        if s2 == '':\n",
    "            return s1\n",
    "        else:\n",
    "            return s1[0] + s2[0] + helpLaceStrings(s1[1:], s2[1:], '')\n",
    "            # return  out + helpLaceStrings(s1[1:], s2[1:], s1[0] + s2[0])\n",
    "\n",
    "    return helpLaceStrings(s1, s2, '')"
   ]
  },
  {
   "cell_type": "markdown",
   "metadata": {},
   "source": [
    "Input: A number\n",
    "Output: The square root or the integers closest to the square root\n",
    "Assume: positive n"
   ]
  },
  {
   "cell_type": "code",
   "execution_count": null,
   "metadata": {
    "collapsed": true
   },
   "outputs": [],
   "source": [
    "def sqrt(n):\n",
    "    for number in range(0, n):\n",
    "        if isSqrt(number,n):\n",
    "            return number\n",
    "        else:\n",
    "            if n < number * number:\n",
    "                return number, number - 1\n",
    "\n",
    "\n",
    "def isSqrt(a,b):\n",
    "    '''\n",
    "    Helper function to use in sqrt function to calculate number squared\n",
    "    '''\n",
    "    if a * a == b:\n",
    "        return True\n",
    "    else:\n",
    "        return False"
   ]
  },
  {
   "cell_type": "markdown",
   "metadata": {
    "collapsed": true
   },
   "source": [
    "Implement a queue with 2 stacks"
   ]
  },
  {
   "cell_type": "code",
   "execution_count": null,
   "metadata": {
    "collapsed": true
   },
   "outputs": [],
   "source": [
    "class Stack:\n",
    "\n",
    "    def __init__(self):\n",
    "        self.elements = []\n",
    "\n",
    "    def push(self, item):\n",
    "        self.elements.append(item)\n",
    "\n",
    "    def pop(self):\n",
    "        return self.elements.pop()\n",
    "\n",
    "    def size(self):\n",
    "        return len(self.elements)\n",
    "\n",
    "    def is_empty(self):\n",
    "        return self.size() == 0\n",
    "\n",
    "\n",
    "class CreatingQueueWithTwoStacks:\n",
    "\n",
    "    def __init__(self):\n",
    "        self.stack_1 = Stack()\n",
    "        self.stack_2 = Stack()\n",
    "\n",
    "    def enqueue(self, item):\n",
    "        self.stack_1.push(item)\n",
    "\n",
    "    def dequeue(self):\n",
    "        if not self.stack_1.is_empty():\n",
    "            while self.stack_1.size() > 0:\n",
    "                self.stack_2.push(self.stack_1.pop())\n",
    "            res = self.stack_2.pop()\n",
    "            while self.stack_2.size() > 0:\n",
    "               self.stack_1.push(self.stack_2.pop())\n",
    "            return res\n",
    "\n",
    "\n",
    "q = CreatingQueueWithTwoStacks()\n",
    "q.enqueue(1)\n",
    "q.enqueue(2)\n",
    "q.enqueue(3)\n",
    "a = q.dequeue()\n",
    "print(a)\n",
    "b = q.dequeue()\n",
    "print(b)\n",
    "c = q.dequeue()\n",
    "print(c)\n",
    "d = q.dequeue()\n",
    "print(d)\n",
    "q.enqueue(5)\n",
    "q.enqueue(6)\n",
    "print(q.dequeue())"
   ]
  },
  {
   "cell_type": "markdown",
   "metadata": {},
   "source": [
    "Implement a prime number"
   ]
  },
  {
   "cell_type": "code",
   "execution_count": null,
   "metadata": {
    "collapsed": true
   },
   "outputs": [],
   "source": [
    "def primeNumber(nums):\n",
    "    for x in range(2,nums+1):\n",
    "        isprime = True\n",
    "        for i in range(2,x):\n",
    "            if x%i == 0:\n",
    "                isprime = False\n",
    "                break\n",
    "        if isprime:\n",
    "            print(x)\n",
    "\n",
    "#print(primeNumber(10000))\n",
    "\n",
    "#A faster solution\n",
    "\n",
    "def primeNumber1(nums):\n",
    "    for x in range(2,nums+1):\n",
    "        isprime = True\n",
    "        for i in range(2,int(x**0.5)+1):\n",
    "            if x%i == 0:\n",
    "                isprime = False\n",
    "                break\n",
    "        if isprime:\n",
    "            print(x)"
   ]
  },
  {
   "cell_type": "markdown",
   "metadata": {},
   "source": [
    "Depth first search"
   ]
  },
  {
   "cell_type": "code",
   "execution_count": null,
   "metadata": {
    "collapsed": true
   },
   "outputs": [],
   "source": [
    "class Vertex:\n",
    "\tdef __init__(self, n):\n",
    "\t\tself.name = n\n",
    "\t\tself.neighbors = list()\n",
    "\t\t\n",
    "\t\tself.discovery = 0\n",
    "\t\tself.finish = 0\n",
    "\t\tself.color = 'black'\n",
    "\t\n",
    "\tdef add_neighbor(self, v):\n",
    "\t\tif v not in self.neighbors:\n",
    "\t\t\tself.neighbors.append(v)\n",
    "\t\t\tself.neighbors.sort()\n",
    "\n",
    "class Graph:\n",
    "\tvertices = {}\n",
    "\ttime = 0\n",
    "\t\n",
    "\tdef add_vertex(self, vertex):\n",
    "\t\tif isinstance(vertex, Vertex) and vertex.name not in self.vertices:\n",
    "\t\t\tself.vertices[vertex.name] = vertex\n",
    "\t\t\treturn True\n",
    "\t\telse:\n",
    "\t\t\treturn False\n",
    "\t\n",
    "\tdef add_edge(self, u, v):\n",
    "\t\tif u in self.vertices and v in self.vertices:\n",
    "\t\t\tfor key, value in self.vertices.items():\n",
    "\t\t\t\tif key == u:\n",
    "\t\t\t\t\tvalue.add_neighbor(v)\n",
    "\t\t\t\tif key == v:\n",
    "\t\t\t\t\tvalue.add_neighbor(u)\n",
    "\t\t\treturn True\n",
    "\t\telse:\n",
    "\t\t\treturn False\n",
    "\t\t\t\n",
    "\tdef print_graph(self):\n",
    "\t\tfor key in sorted(list(self.vertices.keys())):\n",
    "\t\t\tprint(key + str(self.vertices[key].neighbors) + \"  \" + str(self.vertices[key].discovery) + \"/\" + str(self.vertices[key].finish))\n",
    "\n",
    "\tdef _dfs(self, vertex):\n",
    "\t\tglobal time\n",
    "\t\tvertex.color = 'red'\n",
    "\t\tvertex.discovery = time\n",
    "\t\ttime += 1\n",
    "\t\tfor v in vertex.neighbors:\n",
    "\t\t\tif self.vertices[v].color == 'black':\n",
    "\t\t\t\tself._dfs(self.vertices[v])\n",
    "\t\tvertex.color = 'blue'\n",
    "\t\tvertex.finish = time\n",
    "\t\ttime += 1\n",
    "\t\t\n",
    "\tdef dfs(self, vertex):\n",
    "\t\tglobal time\n",
    "\t\ttime = 1\n",
    "\t\tself._dfs(vertex)\n",
    "\t\t\t\n",
    "g = Graph()\n",
    "# print(str(len(g.vertices)))\n",
    "a = Vertex('A')\n",
    "g.add_vertex(a)\n",
    "g.add_vertex(Vertex('B'))\n",
    "for i in range(ord('A'), ord('K')):\n",
    "\tg.add_vertex(Vertex(chr(i)))\n",
    "\n",
    "edges = ['AB', 'AE', 'BF', 'CG', 'DE', 'DH', 'EH', 'FG', 'FI', 'FJ', 'GJ', 'HI']\n",
    "for edge in edges:\n",
    "\tg.add_edge(edge[:1], edge[1:])\n",
    "\t\n",
    "g.dfs(a)\n",
    "g.print_graph()"
   ]
  },
  {
   "cell_type": "markdown",
   "metadata": {},
   "source": [
    "Breadth first search"
   ]
  },
  {
   "cell_type": "code",
   "execution_count": null,
   "metadata": {
    "collapsed": true
   },
   "outputs": [],
   "source": [
    "class Vertex:\n",
    "\tdef __init__(self, n):\n",
    "\t\tself.name = n\n",
    "\t\tself.neighbors = list()\n",
    "\t\t\n",
    "\t\tself.distance = 9999\n",
    "\t\tself.color = 'black'\n",
    "\t\n",
    "\tdef add_neighbor(self, v):\n",
    "\t\tif v not in self.neighbors:\n",
    "\t\t\tself.neighbors.append(v)\n",
    "\t\t\tself.neighbors.sort()\n",
    "\n",
    "class Graph:\n",
    "\tvertices = {}\n",
    "\t\n",
    "\tdef add_vertex(self, vertex):\n",
    "\t\tif isinstance(vertex, Vertex) and vertex.name not in self.vertices:\n",
    "\t\t\tself.vertices[vertex.name] = vertex\n",
    "\t\t\treturn True\n",
    "\t\telse:\n",
    "\t\t\treturn False\n",
    "\t\n",
    "\tdef add_edge(self, u, v):\n",
    "\t\tif u in self.vertices and v in self.vertices:\n",
    "\t\t\tfor key, value in self.vertices.items():\n",
    "\t\t\t\tif key == u:\n",
    "\t\t\t\t\tvalue.add_neighbor(v)\n",
    "\t\t\t\tif key == v:\n",
    "\t\t\t\t\tvalue.add_neighbor(u)\n",
    "\t\t\treturn True\n",
    "\t\telse:\n",
    "\t\t\treturn False\n",
    "\t\t\t\n",
    "\tdef print_graph(self):\n",
    "\t\tfor key in sorted(list(self.vertices.keys())):\n",
    "\t\t\tprint(key + str(self.vertices[key].neighbors) + \"  \" + str(self.vertices[key].distance))\n",
    "\t\t\n",
    "\tdef bfs(self, vert):\n",
    "\t\tq = list()\n",
    "\t\tvert.distance = 0\n",
    "\t\tvert.color = 'red'\n",
    "\t\tfor v in vert.neighbors:\n",
    "\t\t\tself.vertices[v].distance = vert.distance + 1\n",
    "\t\t\tq.append(v)\n",
    "\t\t\n",
    "\t\twhile len(q) > 0:\n",
    "\t\t\tu = q.pop(0)\n",
    "\t\t\tnode_u = self.vertices[u]\n",
    "\t\t\tnode_u.color = 'red'\n",
    "\t\t\t\n",
    "\t\t\tfor v in node_u.neighbors:\n",
    "\t\t\t\tnode_v = self.vertices[v]\n",
    "\t\t\t\tif node_v.color == 'black':\n",
    "\t\t\t\t\tq.append(v)\n",
    "\t\t\t\t\tif node_v.distance > node_u.distance + 1:\n",
    "\t\t\t\t\t\tnode_v.distance = node_u.distance + 1\n",
    "\t\t\t\t\t\n",
    "g = Graph()\n",
    "a = Vertex('A')\n",
    "g.add_vertex(a)\n",
    "g.add_vertex(Vertex('B'))\n",
    "for i in range(ord('A'), ord('K')):\n",
    "\tg.add_vertex(Vertex(chr(i)))\n",
    "\n",
    "edges = ['AB', 'AE', 'BF', 'CG', 'DE', 'DH', 'EH', 'FG', 'FI', 'FJ', 'GJ', 'HI']\n",
    "for edge in edges:\n",
    "\tg.add_edge(edge[:1], edge[1:])\n",
    "\t\n",
    "g.bfs(a)\n",
    "g.print_graph()"
   ]
  },
  {
   "cell_type": "markdown",
   "metadata": {},
   "source": [
    "Identify a word in sentance"
   ]
  },
  {
   "cell_type": "code",
   "execution_count": null,
   "metadata": {
    "collapsed": true
   },
   "outputs": [],
   "source": [
    "import re\n",
    "def identifyWord(word):\n",
    "\treturn (re.findall(r'[A-Z][a-z]+',word))\n",
    "\t\n",
    "print(identifyWord(\"TheBoyIsInTheWell\"))\n"
   ]
  },
  {
   "cell_type": "markdown",
   "metadata": {},
   "source": [
    "Binary search tree"
   ]
  },
  {
   "cell_type": "code",
   "execution_count": null,
   "metadata": {
    "collapsed": true
   },
   "outputs": [],
   "source": [
    "class node:\n",
    "\tdef __init__(self,val):\n",
    "\t\tself.value = val\n",
    "\t\tself.leftChild = None\n",
    "\t\tself.rightChild = None\n",
    "\t\n",
    "\tdef insert(self,data):\n",
    "\t\tif self.value == data:\n",
    "\t\t\treturn False\n",
    "\t\telif self.value > data:\n",
    "\t\t\tif self.leftChild:\n",
    "\t\t\t\treturn self.leftChild.insert(data)\n",
    "\t\t\telse:\n",
    "\t\t\t\tself.leftChild = node(data)\n",
    "\t\t\t\treturn True\n",
    "\t\telse:\n",
    "\t\t\tif self.rightChild:\n",
    "\t\t\t\treturn self.rightChild.insert(data)\n",
    "\t\t\telse:\n",
    "\t\t\t\tself.rightChild = node(data)\n",
    "\t\t\t\treturn True\n",
    "\t\t\t\t\n",
    "\tdef find(self,data):\n",
    "\t\tif(self.value == data):\n",
    "\t\t\treturn True\n",
    "\t\telif self.value > data:\n",
    "\t\t\tif self.leftChild:\n",
    "\t\t\t\treturn self.leftChild.find(data)\n",
    "\t\t\telse:\n",
    "\t\t\t\treturn False\n",
    "\t\telse:\n",
    "\t\t\tif self.rightChild:\n",
    "\t\t\t\treturn self.rightChild.find(data)\n",
    "\t\t\telse:\n",
    "\t\t\t\treturn False\n",
    "\t\n",
    "\tdef preorder(self):\n",
    "\t\tif self:\n",
    "\t\t\tprint(str(self.value))\n",
    "\t\t\tif self.leftChild:\n",
    "\t\t\t\tself.leftChild.preorder()\n",
    "\t\t\tif self.rightChild:\n",
    "\t\t\t\tself.rightChild.preorder()\n",
    "\t\n",
    "\tdef postorder(self):\n",
    "\t\tif self:\n",
    "\t\t\tif self.leftChild:\n",
    "\t\t\t\tself.leftChild.preorder()\n",
    "\t\t\tif self.rightChild:\n",
    "\t\t\t\tself.rightChild.preorder()\n",
    "\t\t\tprint(str(self.value))\n",
    "\n",
    "\tdef inorder(self):\n",
    "\t\tif self:\n",
    "\t\t\tif self.leftChild:\n",
    "\t\t\t\tself.leftChild.preorder()\n",
    "\t\t\tprint(str(self.value))\n",
    "\t\t\tif self.rightChild:\n",
    "\t\t\t\tself.rightChild.preorder()\n",
    "\t\t\n",
    "\n",
    "\t\n",
    "class tree:\n",
    "\tdef __init__(self):\n",
    "\t\tself.root = None\n",
    "\t\t\n",
    "\tdef insert(self,data):\n",
    "\t\tif self.root:\n",
    "\t\t\treturn self.root.insert(data)\n",
    "\t\telse:\n",
    "\t\t\tself.root = node(data)\n",
    "\t\t\treturn True\n",
    "\t\t\n",
    "\tdef find(self,data):\n",
    "\t\tif self.root:\n",
    "\t\t\treturn self.root.find(data)\n",
    "\t\telse:\n",
    "\t\t\treturn False\n",
    "\t\n",
    "\tdef preorder(self):\n",
    "\t\tprint(\"preorder\")\n",
    "\t\tself.root.preorder()\n",
    "\t\t\n",
    "\tdef postorder(self):\n",
    "\t\tprint(\"preorder\")\n",
    "\t\tself.root.postorder()\n",
    "\n",
    "\tdef inorder(self):\n",
    "\t\tprint(\"preorder\")\n",
    "\t\tself.root.inorder()\n",
    "\t\t\n",
    "bst = tree()\n",
    "print(bst.insert(10))\n",
    "print(bst.insert(15))\n",
    "bst.preorder()\n",
    "bst.inorder()\n",
    "bst.postorder()\n",
    "print(bst.find(15))\n",
    "\t\t\t\n",
    "\t"
   ]
  },
  {
   "cell_type": "markdown",
   "metadata": {},
   "source": [
    "Threaded fizz buzz"
   ]
  },
  {
   "cell_type": "code",
   "execution_count": null,
   "metadata": {
    "collapsed": true
   },
   "outputs": [],
   "source": [
    "import threading\n",
    "\n",
    "items = [1,2,3,4,5,6,7,8,9,10,11,12,13,14,15]\n",
    "lst = []\n",
    "def fizzbuzz(n):\n",
    "\tif n == \"f\":\n",
    "\t\tlst.append(\"fizz\")\n",
    "\telif n == \"b\":\n",
    "\t\tlst.append(\"buzz\")\n",
    "\telif n == \"fb\":\n",
    "\t\tlst.append(\"fizzbuzz\")\n",
    "\telse:\n",
    "\t\tlst.append(n)\n",
    "\n",
    "for item in items:\n",
    "\tif (item%3 == 0) and (item%5!=0):\n",
    "\t\tthreading.Thread(target=fizzbuzz,args=(\"f\",)).start()\n",
    "\telif (item%3 != 0) and (item%5 == 0):\n",
    "\t\tthreading.Thread(target=fizzbuzz,args=(\"b\",)).start()\n",
    "\telif (item%3 == 0) and (item%5 == 0):\n",
    "\t\tthreading.Thread(target=fizzbuzz,args=(\"fb\",)).start()\n",
    "\telse:\n",
    "\t\tthreading.Thread(target=fizzbuzz,args=(item,)).start()\n",
    "\n",
    "print(lst)"
   ]
  },
  {
   "cell_type": "raw",
   "metadata": {},
   "source": [
    "Peaks and valleys"
   ]
  },
  {
   "cell_type": "code",
   "execution_count": null,
   "metadata": {
    "collapsed": true
   },
   "outputs": [],
   "source": [
    "def sortIntoPeaks(v):\n",
    "    for i in range(1, len(v), 2):\n",
    "        biggestIndex = maxIndex(v, i-1, i, i+1)\n",
    "        if i!= biggestIndex:\n",
    "          swapIndex(v, i, biggestIndex)\n",
    "          print(i,biggestIndex)\n",
    "    return v\n",
    "def maxIndex(v, a, b, c):\n",
    "    aValue = v[a] if a >=0 and a< len(v) else float('-inf')\n",
    "    bValue = v[b] if b >=0 and b< len(v) else float('-inf')\n",
    "    cValue = v[c] if c >=0 and c< len(v) else float('-inf')\n",
    "\n",
    "    maxi = max(aValue, bValue, cValue)\n",
    "    print(aValue,bValue,cValue)\n",
    "\n",
    "    if aValue == maxi:\n",
    "        return a\n",
    "    elif bValue == maxi:\n",
    "        return b\n",
    "    else:\n",
    "        return c\n",
    "\n",
    "def swapIndex(v, i1, i2):\n",
    "    v[i1], v[i2] = v[i2] ,v[i1]\n",
    "    print(v)\n",
    "\n",
    "def main():\n",
    "    v = [5, 3, 1, 2, 3]\n",
    "    print(sortIntoPeaks(v))\n",
    "    #v2 = [0, 1, 4, 7, 8, 9]\n",
    "    #print(sortIntoPeaks(v2))\n",
    "\n",
    "main()"
   ]
  },
  {
   "cell_type": "markdown",
   "metadata": {},
   "source": [
    "Sorted matrix search"
   ]
  },
  {
   "cell_type": "code",
   "execution_count": null,
   "metadata": {
    "collapsed": true
   },
   "outputs": [],
   "source": [
    "def search(matrix, target):\n",
    "    row = 0\n",
    "    col = len(matrix[0])-1\n",
    "    while row < len(matrix) and col >= 0:\n",
    "        if matrix[row][col] == target:\n",
    "            return True\n",
    "        elif target < matrix[row][col]:\n",
    "            col-=1\n",
    "        else:\n",
    "            row+=1\n",
    "    return False\n",
    "\n",
    "def main():\n",
    "    matrix = [ [15, 20, 40, 85], [20, 35, 80, 95], [30, 55, 95, 105], [40, 80, 100, 120]]\n",
    "    target = 95\n",
    "    print(search(matrix, target))\n",
    "main()"
   ]
  },
  {
   "cell_type": "markdown",
   "metadata": {},
   "source": [
    "Sparse array search"
   ]
  },
  {
   "cell_type": "code",
   "execution_count": null,
   "metadata": {
    "collapsed": true
   },
   "outputs": [],
   "source": [
    "def binSearch(v, left, right, target):\n",
    "    mid = int((left + right)/2)\n",
    "    if target == v[mid]:\n",
    "        return mid\n",
    "    if right < left:\n",
    "        return -1\n",
    "    if v[mid] == \"\":\n",
    "        ret1 = binSearch(v, left, mid-1, target)\n",
    "        if ret1 != -1:\n",
    "            return ret1\n",
    "        else:\n",
    "            return binSearch(v, mid+1, right, target)\n",
    "    else:\n",
    "        if target > v[mid]:\n",
    "            return binSearch(v, mid+1, right, target)\n",
    "        else:\n",
    "            return binSearch(v, left, mid-1, target)\n",
    "\n",
    "def main():\n",
    "    v = [\"at\", \"\", \"\", \"\", \"ball\", \"\",  \"\", \"car\", \"\", \"\", \"dad\", \"\", \"\"]\n",
    "    print(binSearch(v,0, len(v)-1, \"ball\"))\n",
    "#if __name__ == \"__main__\":\n",
    "main()"
   ]
  },
  {
   "cell_type": "markdown",
   "metadata": {},
   "source": [
    "Find a position in infinite array"
   ]
  },
  {
   "cell_type": "code",
   "execution_count": null,
   "metadata": {
    "collapsed": true
   },
   "outputs": [],
   "source": [
    "# Python Program to demonstrate working of an algorithm that finds\n",
    "# an element in an array of infinite size\n",
    " \n",
    "# Binary search algorithm implementation\n",
    "def binary_search(arr,l,r,x):\n",
    " \n",
    "    if r >= l:\n",
    "        mid = int(l+(r-l)/2)\n",
    " \n",
    "        if arr[mid] == x:\n",
    "            return mid\n",
    " \n",
    "        if arr[mid] > x:\n",
    "            return binary_search(arr,l,mid-1,x)\n",
    " \n",
    "        return binary_search(arr,mid+1,r,x)\n",
    " \n",
    "    return -1\n",
    " \n",
    "# function takes an infinite size array and a key to be\n",
    "# searched and returns its position if found else -1.\n",
    "# We don't know size of a[] and we can assume size to be\n",
    "# infinite in this function.\n",
    "# NOTE THAT THIS FUNCTION ASSUMES a[] TO BE OF INFINITE SIZE\n",
    "# THEREFORE, THERE IS NO INDEX OUT OF BOUND CHECKING\n",
    "def findPos(a, key):\n",
    " \n",
    "    l, h, val = 0, 1, arr[0]\n",
    " \n",
    "    # Find h to do binary search\n",
    "    while val < key:\n",
    "        l = h            #store previous high\n",
    "        h = 2*h          #double high index\n",
    "        val = arr[h]       #update new val\n",
    "        print(l,h,val) \n",
    "    # at this point we have updated low and high indices,\n",
    "    # thus use binary search between them\n",
    "    return binary_search(a, l, h, key)\n",
    " \n",
    "# Driver function\n",
    "arr = [3, 5, 7, 9, 10, 90, 100, 130, 140, 160, 170]\n",
    "ans = findPos(arr,10)\n",
    "if ans == -1:\n",
    "    print (\"Element not found\")\n",
    "else:\n",
    "    print(\"Element found at index\",ans)"
   ]
  },
  {
   "cell_type": "markdown",
   "metadata": {},
   "source": [
    "search in sorted array"
   ]
  },
  {
   "cell_type": "code",
   "execution_count": null,
   "metadata": {
    "collapsed": true
   },
   "outputs": [],
   "source": [
    "class rotatedSorted:\n",
    "\tdef search(self, nums, target):\n",
    "\t    lo, hi = 0, len(nums) - 1\n",
    "\t    while lo < hi:\n",
    "\t        mid = int((lo + hi) / 2)\n",
    "\t        print(mid)\n",
    "\t        if (nums[0] > target) ^ (nums[0] > nums[mid]) ^ (target > nums[mid]):\n",
    "\t            lo = mid + 1\n",
    "\t        else:\n",
    "\t            hi = mid\n",
    "\t    return lo if target in nums[lo:lo+1] else -1\n",
    "    \n",
    "check = rotatedSorted()\n",
    "print(check.search([15, 16, 19, 20, 25, 1, 3,4,5,7, 10, 14],5))\n",
    "\n",
    "\n",
    "\n",
    "if (\"sai\" == \"sai\") ^ (\"sai\" == \"ai\"):\n",
    "\tprint(\"True\")"
   ]
  },
  {
   "cell_type": "markdown",
   "metadata": {},
   "source": [
    "Group by anagram"
   ]
  },
  {
   "cell_type": "code",
   "execution_count": 1,
   "metadata": {
    "collapsed": false
   },
   "outputs": [
    {
     "name": "stdout",
     "output_type": "stream",
     "text": [
      "{'aelpp': ['apple', 'ppeal'], 'gmy': ['myg'], 'abc': ['abc'], 'dgo': ['dog', 'god'], 'jmy': ['jym']}\n",
      "['apple', 'ppeal', 'myg', 'abc', 'dog', 'god', 'jym']\n"
     ]
    }
   ],
   "source": [
    "def group_anagram(alist):\n",
    "\tanagram_dict = {}\n",
    "\tbiglist = []\n",
    "\t\n",
    "\tfor item in alist:\n",
    "\t\tsorted_item = \"\".join(sorted(item)) # item sorted according to alphabet\n",
    "\t\tif sorted_item not in anagram_dict:\n",
    "\t\t\tanagram_dict[sorted_item] = [item]\n",
    "\t\telse:\t\t\t#if the key is already present, apped to it's value\n",
    "\t\t\tanagram_dict[sorted_item] = (anagram_dict[sorted_item])+[item]\n",
    "\tprint(anagram_dict)\n",
    "\tfor keys in anagram_dict:\n",
    "\t\tbiglist += anagram_dict[keys]\n",
    "\t\t\n",
    "\treturn biglist\n",
    "\t\t\t\n",
    "  \n",
    "print(group_anagram(['dog', 'god', 'apple', 'jym', 'ppeal', 'myg', 'abc']))"
   ]
  },
  {
   "cell_type": "markdown",
   "metadata": {},
   "source": [
    "Merge sort"
   ]
  },
  {
   "cell_type": "code",
   "execution_count": 2,
   "metadata": {
    "collapsed": false
   },
   "outputs": [
    {
     "name": "stdout",
     "output_type": "stream",
     "text": [
      "third\n",
      "third\n",
      "fourth\n",
      "third\n",
      "fourth\n",
      "third\n",
      "first\n",
      "[1, 2, 3, 3, 4, 4, 5, 6]\n"
     ]
    }
   ],
   "source": [
    "def merge(l, m):\n",
    "    result = []\n",
    "    i = j = 0\n",
    "    total = len(l) + len(m)\n",
    "    while len(result) != total:\n",
    "        if len(l) == i:\n",
    "            result += m[j:]\n",
    "            print(\"first\")\n",
    "            break\n",
    "        elif len(m) == j:\n",
    "            result += l[i:]\n",
    "            print(\"second\")\n",
    "            break\n",
    "        elif l[i] < m[j]:\n",
    "            result.append(l[i])\n",
    "            i += 1\n",
    "            print(\"third\")\n",
    "        else:\n",
    "            result.append(m[j])\n",
    "            j += 1\n",
    "            print(\"fourth\")\n",
    "    return result\n",
    "    \n",
    "print(merge([1,2,3,4],[3,4,5,6]))"
   ]
  },
  {
   "cell_type": "code",
   "execution_count": null,
   "metadata": {
    "collapsed": true
   },
   "outputs": [],
   "source": [
    "Queen"
   ]
  },
  {
   "cell_type": "code",
   "execution_count": null,
   "metadata": {
    "collapsed": true
   },
   "outputs": [],
   "source": [
    "from itertools import permutations\n",
    "\n",
    "N=8\n",
    "sol=0\n",
    "cols = range(N)\n",
    "for combo in permutations(cols):                      \n",
    "    if N==len(set(combo[i]+i for i in cols))==len(set(combo[i]-i for i in cols)):\n",
    "        sol += 1\n",
    "        print('Solution '+str(sol)+': '+str(combo)+'\\n')  \n",
    "        print(\"\\n\".join(' o ' * i + ' X ' + ' o ' * (N-i-1) for i in combo) + \"\\n\\n\\n\\n\")"
   ]
  },
  {
   "cell_type": "markdown",
   "metadata": {},
   "source": [
    "Coin change"
   ]
  },
  {
   "cell_type": "code",
   "execution_count": null,
   "metadata": {
    "collapsed": true
   },
   "outputs": [],
   "source": [
    "def change(n, coins_available, coins_so_far):\n",
    "\tif sum(coins_so_far) == n:\n",
    "\t\tyield coins_so_far\n",
    "\telif sum(coins_so_far) > n:\n",
    "\t\tpass\n",
    "\telif coins_available == []:\n",
    "\t\tpass\n",
    "\telse:\n",
    "\t\tfor c in change(n,coins_available[:],coins_so_far+[coins_available[0]]):\n",
    "\t\t\tyield c\n",
    "\t\tfor c in change(n,coins_available[1:],coins_so_far):\n",
    "\t\t\tyield c\n",
    "\t\t\t\n",
    "n = 15\n",
    "coins = [1,5,10,25]\n",
    "\n",
    "solutions = [s for s in change(n,coins,[])]\n",
    "for s in solutions:\n",
    "\tprint(s)\n",
    "\t\n",
    "print(\"optimal solution:\", min(solutions,key=len))"
   ]
  },
  {
   "cell_type": "code",
   "execution_count": null,
   "metadata": {
    "collapsed": true
   },
   "outputs": [],
   "source": [
    "parens"
   ]
  },
  {
   "cell_type": "code",
   "execution_count": null,
   "metadata": {
    "collapsed": true
   },
   "outputs": [],
   "source": [
    "def parens(n):\n",
    "    result = []\n",
    "    parens_helper('', 0, 0, n, result)\n",
    "    return result\n",
    " \n",
    "def parens_helper(s, left, right, n, result):\n",
    "    if left == n and right == n:\n",
    "        result.append(s)\n",
    "    if left < n:\n",
    "        parens_helper(s + '(', left+1, right, n, result)\n",
    " \n",
    "    if right < left:\n",
    "        parens_helper(s + ')', left, right+1, n, result)\n",
    "        \n",
    "\n",
    "print(parens(3))"
   ]
  },
  {
   "cell_type": "markdown",
   "metadata": {},
   "source": [
    "Permutation with dups"
   ]
  },
  {
   "cell_type": "code",
   "execution_count": null,
   "metadata": {
    "collapsed": true
   },
   "outputs": [],
   "source": [
    "def permute1(start, rest):\n",
    "    res = []\n",
    "    if len(rest) <= 1:\n",
    "        res += [start + rest, rest + start]\n",
    "    else:\n",
    "        for i, c in enumerate(rest):\n",
    "            s = rest[:i] + rest[i+1:]\n",
    "            for perm in permute1(c, s):\n",
    "                res += [start + perm]\n",
    "    return res\n",
    "    \n",
    "print(permute1('', 'abac'))"
   ]
  },
  {
   "cell_type": "markdown",
   "metadata": {},
   "source": [
    "Permuation without dups"
   ]
  },
  {
   "cell_type": "code",
   "execution_count": null,
   "metadata": {
    "collapsed": true
   },
   "outputs": [],
   "source": [
    "def getPerms2(string):\n",
    "    result = []\n",
    "    getPerms2Inner(\" \", string, result)\n",
    "    return result\n",
    "\n",
    "def getPerms2Inner(prefix, remainder, result):\n",
    "    if len(remainder) == 0:\n",
    "        result.append(prefix)\n",
    "    length = len(remainder)\n",
    "    print(\"pass\",remainder)\n",
    "    for i in range(length):\n",
    "        before = remainder[:i]\n",
    "        after = remainder[i+1:]\n",
    "        c = remainder[i]\n",
    "        print(\"c value is \",c)\n",
    "        print(\"total {}\".format(i),prefix + c, before + after, result)\n",
    "        getPerms2Inner(prefix + c, before + after, result)\n",
    "        \n",
    "print(getPerms2(\"stri\"))"
   ]
  },
  {
   "cell_type": "markdown",
   "metadata": {},
   "source": [
    "Recursive multiply"
   ]
  },
  {
   "cell_type": "code",
   "execution_count": null,
   "metadata": {
    "collapsed": true
   },
   "outputs": [],
   "source": [
    "def multiply(a,b,answer):\n",
    "    if answer == 0 and a != 0 and b != 0:\n",
    "        answer = a\n",
    "    if a == 1:\n",
    "        return answer\n",
    "    elif b == 1:\n",
    "        return answer\n",
    "    else:\n",
    "        answer += a\n",
    "        print(answer,a,b)\n",
    "        return multiply(a,b-1,answer)\n",
    "        \n",
    "print(multiply(2,3,0))"
   ]
  },
  {
   "cell_type": "markdown",
   "metadata": {},
   "source": [
    "power set"
   ]
  },
  {
   "cell_type": "code",
   "execution_count": null,
   "metadata": {
    "collapsed": true
   },
   "outputs": [],
   "source": [
    "def getSubsets(setz, index):\n",
    "    allSubsets = []\n",
    "    if len(setz) == index:\n",
    "        #base case - add empty set\n",
    "        if [] not in allSubsets:\n",
    "            allSubsets.append([])\n",
    "    else:\n",
    "        allSubsets = getSubsets(setz, index+1)\n",
    "        item = setz[index]\n",
    "        moreSubsets = []\n",
    "        for subset in allSubsets:\n",
    "            newSubset = []\n",
    "            [newSubset.append(value) for value in subset if value not in newSubset]\n",
    "            newSubset.append(item)\n",
    "            print(\"new subset {}\".format(newSubset),\"value is {}\".format(subset))\n",
    "            moreSubsets.append(newSubset)\n",
    "            print(\"More subset {}\".format(moreSubsets))\n",
    "        [allSubsets.append(value) for value in moreSubsets if value not in newSubset]\n",
    "        print(\"more subset {}\".format(moreSubsets),\"new subset {}\".format(newSubset))\n",
    "    return allSubsets\n",
    "    \n",
    "print(getSubsets([1,2,3,4,5,6,7,8,9],7))"
   ]
  },
  {
   "cell_type": "markdown",
   "metadata": {},
   "source": [
    "Magic index"
   ]
  },
  {
   "cell_type": "code",
   "execution_count": null,
   "metadata": {
    "collapsed": true
   },
   "outputs": [],
   "source": [
    "def magic(items):\n",
    "\tfor i,j in enumerate(items):\n",
    "\t\tif i == j:\n",
    "\t\t\treturn(\"Magic index {} and number {}\".format(i,j) )\n",
    "\t\t\t\n",
    "print(magic([5,5,2,34,5,65,6,7]))"
   ]
  },
  {
   "cell_type": "markdown",
   "metadata": {},
   "source": [
    "Triple hop"
   ]
  },
  {
   "cell_type": "code",
   "execution_count": null,
   "metadata": {
    "collapsed": true
   },
   "outputs": [],
   "source": [
    "def TripleHop(x):\n",
    "    if x < 0:\n",
    "        return 0\n",
    "    if x == 0:\n",
    "        return 1\n",
    "    if x == 1:\n",
    "        return 1\n",
    "    return TripleHop(x - 1) + TripleHop(x - 2) + TripleHop(x - 3)\n",
    "    \n",
    "print(TripleHop(6))"
   ]
  },
  {
   "cell_type": "markdown",
   "metadata": {},
   "source": [
    "Delete middle node linked list"
   ]
  },
  {
   "cell_type": "code",
   "execution_count": null,
   "metadata": {
    "collapsed": true
   },
   "outputs": [],
   "source": [
    "class Node:\n",
    "    def __init__(self,initdata):\n",
    "        self.data = initdata\n",
    "        self.next = None\n",
    "\n",
    "    def getData(self):\n",
    "        return self.data\n",
    "\n",
    "    def getNext(self):\n",
    "        return self.next\n",
    "\n",
    "    def setData(self,newdata):\n",
    "        self.data = newdata\n",
    "\n",
    "    def setNext(self,newnext):\n",
    "        self.next = newnext\n",
    "\n",
    "\n",
    "class UnorderedList:\n",
    "\n",
    "    def __init__(self):\n",
    "        self.head = None\n",
    "\n",
    "    def isEmpty(self):\n",
    "        return self.head == None\n",
    "\n",
    "    def add(self,item):\n",
    "        temp = Node(item)\n",
    "        temp.setNext(self.head)\n",
    "        self.head = temp\n",
    "\n",
    "    def size(self):\n",
    "        current = self.head\n",
    "        count = 0\n",
    "        while current != None:\n",
    "            count = count + 1\n",
    "            current = current.getNext()\n",
    "\n",
    "        return count\n",
    "\n",
    "    def search(self,item):\n",
    "        current = self.head\n",
    "        found = False\n",
    "        while current != None and not found:\n",
    "            if current.getData() == item:\n",
    "                found = True\n",
    "            else:\n",
    "                current = current.getNext()\n",
    "\n",
    "        return found\n",
    "\n",
    "    def remove(self,item):\n",
    "        current = self.head\n",
    "        previous = None\n",
    "        found = False\n",
    "        while not found:\n",
    "            if current.getData() == item:\n",
    "                found = True\n",
    "            else:\n",
    "                previous = current\n",
    "                current = current.getNext()\n",
    "\n",
    "        if previous == None:\n",
    "            self.head = current.getNext()\n",
    "        else:\n",
    "            previous.setNext(current.getNext())\n",
    "\n",
    "    def midremove(self):\n",
    "    \tcurrent = self.head\n",
    "    \tself.mid = int(self.size()/2)\n",
    "    \tfor i in range(self.mid):\n",
    "    \t\tcurrent = current.getNext()\n",
    "    \tself.remove(current.getData())\n",
    "    \t\n",
    "    \t\n",
    "    def display(self):\n",
    "    \tself.temp = []\n",
    "    \tif self.head is None:\n",
    "    \t\tpass\n",
    "    \telse:\n",
    "    \t\tcurrent = self.head\n",
    "    \t\tself.temp.append(current.getData())\n",
    "    \t\twhile current.getNext():\n",
    "    \t\t\tcurrent = current.getNext()\n",
    "    \t\t\tself.temp.append(current.getData())\n",
    "    \treturn self.temp\n",
    "            \n",
    "           \n",
    "\n",
    "mylist = UnorderedList()\n",
    "\n",
    "mylist.add(31)\n",
    "mylist.add(32)\n",
    "mylist.add(32)\n",
    "mylist.add(77)\n",
    "mylist.add(17)\n",
    "mylist.add(93)\n",
    "mylist.add(26)\n",
    "mylist.add(54)\n",
    "\n",
    "print(mylist.size())\n",
    "print(mylist.display())\n",
    "print(mylist.midremove())\n",
    "print(mylist.display())\n"
   ]
  },
  {
   "cell_type": "markdown",
   "metadata": {},
   "source": [
    "kth to last element linked list"
   ]
  },
  {
   "cell_type": "code",
   "execution_count": null,
   "metadata": {
    "collapsed": true
   },
   "outputs": [],
   "source": [
    "class Node:\n",
    "    def __init__(self,initdata):\n",
    "        self.data = initdata\n",
    "        self.next = None\n",
    "\n",
    "    def getData(self):\n",
    "        return self.data\n",
    "\n",
    "    def getNext(self):\n",
    "        return self.next\n",
    "\n",
    "    def setData(self,newdata):\n",
    "        self.data = newdata\n",
    "\n",
    "    def setNext(self,newnext):\n",
    "        self.next = newnext\n",
    "\n",
    "\n",
    "class UnorderedList:\n",
    "\n",
    "    def __init__(self):\n",
    "        self.head = None\n",
    "\n",
    "    def isEmpty(self):\n",
    "        return self.head == None\n",
    "\n",
    "    def add(self,item):\n",
    "        temp = Node(item)\n",
    "        temp.setNext(self.head)\n",
    "        self.head = temp\n",
    "\n",
    "    def size(self):\n",
    "        current = self.head\n",
    "        count = 0\n",
    "        while current != None:\n",
    "            count = count + 1\n",
    "            current = current.getNext()\n",
    "\n",
    "        return count\n",
    "\n",
    "    def search(self,item):\n",
    "        current = self.head\n",
    "        found = False\n",
    "        while current != None and not found:\n",
    "            if current.getData() == item:\n",
    "                found = True\n",
    "            else:\n",
    "                current = current.getNext()\n",
    "\n",
    "        return found\n",
    "\n",
    "    def kthLast(self,k):\n",
    "    \tself.temp = []\n",
    "    \tcurrent = self.head\n",
    "    \trunner = current\n",
    "    \tfor i in range(k):\n",
    "    \t\tif runner is None:\n",
    "    \t\t\treturn None\n",
    "    \t\telse:\n",
    "    \t\t\trunner = runner.getNext()\n",
    "    \t\t\t\n",
    "    \twhile runner:\n",
    "    \t\tcurrent = current.getNext()\n",
    "    \t\tself.temp.append(runner.getData())\n",
    "    \t\trunner = runner.getNext()\n",
    "    \t\t\t\n",
    "    \t\n",
    "    \treturn (\"current is {}\".format(current.getData()),\"total is {}\".format(self.temp))\n",
    "\t\t\t    \t\n",
    "\n",
    "        \t\n",
    "    def display(self):\n",
    "    \tself.temp = []\n",
    "    \tif self.head is None:\n",
    "    \t\tpass\n",
    "    \telse:\n",
    "    \t\tcurrent = self.head\n",
    "    \t\tself.temp.append(current.getData())\n",
    "    \t\twhile current.getNext():\n",
    "    \t\t\tcurrent = current.getNext()\n",
    "    \t\t\tself.temp.append(current.getData())\n",
    "    \treturn self.temp\n",
    "            \n",
    "           \n",
    "\n",
    "mylist = UnorderedList()\n",
    "\n",
    "mylist.add(31)\n",
    "mylist.add(32)\n",
    "mylist.add(32)\n",
    "mylist.add(77)\n",
    "mylist.add(17)\n",
    "mylist.add(93)\n",
    "mylist.add(26)\n",
    "mylist.add(54)\n",
    "\n",
    "print(mylist.size())\n",
    "print(mylist.display())\n",
    "print(mylist.kthLast(4))\n"
   ]
  },
  {
   "cell_type": "markdown",
   "metadata": {},
   "source": [
    "Remove dups unsorted linked list"
   ]
  },
  {
   "cell_type": "code",
   "execution_count": null,
   "metadata": {
    "collapsed": true
   },
   "outputs": [],
   "source": [
    "class Node:\n",
    "    def __init__(self,initdata):\n",
    "        self.data = initdata\n",
    "        self.next = None\n",
    "\n",
    "    def getData(self):\n",
    "        return self.data\n",
    "\n",
    "    def getNext(self):\n",
    "        return self.next\n",
    "\n",
    "    def setData(self,newdata):\n",
    "        self.data = newdata\n",
    "\n",
    "    def setNext(self,newnext):\n",
    "        self.next = newnext\n",
    "\n",
    "\n",
    "class UnorderedList:\n",
    "\n",
    "    def __init__(self):\n",
    "        self.head = None\n",
    "\n",
    "    def isEmpty(self):\n",
    "        return self.head == None\n",
    "\n",
    "    def add(self,item):\n",
    "        temp = Node(item)\n",
    "        temp.setNext(self.head)\n",
    "        self.head = temp\n",
    "\n",
    "    def size(self):\n",
    "        current = self.head\n",
    "        count = 0\n",
    "        while current != None:\n",
    "            count = count + 1\n",
    "            current = current.getNext()\n",
    "\n",
    "        return count\n",
    "\n",
    "    def search(self,item):\n",
    "        current = self.head\n",
    "        found = False\n",
    "        while current != None and not found:\n",
    "            if current.getData() == item:\n",
    "                found = True\n",
    "            else:\n",
    "                current = current.getNext()\n",
    "\n",
    "        return found\n",
    "\n",
    "    def remove(self,item):\n",
    "        current = self.head\n",
    "        previous = None\n",
    "        found = False\n",
    "        while not found:\n",
    "            if current.getData() == item:\n",
    "                found = True\n",
    "            else:\n",
    "                previous = current\n",
    "                current = current.getNext()\n",
    "\n",
    "        if previous == None:\n",
    "            self.head = current.getNext()\n",
    "        else:\n",
    "            previous.setNext(current.getNext())\n",
    "\n",
    "    def remove_dups(self):\n",
    "        current = self.head\n",
    "        while current:\n",
    "        \trunner = current.getNext()\n",
    "        \twhile runner:\n",
    "        \t\tif runner.getData() == current.getData():\n",
    "        \t\t\t print(\"first\",current.getData(),runner.getData())\n",
    "        \t\t\t self.remove(current.getData())\n",
    "        \t\t\t runner = runner.getNext() \n",
    "        \t\t\t \n",
    "        \t\telse:\n",
    "        \t\t\tprint(\"second\",current.getData(),runner.getData())\n",
    "        \t\t\trunner = runner.getNext()\n",
    "        \tcurrent = current.getNext()\n",
    "        \t\n",
    "    def display(self):\n",
    "    \tself.temp = []\n",
    "    \tif self.head is None:\n",
    "    \t\tpass\n",
    "    \telse:\n",
    "    \t\tcurrent = self.head\n",
    "    \t\tself.temp.append(current.getData())\n",
    "    \t\twhile current.getNext():\n",
    "    \t\t\tcurrent = current.getNext()\n",
    "    \t\t\tself.temp.append(current.getData())\n",
    "    \treturn self.temp\n",
    "            \n",
    "           \n",
    "\n",
    "mylist = UnorderedList()\n",
    "\n",
    "mylist.add(31)\n",
    "mylist.add(32)\n",
    "mylist.add(32)\n",
    "mylist.add(77)\n",
    "mylist.add(17)\n",
    "mylist.add(93)\n",
    "mylist.add(26)\n",
    "mylist.add(54)\n",
    "\n",
    "print(mylist.size())\n",
    "print(mylist.display())\n",
    "print(mylist.remove_dups())\n",
    "print(mylist.display())"
   ]
  },
  {
   "cell_type": "markdown",
   "metadata": {},
   "source": [
    "string rotation"
   ]
  },
  {
   "cell_type": "code",
   "execution_count": null,
   "metadata": {
    "collapsed": true
   },
   "outputs": [],
   "source": [
    "def is_rotate(s1, s2):\n",
    "    #concate s2 and find if s1 is substring of s2\n",
    "    #2*s2 ==> s2+s2\n",
    "    \n",
    "    #both works\n",
    "    print(len(s1)==len(s2) and s1 in 2*s2)\n",
    "    print(len(s1)==len(s2) and s2 in 2*s1)\n",
    "    \n",
    "print(is_rotate(\"waterbottle\",\"bottlewater\"))"
   ]
  },
  {
   "cell_type": "markdown",
   "metadata": {},
   "source": [
    "zero matrix"
   ]
  },
  {
   "cell_type": "code",
   "execution_count": null,
   "metadata": {
    "collapsed": true
   },
   "outputs": [],
   "source": [
    "matr_= [[1, 0, 3],\n",
    "        [4, 5, 6],\n",
    "        [7, 8, 9]]\n",
    "        \n",
    "\n",
    "\n",
    "def set_zero(matrix):\n",
    "    rows = []\n",
    "    cols = [] \n",
    "    \n",
    "    for i, row in enumerate( matrix ):\n",
    "        for j, col in enumerate (row):\n",
    "            if col == 0:\n",
    "                rows.append(i)\n",
    "                cols.append(j)\n",
    "    print(rows,cols)\n",
    "    \n",
    "    for i, row in enumerate( matrix ):\n",
    "        for j, col in enumerate (row):\n",
    "            if i in rows: \n",
    "                matrix[i][j] = 0\n",
    "    \n",
    "            if j in cols: \n",
    "                matrix[i][j] = 0\n",
    "                \n",
    "    print(rows)\n",
    "    print(cols)\n",
    "    print(matrix)\n",
    "    "
   ]
  },
  {
   "cell_type": "markdown",
   "metadata": {},
   "source": [
    "Rotate matrix"
   ]
  },
  {
   "cell_type": "code",
   "execution_count": null,
   "metadata": {
    "collapsed": true
   },
   "outputs": [],
   "source": [
    "def rotate(matrix, degree):\n",
    "    if abs(degree) not in [0, 90, 180, 270, 360]:\n",
    "        pass\n",
    "    if degree == 0:\n",
    "        return matrix\n",
    "    elif degree > 0:\n",
    "        return list(rotate(list(zip(*matrix))[::-1], degree-90))\n",
    "    else:\n",
    "        return list(rotate(list(zip(*matrix))[::-1], degree+90))\n",
    "        \n",
    "matr_= [[1, 2, 3],\n",
    "        [4, 5, 6],\n",
    "        [7, 8, 9]]\n",
    " \n",
    "print(rotate(matr_,180))\n"
   ]
  },
  {
   "cell_type": "markdown",
   "metadata": {},
   "source": [
    "String comprehension"
   ]
  },
  {
   "cell_type": "code",
   "execution_count": null,
   "metadata": {
    "collapsed": true
   },
   "outputs": [],
   "source": [
    "from collections import Counter\n",
    "\n",
    "def stringComprehension(string1):\n",
    "  output = str()\n",
    "  new = Counter(string1)\n",
    "  for k,v in new.items():\n",
    "    output += k + str(v)\n",
    "  return output\n",
    "  \n",
    "print(stringComprehension(\"ssaai\"))"
   ]
  },
  {
   "cell_type": "code",
   "execution_count": null,
   "metadata": {
    "collapsed": true
   },
   "outputs": [],
   "source": [
    "One edit away"
   ]
  },
  {
   "cell_type": "code",
   "execution_count": null,
   "metadata": {
    "collapsed": true
   },
   "outputs": [],
   "source": [
    "def one_away(s1, s2):\n",
    "    '''Check if a string can converted to another string with a single edit'''\n",
    "    if len(s1) == len(s2):\n",
    "        return one_edit_replace(s1, s2)\n",
    "    elif len(s1) + 1 == len(s2):\n",
    "        return one_edit_insert(s1, s2)\n",
    "    elif len(s1) - 1 == len(s2):\n",
    "        return one_edit_insert(s2, s1)\n",
    "    return False\n",
    "\n",
    "\n",
    "def one_edit_replace(s1, s2):\n",
    "  edited = False\n",
    "  for c1, c2 in zip(s1, s2):\n",
    "    print(c1,c2)\n",
    "    if c1 != c2:\n",
    "      if edited:\n",
    "        return False\n",
    "      edited = True\n",
    "  return True\n",
    "\n",
    "\n",
    "def one_edit_insert(s1, s2):\n",
    "    edited = False\n",
    "    i, j = 0, 0\n",
    "    while i < len(s1) and j < len(s2):\n",
    "      print(s1[i],s2[j])\n",
    "      if s1[i] != s2[j]:\n",
    "        if edited:\n",
    "          return False\n",
    "        edited = True\n",
    "        j += 1\n",
    "      else:\n",
    "        i += 1\n",
    "        j += 1\n",
    "    return True\n",
    "    \n",
    "print(one_away(\"saai\",\"paai\"))"
   ]
  },
  {
   "cell_type": "markdown",
   "metadata": {},
   "source": [
    "Palindrome permutation"
   ]
  },
  {
   "cell_type": "code",
   "execution_count": 3,
   "metadata": {
    "collapsed": false
   },
   "outputs": [
    {
     "name": "stdout",
     "output_type": "stream",
     "text": [
      "True\n"
     ]
    }
   ],
   "source": [
    "from collections import Counter\n",
    "\n",
    "\n",
    "def is_palindrome_permutation(data: str) -> bool:\n",
    "    \"\"\"Given a string, check if it is a permutation of a palindrome.\"\"\"\n",
    "    data = data.replace(' ', '').lower()\n",
    "    return sum(freq%2 for freq in Counter(data).values()) < 2\n",
    "    \n",
    "print(is_palindrome_permutation(\"uuuu1\"))"
   ]
  },
  {
   "cell_type": "markdown",
   "metadata": {},
   "source": [
    "URLify"
   ]
  },
  {
   "cell_type": "code",
   "execution_count": null,
   "metadata": {
    "collapsed": true
   },
   "outputs": [],
   "source": [
    "def urlify(in_string, in_string_length):\n",
    "    return in_string[:in_string_length].replace(' ', '%20')\n",
    "    \n",
    "print(urlify('Mr John Smith    ', 15))"
   ]
  },
  {
   "cell_type": "code",
   "execution_count": null,
   "metadata": {
    "collapsed": true
   },
   "outputs": [],
   "source": [
    "check permutation"
   ]
  },
  {
   "cell_type": "code",
   "execution_count": null,
   "metadata": {
    "collapsed": true
   },
   "outputs": [],
   "source": [
    "from collections import Counter\n",
    "\n",
    "\n",
    "def check_permutation(str1, str2):\n",
    "    if len(str1) != len(str2):\n",
    "        return False\n",
    "    counter = Counter()\n",
    "    for c in str1:\n",
    "        counter[c] += 1\n",
    "    for c in str2:\n",
    "        print(counter,c)\n",
    "        if counter[c] == 0:\n",
    "            return False\n",
    "        counter[c] -= 1\n",
    "    return True\n",
    "    \n",
    "print(check_permutation('sai','ius'))"
   ]
  },
  {
   "cell_type": "markdown",
   "metadata": {},
   "source": [
    "Tow sum"
   ]
  },
  {
   "cell_type": "code",
   "execution_count": null,
   "metadata": {
    "collapsed": true
   },
   "outputs": [],
   "source": [
    "class Solution:\n",
    "    def twoSum(self, nums, target):\n",
    "            dict = {}\n",
    "            for i in range(len(nums)):\n",
    "              print(\"start\",i)\n",
    "              if nums[i] in dict:\n",
    "                print(nums[i])\n",
    "                return [dict[nums[i]], i]\n",
    "              else:\n",
    "                  dict[target-nums[i]] = i\n",
    "                  print(\"finished\",i,dict)\n",
    "  \n",
    "\n",
    "check = Solution()\n",
    "print(check.twoSum([2,7,11,15],9))\n"
   ]
  },
  {
   "cell_type": "markdown",
   "metadata": {},
   "source": [
    "Unique string"
   ]
  },
  {
   "cell_type": "code",
   "execution_count": null,
   "metadata": {
    "collapsed": true
   },
   "outputs": [],
   "source": [
    "def unique(string):\n",
    "    # Assuming character set is ASCII (128 characters)\n",
    "    if len(string) > 128:\n",
    "        return False\n",
    "\n",
    "    char_set = [False for i in range(128)]\n",
    "    for char in string:\n",
    "        val = ord(char)\n",
    "        if char_set[val]:\n",
    "            # Char already found in string\n",
    "            return False\n",
    "        char_set[val] = True\n",
    "\n",
    "    return True\n",
    "    \n",
    "print(unique(\"saai\"))"
   ]
  },
  {
   "cell_type": "markdown",
   "metadata": {},
   "source": [
    "Binary search "
   ]
  },
  {
   "cell_type": "code",
   "execution_count": null,
   "metadata": {
    "collapsed": true
   },
   "outputs": [],
   "source": [
    "def binarySearch(alist, item):\n",
    "    first = 0\n",
    "    last = len(alist)-1\n",
    "    found = False\n",
    "\t\n",
    "    while first<=last and not found:\n",
    "        midpoint = (first + last)//2\n",
    "        if alist[midpoint] == item:\n",
    "            found = True\n",
    "        else:\n",
    "          if item < alist[midpoint]:\n",
    "            last = midpoint-1\n",
    "          else:\n",
    "            first = midpoint+1\n",
    "    return found\n",
    "    \n",
    "    \n",
    "print(binarySearch([12,3,4,5,6,78,6],6))"
   ]
  },
  {
   "cell_type": "markdown",
   "metadata": {},
   "source": [
    "Bulls and cows"
   ]
  },
  {
   "cell_type": "code",
   "execution_count": null,
   "metadata": {
    "collapsed": true
   },
   "outputs": [],
   "source": [
    "from collections import OrderedDict\n",
    "\n",
    "def bullsCows(secret,guess):\n",
    "  dict = OrderedDict()\n",
    "  string1 = str()\n",
    "  secretMod = secret.strip()\n",
    "  guessMod = guess.strip()\n",
    "  for i,j in enumerate(guessMod):\n",
    "    print(i)\n",
    "    if j in secretMod and i == secretMod.index(j):\n",
    "      dict['A'] = dict.get('A', 0) + 1 \n",
    "    else:\n",
    "      dict['B'] =  dict.get('B', 0) + 1\n",
    "  for k, v in sorted(dict.items()):\n",
    "    string1 += str(v) + str(k)\n",
    "  return string1\n",
    "      \n",
    "print(bullsCows(\"1807\",\"17800\"))\n"
   ]
  },
  {
   "cell_type": "markdown",
   "metadata": {},
   "source": [
    "Min stack"
   ]
  },
  {
   "cell_type": "code",
   "execution_count": null,
   "metadata": {
    "collapsed": true
   },
   "outputs": [],
   "source": [
    "class minStack:\n",
    "  def __init__(self):\n",
    "    self.items = []\n",
    "    \n",
    "  def push(self,item):\n",
    "    self.items.append(item)\n",
    "    return \"added item {} to stack\".format(item)\n",
    "    \n",
    "  def pop(self):\n",
    "    self.items.pop()\n",
    "  \n",
    "  def top(self):\n",
    "    return self.items[-1]\n",
    "    \n",
    "  def getMin(self):\n",
    "    return min(self.items)\n",
    "    \n",
    "\n",
    "check = minStack()\n",
    "print(check.push(6))\n",
    "print(check.push(7))\n",
    "print(check.push(8))\n",
    "print(check.push(9))\n",
    "print(check.pop())\n",
    "print(check.top())\n",
    "print(check.getMin())\n",
    "\n",
    "\n",
    "\n",
    "\n",
    "class MinStack:\n",
    "  def __init__(self):\n",
    "    self.q = []\n",
    "  \n",
    "  def push(self, x):\n",
    "    curMin = self.getMin()\n",
    "    if curMin == None or x < curMin:\n",
    "      curMin = x\n",
    "      self.q.append((x, curMin));\n",
    "\n",
    "  def pop(self):\n",
    "      self.q.pop()\n",
    "\n",
    "\n",
    "  def top(self):\n",
    "      if len(self.q) == 0:\n",
    "          return None\n",
    "      else:\n",
    "          return self.q[len(self.q) - 1][0]\n",
    "\n",
    "  def getMin(self):\n",
    "      if len(self.q) == 0:\n",
    "          return None\n",
    "      else:\n",
    "          return self.q[len(self.q) - 1][1]"
   ]
  },
  {
   "cell_type": "markdown",
   "metadata": {},
   "source": [
    "Length of last word"
   ]
  },
  {
   "cell_type": "code",
   "execution_count": null,
   "metadata": {
    "collapsed": true
   },
   "outputs": [],
   "source": [
    "def lastWord(sentence):\n",
    "  modSentence = sentence.split(' ')\n",
    "  return len(modSentence[-1]) if modSentence[-1] != '' else 0\n",
    "  \n",
    "print(lastWord(\"Im sai the man\"))"
   ]
  },
  {
   "cell_type": "markdown",
   "metadata": {},
   "source": [
    "Wildcard matching"
   ]
  },
  {
   "cell_type": "code",
   "execution_count": null,
   "metadata": {
    "collapsed": true
   },
   "outputs": [],
   "source": [
    "import re\n",
    "p = \"saii1\"\n",
    "print(re.findall(r'[\\w]?',p)[0])"
   ]
  },
  {
   "cell_type": "markdown",
   "metadata": {},
   "source": [
    "Kth largest element in an array"
   ]
  },
  {
   "cell_type": "code",
   "execution_count": null,
   "metadata": {
    "collapsed": true
   },
   "outputs": [],
   "source": [
    "#Find the k largest element in the array \n",
    "def findKthLargest1(nums, k):\n",
    "    new = sorted(nums,reverse=True)\n",
    "    return new[k-1]\n",
    "    \n",
    "print(findKthLargest1([1,2,3,4,5,6,7],2))"
   ]
  },
  {
   "cell_type": "markdown",
   "metadata": {},
   "source": [
    "Median of 2 sorted arrays"
   ]
  },
  {
   "cell_type": "code",
   "execution_count": null,
   "metadata": {
    "collapsed": true
   },
   "outputs": [],
   "source": [
    "class Solution:\n",
    "    # @param {integer[]} nums1\n",
    "    # @param {integer[]} nums2\n",
    "    # @return {float}\n",
    "    def findMedianSortedArrays(self, nums1, nums2):\n",
    "        m = len(nums1) + len(nums2)\n",
    "        \n",
    "        if m % 2 == 1:\n",
    "            return self.kth(nums1, nums2, m // 2)\n",
    "        else:\n",
    "            return float(self.kth(nums1, nums2, m // 2) + self.kth(nums1, nums2, m // 2 - 1)) / 2\n",
    "    \n",
    "    def kth(self, a, b, k):\n",
    "        if not a:\n",
    "            return b[k]\n",
    "        if not b:\n",
    "            return a[k]\n",
    "            \n",
    "        midA, midB = len(a) // 2, len(b) // 2\n",
    "        \n",
    "        if midA + midB < k:\n",
    "            if a[midA] > b[midB]:\n",
    "                return self.kth(a, b[midB + 1:], k - midB - 1)\n",
    "            else:\n",
    "                return self.kth(a[midA + 1:], b, k - midA - 1)\n",
    "        else:\n",
    "            if a[midA] > b[midB]:\n",
    "                return self.kth(a[:midA], b, k)\n",
    "            else:\n",
    "                return self.kth(a, b[:midB], k)\n",
    "                \n",
    "check = Solution()\n",
    "print(check.findMedianSortedArrays([1,2,3],[3,4,5]))"
   ]
  },
  {
   "cell_type": "markdown",
   "metadata": {},
   "source": [
    "short distance breadth first search"
   ]
  },
  {
   "cell_type": "code",
   "execution_count": null,
   "metadata": {
    "collapsed": true
   },
   "outputs": [],
   "source": [
    "graph = {'A': ['B', 'C', 'E'],\n",
    "         'B': ['A','D', 'E'],\n",
    "         'C': ['A', 'F', 'G'],\n",
    "         'D': ['B'],\n",
    "         'E': ['A', 'B','D'],\n",
    "         'F': ['C'],\n",
    "         'G': ['C']}\n",
    "\n",
    "\n",
    "def bfs_shortest_path(graph, start, goal):\n",
    "    # keep track of explored nodes\n",
    "    explored = []\n",
    "    # keep track of all the paths to be checked\n",
    "    queue = [[start]]\n",
    " \n",
    "    # return path if start is goal\n",
    "    if start == goal:\n",
    "        return \"That was easy! Start = goal\"\n",
    " \n",
    "    # keeps looping until all possible paths have been checked\n",
    "    while queue:\n",
    "        # pop the first path from the queue\n",
    "        path = queue.pop(0)\n",
    "        print(path)\n",
    "        # get the last node from the path\n",
    "        node = path[-1]\n",
    "        if node not in explored:\n",
    "            neighbours = graph[node]\n",
    "            # go through all neighbour nodes, construct a new path and\n",
    "            # push it into the queue\n",
    "            for neighbour in neighbours:\n",
    "                new_path = list(path)\n",
    "                new_path.append(neighbour)\n",
    "                queue.append(new_path)\n",
    "                # return path if neighbour is goal\n",
    "                if neighbour == goal:\n",
    "                    return new_path\n",
    " \n",
    "            # mark node as explored\n",
    "            explored.append(node)\n",
    " \n",
    "    # in case there's no path between the 2 nodes\n",
    "    return \"So sorry, but a connecting path doesn't exist :(\"\n",
    " \n",
    "print(bfs_shortest_path(graph, 'G', 'D'))"
   ]
  },
  {
   "cell_type": "markdown",
   "metadata": {},
   "source": [
    "breadth first traversal"
   ]
  },
  {
   "cell_type": "code",
   "execution_count": null,
   "metadata": {
    "collapsed": true
   },
   "outputs": [],
   "source": [
    "graph = {'A': ['B', 'C', 'E'],\n",
    "         'B': ['A','D', 'E'],\n",
    "         'C': ['A', 'F', 'G'],\n",
    "         'D': ['B'],\n",
    "         'E': ['A', 'B','D'],\n",
    "         'F': ['C'],\n",
    "         'G': ['C']}\n",
    "         \n",
    "def bfs_connected_component(graph, start):\n",
    "    # keep track of all visited nodes\n",
    "    explored = []\n",
    "    # keep track of nodes to be checked\n",
    "    queue = [start]\n",
    " \n",
    "    # keep looping until there are nodes still to be checked\n",
    "    while queue:\n",
    "        # pop shallowest node (first node) from queue\n",
    "        node = queue.pop(0)\n",
    "        print(node)\n",
    "        if node not in explored:\n",
    "            # add node to list of checked nodes\n",
    "            explored.append(node)\n",
    "            neighbours = graph[node]\n",
    " \n",
    "            # add neighbours of node to queue\n",
    "            for neighbour in neighbours:\n",
    "                queue.append(neighbour)\n",
    "    return explored\n",
    " \n",
    "bfs_connected_component(graph,'A') # returns ['A', 'B', 'C', 'E', 'D', 'F', 'G']\n"
   ]
  },
  {
   "cell_type": "markdown",
   "metadata": {},
   "source": [
    "isomorphic strings"
   ]
  },
  {
   "cell_type": "code",
   "execution_count": null,
   "metadata": {
    "collapsed": true
   },
   "outputs": [],
   "source": [
    "def isomorphic(string1,string2):\n",
    "  str1 = string1.strip()\n",
    "  str2 = string2.strip()\n",
    "  return len(set(str1)) == len(set(str2))\n",
    "  \n",
    "print(isomorphic(\"egg\",\"baa\"))"
   ]
  },
  {
   "cell_type": "markdown",
   "metadata": {},
   "source": [
    "LeetCode – Evaluate Reverse Polish Notation using stacks"
   ]
  },
  {
   "cell_type": "code",
   "execution_count": null,
   "metadata": {
    "collapsed": true
   },
   "outputs": [],
   "source": [
    "class stack:\n",
    "  def __init__(self):\n",
    "    self.items = []\n",
    "  \n",
    "  def add(self,item):\n",
    "    print(\" number {} has been added\".format(item)) \n",
    "    return self.items.append(item)\n",
    "    \n",
    "  def pop(self):\n",
    "    print(\" number has been removed\")\n",
    "    return self.items.pop()\n",
    "    \n",
    "  def size(self):\n",
    "    return len(self.items)\n",
    "    \n",
    "\n",
    "number = stack()\n",
    "operator = ['+','-','/','*']\n",
    "listItems = [\"2\", \"1\", \"+\", \"3\", \"*\"]\n",
    "for i in listItems:\n",
    "  if i not in operator:\n",
    "    number.add(int(i))\n",
    "  else:\n",
    "    if (number.size() < 2):\n",
    "      print(\"not enough members in stack\")\n",
    "    else:\n",
    "      total = 0\n",
    "      if i == \"+\":\n",
    "        total = number.pop() + number.pop() \n",
    "      elif i == \"/\":\n",
    "        a= number.pop()\n",
    "        b = number.pop()\n",
    "        total = max(a,b) / min(a,b)\n",
    "      elif i == \"-\":\n",
    "        total = number.pop() - number.pop()\n",
    "      else:\n",
    "        total = number.pop() * number.pop()\n",
    "      number.add(total)\n",
    "print(number.size())\n",
    "print(int(number.pop()))"
   ]
  },
  {
   "cell_type": "markdown",
   "metadata": {},
   "source": [
    "Rotate a array "
   ]
  },
  {
   "cell_type": "code",
   "execution_count": null,
   "metadata": {
    "collapsed": true
   },
   "outputs": [],
   "source": [
    "def rotate(items,position):\n",
    "  new = [i for i in range(1,items+1)]\n",
    "  return (new[position+1:] + new[:position+1])\n",
    "  \n",
    "print(rotate(7,3))"
   ]
  },
  {
   "cell_type": "markdown",
   "metadata": {},
   "source": [
    "Reverse words in a string recursion"
   ]
  },
  {
   "cell_type": "code",
   "execution_count": null,
   "metadata": {
    "collapsed": true
   },
   "outputs": [],
   "source": [
    "n = \"the sky is blue\"\n",
    "new = n.split(' ')\n",
    "def word(new):\n",
    "  return new[-1] + ' ' + word(new[:-1]) if new != [] else \"\"\n",
    "  \n",
    "print(word(new))"
   ]
  },
  {
   "cell_type": "markdown",
   "metadata": {},
   "source": [
    "Recursion sum"
   ]
  },
  {
   "cell_type": "code",
   "execution_count": null,
   "metadata": {
    "collapsed": true
   },
   "outputs": [],
   "source": [
    "def getSum(piece):\n",
    "    if len(piece)==0:\n",
    "        return 0\n",
    "    else:\n",
    "        return piece[0] + getSum(piece[1:]) \n",
    "#print(getSum([1, 3, 4, 2, 5]))\n",
    "\n",
    "\n",
    "def reverseSum(items):\n",
    "  return items[-1] + reverseSum(items[0:-1]) if len(items) != 0 else \"not\"\n",
    "print(reverseSum(\"sai\"))\n",
    "\n",
    "def reverse_string(s):\n",
    "    return s[-1] + reverse_string(s[0:-1]) if s else s\n",
    "\n",
    "print(reverse_string(\"sai\"))"
   ]
  },
  {
   "cell_type": "markdown",
   "metadata": {},
   "source": [
    "Linked list"
   ]
  },
  {
   "cell_type": "code",
   "execution_count": null,
   "metadata": {
    "collapsed": true
   },
   "outputs": [],
   "source": [
    "class Node:\n",
    "    def __init__(self,initdata):\n",
    "        self.data = initdata\n",
    "        self.next = None\n",
    "\n",
    "    def getData(self):\n",
    "        return self.data\n",
    "\n",
    "    def getNext(self):\n",
    "        return self.next\n",
    "\n",
    "    def setData(self,newdata):\n",
    "        self.data = newdata\n",
    "\n",
    "    def setNext(self,newnext):\n",
    "        self.next = newnext\n",
    "\n",
    "\n",
    "class UnorderedList:\n",
    "\n",
    "    def __init__(self):\n",
    "        self.head = None\n",
    "\n",
    "    def isEmpty(self):\n",
    "        return self.head == None\n",
    "\n",
    "    def add(self,item):\n",
    "        temp = Node(item)\n",
    "        temp.setNext(self.head)\n",
    "        self.head = temp\n",
    "\n",
    "    def size(self):\n",
    "        current = self.head\n",
    "        count = 0\n",
    "        while current != None:\n",
    "            count = count + 1\n",
    "            current = current.getNext()\n",
    "\n",
    "        return count\n",
    "\n",
    "    def search(self,item):\n",
    "        current = self.head\n",
    "        found = False\n",
    "        while current != None and not found:\n",
    "            if current.getData() == item:\n",
    "                found = True\n",
    "            else:\n",
    "                current = current.getNext()\n",
    "\n",
    "        return found\n",
    "\n",
    "    def remove(self,item):\n",
    "        current = self.head\n",
    "        previous = None\n",
    "        found = False\n",
    "        while not found:\n",
    "            if current.getData() == item:\n",
    "                found = True\n",
    "            else:\n",
    "                previous = current\n",
    "                current = current.getNext()\n",
    "\n",
    "        if previous == None:\n",
    "            self.head = current.getNext()\n",
    "        else:\n",
    "            previous.setNext(current.getNext())\n",
    "\n",
    "mylist = UnorderedList()\n",
    "\n",
    "mylist.add(31)\n",
    "mylist.add(77)\n",
    "mylist.add(17)\n",
    "mylist.add(93)\n",
    "mylist.add(26)\n",
    "mylist.add(54)\n",
    "\n",
    "print(mylist.size())\n",
    "print(mylist.search(93))\n",
    "print(mylist.search(100))\n",
    "\n",
    "mylist.add(100)\n",
    "print(mylist.search(100))\n",
    "print(mylist.size())\n",
    "\n",
    "mylist.remove(54)\n",
    "print(mylist.size())\n",
    "mylist.remove(93)\n",
    "print(mylist.size())\n",
    "mylist.remove(31)\n",
    "print(mylist.size())\n",
    "print(mylist.search(93))"
   ]
  },
  {
   "cell_type": "markdown",
   "metadata": {},
   "source": [
    "Deque"
   ]
  },
  {
   "cell_type": "code",
   "execution_count": null,
   "metadata": {
    "collapsed": true
   },
   "outputs": [],
   "source": [
    "class deque:\n",
    "  \n",
    "  def __init__(self):\n",
    "    self.items = []\n",
    "  \n",
    "  def isempty(self):\n",
    "    return (\"queue is empty\" if self.items == [] else None)\n",
    "    \n",
    "  def size(self):\n",
    "    return (\"size of queue is {}\".format(len(self.items)))\n",
    "    \n",
    "  def addfront(self,item):\n",
    "    self.items.append(item)\n",
    "    return (\"{} element has been added in the queue\".format(item))\n",
    "    \n",
    "  def addrear(self,item):\n",
    "    self.items.insert(0,item)\n",
    "    return (\"{} element has been added in the queue\".format(item))\n",
    "    \n",
    "  def removefront(self,item):\n",
    "    self.items.pop()\n",
    "    return (\"{} element has been removed from the queue\".format(item))\n",
    "    \n",
    "  def removerear(self,item):\n",
    "    self.items.pop(0)\n",
    "    return (\"{} element has been removed from the queue\".format(item))\n",
    "    \n",
    "check = deque()\n",
    "print(check.isempty())\n",
    "print(check.size())\n",
    "print(check.addfront(5),check.addrear(6),check.addfront(7))\n",
    "print(check.removerear(5))\n",
    "print(check.size())"
   ]
  },
  {
   "cell_type": "markdown",
   "metadata": {},
   "source": [
    "Queue"
   ]
  },
  {
   "cell_type": "code",
   "execution_count": null,
   "metadata": {
    "collapsed": true
   },
   "outputs": [],
   "source": [
    "class queue:\n",
    "  def __init__(self):\n",
    "    self.items = []\n",
    "    \n",
    "  def isempty(self):\n",
    "    return self.items == []\n",
    "    \n",
    "  def enqueue(self, item):\n",
    "    self.items.insert(0,item)\n",
    "    return \"{} has been addded to Queue\".format(item)\n",
    "    \n",
    "  def dequeue(self, item):\n",
    "    self.items.pop()\n",
    "    return \" {} has been removed from the Queue\".format(item)\n",
    "  \n",
    "  def size(self):\n",
    "    return \"size of the Queue is {}\".format(len(self.items))\n",
    "    \n",
    "    \n",
    "check = queue()\n",
    "print(check.isempty())\n",
    "print(check.enqueue(4))\n",
    "print(check.enqueue(5))\n",
    "print(check.dequeue(4))\n",
    "print(check.size())"
   ]
  },
  {
   "cell_type": "markdown",
   "metadata": {},
   "source": [
    "Stack"
   ]
  },
  {
   "cell_type": "code",
   "execution_count": null,
   "metadata": {
    "collapsed": true
   },
   "outputs": [],
   "source": [
    "class stack:\n",
    "  \n",
    "  def __init__(self):\n",
    "    self.items = []\n",
    "    \n",
    "  def pop(self):\n",
    "    return self.items.pop()\n",
    "    \n",
    "  def push(self,item):\n",
    "    if self.items is None:\n",
    "      return \"Stack is empty\"\n",
    "    else:\n",
    "      self.items.append(item)\n",
    "      return \"Stack has been loaded with {}\".format(item) \n",
    "  \n",
    "  def isempty(self):\n",
    "    if self.items == []:\n",
    "      return \"stack is empty\"\n",
    "\n",
    "  def size(self):\n",
    "    return len(self.items)\n",
    "    \n",
    "  def display(self):\n",
    "    return \"The current contents in the stack are {}\".format(self.items)\n",
    "  \n",
    "  def peek(self):\n",
    "    return self.items[len(self.items) - 1]\n",
    "\n",
    "check = stack()\n",
    "print(check.isempty())\n",
    "print(check.push(4))\n",
    "print(check.push(5))\n",
    "print(check.display())\n",
    "print(check.peek())  "
   ]
  },
  {
   "cell_type": "code",
   "execution_count": 3,
   "metadata": {
    "collapsed": false
   },
   "outputs": [
    {
     "data": {
      "text/plain": [
       "5"
      ]
     },
     "execution_count": 3,
     "metadata": {},
     "output_type": "execute_result"
    }
   ],
   "source": [
    "def get_number(x):\n",
    "    if x <= 0:\n",
    "        return 1\n",
    "    if x <= 5:\n",
    "        return 2 + get_number(x -1)\n",
    "    if x > 5 and x < 10:\n",
    "        return 3  + get_number(x-1)\n",
    "    if x >= 10:\n",
    "        return get_number(9)\n",
    "get_number(2)"
   ]
  },
  {
   "cell_type": "code",
   "execution_count": 9,
   "metadata": {
    "collapsed": false
   },
   "outputs": [
    {
     "name": "stdout",
     "output_type": "stream",
     "text": [
      "DCBA\n"
     ]
    }
   ],
   "source": [
    "def rev(a_string):\n",
    "    return a_string[::-1]\n",
    "\n",
    "def eo(a_string):\n",
    "    return a_string[::2]\n",
    "\n",
    "method = [rev,eo]\n",
    "your_string = \"ABCD\"\n",
    "op_selector = len(your_string) % 2\n",
    "print(method[op_selector](your_string))"
   ]
  },
  {
   "cell_type": "code",
   "execution_count": null,
   "metadata": {
    "collapsed": true
   },
   "outputs": [],
   "source": []
  }
 ],
 "metadata": {
  "anaconda-cloud": {},
  "kernelspec": {
   "display_name": "Python [default]",
   "language": "python",
   "name": "python3"
  },
  "language_info": {
   "codemirror_mode": {
    "name": "ipython",
    "version": 3
   },
   "file_extension": ".py",
   "mimetype": "text/x-python",
   "name": "python",
   "nbconvert_exporter": "python",
   "pygments_lexer": "ipython3",
   "version": "3.5.2"
  }
 },
 "nbformat": 4,
 "nbformat_minor": 1
}
