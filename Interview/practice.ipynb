{
 "cells": [
  {
   "cell_type": "markdown",
   "metadata": {},
   "source": [
    "Reverse a string with for loop"
   ]
  },
  {
   "cell_type": "code",
   "execution_count": 38,
   "metadata": {
    "collapsed": false
   },
   "outputs": [
    {
     "data": {
      "text/plain": [
       "'olleh'"
      ]
     },
     "execution_count": 38,
     "metadata": {},
     "output_type": "execute_result"
    }
   ],
   "source": [
    "def reverse(n):\n",
    "    output = ''\n",
    "    l = len(n) -1\n",
    "    reverse1 = [i for i in n]\n",
    "    while l >= 0:\n",
    "        output += reverse1[l]\n",
    "        l -= 1\n",
    "    return output\n",
    "\n",
    "reverse(\"hello\")"
   ]
  },
  {
   "cell_type": "code",
   "execution_count": null,
   "metadata": {
    "collapsed": true
   },
   "outputs": [],
   "source": [
    "Find the Single number "
   ]
  },
  {
   "cell_type": "code",
   "execution_count": 50,
   "metadata": {
    "collapsed": false
   },
   "outputs": [
    {
     "name": "stdout",
     "output_type": "stream",
     "text": [
      "4\n"
     ]
    }
   ],
   "source": [
    "def repeat(n):\n",
    "    dict1 = {}\n",
    "    for i in n:\n",
    "        if i not in dict1:\n",
    "            dict1[i] = 1\n",
    "        else:\n",
    "            dict1[i] += 1\n",
    "    for key,val in dict1.items():\n",
    "        if val == 1:\n",
    "            print(key)    \n",
    "    \n",
    "    \n",
    "repeat([1,1,2,2,3,3,4,5,5])"
   ]
  },
  {
   "cell_type": "code",
   "execution_count": null,
   "metadata": {
    "collapsed": true
   },
   "outputs": [],
   "source": [
    "Sum without addition"
   ]
  },
  {
   "cell_type": "code",
   "execution_count": 64,
   "metadata": {
    "collapsed": false
   },
   "outputs": [
    {
     "name": "stdout",
     "output_type": "stream",
     "text": [
      "6\n"
     ]
    }
   ],
   "source": [
    "def sum(a,b):\n",
    "    answer = 0\n",
    "    while b > 0:\n",
    "        answer += a\n",
    "        b -= 1\n",
    "    return answer\n",
    "    \n",
    "print(sum(2,3)) "
   ]
  },
  {
   "cell_type": "markdown",
   "metadata": {},
   "source": [
    "move zeroes"
   ]
  },
  {
   "cell_type": "code",
   "execution_count": 73,
   "metadata": {
    "collapsed": false
   },
   "outputs": [
    {
     "name": "stdout",
     "output_type": "stream",
     "text": [
      "[1, 3, 12, 0, 0]\n"
     ]
    }
   ],
   "source": [
    "def move(n):\n",
    "    for i,j in enumerate(n):\n",
    "        if j == 0:\n",
    "            del n[i]\n",
    "            n.append(0)\n",
    "    return n\n",
    "            \n",
    "    \n",
    "print(move([0, 1, 0, 3, 12]))"
   ]
  },
  {
   "cell_type": "code",
   "execution_count": null,
   "metadata": {
    "collapsed": true
   },
   "outputs": [],
   "source": [
    "first unique character"
   ]
  },
  {
   "cell_type": "code",
   "execution_count": 80,
   "metadata": {
    "collapsed": false
   },
   "outputs": [
    {
     "name": "stdout",
     "output_type": "stream",
     "text": [
      "Found v\n"
     ]
    }
   ],
   "source": [
    "def unique(s):\n",
    "    dict = {}\n",
    "    n = [i for i in s]\n",
    "    for i,j in enumerate(n):\n",
    "        if j not in n[i+1:]:\n",
    "            return \"Found\" + ' ' +  j\n",
    "            \n",
    "print(unique(\"loveleetcode\"))"
   ]
  },
  {
   "cell_type": "code",
   "execution_count": null,
   "metadata": {
    "collapsed": true
   },
   "outputs": [],
   "source": [
    "majority of element"
   ]
  },
  {
   "cell_type": "code",
   "execution_count": 87,
   "metadata": {
    "collapsed": false
   },
   "outputs": [
    {
     "name": "stdout",
     "output_type": "stream",
     "text": [
      "(1, 5)\n"
     ]
    }
   ],
   "source": [
    "def majority(s):\n",
    "    dict = {}\n",
    "    l = len(s)/2\n",
    "    for i in s:\n",
    "        if i not in dict:\n",
    "            dict[i] = 1\n",
    "        else:\n",
    "            dict[i] += 1\n",
    "    print(max(dict.items(), key=lambda k: k[1]))\n",
    "\n",
    "majority([1,1,1,1,1,2,3])"
   ]
  },
  {
   "cell_type": "code",
   "execution_count": null,
   "metadata": {
    "collapsed": true
   },
   "outputs": [],
   "source": [
    "anagram"
   ]
  },
  {
   "cell_type": "code",
   "execution_count": 91,
   "metadata": {
    "collapsed": false
   },
   "outputs": [
    {
     "data": {
      "text/plain": [
       "False"
      ]
     },
     "execution_count": 91,
     "metadata": {},
     "output_type": "execute_result"
    }
   ],
   "source": [
    "def anagram(s1,s2):\n",
    "    dict1 = {}\n",
    "    if len(s1) != len(s2):\n",
    "        return False\n",
    "    for i in s1:\n",
    "        if i not in dict1:\n",
    "            dict1[i] = 1\n",
    "        else:\n",
    "            dict1[i] += 1\n",
    "    for i in s2:\n",
    "        if i not in dict1:\n",
    "            return False\n",
    "        else:\n",
    "            dict1[i] -= 1\n",
    "    return True    \n",
    " \n",
    "anagram(\"car\",\"ac\")"
   ]
  },
  {
   "cell_type": "code",
   "execution_count": null,
   "metadata": {
    "collapsed": true
   },
   "outputs": [],
   "source": [
    "duplicate"
   ]
  },
  {
   "cell_type": "code",
   "execution_count": 93,
   "metadata": {
    "collapsed": false
   },
   "outputs": [
    {
     "data": {
      "text/plain": [
       "True"
      ]
     },
     "execution_count": 93,
     "metadata": {},
     "output_type": "execute_result"
    }
   ],
   "source": [
    "def duplicates(s):\n",
    "    for i,j in enumerate(s):\n",
    "        if j in s[i+1:]: return True\n",
    "    return False\n",
    "duplicates([1,2,3,4,4,6,8,9])"
   ]
  },
  {
   "cell_type": "markdown",
   "metadata": {},
   "source": [
    "intersection of 2 arrays"
   ]
  },
  {
   "cell_type": "code",
   "execution_count": 98,
   "metadata": {
    "collapsed": false
   },
   "outputs": [
    {
     "name": "stdout",
     "output_type": "stream",
     "text": [
      "[2]\n"
     ]
    }
   ],
   "source": [
    "def intarrays(s1,s2):\n",
    "    dict1 = {}\n",
    "    res = []\n",
    "    for i in s1:\n",
    "        if i in s2:\n",
    "            if i not in dict1:\n",
    "                dict1[i] = 1\n",
    "            else:\n",
    "                dict1[i] += 1\n",
    "    for i in s2:\n",
    "        if i in dict1:\n",
    "            dict1[i] -= 1\n",
    "            res.append(i)\n",
    "    return res            \n",
    "\n",
    "print(intarrays([1,2,2,1],[2,3,4]))"
   ]
  },
  {
   "cell_type": "markdown",
   "metadata": {},
   "source": [
    "missing number"
   ]
  },
  {
   "cell_type": "code",
   "execution_count": 1,
   "metadata": {
    "collapsed": false
   },
   "outputs": [
    {
     "data": {
      "text/plain": [
       "0"
      ]
     },
     "execution_count": 1,
     "metadata": {},
     "output_type": "execute_result"
    }
   ],
   "source": [
    "def missing(n):\n",
    "    return (sum([i for i in range(len(n)+1)])) - sum(n)\n",
    " \n",
    "        \n",
    "missing([1,2])"
   ]
  },
  {
   "cell_type": "markdown",
   "metadata": {},
   "source": [
    "hamming distance"
   ]
  },
  {
   "cell_type": "code",
   "execution_count": 5,
   "metadata": {
    "collapsed": false
   },
   "outputs": [
    {
     "data": {
      "text/plain": [
       "'0b100'"
      ]
     },
     "execution_count": 5,
     "metadata": {},
     "output_type": "execute_result"
    }
   ],
   "source": [
    "def hammingDistance(x,y):\n",
    "    return bin(x^y).count('1')"
   ]
  },
  {
   "cell_type": "markdown",
   "metadata": {},
   "source": [
    "Array partition"
   ]
  },
  {
   "cell_type": "code",
   "execution_count": null,
   "metadata": {
    "collapsed": true
   },
   "outputs": [],
   "source": [
    "def arraypartition(nums):\n",
    "    return sum(sorted(nums)[::2])"
   ]
  },
  {
   "cell_type": "code",
   "execution_count": null,
   "metadata": {
    "collapsed": true
   },
   "outputs": [],
   "source": [
    "Number complement"
   ]
  },
  {
   "cell_type": "code",
   "execution_count": 6,
   "metadata": {
    "collapsed": false
   },
   "outputs": [
    {
     "data": {
      "text/plain": [
       "'0b101'"
      ]
     },
     "execution_count": 6,
     "metadata": {},
     "output_type": "execute_result"
    }
   ],
   "source": [
    "bin(5)"
   ]
  },
  {
   "cell_type": "markdown",
   "metadata": {},
   "source": [
    "Reverse the words in a string "
   ]
  },
  {
   "cell_type": "code",
   "execution_count": 11,
   "metadata": {
    "collapsed": false
   },
   "outputs": [
    {
     "name": "stdout",
     "output_type": "stream",
     "text": [
      "Let's\n",
      "take\n",
      "LeetCode\n",
      "contest\n"
     ]
    },
    {
     "data": {
      "text/plain": [
       "\"s'teL ekat edoCteeL tsetnoc \""
      ]
     },
     "execution_count": 11,
     "metadata": {},
     "output_type": "execute_result"
    }
   ],
   "source": [
    "class Solution(object):\n",
    "    def reverseWords(self, s):\n",
    "        \"\"\"\n",
    "        :type s: str\n",
    "        :rtype: str\n",
    "        \"\"\"\n",
    "        output = str()\n",
    "        for i in s.split(' '):\n",
    "            output += i[::-1] + ' '\n",
    "        return output.rstrip()"
   ]
  },
  {
   "cell_type": "markdown",
   "metadata": {},
   "source": [
    "reshape the matrix"
   ]
  },
  {
   "cell_type": "code",
   "execution_count": 35,
   "metadata": {
    "collapsed": false
   },
   "outputs": [
    {
     "data": {
      "text/plain": [
       "[[1, 2, 3, 4]]"
      ]
     },
     "execution_count": 35,
     "metadata": {},
     "output_type": "execute_result"
    }
   ],
   "source": [
    "def matrixreshape(a,r,c):\n",
    "    if len(a) * len(a[0]) != r*c:\n",
    "        return a\n",
    "    flattened = [i for sublist in a for i in sublist]\n",
    "    matrix = [[0]*c for i in range(r)]\n",
    "    i = 0\n",
    "    for u in range(r):\n",
    "        for v in range(c):\n",
    "            matrix[u][v] = flattened[i]\n",
    "            i += 1\n",
    "    return matrix\n",
    "\n",
    "matrixreshape([[1,2],[3,4]],1,4)\n",
    "    "
   ]
  },
  {
   "cell_type": "markdown",
   "metadata": {},
   "source": [
    "Next greater element"
   ]
  },
  {
   "cell_type": "code",
   "execution_count": 58,
   "metadata": {
    "collapsed": false
   },
   "outputs": [
    {
     "name": "stdout",
     "output_type": "stream",
     "text": [
      "[6, 5]\n",
      "[6, 5, 4]\n",
      "[6, 5, 4, 3]\n",
      "[6, 5, 4, 3, 2]\n",
      "{2: 7}\n",
      "{2: 7, 3: 7}\n",
      "{2: 7, 3: 7, 4: 7}\n",
      "{2: 7, 3: 7, 4: 7, 5: 7}\n",
      "{2: 7, 3: 7, 4: 7, 5: 7, 6: 7}\n",
      "[7, 1]\n"
     ]
    },
    {
     "data": {
      "text/plain": [
       "[-1, 7, 7, 7, 7]"
      ]
     },
     "execution_count": 58,
     "metadata": {},
     "output_type": "execute_result"
    }
   ],
   "source": [
    "nums1 = [1,3,5,2,4]\n",
    "nums2 = [6,5,4,3,2,7,1]\n",
    "result = []\n",
    "def nextGreaterElement(findNums, nums):\n",
    "    cache = {} \n",
    "    st = []\n",
    "    for x in nums:\n",
    "        if len(st) == 0:\n",
    "            st.append(x)\n",
    "        elif x <= st[-1]:\n",
    "            st.append(x)\n",
    "            print(st)            \n",
    "        else:\n",
    "            while st and st[-1] < x:\n",
    "                cache[st.pop()] = x\n",
    "                print(cache)\n",
    "            st.append(x)\n",
    "    result = []\n",
    "    for x in findNums:\n",
    "        if x in cache:\n",
    "            result.append(cache[x])\n",
    "        else:\n",
    "            result.append(-1)\n",
    "    return result   \n",
    "\n",
    "nextGreaterElement(nums1,nums2)"
   ]
  },
  {
   "cell_type": "markdown",
   "metadata": {},
   "source": [
    "Largest uncoomon subsequence"
   ]
  },
  {
   "cell_type": "code",
   "execution_count": 62,
   "metadata": {
    "collapsed": false
   },
   "outputs": [
    {
     "data": {
      "text/plain": [
       "7"
      ]
     },
     "execution_count": 62,
     "metadata": {},
     "output_type": "execute_result"
    }
   ],
   "source": [
    "def uncommon(s1,s2):\n",
    "    return -1 if s1==s2 else max(len(s1),len(s2))\n",
    "\n",
    "uncommon(\"abbciuy\",\"cbc\")"
   ]
  },
  {
   "cell_type": "markdown",
   "metadata": {},
   "source": [
    "Consequetive ones"
   ]
  },
  {
   "cell_type": "code",
   "execution_count": 67,
   "metadata": {
    "collapsed": false
   },
   "outputs": [
    {
     "data": {
      "text/plain": [
       "3"
      ]
     },
     "execution_count": 67,
     "metadata": {},
     "output_type": "execute_result"
    }
   ],
   "source": [
    "Input = [1,1,0,1,1,1]\n",
    "def consequetive(n):\n",
    "    dict1 = []\n",
    "    count = 0\n",
    "    for i in range(len(n)):\n",
    "        if Input[i] == 1:\n",
    "            count += 1\n",
    "        else:\n",
    "            dict1.append(count)\n",
    "            count = 0\n",
    "    dict1.append(count)\n",
    "    return max(dict1)\n",
    "consequetive(Input)"
   ]
  },
  {
   "cell_type": "markdown",
   "metadata": {},
   "source": [
    "find all numbers disappeared in array"
   ]
  },
  {
   "cell_type": "code",
   "execution_count": 68,
   "metadata": {
    "collapsed": false
   },
   "outputs": [
    {
     "data": {
      "text/plain": [
       "[5, 6]"
      ]
     },
     "execution_count": 68,
     "metadata": {},
     "output_type": "execute_result"
    }
   ],
   "source": [
    "def dissappear(nums):\n",
    "    return list(set([i for i in range(1,len(nums)+1)]) - set(nums))\n",
    "\n",
    "dissappear([4,3,2,7,8,2,3,1])"
   ]
  },
  {
   "cell_type": "code",
   "execution_count": null,
   "metadata": {
    "collapsed": true
   },
   "outputs": [],
   "source": []
  }
 ],
 "metadata": {
  "anaconda-cloud": {},
  "kernelspec": {
   "display_name": "Python [default]",
   "language": "python",
   "name": "python3"
  },
  "language_info": {
   "codemirror_mode": {
    "name": "ipython",
    "version": 3
   },
   "file_extension": ".py",
   "mimetype": "text/x-python",
   "name": "python",
   "nbconvert_exporter": "python",
   "pygments_lexer": "ipython3",
   "version": "3.5.2"
  }
 },
 "nbformat": 4,
 "nbformat_minor": 2
}
