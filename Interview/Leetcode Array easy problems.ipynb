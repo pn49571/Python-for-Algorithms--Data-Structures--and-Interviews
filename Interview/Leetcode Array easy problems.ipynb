{
 "cells": [
  {
   "cell_type": "markdown",
   "metadata": {},
   "source": [
    "Missing number check"
   ]
  },
  {
   "cell_type": "code",
   "execution_count": 23,
   "metadata": {
    "collapsed": false
   },
   "outputs": [
    {
     "name": "stdout",
     "output_type": "stream",
     "text": [
      "0 1\n",
      "1 3\n",
      "2\n"
     ]
    }
   ],
   "source": [
    "list1 = [0,1,3]\n",
    "def missingnumber(n):\n",
    "    sum1 = 0\n",
    "    for i in range(len(n)-1):\n",
    "        print(n[i],n[i+1])\n",
    "        if list1[i+1] - list1[i] == 1:\n",
    "            pass\n",
    "        else:\n",
    "            sum1 += list1[i+1] - 1\n",
    "                \n",
    "    return sum1\n",
    "\n",
    "print(missingnumber(list1))"
   ]
  },
  {
   "cell_type": "markdown",
   "metadata": {},
   "source": [
    "Contains duplicate ii(nearby duplicate)"
   ]
  },
  {
   "cell_type": "code",
   "execution_count": 25,
   "metadata": {
    "collapsed": false
   },
   "outputs": [
    {
     "name": "stdout",
     "output_type": "stream",
     "text": [
      "True\n"
     ]
    }
   ],
   "source": [
    "list1 = [0,1,1,2,3,4]\n",
    "k = 2\n",
    "def containsNearbyDuplicate(nums, k):\n",
    "    dic = {}\n",
    "    for i, v in enumerate(nums):\n",
    "        if v in dic and i - dic[v] <= k:\n",
    "            return True\n",
    "        dic[v] = i\n",
    "    return False\n",
    "\n",
    "print(containsNearbyDuplicate(list1,k))"
   ]
  },
  {
   "cell_type": "markdown",
   "metadata": {},
   "source": [
    "two sum ii"
   ]
  },
  {
   "cell_type": "code",
   "execution_count": 30,
   "metadata": {
    "collapsed": false
   },
   "outputs": [
    {
     "name": "stdout",
     "output_type": "stream",
     "text": [
      "0 1\n",
      "None\n"
     ]
    }
   ],
   "source": [
    "numbers=[2, 7, 11, 15]\n",
    "target=9\n",
    "def twosum(n,k):\n",
    "    dict1 = {}\n",
    "    for i,v in enumerate(n):\n",
    "        if v not in dict1:\n",
    "            result = target - v\n",
    "            dict1[result] = i\n",
    "        else:\n",
    "            print(dict1[v],i)\n",
    "\n",
    "print(twosum(numbers,target))\n",
    "            "
   ]
  },
  {
   "cell_type": "markdown",
   "metadata": {},
   "source": [
    "majority element"
   ]
  },
  {
   "cell_type": "code",
   "execution_count": 42,
   "metadata": {
    "collapsed": false
   },
   "outputs": [
    {
     "name": "stdout",
     "output_type": "stream",
     "text": [
      "{1: 2, 2: 1, 3: 1}\n",
      "2\n",
      "[1]\n"
     ]
    }
   ],
   "source": [
    "numbers=[1,1,2,3]\n",
    "def majority(n):\n",
    "    dict1 = {}\n",
    "    #max = 0\n",
    "    for i in numbers:\n",
    "        if i not in dict1:\n",
    "            dict1[i] = 1\n",
    "        else:\n",
    "            dict1[i] += 1\n",
    "    print(dict1)\n",
    "    max1 = max(list(dict1.values()))\n",
    "    return [key for key,val in dict1.items() if val == max1]\n",
    "        \n",
    "print(majority(numbers))        "
   ]
  },
  {
   "cell_type": "markdown",
   "metadata": {},
   "source": [
    "rotate array"
   ]
  },
  {
   "cell_type": "code",
   "execution_count": 48,
   "metadata": {
    "collapsed": false
   },
   "outputs": [
    {
     "name": "stdout",
     "output_type": "stream",
     "text": [
      "[3, 4, 5, 6, 0, 1, 2]\n"
     ]
    }
   ],
   "source": [
    "numbers=7\n",
    "k = 3\n",
    "def rotatearray(n,k):\n",
    "    list1 = [x for x in range(n)]\n",
    "    return list1[k:] + list1[:k]\n",
    "\n",
    "print(rotatearray(numbers,k))"
   ]
  },
  {
   "cell_type": "markdown",
   "metadata": {},
   "source": [
    "remove duplicates"
   ]
  },
  {
   "cell_type": "code",
   "execution_count": 53,
   "metadata": {
    "collapsed": false
   },
   "outputs": [
    {
     "name": "stdout",
     "output_type": "stream",
     "text": [
      "1 1\n",
      "2 1\n",
      "3 2\n",
      "3 3\n",
      "4 3\n",
      "5 4\n",
      "5\n"
     ]
    }
   ],
   "source": [
    "numbers=[1,1,2,3,3,4,5]\n",
    "def removeduplciates(n):\n",
    "    sum1= 1\n",
    "    for i in range(len(numbers)-1):\n",
    "        print(numbers[i+1],numbers[i])\n",
    "        if numbers[i+1] != numbers[i]:\n",
    "            sum1 += 1\n",
    "    return sum1\n",
    "print(removeduplciates(numbers))            "
   ]
  },
  {
   "cell_type": "markdown",
   "metadata": {},
   "source": [
    "array partition i"
   ]
  },
  {
   "cell_type": "code",
   "execution_count": 68,
   "metadata": {
    "collapsed": false
   },
   "outputs": [
    {
     "name": "stdout",
     "output_type": "stream",
     "text": [
      "4\n"
     ]
    }
   ],
   "source": [
    "Input = [1,4,3,2]\n",
    "def arraypartition(n):\n",
    "    sortn = sorted(n)\n",
    "    sum1 = 0\n",
    "    i = 0\n",
    "    while i < (len(n) -1 ):\n",
    "        total = min(sortn[i],sortn[i+1])\n",
    "        sum1 += total \n",
    "        i += 2\n",
    "    return sum1\n",
    "    \n",
    "print(arraypartition(Input))"
   ]
  },
  {
   "cell_type": "markdown",
   "metadata": {},
   "source": [
    "array duplicates"
   ]
  },
  {
   "cell_type": "code",
   "execution_count": 69,
   "metadata": {
    "collapsed": false
   },
   "outputs": [
    {
     "name": "stdout",
     "output_type": "stream",
     "text": [
      "False\n"
     ]
    }
   ],
   "source": [
    "Input = [1,1,2,3]\n",
    "def arrayduplicates(n):\n",
    "    dict1 = {}\n",
    "    for i in n:\n",
    "        if i not in dict1:\n",
    "            dict1[i] = 1\n",
    "        else:\n",
    "            return False\n",
    "    return True\n",
    "\n",
    "print(arrayduplicates(Input))"
   ]
  },
  {
   "cell_type": "markdown",
   "metadata": {},
   "source": [
    "Search insert position"
   ]
  },
  {
   "cell_type": "code",
   "execution_count": 75,
   "metadata": {
    "collapsed": false
   },
   "outputs": [
    {
     "name": "stdout",
     "output_type": "stream",
     "text": [
      "0\n"
     ]
    }
   ],
   "source": [
    "Input = [1,3,5,6]\n",
    "def searchinsert(n,k):\n",
    "    if n[0] > k:\n",
    "        return 0\n",
    "    for i in range(len(n)):\n",
    "        if n[i] == k:\n",
    "            return i\n",
    "        elif i < len(n) -1:\n",
    "            if n[i+1] - n[i] == k:\n",
    "                return i + 1\n",
    "        else:\n",
    "            if n[i] + 1 == k:\n",
    "                return i + 1\n",
    "\n",
    "print(searchinsert(Input,0))\n",
    "                "
   ]
  },
  {
   "cell_type": "markdown",
   "metadata": {},
   "source": [
    "Find All Numbers Disappeared in an Array"
   ]
  },
  {
   "cell_type": "code",
   "execution_count": 80,
   "metadata": {
    "collapsed": false
   },
   "outputs": [
    {
     "name": "stdout",
     "output_type": "stream",
     "text": [
      "[1, 2, 3, 4, 7, 8]\n",
      "2 1\n",
      "3 2\n",
      "4 3\n",
      "7 4\n",
      "8 7\n",
      "[5, 6]\n"
     ]
    }
   ],
   "source": [
    "Input = [4,3,2,7,8,2,3,1]\n",
    "def dissappear(n):\n",
    "    list1 = []\n",
    "    sortn = sorted(list(set(Input)))\n",
    "    print(sortn)\n",
    "    for i in range(len(sortn)-1):\n",
    "        print(sortn[i+1],sortn[i])\n",
    "        if sortn[i+1] - sortn[i] != 1:\n",
    "            list1 = [i for i in range(sortn[i]+1,sortn[i+1])]\n",
    "    return list1\n",
    "print(dissappear(Input))    "
   ]
  },
  {
   "cell_type": "code",
   "execution_count": 87,
   "metadata": {
    "collapsed": false
   },
   "outputs": [
    {
     "name": "stdout",
     "output_type": "stream",
     "text": [
      "2 2\n",
      "6 4\n",
      "4 6\n",
      "8 8\n",
      "10 9\n",
      "9 10\n",
      "15 15\n",
      "[1, 2, 4, 5]\n",
      "[6, 4, 8, 10, 9]\n"
     ]
    }
   ],
   "source": [
    "Input = [2, 6, 4, 8, 10, 9, 15]\n",
    "def unsortedsubarray(n):\n",
    "    list1 = []\n",
    "    i = 0\n",
    "    for a,b in zip(n,sorted(n)):\n",
    "        print(a,b)\n",
    "        if a != b:\n",
    "            list1.append(i)\n",
    "        i += 1\n",
    "    print(list1)\n",
    "    return(n[min(list1):max(list1)+1])\n",
    "\n",
    "print(unsortedsubarray(Input))"
   ]
  },
  {
   "cell_type": "markdown",
   "metadata": {},
   "source": [
    "Product maximum"
   ]
  },
  {
   "cell_type": "code",
   "execution_count": 90,
   "metadata": {
    "collapsed": false
   },
   "outputs": [
    {
     "name": "stdout",
     "output_type": "stream",
     "text": [
      "24\n"
     ]
    }
   ],
   "source": [
    "Input = [1,2,3,4]\n",
    "def thirdmaximum(A):\n",
    "    return max(A[i] * A[j] * A[k]\n",
    "               for i in range(len(A))\n",
    "    \t       for j in range(i+1, len(A))\n",
    "    \t       for k in range(j+1, len(A)))\n",
    "\n",
    "print(thirdmaximum(Input))"
   ]
  },
  {
   "cell_type": "markdown",
   "metadata": {},
   "source": [
    "Maximum subarray"
   ]
  },
  {
   "cell_type": "code",
   "execution_count": 92,
   "metadata": {
    "collapsed": false
   },
   "outputs": [
    {
     "name": "stdout",
     "output_type": "stream",
     "text": [
      "[4, -1, 2, 1]\n"
     ]
    }
   ],
   "source": [
    "Input = [-2,1,-3,4,-1,2,1,-5,4]\n",
    "def maximumsubarray(n):\n",
    "    list1 = []\n",
    "    res = 0\n",
    "    for i in range(len(n)):\n",
    "        for j in range(i+1,len(n)):\n",
    "            list1 = n[i:j+1]\n",
    "            if sum(list1) > res:\n",
    "                res = max(res,sum(list1))\n",
    "                list2 = list1\n",
    "    return list2\n",
    "\n",
    "print(maximumsubarray(Input))"
   ]
  },
  {
   "cell_type": "markdown",
   "metadata": {},
   "source": [
    "Matrix reshape"
   ]
  },
  {
   "cell_type": "code",
   "execution_count": 106,
   "metadata": {
    "collapsed": false
   },
   "outputs": [
    {
     "name": "stdout",
     "output_type": "stream",
     "text": [
      "[[1, 2, 3, 4]]\n"
     ]
    }
   ],
   "source": [
    "nums = [[1,2],[3,4]]\n",
    "def reshape(n,r,c):\n",
    "    k = 0\n",
    "    flat = [i for x in nums for i in x]\n",
    "    ans = [[0] * c for i in range(r)]\n",
    "    for i in range(r):\n",
    "        for j in range(i,c):\n",
    "            ans[i][j] = flat[k]\n",
    "            k += 1\n",
    "    return ans\n",
    "    \n",
    "print(reshape(nums,1,4))    "
   ]
  },
  {
   "cell_type": "markdown",
   "metadata": {},
   "source": [
    "maximum selling "
   ]
  },
  {
   "cell_type": "code",
   "execution_count": 108,
   "metadata": {
    "collapsed": false
   },
   "outputs": [
    {
     "name": "stdout",
     "output_type": "stream",
     "text": [
      "0\n"
     ]
    }
   ],
   "source": [
    "Input = [7, 6, 4, 3, 1]\n",
    "def maxprofit(n):\n",
    "    res = 0\n",
    "    for i in range(len(n)):\n",
    "        for j in range(i+1,len(n)):\n",
    "            if n[i] < n[j]:\n",
    "                total = n[j] - n[i]\n",
    "                res = max(res,total)\n",
    "    return res\n",
    "\n",
    "print(maxprofit(Input))         "
   ]
  },
  {
   "cell_type": "markdown",
   "metadata": {},
   "source": [
    "Maximum consequetive ones"
   ]
  },
  {
   "cell_type": "code",
   "execution_count": 120,
   "metadata": {
    "collapsed": false
   },
   "outputs": [
    {
     "name": "stdout",
     "output_type": "stream",
     "text": [
      "3\n"
     ]
    }
   ],
   "source": [
    "Input = [1,1,0,1,1,1]\n",
    "def maximumconse(n):\n",
    "    count = 0\n",
    "    res = 0\n",
    "    for i in range(len(n)):\n",
    "        if n[i] == 1: \n",
    "            count += 1\n",
    "            if i == len(n)-1: \n",
    "                res = max(res,count) \n",
    "        else:\n",
    "            res = max(res,count)\n",
    "            count = 0\n",
    "    return res\n",
    "\n",
    "print(maximumconse(Input))\n",
    "                "
   ]
  },
  {
   "cell_type": "markdown",
   "metadata": {},
   "source": [
    "Maximum product subarray"
   ]
  },
  {
   "cell_type": "code",
   "execution_count": 127,
   "metadata": {
    "collapsed": false
   },
   "outputs": [
    {
     "name": "stdout",
     "output_type": "stream",
     "text": [
      "[2, 3]\n"
     ]
    }
   ],
   "source": [
    "Input = [2,3,-2,4]\n",
    "def productsub(n):\n",
    "    list1  = []\n",
    "    res = 0\n",
    "    for i in range(len(n)):\n",
    "        for j in range(i+1,len(n)):\n",
    "            list1 = n[i:j]\n",
    "            total = 1\n",
    "            for k in list1:\n",
    "                total *= k\n",
    "            if total > res:\n",
    "                res = max(res,total)\n",
    "                list2 = list1\n",
    "    return list2\n",
    "\n",
    "print(productsub(Input))"
   ]
  },
  {
   "cell_type": "code",
   "execution_count": null,
   "metadata": {
    "collapsed": true
   },
   "outputs": [],
   "source": []
  },
  {
   "cell_type": "code",
   "execution_count": null,
   "metadata": {
    "collapsed": true
   },
   "outputs": [],
   "source": []
  }
 ],
 "metadata": {
  "kernelspec": {
   "display_name": "Python [default]",
   "language": "python",
   "name": "python3"
  },
  "language_info": {
   "codemirror_mode": {
    "name": "ipython",
    "version": 3
   },
   "file_extension": ".py",
   "mimetype": "text/x-python",
   "name": "python",
   "nbconvert_exporter": "python",
   "pygments_lexer": "ipython3",
   "version": "3.5.2"
  }
 },
 "nbformat": 4,
 "nbformat_minor": 1
}
