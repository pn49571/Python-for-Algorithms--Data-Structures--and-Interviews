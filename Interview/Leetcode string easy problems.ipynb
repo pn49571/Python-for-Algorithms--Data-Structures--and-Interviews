{
 "cells": [
  {
   "cell_type": "markdown",
   "metadata": {},
   "source": [
    "Reverse words in a string iii"
   ]
  },
  {
   "cell_type": "code",
   "execution_count": 1,
   "metadata": {
    "collapsed": false
   },
   "outputs": [
    {
     "name": "stdout",
     "output_type": "stream",
     "text": [
      "s'teL ekat edoCteeL tsetnoc \n"
     ]
    }
   ],
   "source": [
    "Input = \"Let's take LeetCode contest\"\n",
    "def reversestringiii(n):\n",
    "    str1 = n.split(' ')\n",
    "    str2 = str()\n",
    "    for i in str1:\n",
    "        str2 += i[::-1] + ' '\n",
    "    return str2\n",
    "\n",
    "print(reversestringiii(Input))\n",
    "        "
   ]
  },
  {
   "cell_type": "markdown",
   "metadata": {},
   "source": [
    "Student attendance record i"
   ]
  },
  {
   "cell_type": "code",
   "execution_count": 4,
   "metadata": {
    "collapsed": false
   },
   "outputs": [
    {
     "name": "stdout",
     "output_type": "stream",
     "text": [
      "False\n"
     ]
    }
   ],
   "source": [
    "Input = \"PPALLL\"\n",
    "def studentattendance(n):\n",
    "    counta = 0\n",
    "    countl = 0\n",
    "    for i in n:\n",
    "        if i == 'A':\n",
    "            counta += 1\n",
    "            if counta > 1:\n",
    "                return False\n",
    "        elif i == 'L':\n",
    "            countl += 1\n",
    "            if countl > 2:\n",
    "                return False\n",
    "        else:\n",
    "            countl = 0\n",
    "    return True\n",
    "        \n",
    "print(studentattendance(Input))"
   ]
  },
  {
   "cell_type": "markdown",
   "metadata": {},
   "source": [
    "Reverse string ii"
   ]
  },
  {
   "cell_type": "code",
   "execution_count": 6,
   "metadata": {
    "collapsed": false
   },
   "outputs": [
    {
     "name": "stdout",
     "output_type": "stream",
     "text": [
      "0 2\n",
      "4 2\n",
      "bacdfeg\n"
     ]
    }
   ],
   "source": [
    "s = \"abcdefg\"\n",
    "k = 2\n",
    "def reverseStr(s, k):\n",
    "    s = list(s)\n",
    "    for i in range(0, len(s), 2*k):\n",
    "        print(i,k)\n",
    "        s[i:i+k] = reversed(s[i:i+k])\n",
    "    return \"\".join(s)\n",
    "\n",
    "print(reverseStr(s,k))"
   ]
  },
  {
   "cell_type": "markdown",
   "metadata": {},
   "source": [
    "Longest common prefix substring"
   ]
  },
  {
   "cell_type": "code",
   "execution_count": 18,
   "metadata": {
    "collapsed": false
   },
   "outputs": [
    {
     "name": "stdout",
     "output_type": "stream",
     "text": [
      "sai\n"
     ]
    }
   ],
   "source": [
    "def longestCommonPrefix(strs):\n",
    "    if not strs:\n",
    "        return \"\"\n",
    "    res = 0\n",
    "    for i in range(1,len(strs)):\n",
    "        str1 = str()\n",
    "        for a,b in zip(strs[0],strs[i]):\n",
    "            if a == b:\n",
    "                str1 += a\n",
    "        if len(str1) > res:\n",
    "            res = max(res,len(str1))\n",
    "            str2 = str1\n",
    "    return str2\n",
    "                \n",
    "print(longestCommonPrefix(['saiis','saihas','saithe']))"
   ]
  },
  {
   "cell_type": "markdown",
   "metadata": {},
   "source": [
    "Valid parenthesis"
   ]
  },
  {
   "cell_type": "code",
   "execution_count": 27,
   "metadata": {
    "collapsed": false
   },
   "outputs": [
    {
     "name": "stdout",
     "output_type": "stream",
     "text": [
      "False\n"
     ]
    }
   ],
   "source": [
    "Input = \"((())]\"\n",
    "def validparen(n):\n",
    "    list1 = ['()','[]','{}']\n",
    "    for i in range(len(n)):\n",
    "        for j in list1:\n",
    "            if j in n:\n",
    "                n = n.replace(j,'')\n",
    "    if n == '':\n",
    "        return True\n",
    "    else:\n",
    "        return False\n",
    "\n",
    "print(validparen(Input))"
   ]
  },
  {
   "cell_type": "code",
   "execution_count": null,
   "metadata": {
    "collapsed": true
   },
   "outputs": [],
   "source": []
  }
 ],
 "metadata": {
  "kernelspec": {
   "display_name": "Python [default]",
   "language": "python",
   "name": "python3"
  },
  "language_info": {
   "codemirror_mode": {
    "name": "ipython",
    "version": 3
   },
   "file_extension": ".py",
   "mimetype": "text/x-python",
   "name": "python",
   "nbconvert_exporter": "python",
   "pygments_lexer": "ipython3",
   "version": "3.5.2"
  }
 },
 "nbformat": 4,
 "nbformat_minor": 1
}
