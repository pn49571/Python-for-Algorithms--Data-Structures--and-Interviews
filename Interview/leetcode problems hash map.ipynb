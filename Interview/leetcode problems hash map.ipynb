{
 "cells": [
  {
   "cell_type": "markdown",
   "metadata": {},
   "source": [
    "Hash table"
   ]
  },
  {
   "cell_type": "markdown",
   "metadata": {},
   "source": [
    "Find all anagrams in a string"
   ]
  },
  {
   "cell_type": "code",
   "execution_count": 6,
   "metadata": {
    "collapsed": false
   },
   "outputs": [
    {
     "name": "stdout",
     "output_type": "stream",
     "text": [
      "[0, 6]\n"
     ]
    }
   ],
   "source": [
    "s =\"cbaebabacd\" \n",
    "p = \"abc\"\n",
    "\n",
    "def hashtable(s,p):\n",
    "    dict1 = {}\n",
    "    for i in range(len(s)):\n",
    "        for j in range(i+1,len(s)):\n",
    "            if sorted(p) == sorted(s[i:j]):\n",
    "                dict1[i] = 1\n",
    "    return [k for k in dict1.keys()]\n",
    "\n",
    "print(hashtable(s,p))\n",
    "            \n",
    "        \n",
    "    "
   ]
  },
  {
   "cell_type": "markdown",
   "metadata": {},
   "source": [
    "Longest palindrome"
   ]
  },
  {
   "cell_type": "code",
   "execution_count": 12,
   "metadata": {
    "collapsed": false
   },
   "outputs": [
    {
     "name": "stdout",
     "output_type": "stream",
     "text": [
      "7\n"
     ]
    }
   ],
   "source": [
    "Input = \"abccccdd\"\n",
    "def palindrome(n):\n",
    "    res = 0\n",
    "    for i in range(len(n)):\n",
    "        for j in range(i+1,len(n)):\n",
    "            if sorted(n[i:j]) == sorted(n[i:j][::-1]) and len(n[i:j]) > res:\n",
    "                res = max(res,len(n[i:j]))\n",
    "    return res\n",
    "\n",
    "print(palindrome(Input))\n",
    "    "
   ]
  },
  {
   "cell_type": "markdown",
   "metadata": {},
   "source": [
    "Number of boomerangs"
   ]
  },
  {
   "cell_type": "code",
   "execution_count": 15,
   "metadata": {
    "collapsed": false
   },
   "outputs": [
    {
     "name": "stdout",
     "output_type": "stream",
     "text": [
      "{0: 1}\n",
      "{0: 1, 1: 1}\n",
      "{0: 1, 1: 1, 4: 1}\n",
      "{1: 1}\n",
      "{0: 1, 1: 1}\n",
      "{0: 1, 1: 2}\n",
      "{4: 1}\n",
      "{1: 1, 4: 1}\n",
      "{0: 1, 1: 1, 4: 1}\n",
      "2\n"
     ]
    }
   ],
   "source": [
    "Input = [[0,0],[1,0],[2,0]]\n",
    "def numberOfBoomerangs(points):\n",
    "    for i in points:\n",
    "        for j in points:\n",
    "            print\n",
    "\n",
    "print(numberOfBoomerangs(Input))"
   ]
  },
  {
   "cell_type": "markdown",
   "metadata": {},
   "source": [
    "Top K Frequent Elements"
   ]
  },
  {
   "cell_type": "code",
   "execution_count": 34,
   "metadata": {
    "collapsed": false
   },
   "outputs": [
    {
     "name": "stdout",
     "output_type": "stream",
     "text": [
      "[1, 2]\n"
     ]
    }
   ],
   "source": [
    "Input = [1,1,1,2,2,3] \n",
    "k = 2\n",
    "from collections import Counter\n",
    "def frequent(n,k):\n",
    "    list1 = Counter(nums)\n",
    "    list1 = sorted(list1.items(), key=lambda x: x[1],reverse=True)\n",
    "    return [i[0] for i in list1][:k]\n",
    "    \n",
    "print(frequent(Input,k))"
   ]
  },
  {
   "cell_type": "code",
   "execution_count": 35,
   "metadata": {
    "collapsed": false
   },
   "outputs": [
    {
     "name": "stdout",
     "output_type": "stream",
     "text": [
      "[[1, 0, -1, 0], [1, -1, -2, 2], [0, 0, -2, 2]]\n"
     ]
    }
   ],
   "source": [
    "S = [1, 0, -1, 0, -2, 2]\n",
    "target = 0\n",
    "def foursum(n,target):\n",
    "    list1 = []\n",
    "    for i in range(len(n)):\n",
    "        for j in range(i+1,len(n)):\n",
    "            for k in range(j+1,len(n)):\n",
    "                for l in range(k+1,len(n)):\n",
    "                    sum1 = n[i] + n[j] + n[k] + n[l]\n",
    "                    if sum1 == 0:\n",
    "                        list1.append([n[i],n[j],n[k],n[l]])\n",
    "    return list1\n",
    "                        \n",
    "print(foursum(S,target))                        "
   ]
  },
  {
   "cell_type": "markdown",
   "metadata": {},
   "source": [
    "Sort Characters By Frequency"
   ]
  },
  {
   "cell_type": "code",
   "execution_count": 45,
   "metadata": {
    "collapsed": false
   },
   "outputs": [
    {
     "name": "stdout",
     "output_type": "stream",
     "text": [
      "eert\n"
     ]
    }
   ],
   "source": [
    "Input = \"tree\"\n",
    "Output = \"eert\"\n",
    "from collections import Counter\n",
    "def freqchar(n):\n",
    "    str1 = str()\n",
    "    list1 = Counter(n)\n",
    "    alphabets =  sorted(list1.items(),key=lambda x: x[1],reverse=True)\n",
    "    for i,j in alphabets:\n",
    "        str1 += (i)*(j)\n",
    "    return str1\n",
    "     \n",
    "    \n",
    "print(freqchar(Input))"
   ]
  },
  {
   "cell_type": "markdown",
   "metadata": {},
   "source": [
    "Group anagrams"
   ]
  },
  {
   "cell_type": "code",
   "execution_count": 78,
   "metadata": {
    "collapsed": false
   },
   "outputs": [
    {
     "name": "stdout",
     "output_type": "stream",
     "text": [
      "dict_values([['eat', 'tea', 'ate'], ['bat'], ['tan', 'nat']])\n"
     ]
    }
   ],
   "source": [
    "Input = [\"eat\", \"tea\", \"tan\", \"ate\", \"nat\", \"bat\"]\n",
    "def groupana(strs):\n",
    "    dic = {}\n",
    "    for str in strs:\n",
    "        temp = ''.join(sorted(str))\n",
    "        if temp in dic:\n",
    "            dic.get(temp).append( str )\n",
    "        else:\n",
    "            dic[temp] = [str]\n",
    "    return dic.values()\n",
    "\n",
    "print(groupana(Input))"
   ]
  },
  {
   "cell_type": "code",
   "execution_count": null,
   "metadata": {
    "collapsed": true
   },
   "outputs": [],
   "source": []
  }
 ],
 "metadata": {
  "kernelspec": {
   "display_name": "Python [conda root]",
   "language": "python",
   "name": "conda-root-py"
  },
  "language_info": {
   "codemirror_mode": {
    "name": "ipython",
    "version": 3
   },
   "file_extension": ".py",
   "mimetype": "text/x-python",
   "name": "python",
   "nbconvert_exporter": "python",
   "pygments_lexer": "ipython3",
   "version": "3.5.2"
  }
 },
 "nbformat": 4,
 "nbformat_minor": 1
}
