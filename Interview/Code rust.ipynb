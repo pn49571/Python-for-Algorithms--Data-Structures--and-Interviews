{
 "cells": [
  {
   "cell_type": "markdown",
   "metadata": {},
   "source": [
    "Binary search"
   ]
  },
  {
   "cell_type": "code",
   "execution_count": 14,
   "metadata": {},
   "outputs": [
    {
     "name": "stdout",
     "output_type": "stream",
     "text": [
      "3\n"
     ]
    }
   ],
   "source": [
    "list1 = [1,2,3,4,5,6,7,8]\n",
    "def binarysearch(n,k):\n",
    "    low = 0\n",
    "    high = len(n)\n",
    "    mid = 0\n",
    "    if k < n[0] or k > n[-1]:\n",
    "        return False    \n",
    "    while mid < len(n)-1:\n",
    "        mid = (low + high) //2\n",
    "        if n[mid] == k:\n",
    "            return mid\n",
    "        elif n[mid] > k:\n",
    "            high = mid -1\n",
    "        else:\n",
    "            low = mid + 1\n",
    "    return False\n",
    "\n",
    "print(binarysearch(list1,4))\n",
    "    \n",
    "        \n",
    "        "
   ]
  },
  {
   "cell_type": "markdown",
   "metadata": {
    "collapsed": true
   },
   "source": [
    "Maximum sliding window"
   ]
  },
  {
   "cell_type": "code",
   "execution_count": 18,
   "metadata": {},
   "outputs": [
    {
     "name": "stdout",
     "output_type": "stream",
     "text": [
      "1 2 3\n",
      "2 3 4\n",
      "3 4 5\n",
      "4 5 6\n",
      "5 6 7\n",
      "6 7 8\n",
      "[3, 4, 5, 6, 7, 8]\n"
     ]
    }
   ],
   "source": [
    "list1 = [1,2,3,4,5,6,7,8]\n",
    "def maximumsliding(n):\n",
    "    path = []\n",
    "    for i in range(len(n)-2):\n",
    "        print(n[i],n[i+1],n[i+2])\n",
    "        sumsn = max(n[i],n[i+1],n[i+2])\n",
    "        path.append(sumsn)\n",
    "    return path\n",
    "\n",
    "print(maximumsliding(list1))\n",
    "                    \n",
    "    "
   ]
  },
  {
   "cell_type": "markdown",
   "metadata": {},
   "source": [
    "Search sorted array\n",
    "Input arr[] = {3, 4, 5, 1, 2}\n",
    "Element to Search = 1\n",
    "  1) Find out pivot point and divide the array in two\n",
    "      sub-arrays. (pivot = 2) /*Index of 5*/\n",
    "  2) Now call binary search for one of the two sub-arrays.\n",
    "      (a) If element is greater than 0th element then\n",
    "             search in left array\n",
    "      (b) Else Search in right array\n",
    "          (1 will go in else as 1 < 0th element(3))\n",
    "  3) If element is found in selected sub-array then return index\n",
    "     Else return -1."
   ]
  },
  {
   "cell_type": "code",
   "execution_count": 27,
   "metadata": {},
   "outputs": [
    {
     "name": "stdout",
     "output_type": "stream",
     "text": [
      "Element not found\n"
     ]
    }
   ],
   "source": [
    "list1 = [4,5,6,7,0,1,2]\n",
    "def rotatedarray(n,k):\n",
    "    for i in range(len(list1)-1):\n",
    "        if n[i] > n[i+1]:\n",
    "            sumn1 = n[:i]\n",
    "            sumn2 = n[i+1:]\n",
    "            break\n",
    "    k1 = binarysearch(sumn1,k)\n",
    "    k2 = binarysearch(sumn2,k)\n",
    "    if k1:\n",
    "        return \"Found on first partition\"\n",
    "    elif k2:\n",
    "        return \"Found on second partition\"\n",
    "    else:\n",
    "        return \"Element not found\"\n",
    "    \n",
    "def binarysearch(n1,k):\n",
    "    low = 0\n",
    "    high = len(n1)\n",
    "    found = False\n",
    "    if k < n1[0] or k > n1[-1]:\n",
    "        return found\n",
    "    while low <= high and not found:\n",
    "        mid = (high + low) //2\n",
    "        if n1[mid] ==  k:\n",
    "            found = True\n",
    "        elif n1[mid] > k:\n",
    "            high = mid -1\n",
    "        else:\n",
    "            low = mid + 1\n",
    "    return found\n",
    "\n",
    "print(rotatedarray(list1,-1))"
   ]
  },
  {
   "cell_type": "markdown",
   "metadata": {},
   "source": [
    "Find smallest common number\n",
    "A simple solution is to first find intersection of two arrays and store the intersection in a temporary array, then find the intersection of third array and temporary array. Time complexity of this solution is O(n1 + n2 + n3) where n1, n2 and n3 are sizes of ar1[], ar2[] and ar3[] respectively."
   ]
  },
  {
   "cell_type": "code",
   "execution_count": 30,
   "metadata": {},
   "outputs": [
    {
     "name": "stdout",
     "output_type": "stream",
     "text": [
      "[20, 80]\n"
     ]
    }
   ],
   "source": [
    "ar1 = [1, 5, 10, 20, 40, 80]\n",
    "ar2 = [6, 7, 20, 80, 100]\n",
    "ar3 = [3, 4, 15, 20, 30, 70, 80, 120]\n",
    "\n",
    "def smallestnumber(n1,n2,n3):\n",
    "    temp = set(n1).intersection(n2)\n",
    "    temp1 = set(temp).intersection(n3)\n",
    "    return sorted(temp1)[:2]\n",
    "\n",
    "print(smallestnumber(ar1,ar2,ar3))\n"
   ]
  },
  {
   "cell_type": "markdown",
   "metadata": {},
   "source": [
    "Rotate array\n",
    "Input arr[] = [1, 2, 3, 4, 5, 6, 7], d = 2, n =7\n",
    "1) Store d elements in a temp array\n",
    "   temp[] = [1, 2]\n",
    "2) Shift rest of the arr[]\n",
    "   arr[] = [3, 4, 5, 6, 7, 6, 7]\n",
    "3) Store back the d elements\n",
    "   arr[] = [3, 4, 5, 6, 7, 1, 2]"
   ]
  },
  {
   "cell_type": "code",
   "execution_count": 33,
   "metadata": {},
   "outputs": [
    {
     "name": "stdout",
     "output_type": "stream",
     "text": [
      "[10, 20, 40, 80, 1, 5]\n"
     ]
    }
   ],
   "source": [
    "arr1 = [1, 5, 10, 20, 40, 80]\n",
    "d = 2\n",
    "def rotatearray(n,d):\n",
    "    temp = arr1[:2]\n",
    "    del arr1[:2]\n",
    "    arr1.extend(temp)\n",
    "    return arr1\n",
    "print(rotatearray(arr1,d))"
   ]
  },
  {
   "cell_type": "markdown",
   "metadata": {},
   "source": [
    "Count number of occurrences (or frequency) in a sorted array = shorter version\n",
    "Linearly search for x, count the occurrences of x and return the count."
   ]
  },
  {
   "cell_type": "code",
   "execution_count": 39,
   "metadata": {},
   "outputs": [
    {
     "name": "stdout",
     "output_type": "stream",
     "text": [
      "{1: 2, 5: 2, 10: 2, 20: 1, 40: 1, 80: 1}\n"
     ]
    }
   ],
   "source": [
    "arr1 = [1, 5,5,10,1,10, 20, 40, 80]\n",
    "from collections import Counter\n",
    "def countoccurences(n):\n",
    "    return dict(Counter(arr1))\n",
    "\n",
    "print(countoccurences(arr1))"
   ]
  },
  {
   "cell_type": "markdown",
   "metadata": {},
   "source": [
    "Find position of an element in a sorted array of infinite numbers\n",
    "Since array is sorted, the first thing clicks into mind is binary search, but the problem here is that we don’t know size of array.\n",
    "If the array is infinite, that means we don’t have proper bounds to apply binary search. So in order to find position of key, first we find bounds and then apply binary search algorithm.\n",
    "\n",
    "Let low be pointing to 1st element and high pointing to 2nd element of array, Now compare key with high index element,\n",
    "->if it is greater than high index element then copy high index in low index and double the high index.\n",
    "->if it is smaller, then apply binary search on high and low indices found."
   ]
  },
  {
   "cell_type": "code",
   "execution_count": 46,
   "metadata": {},
   "outputs": [
    {
     "name": "stdout",
     "output_type": "stream",
     "text": [
      "8\n"
     ]
    }
   ],
   "source": [
    "arr1 = [1, 5,5,10,1,10, 20, 40, 80]\n",
    "def positioninf(n,k):\n",
    "    low = 0\n",
    "    high = 1\n",
    "    val = n[high]\n",
    "    while val < k:\n",
    "        low = high\n",
    "        high = 2 * high\n",
    "        val = n[high]\n",
    "        \n",
    "    return binarysearch(n,low,high,k)\n",
    "                \n",
    "            \n",
    "def binarysearch(n1,low,high,k):\n",
    "    while low <= high:\n",
    "        mid = (high + low) //2\n",
    "        if n1[mid] ==  k:\n",
    "            return mid\n",
    "        elif n1[mid] > k:\n",
    "            high = mid -1\n",
    "        else:\n",
    "            low = mid + 1\n",
    "    return found\n",
    "            \n",
    "print(positioninf(arr1,80))        "
   ]
  },
  {
   "cell_type": "markdown",
   "metadata": {},
   "source": [
    "Move all zeroes to end of array\n",
    "Traverse the given array ‘arr’ from left to right. While traversing, maintain count of non-zero elements in array. Let the count be ‘count’. For every non-zero element arr[i], put the element at ‘arr[count]’ and increment ‘count’. After complete traversal, all non-zero elements have already been shifted to front end and ‘count’ is set as index of first 0. Now all we need to do is that run a loop which makes all elements zero from ‘count’ till end of the array."
   ]
  },
  {
   "cell_type": "code",
   "execution_count": 54,
   "metadata": {},
   "outputs": [
    {
     "name": "stdout",
     "output_type": "stream",
     "text": [
      "[1, 2, 4, 3, 5, 0, 0, 0]\n"
     ]
    }
   ],
   "source": [
    "arr = [1, 2, 0, 4, 3, 0, 5, 0]\n",
    "def movezeroes(n):\n",
    "    count = 0\n",
    "    n1 = []\n",
    "    for i in n:\n",
    "        if i != 0:\n",
    "            n1.append(i)\n",
    "            count += 1\n",
    "    while count < len(n):\n",
    "        count += 1\n",
    "        n1.append(0)\n",
    "    return n1\n",
    "\n",
    "print(movezeroes(arr))"
   ]
  },
  {
   "cell_type": "markdown",
   "metadata": {},
   "source": [
    "Find maximum single sell profit\n",
    "If we are allowed to buy and sell only once, then we can use following algorithm. Maximum difference between two elements. Here we are allowed to buy and sell multiple times. Following is algorithm for this problem.\n",
    "1. Find the local minima and store it as starting index. If not exists, return.\n",
    "2. Find the local maxima. and store it as ending index. If we reach the end, set the end as ending index.\n",
    "3. Update the solution (Increment count of buy sell pairs)\n",
    "4. Repeat the above steps if end is not reached."
   ]
  },
  {
   "cell_type": "code",
   "execution_count": 55,
   "metadata": {},
   "outputs": [
    {
     "name": "stdout",
     "output_type": "stream",
     "text": [
      "5\n"
     ]
    }
   ],
   "source": [
    "arr = [1, 2, 0, 4, 3, 0, 5, 0]\n",
    "def maximkumprofit(n):\n",
    "    res = 0\n",
    "    for i in range(len(arr)):\n",
    "        for j in range(i+1,len(arr)):\n",
    "            sum1 = n[j] - n[i]\n",
    "            if sum1 > res:\n",
    "                res = max(res,sum1)\n",
    "    return res\n",
    "\n",
    "print(maximkumprofit(arr))"
   ]
  },
  {
   "cell_type": "markdown",
   "metadata": {},
   "source": [
    "Quick sort\n",
    "\n",
    "QuickSort is a Divide and Conquer algorithm. It picks an element as pivot and partitions the given array around the picked pivot. There are many different versions of quickSort that pick pivot in different ways.\n",
    "\n",
    "Always pick first element as pivot.\n",
    "Always pick last element as pivot (implemented below)\n",
    "Pick a random element as pivot.\n",
    "Pick median as pivot.\n",
    "\n",
    "The key process in quickSort is partition(). Target of partitions is, given an array and an element x of array as pivot, put x at its correct position in sorted array and put all smaller elements (smaller than x) before x, and put all greater elements (greater than x) after x. All this should be done in linear time."
   ]
  },
  {
   "cell_type": "code",
   "execution_count": 59,
   "metadata": {},
   "outputs": [
    {
     "name": "stdout",
     "output_type": "stream",
     "text": [
      "0\n",
      "0\n",
      "0\n",
      "1\n",
      "2\n",
      "3\n",
      "4\n",
      "5\n"
     ]
    }
   ],
   "source": [
    "arr = [1, 2, 0, 4, 3, 0, 5, 0]\n",
    "def partition(arr,low,high):\n",
    "    i = (low -1)\n",
    "    pivot = arr[high]\n",
    "    \n",
    "    for j in range(low,high):\n",
    "        if arr[j] <= pivot:\n",
    "            i = i+1\n",
    "            arr[i],arr[j] = arr[j],arr[i]\n",
    "    arr[i+1],arr[high] = arr[high],arr[i+1]\n",
    "    return (i+1)\n",
    "\n",
    "def quicksort(arr,low,high):\n",
    "    if low < high:\n",
    "        pi = partition(arr,low,high)\n",
    "        quicksort(arr,low,pi-1)\n",
    "        quicksort(arr,pi+1,high)\n",
    "\n",
    "n = len(arr)\n",
    "quicksort(arr,0,n-1)\n",
    "for i in range(n):\n",
    "    print(\"%d\" %arr[i])"
   ]
  },
  {
   "cell_type": "markdown",
   "metadata": {},
   "source": [
    "#incomplete\n",
    "Merge overlapping intervals\n",
    "1. Sort the intervals based on increasing order of \n",
    "    starting time.\n",
    "2. Push the first interval on to a stack.\n",
    "3. For each interval do the following\n",
    "   a. If the current interval does not overlap with the stack \n",
    "       top, push it.\n",
    "   b. If the current interval overlaps with stack top and ending\n",
    "       time of current interval is more than that of stack top, \n",
    "       update stack top with the ending  time of current interval.\n",
    "4. At the end stack contains the merged intervals. "
   ]
  },
  {
   "cell_type": "code",
   "execution_count": 63,
   "metadata": {},
   "outputs": [
    {
     "name": "stdout",
     "output_type": "stream",
     "text": [
      "[1, 3, 2, 4, 5, 7, 6, 8]\n",
      "None\n"
     ]
    }
   ],
   "source": [
    "list1 =  [[1,3], [2,4], [5,7], [6,8]]\n",
    "def increasingorder(n):\n",
    "    stack = []\n",
    "    for i in list1:\n",
    "        if stack is None:\n",
    "            for j in i:\n",
    "                stack.append(j)\n",
    "        elif i[0] < stack[-1]:\n",
    "            for j in i:\n",
    "                stack.append(j)\n",
    "            elements = min\n",
    "            \n",
    "            \n",
    "    print(stack)\n",
    "    \n",
    "print(increasingorder(list1))"
   ]
  },
  {
   "cell_type": "markdown",
   "metadata": {},
   "source": [
    "Sum of two values"
   ]
  },
  {
   "cell_type": "code",
   "execution_count": 69,
   "metadata": {},
   "outputs": [
    {
     "name": "stdout",
     "output_type": "stream",
     "text": [
      "(4, 3)\n"
     ]
    }
   ],
   "source": [
    "list1 = [1,2,3,4,5,6,7,8]\n",
    "def sumvalues(n,k):\n",
    "    dict1 = []\n",
    "    for i in range(len(n)):\n",
    "        target = k - n[i]\n",
    "        if n[i] not in dict1:\n",
    "            dict1.append(target)\n",
    "        else:\n",
    "            return (n[i],target)\n",
    "    return \"Not found\"\n",
    "print(sumvalues(list1,7))\n",
    "    "
   ]
  },
  {
   "cell_type": "markdown",
   "metadata": {},
   "source": [
    "Reverse words in a sentance"
   ]
  },
  {
   "cell_type": "code",
   "execution_count": 70,
   "metadata": {},
   "outputs": [
    {
     "name": "stdout",
     "output_type": "stream",
     "text": [
      "['here', 'is', 'sai']\n"
     ]
    }
   ],
   "source": [
    "sentance = \"sai is here\"\n",
    "def order(n):\n",
    "    return ((sentance).split(' '))[::-1]\n",
    "\n",
    "print(order(sentance))"
   ]
  },
  {
   "cell_type": "markdown",
   "metadata": {},
   "source": [
    "Remove duplicates in a string"
   ]
  },
  {
   "cell_type": "code",
   "execution_count": 78,
   "metadata": {},
   "outputs": [
    {
     "name": "stdout",
     "output_type": "stream",
     "text": [
      "sai\n"
     ]
    }
   ],
   "source": [
    "word = \"saaaaai\"\n",
    "def duplicates(n):\n",
    "    dict1 = {}\n",
    "    str1 = str()\n",
    "    for i in n:\n",
    "        if i in dict1:\n",
    "            dict1[i] += 1\n",
    "        else:\n",
    "            dict1[i] = 1\n",
    "            \n",
    "    return ''.join([key for key,val in dict1.items()])\n",
    "        \n",
    "\n",
    "print(duplicates(word))\n",
    "    "
   ]
  },
  {
   "cell_type": "markdown",
   "metadata": {},
   "source": [
    "Remove white spaces\n"
   ]
  },
  {
   "cell_type": "code",
   "execution_count": 80,
   "metadata": {},
   "outputs": [
    {
     "name": "stdout",
     "output_type": "stream",
     "text": [
      "saaai\n"
     ]
    }
   ],
   "source": [
    "string =  \" saaai \"\n",
    "def removewhite(n):\n",
    "    temp = []\n",
    "    for i in n:\n",
    "        if i != ' ':\n",
    "            temp.append(i)\n",
    "    return ''.join(temp)\n",
    "\n",
    "print(removewhite(string))"
   ]
  },
  {
   "cell_type": "markdown",
   "metadata": {},
   "source": [
    "String segmantation"
   ]
  },
  {
   "cell_type": "code",
   "execution_count": null,
   "metadata": {
    "collapsed": true
   },
   "outputs": [],
   "source": [
    "Input1 = [\"i\", \"like\", \"sam\", \"sung\", \"samsung\", \"mobile\", \"ice\", \\\n",
    "         \"cream\", \"icecream\", \"man\", \"go\", \"mango\"]\n",
    "Input2 = ilike\n",
    "\n",
    "def recursive(n1,n2):\n",
    "    for i in range(1,len(n2)):\n",
    "        if n2[:i]  \n",
    "        \n"
   ]
  },
  {
   "cell_type": "markdown",
   "metadata": {},
   "source": [
    "Palindrome substrings"
   ]
  },
  {
   "cell_type": "code",
   "execution_count": 106,
   "metadata": {},
   "outputs": [
    {
     "name": "stdout",
     "output_type": "stream",
     "text": [
      "[[0, 0, 0, 0, 0, 0], [0, 0, 0, 0, 0, 0]]\n",
      "Below are 5 pali sub-strings\n",
      "a\n",
      "b\n",
      "aba\n",
      "aa\n",
      "aaa\n"
     ]
    }
   ],
   "source": [
    "def palindromeSubStrs(s):\n",
    "    m = dict()\n",
    "    n = len(s)\n",
    " \n",
    "    # table for storing results (2 rows for odd-\n",
    "    # and even-length palindromes\n",
    "    R = [[0 for x in range(n+1)] for x in range(2)]\n",
    "    print(R)\n",
    " \n",
    "    # Find all sub-string palindromes from the given input\n",
    "    # string insert 'guards' to iterate easily over s\n",
    "    s = \"@\" + s + \"#\"\n",
    " \n",
    "    for j in range(2):\n",
    "        rp = 0    # length of 'palindrome radius'\n",
    "        R[j][0] = 0\n",
    " \n",
    "        i = 1\n",
    "        while i <= n:\n",
    " \n",
    "            # Attempt to expand palindrome centered at i\n",
    "            while s[i - rp - 1] == s[i + j + rp]:\n",
    "                rp += 1 # Incrementing the length of palindromic\n",
    "                        # radius as and when we find valid palindrome\n",
    " \n",
    "            # Assigning the found palindromic length to odd/even\n",
    "            # length array\n",
    "            R[j][i] = rp\n",
    "            k = 1\n",
    "            while (R[j][i - k] != rp - k) and (k < rp):\n",
    "                R[j][i+k] = min(R[j][i-k], rp - k)\n",
    "                k += 1\n",
    "            rp = max(rp - k, 0)\n",
    "            i += k\n",
    " \n",
    "    # remove guards\n",
    "    s = s[1:len(s)-1]\n",
    " \n",
    "    # Put all obtained palindromes in a hash map to\n",
    "    # find only distinct palindrome\n",
    "    m[s[0]] = 1\n",
    "    for i in range(1,n):\n",
    "        for j in range(2):\n",
    "            for rp in range(R[j][i],0,-1):\n",
    "                m[s[i - rp - 1 : i - rp - 1 + 2 * rp + j]] = 1\n",
    "        m[s[i]] = 1\n",
    " \n",
    "    # printing all distinct palindromes from hash map\n",
    "    print(\"Below are \" + str(len(m)) + \" pali sub-strings\")\n",
    "    for i in m:\n",
    "        print (i)\n",
    " \n",
    "# Driver program\n",
    "palindromeSubStrs(\"abaaa\")"
   ]
  },
  {
   "cell_type": "markdown",
   "metadata": {},
   "source": [
    "Regular expression without re library = dynamic programming"
   ]
  },
  {
   "cell_type": "code",
   "execution_count": null,
   "metadata": {
    "collapsed": true
   },
   "outputs": [],
   "source": [
    "string = \"aaaab\"\n",
    "pattern = \"a*b\"\n",
    "def regular(string):\n",
    "    \n",
    "    "
   ]
  },
  {
   "cell_type": "markdown",
   "metadata": {},
   "source": [
    "Integer division = without division operator\n",
    "Keep subtracting the divisor from dividend until dividend becomes less than divisor. Then divisor will be the remainder at the end and the number of times subtraction is done is actually the quotient. "
   ]
  },
  {
   "cell_type": "code",
   "execution_count": 109,
   "metadata": {},
   "outputs": [
    {
     "name": "stdout",
     "output_type": "stream",
     "text": [
      "(2, 1)\n"
     ]
    }
   ],
   "source": [
    "a1 = 7\n",
    "a2 = 3\n",
    "def divide(a1,a2):\n",
    "    count = 0\n",
    "    while a1 > a2:\n",
    "        a1 = a1 - a2\n",
    "        count += 1\n",
    "    return(count,a1)\n",
    "\n",
    "print(divide(a1,a2))"
   ]
  },
  {
   "cell_type": "markdown",
   "metadata": {},
   "source": [
    "Pythagorean Triplet in an array"
   ]
  },
  {
   "cell_type": "code",
   "execution_count": 116,
   "metadata": {},
   "outputs": [
    {
     "name": "stdout",
     "output_type": "stream",
     "text": [
      "[[3, 4, 5]]\n"
     ]
    }
   ],
   "source": [
    "arr = [3, 1, 4, 6, 5]\n",
    "def pythagorean(n):\n",
    "    result = []\n",
    "    for i in range(len(n)):\n",
    "        for j in range(i+1,len(n)):\n",
    "            for k in range(j+1,len(n)):\n",
    "                x,y,z = n[i]**2,n[j]**2,n[k]**2\n",
    "                if x == y+z or y == x+z or z == x + y:\n",
    "                    result.append([n[i],n[j],n[k]])\n",
    "    return result\n",
    "\n",
    "print(pythagorean(arr))\n",
    "                "
   ]
  },
  {
   "cell_type": "markdown",
   "metadata": {},
   "source": [
    "Print all combinations of a number that adds up to it"
   ]
  },
  {
   "cell_type": "code",
   "execution_count": 122,
   "metadata": {},
   "outputs": [
    {
     "name": "stdout",
     "output_type": "stream",
     "text": [
      "[1]\n",
      "[1, 2]\n",
      "[2]\n",
      "[3]\n",
      "[[1, 1, 1, 1], [1, 1, 2], [2, 2], [1, 3], [4]]\n"
     ]
    }
   ],
   "source": [
    "def partitions(n):\n",
    "    if n:\n",
    "        for subpart in partitions(n-1):\n",
    "            yield [1] + subpart\n",
    "            if subpart and (len(subpart) < 2 or subpart[1] > subpart[0]):\n",
    "                yield [subpart[0] + 1] + subpart[1:]\n",
    "    else:\n",
    "        yield []\n",
    "\n",
    "print(list(partitions(4)))"
   ]
  },
  {
   "cell_type": "markdown",
   "metadata": {},
   "source": [
    "Find the missing numnber"
   ]
  },
  {
   "cell_type": "code",
   "execution_count": 129,
   "metadata": {},
   "outputs": [
    {
     "name": "stdout",
     "output_type": "stream",
     "text": [
      "5\n"
     ]
    }
   ],
   "source": [
    "Input = [1,2,3,4,6,7,8,9]\n",
    "def missing(n):\n",
    "    sum1 = [i for i in range(min(n),max(n))]\n",
    "    for i,j in zip(sum1,Input):\n",
    "        if i != j:\n",
    "            return i\n",
    "    return False\n",
    "\n",
    "print(missing(Input))"
   ]
  },
  {
   "cell_type": "markdown",
   "metadata": {},
   "source": [
    "Permute String  -  all combinations"
   ]
  },
  {
   "cell_type": "code",
   "execution_count": 130,
   "metadata": {},
   "outputs": [
    {
     "name": "stdout",
     "output_type": "stream",
     "text": [
      "['abc', 'acb', 'bac', 'bca', 'cab', 'cba']\n"
     ]
    }
   ],
   "source": [
    "def perms(s):        \n",
    "    if(len(s)==1): \n",
    "        return [s]\n",
    "    result=[]\n",
    "    for i,v in enumerate(s):\n",
    "        result += [v+p for p in perms(s[:i]+s[i+1:])]\n",
    "    return result\n",
    "\n",
    "\n",
    "print(perms('abc'))"
   ]
  },
  {
   "cell_type": "markdown",
   "metadata": {},
   "source": [
    "All subsets of a given set"
   ]
  },
  {
   "cell_type": "code",
   "execution_count": 135,
   "metadata": {},
   "outputs": [
    {
     "name": "stdout",
     "output_type": "stream",
     "text": [
      "[[], [3], [2], [2, 3], [1], [1, 3], [1, 2], [1, 2, 3]]\n"
     ]
    }
   ],
   "source": [
    "set1 = [1,2,3]\n",
    "def sub_sets(set1):\n",
    "    return findsubset([],set1)\n",
    "\n",
    "def findsubset(prev,subset):\n",
    "    if subset:\n",
    "        cur = subset[0]\n",
    "        return findsubset(prev,subset[1:]) + findsubset(prev+[cur],subset[1:])\n",
    "    return [prev]\n",
    "\n",
    "print(sub_sets(set1))"
   ]
  },
  {
   "cell_type": "markdown",
   "metadata": {},
   "source": [
    "Check if a string is a valid number"
   ]
  },
  {
   "cell_type": "code",
   "execution_count": 149,
   "metadata": {},
   "outputs": [
    {
     "name": "stdout",
     "output_type": "stream",
     "text": [
      "True\n"
     ]
    }
   ],
   "source": [
    "Input = \" -7.95 \"\n",
    "def valid(n):\n",
    "    n = n.strip()\n",
    "    if len(n) == 0:\n",
    "        return False\n",
    "    elif n[0] != '+' and n[0] != '-' and n[0] != '.' and n[0].isdigit() == False:\n",
    "        return False\n",
    "    flagdot = False\n",
    "    for i in range(1,len(n)):\n",
    "        if n[i].isdigit() == False and n[i] != '+' \\\n",
    "        and n[i] != '-' and n[i] != '.' and n[i] != 'e':\n",
    "            return False\n",
    "        if n[i] == '.':\n",
    "            if flagdot == True:\n",
    "                return False\n",
    "            elif i+1 >= len(n):\n",
    "                return False\n",
    "            elif n[i+1].isdigit() == False:\n",
    "                return False\n",
    "        elif n[i] == 'e':\n",
    "            flagdot = True\n",
    "            if n[i-1].isdigit() == False:\n",
    "                return False\n",
    "            elif i+1 >= len(n):\n",
    "                return False\n",
    "            elif n[i+1].isdigit() and n[i+1] != '+' and \\\n",
    "            n[i+1] != '-':\n",
    "                return False\n",
    "    return True\n",
    "\n",
    "print(valid(Input))"
   ]
  },
  {
   "cell_type": "code",
   "execution_count": null,
   "metadata": {
    "collapsed": true
   },
   "outputs": [],
   "source": [
    "SQUARE ROOT"
   ]
  },
  {
   "cell_type": "code",
   "execution_count": 150,
   "metadata": {},
   "outputs": [
    {
     "name": "stdout",
     "output_type": "stream",
     "text": [
      "2.0\n"
     ]
    }
   ],
   "source": [
    "Input = 4\n",
    "def squareroot(n):\n",
    "    return n**0.5\n",
    "\n",
    "print(squareroot(Input))"
   ]
  },
  {
   "cell_type": "markdown",
   "metadata": {},
   "source": [
    "Find a triplet that sum to a given value\n",
    "A simple method is to generate all possible triplets and compare the sum of every triplet with the given value. The following code implements this simple method using three nested loops."
   ]
  },
  {
   "cell_type": "code",
   "execution_count": 151,
   "metadata": {},
   "outputs": [
    {
     "name": "stdout",
     "output_type": "stream",
     "text": [
      "[[12, 3, 9]]\n"
     ]
    }
   ],
   "source": [
    "Input = [12, 3, 4, 1, 6, 9]\n",
    "s = 24\n",
    "def triplet(Input,s):\n",
    "    list1 = []\n",
    "    for i in range(len(Input)):\n",
    "        for j in range(i+1,len(Input)):\n",
    "            for k in range(j+1,len(Input)):\n",
    "                if Input[i] + Input[j] + Input[k] == s:\n",
    "                    list1.append([Input[i],Input[j],Input[k]])\n",
    "    return list1\n",
    "\n",
    "print(triplet(Input,s))\n",
    "                    "
   ]
  },
  {
   "cell_type": "markdown",
   "metadata": {},
   "source": [
    "Make Columns and Rows Zeros"
   ]
  },
  {
   "cell_type": "code",
   "execution_count": 164,
   "metadata": {},
   "outputs": [
    {
     "name": "stdout",
     "output_type": "stream",
     "text": [
      "2 0\n",
      "[[0, 2, 3], [0, 2, 1], [0, 0, 0], [0, 2, 3]]\n"
     ]
    }
   ],
   "source": [
    "Input = [[1,2,3],[3,2,1],[0,2,1],[1,2,3]]\n",
    "def matrix(n):\n",
    "    r = len(n)\n",
    "    c = len(n[0])\n",
    "    rows = 0\n",
    "    cols = 0\n",
    "    ans = [([0]*c) for row in range(r)]\n",
    "    for row in range(r):\n",
    "        for col in range(c):\n",
    "            if n[row][col] == 0:\n",
    "                rows = row\n",
    "                cols = col   \n",
    "    print(rows,cols)\n",
    "    for row in range(r):\n",
    "        for col in range(c):\n",
    "            if row != rows and col != cols:\n",
    "                ans[row][col] = n[row][col]\n",
    "            \n",
    "    return ans\n",
    "    \n",
    "print(matrix(Input))\n",
    "    "
   ]
  },
  {
   "cell_type": "markdown",
   "metadata": {},
   "source": [
    "Search a matrix\n",
    "Search (find position of) a given key in 2D matrix. All rows and columns are sorted.\n",
    "\n",
    "A better solution is to use Divide and Conquer to find the element. Time complexity of this solution is O(n1.58). Please refer this article for details.\n",
    "\n",
    "Below is an efficient solution that works in O(n) time.\n",
    "1) Start with top right element\n",
    "2) Loop: compare this element e with x\n",
    "….i) if they are equal then return its position\n",
    "…ii) e < x then move it to down (if out of bound of matrix then break return false) ..iii) e > x then move it to left (if out of bound of matrix then break return false)\n",
    "3) repeat the i), ii) and iii) till you find element or returned false"
   ]
  },
  {
   "cell_type": "code",
   "execution_count": 170,
   "metadata": {},
   "outputs": [
    {
     "name": "stdout",
     "output_type": "stream",
     "text": [
      "(3, 2)\n"
     ]
    }
   ],
   "source": [
    "Input = [[1,2,3],[4,5,6],[7,8,9],[10,11,12]]\n",
    "k = 12\n",
    "def search(n,k):\n",
    "    i = 0\n",
    "    j = len(Input[0]) - 1\n",
    "    while (i < len(Input) and j >= 0):\n",
    "        if n[i][j] == k:\n",
    "            return (i,j)\n",
    "        elif n[i][j] > k:\n",
    "            j = j -1\n",
    "        else:\n",
    "            i = i+1\n",
    "    return \"Element not found\"\n",
    "\n",
    "print(search(Input,k))"
   ]
  },
  {
   "cell_type": "markdown",
   "metadata": {},
   "source": [
    "LRU Cache"
   ]
  },
  {
   "cell_type": "code",
   "execution_count": null,
   "metadata": {
    "collapsed": true
   },
   "outputs": [],
   "source": [
    "import collections\n",
    "\n",
    "class LRUCache:\n",
    "    def __init__(self, capacity):\n",
    "        self.capacity = capacity\n",
    "        self.cache = collections.OrderedDict()\n",
    "\n",
    "    def get(self, key):\n",
    "        try:\n",
    "            value = self.cache.pop(key)\n",
    "            self.cache[key] = value\n",
    "            return value\n",
    "        except KeyError:\n",
    "            return -1\n",
    "\n",
    "    def set(self, key, value):\n",
    "        try:\n",
    "            self.cache.pop(key)\n",
    "        except KeyError:\n",
    "            if len(self.cache) >= self.capacity:\n",
    "                self.cache.popitem(last=False)\n",
    "        self.cache[key] = value"
   ]
  },
  {
   "cell_type": "markdown",
   "metadata": {},
   "source": [
    "Fibonacci numbers"
   ]
  },
  {
   "cell_type": "code",
   "execution_count": null,
   "metadata": {
    "collapsed": true
   },
   "outputs": [],
   "source": [
    "def fibonacci(n):\n",
    "    if n==0 or n ==1:\n",
    "        return n\n",
    "    return fibonacci(n-1) + fibonacci(n-2)"
   ]
  },
  {
   "cell_type": "markdown",
   "metadata": {},
   "source": [
    "MaxSum Subsequence - Nonadjacent Elements\n",
    "Find an efficient algorithm to find maximum sum of a subsequence in an array such that no consecutive elements are part of this subsequence."
   ]
  },
  {
   "cell_type": "code",
   "execution_count": 173,
   "metadata": {},
   "outputs": [
    {
     "name": "stdout",
     "output_type": "stream",
     "text": [
      "110\n"
     ]
    }
   ],
   "source": [
    "def find_max_sum(arr):\n",
    "    incl = 0\n",
    "    excl = 0\n",
    "    \n",
    "    for i in arr:\n",
    "        # Current max excluding i (No ternary in \n",
    "        # Python)\n",
    "        new_excl = max(incl,excl)\n",
    "        # Current max including i\n",
    "        incl = excl + i\n",
    "        excl = new_excl\n",
    "        # return max of incl and excl\n",
    "    return max(incl,excl)\n",
    " \n",
    "\n",
    "arr = [5, 5, 10, 100, 10, 5]\n",
    "print(find_max_sum(arr))"
   ]
  },
  {
   "cell_type": "markdown",
   "metadata": {},
   "source": [
    "Coin change / Game scoring:\n",
    "This problem is a variation of coin change problem and can be solved in O(n) time and O(n) auxiliary space.\n",
    "\n",
    "The idea is to create a table of size n+1 to store counts of all scores from 0 to n. For every possible move (3, 5 and 10), increment values in table."
   ]
  },
  {
   "cell_type": "code",
   "execution_count": 188,
   "metadata": {},
   "outputs": [
    {
     "name": "stdout",
     "output_type": "stream",
     "text": [
      "2\n"
     ]
    }
   ],
   "source": [
    "def number_of_ways_with_table(n):\n",
    "  table = [0] * (n + 1)\n",
    "  table[0] = 1\n",
    "  for i in range(3, n + 1):\n",
    "    table[i] += table[i - 3]\n",
    "  for i in range(5, n + 1):\n",
    "    table[i] += table[i - 5]\n",
    "  for i in range(10, n + 1):\n",
    "    table[i] += table[i - 10]\n",
    "  return table[-1]\n",
    "\n",
    "# print number_of_ways(13)\n",
    "print(number_of_ways_with_table(13))"
   ]
  },
  {
   "cell_type": "markdown",
   "metadata": {},
   "source": [
    "Coin change = Number of ways a coin can be changed"
   ]
  },
  {
   "cell_type": "code",
   "execution_count": 191,
   "metadata": {},
   "outputs": [
    {
     "name": "stdout",
     "output_type": "stream",
     "text": [
      "2\n"
     ]
    }
   ],
   "source": [
    "# Dynamic Programming Python implementation of Coin \n",
    "# Change problem\n",
    "def count(S, m, n):\n",
    " \n",
    "    # table[i] will be storing the number of solutions for\n",
    "    # value i. We need n+1 rows as the table is constructed\n",
    "    # in bottom up manner using the base case (n = 0)\n",
    "    # Initialize all table values as 0\n",
    "    table = [0 for k in range(n+1)]\n",
    " \n",
    "    # Base case (If given value is 0)\n",
    "    table[0] = 1\n",
    " \n",
    "    # Pick all coins one by one and update the table[] values\n",
    "    # after the index greater than or equal to the value of the\n",
    "    # picked coin\n",
    "    for i in range(0,m):\n",
    "        for j in range(S[i],n+1):\n",
    "            table[j] += table[j-S[i]]\n",
    " \n",
    "    return table[n]\n",
    " \n",
    "# Driver program to test above function\n",
    "arr = [3, 5]\n",
    "m = len(arr)\n",
    "n = 20\n",
    "x = count(arr, m, n)\n",
    "print (x)\n",
    " \n",
    "# This code is contributed by Afzal Ansari"
   ]
  },
  {
   "cell_type": "markdown",
   "metadata": {},
   "source": [
    "Edit distance"
   ]
  },
  {
   "cell_type": "code",
   "execution_count": 192,
   "metadata": {},
   "outputs": [
    {
     "name": "stdout",
     "output_type": "stream",
     "text": [
      "3\n"
     ]
    }
   ],
   "source": [
    "# A Naive recursive Python program to fin minimum number\n",
    "# operations to convert str1 to str2\n",
    "def editDistance(str1, str2, m , n):\n",
    " \n",
    "    # If first string is empty, the only option is to\n",
    "    # insert all characters of second string into first\n",
    "    if m==0:\n",
    "         return n\n",
    " \n",
    "    # If second string is empty, the only option is to\n",
    "    # remove all characters of first string\n",
    "    if n==0:\n",
    "        return m\n",
    " \n",
    "    # If last characters of two strings are same, nothing\n",
    "    # much to do. Ignore last characters and get count for\n",
    "    # remaining strings.\n",
    "    if str1[m-1]==str2[n-1]:\n",
    "        return editDistance(str1,str2,m-1,n-1)\n",
    " \n",
    "    # If last characters are not same, consider all three\n",
    "    # operations on last character of first string, recursively\n",
    "    # compute minimum cost for all three operations and take\n",
    "    # minimum of three values.\n",
    "    return 1 + min(editDistance(str1, str2, m, n-1),    # Insert\n",
    "                   editDistance(str1, str2, m-1, n),    # Remove\n",
    "                   editDistance(str1, str2, m-1, n-1)    # Replace\n",
    "                   )\n",
    " \n",
    "# Driver program to test the above function\n",
    "str1 = \"sunday\"\n",
    "str2 = \"saturday\"\n",
    "print(editDistance(str1, str2, len(str1), len(str2)))"
   ]
  },
  {
   "cell_type": "markdown",
   "metadata": {},
   "source": [
    "Find K sum subsets"
   ]
  },
  {
   "cell_type": "code",
   "execution_count": null,
   "metadata": {
    "collapsed": true
   },
   "outputs": [],
   "source": [
    "#Basic recursive\n",
    "def subset_sum(numbers,target):\n",
    "    #Base cases\n",
    "    if target == 0:\n",
    "        return True\n",
    "    if len(numbers) == 0:\n",
    "        return False\n",
    "    #Recursive case\n",
    "    return (subset_sum(numbers[1:],target-numbers[0]) or \\\n",
    "           subset_sum(numbers[1:],target))\n",
    "\n"
   ]
  },
  {
   "cell_type": "code",
   "execution_count": 203,
   "metadata": {},
   "outputs": [
    {
     "name": "stdout",
     "output_type": "stream",
     "text": [
      "True\n"
     ]
    }
   ],
   "source": [
    "def sub_sets(numbers,target):\n",
    "    table = [[False]*(target + 1) for x in range(len(numbers))]\n",
    "    table[0][0] = True\n",
    "    if target >= numbers[0]:\n",
    "        table[0][numbers[0]] = True\n",
    "    for i in range(0, len(numbers) - 1):\n",
    "        next_number = numbers[i+1]\n",
    "        for j in range(target + 1):\n",
    "            if table[i][j]:\n",
    "                table[i+1][j] = True\n",
    "                if j + next_number <= target:\n",
    "                    table[i+1][j+next_number] = True\n",
    "    return table[len(numbers)-1][target]\n",
    "\n",
    "print(sub_sets([19,3,5,10,11],18))"
   ]
  },
  {
   "cell_type": "markdown",
   "metadata": {},
   "source": [
    "Balanced brackets"
   ]
  },
  {
   "cell_type": "code",
   "execution_count": null,
   "metadata": {
    "collapsed": true
   },
   "outputs": [],
   "source": [
    "def matches(brackets):\n",
    "    stack = []\n",
    "    for char in brackets:\n",
    "        if char in \"({[\":\n",
    "            stack.append(char)\n",
    "        else:\n",
    "            if len(stack) == 0:\n",
    "                return False\n",
    "        opener = stack.pop()\n",
    "        if opener == \"(\" and char != \")\":\n",
    "            return False\n",
    "        if opener == \"[\" and char != \"]\":\n",
    "            return False\n",
    "        if opener == \"{\" and char != \"}\":\n",
    "            return False\n",
    "        return len(stack) == 0\n",
    "#runtime is 0(n) because all needs to be checked. advantages is that \n",
    "#it can be used for stream of characters\n"
   ]
  },
  {
   "cell_type": "markdown",
   "metadata": {},
   "source": [
    "Reverse linked list"
   ]
  },
  {
   "cell_type": "code",
   "execution_count": null,
   "metadata": {
    "collapsed": true
   },
   "outputs": [],
   "source": [
    "class listnode():\n",
    "    def __init__(self,item,next=None):\n",
    "        self.item = item\n",
    "        self.next = None\n",
    "\n",
    "        \n",
    "def solution_iter(start_node):\n",
    "    curr = start_node\n",
    "    prev = None\n",
    "    next = None\n",
    "    while curr:\n",
    "        next = curr.next\n",
    "        curr.next = prev\n",
    "        prev = curr\n",
    "        current = next\n",
    "    return prev\n",
    "\n",
    "def recursive(start_node):\n",
    "    #base case \n",
    "    if not start_node.next:\n",
    "        return start_node\n",
    "    else:\n",
    "        new_start = recursive(start_node.next)\n",
    "    start_node.next.next = start_node\n",
    "    start_node.next = None\n",
    "    return new_start\n",
    "    \n",
    "    "
   ]
  },
  {
   "cell_type": "code",
   "execution_count": 36,
   "metadata": {},
   "outputs": [
    {
     "name": "stdout",
     "output_type": "stream",
     "text": [
      "14\n",
      "15\n",
      "10\n",
      "12\n",
      "159\n",
      "18\n",
      "14\n",
      "15\n",
      "15\n",
      "16\n",
      "14\n",
      "15\n",
      "===============\n",
      "15\n",
      "14\n",
      "16\n",
      "15\n",
      "15\n",
      "14\n",
      "18\n",
      "159\n",
      "12\n",
      "10\n",
      "15\n",
      "14\n"
     ]
    }
   ],
   "source": [
    "class Node:\n",
    "    def __init__(self, data):\n",
    "        self.data = data\n",
    "        self.next = None\n",
    "\n",
    "class LinkedList(Node):\n",
    "    def __init__(self):\n",
    "        self.head = None\n",
    "\n",
    "    def insert(self, data):\n",
    "        node = Node(data)\n",
    "        node.next=self.head\n",
    "        self.head = node\n",
    "\n",
    "    def printl(self):\n",
    "        current  = self.head\n",
    "        while current:\n",
    "            print(current.data)\n",
    "            current= current.next\n",
    "            \n",
    "    def removeDups(self):\n",
    "        current = second = self.head\n",
    "        while current is not None:\n",
    "            while second.next is not None:   # check second.next here rather than second\n",
    "                if second.next.data == current.data:   # check second.next.data, not second.data\n",
    "                    second.next = second.next.next   # cut second.next out of the list\n",
    "                else:\n",
    "                    second = second.next   # put this line in an else, to avoid skipping items\n",
    "            current = second = current.next\n",
    "    #Iterate trough the linked list. In loop, change next to prev, prev to current and current to next.\n",
    "    def reverse(self):\n",
    "        prev = None\n",
    "        current = self.head\n",
    "        while(current is not None):\n",
    "            next = current.next\n",
    "            current.next = prev\n",
    "            prev = current\n",
    "            current = next\n",
    "        self.head = prev\n",
    "    \n",
    "    '''If node to be deleted is root, simply delete it. \n",
    "    To delete a middle node, we must have pointer to the \n",
    "    node previous to the node to be deleted. So \n",
    "    if positions is not zero, we run a loop position-1 times \n",
    "    and get pointer to the previous node.'''\n",
    "    \n",
    "    def deleteNode(self, position):\n",
    "        if self.head == None:\n",
    "            return\n",
    "        temp = self.head\n",
    " \n",
    "        if position == 0:\n",
    "            self.head = temp.next\n",
    "            temp = None\n",
    "            return\n",
    " \n",
    "        for i in range(position -1 ):\n",
    "            temp = temp.next\n",
    "            if temp is None:\n",
    "                break\n",
    " \n",
    "        if temp is None:\n",
    "            return\n",
    "        if temp.next is None:\n",
    "            return\n",
    " \n",
    "        next = temp.next.next\n",
    " \n",
    "\n",
    "        temp.next = None\n",
    " \n",
    "        temp.next = next\n",
    "    \n",
    "            \n",
    "l= LinkedList()\n",
    "l.insert(15)\n",
    "l.insert(14)\n",
    "l.insert(16)\n",
    "l.insert(15)\n",
    "l.insert(15)\n",
    "l.insert(14)\n",
    "l.insert(18)\n",
    "l.insert(159)\n",
    "l.insert(12)\n",
    "l.insert(10)\n",
    "l.insert(15)\n",
    "l.insert(14)\n",
    "\n",
    "l.printl()\n",
    "print(\"===============\")\n",
    "\n",
    "l.reverse()\n",
    "l.printl()\n"
   ]
  },
  {
   "cell_type": "markdown",
   "metadata": {},
   "source": [
    "Intersection of two linked lists"
   ]
  },
  {
   "cell_type": "code",
   "execution_count": 56,
   "metadata": {},
   "outputs": [
    {
     "name": "stdout",
     "output_type": "stream",
     "text": [
      "##################\n",
      "2\n"
     ]
    }
   ],
   "source": [
    "def intersection(k,l):\n",
    "    m = getsize(k)\n",
    "    n= getsize(l)\n",
    "    \n",
    "    if m < n:\n",
    "        return intersection(l,k)\n",
    "    \n",
    "    current1 = k.head\n",
    "    current2 = l.head\n",
    "    \n",
    "    for i in range(m - n):\n",
    "        current1 = current1.next\n",
    "    \n",
    "    while current1 and current2:\n",
    "        if current1.data == current2.data:\n",
    "            return current1.data\n",
    "        \n",
    "        current1 = current1.next\n",
    "        current2 = current2.next\n",
    "    \n",
    "    return None\n",
    "\n",
    "def getsize(k):\n",
    "    n = 0\n",
    "    current = k.head\n",
    "    while current:\n",
    "        current = current.next\n",
    "        n += 1\n",
    "    return n\n",
    "\n",
    "\n",
    "def prin(k):\n",
    "    current  = k.head\n",
    "    while current:\n",
    "        print(current.data)\n",
    "        current= current.next\n",
    "        \n",
    "l= LinkedList()\n",
    "l.head = Node(159)\n",
    "current = l.head\n",
    "for i in range(1,10):\n",
    "    new_node = Node(i)\n",
    "    current.next = new_node\n",
    "    current = new_node\n",
    "#l.printl()\n",
    "\n",
    "print(\"##################\")\n",
    "l1= LinkedList()\n",
    "l1.head = Node(2)\n",
    "current = l1.head\n",
    "for i in range(3,10):\n",
    "    new_node = Node(i)\n",
    "    current.next = new_node\n",
    "    current = new_node\n",
    "#l1.printl()\n",
    "\n",
    "print(intersection(l,l1))\n",
    "#prin(l)"
   ]
  },
  {
   "cell_type": "markdown",
   "metadata": {},
   "source": [
    "Print Nth node from last node\n",
    "1) Calculate the length of Linked List. Let the length be len.\n",
    "2) Print the (len – n + 1)th node from the begining of the Linked List."
   ]
  },
  {
   "cell_type": "code",
   "execution_count": 58,
   "metadata": {},
   "outputs": [
    {
     "name": "stdout",
     "output_type": "stream",
     "text": [
      "7\n"
     ]
    }
   ],
   "source": [
    "def nthnode(k,n):\n",
    "    m = getsize(k)\n",
    "    \n",
    "    current = k.head\n",
    "    \n",
    "    size = 0\n",
    "    while current:\n",
    "        if size == (m-n + 1):\n",
    "            return current.data             \n",
    "        \n",
    "        current = current.next\n",
    "        size += 1\n",
    "    return None\n",
    "\n",
    "def getsize(k):\n",
    "    n = 0\n",
    "    current = k.head\n",
    "    while current:\n",
    "        current = current.next\n",
    "        n += 1\n",
    "    return n\n",
    "\n",
    "\n",
    "def prin(k):\n",
    "    current  = k.head\n",
    "    while current:\n",
    "        print(current.data)\n",
    "        current= current.next\n",
    "        \n",
    "l= LinkedList()\n",
    "l.head = Node(159)\n",
    "current = l.head\n",
    "for i in range(1,10):\n",
    "    new_node = Node(i)\n",
    "    current.next = new_node\n",
    "    current = new_node\n",
    "    \n",
    "print(nthnode(l,4))"
   ]
  },
  {
   "cell_type": "markdown",
   "metadata": {},
   "source": [
    "Swap head with any given node\n",
    "The idea it to first search x and y in given linked list. If any of them is not present, then return. While searching for x and y, keep track of current and previous pointers. First change next of previous pointers, then change next of current pointers. "
   ]
  },
  {
   "cell_type": "code",
   "execution_count": 63,
   "metadata": {},
   "outputs": [
    {
     "name": "stdout",
     "output_type": "stream",
     "text": [
      "159\n",
      "1\n",
      "2\n",
      "3\n",
      "4\n",
      "5\n",
      "6\n",
      "7\n",
      "8\n",
      "9\n",
      "None\n"
     ]
    },
    {
     "ename": "AttributeError",
     "evalue": "'int' object has no attribute 'data'",
     "output_type": "error",
     "traceback": [
      "\u001b[1;31m---------------------------------------------------------------------------\u001b[0m",
      "\u001b[1;31mAttributeError\u001b[0m                            Traceback (most recent call last)",
      "\u001b[1;32m<ipython-input-63-ad9d4d630b41>\u001b[0m in \u001b[0;36m<module>\u001b[1;34m()\u001b[0m\n\u001b[0;32m     27\u001b[0m \u001b[0ml\u001b[0m\u001b[1;33m.\u001b[0m\u001b[0mprintl\u001b[0m\u001b[1;33m(\u001b[0m\u001b[1;33m)\u001b[0m\u001b[1;33m\u001b[0m\u001b[0m\n\u001b[0;32m     28\u001b[0m \u001b[0mprint\u001b[0m\u001b[1;33m(\u001b[0m\u001b[0mswapnode\u001b[0m\u001b[1;33m(\u001b[0m\u001b[0ml\u001b[0m\u001b[1;33m,\u001b[0m\u001b[1;36m4\u001b[0m\u001b[1;33m)\u001b[0m\u001b[1;33m)\u001b[0m\u001b[1;33m\u001b[0m\u001b[0m\n\u001b[1;32m---> 29\u001b[1;33m \u001b[0ml\u001b[0m\u001b[1;33m.\u001b[0m\u001b[0mprintl\u001b[0m\u001b[1;33m(\u001b[0m\u001b[1;33m)\u001b[0m\u001b[1;33m\u001b[0m\u001b[0m\n\u001b[0m",
      "\u001b[1;32m<ipython-input-36-9a6b2eb2ae20>\u001b[0m in \u001b[0;36mprintl\u001b[1;34m(self)\u001b[0m\n\u001b[0;32m     16\u001b[0m         \u001b[0mcurrent\u001b[0m  \u001b[1;33m=\u001b[0m \u001b[0mself\u001b[0m\u001b[1;33m.\u001b[0m\u001b[0mhead\u001b[0m\u001b[1;33m\u001b[0m\u001b[0m\n\u001b[0;32m     17\u001b[0m         \u001b[1;32mwhile\u001b[0m \u001b[0mcurrent\u001b[0m\u001b[1;33m:\u001b[0m\u001b[1;33m\u001b[0m\u001b[0m\n\u001b[1;32m---> 18\u001b[1;33m             \u001b[0mprint\u001b[0m\u001b[1;33m(\u001b[0m\u001b[0mcurrent\u001b[0m\u001b[1;33m.\u001b[0m\u001b[0mdata\u001b[0m\u001b[1;33m)\u001b[0m\u001b[1;33m\u001b[0m\u001b[0m\n\u001b[0m\u001b[0;32m     19\u001b[0m             \u001b[0mcurrent\u001b[0m\u001b[1;33m=\u001b[0m \u001b[0mcurrent\u001b[0m\u001b[1;33m.\u001b[0m\u001b[0mnext\u001b[0m\u001b[1;33m\u001b[0m\u001b[0m\n\u001b[0;32m     20\u001b[0m \u001b[1;33m\u001b[0m\u001b[0m\n",
      "\u001b[1;31mAttributeError\u001b[0m: 'int' object has no attribute 'data'"
     ]
    }
   ],
   "source": [
    "def swapnode(k,n):\n",
    "    current = k.head\n",
    "    headdata = k.head\n",
    "    headpoint = current.next\n",
    "    nodepoint = None\n",
    "    nodedata = None\n",
    "    while current:\n",
    "        if current.data == n:\n",
    "            nodepoint = current.next\n",
    "            nodedata = current.data\n",
    "            k.head = nodedata\n",
    "            current = headdata\n",
    "            current.next = headpoint\n",
    "            return None\n",
    "        current = current.next\n",
    "    return None\n",
    "        \n",
    "l= LinkedList()\n",
    "l.head = Node(159)\n",
    "current = l.head\n",
    "for i in range(1,10):\n",
    "    new_node = Node(i)\n",
    "    current.next = new_node\n",
    "    current = new_node\n",
    "    \n",
    "l.printl()\n",
    "print(swapnode(l,4))\n",
    "l.printl()"
   ]
  },
  {
   "cell_type": "code",
   "execution_count": 70,
   "metadata": {},
   "outputs": [
    {
     "name": "stdout",
     "output_type": "stream",
     "text": [
      "##################\n"
     ]
    },
    {
     "ename": "AttributeError",
     "evalue": "'Node' object has no attribute 'head'",
     "output_type": "error",
     "traceback": [
      "\u001b[1;31m---------------------------------------------------------------------------\u001b[0m",
      "\u001b[1;31mAttributeError\u001b[0m                            Traceback (most recent call last)",
      "\u001b[1;32m<ipython-input-70-a7826cc05cf4>\u001b[0m in \u001b[0;36m<module>\u001b[1;34m()\u001b[0m\n\u001b[0;32m     31\u001b[0m     \u001b[0mcurrent\u001b[0m \u001b[1;33m=\u001b[0m \u001b[0mnew_node\u001b[0m\u001b[1;33m\u001b[0m\u001b[0m\n\u001b[0;32m     32\u001b[0m \u001b[1;33m\u001b[0m\u001b[0m\n\u001b[1;32m---> 33\u001b[1;33m \u001b[0mprint\u001b[0m\u001b[1;33m(\u001b[0m\u001b[0mmergeTwoLists\u001b[0m\u001b[1;33m(\u001b[0m\u001b[0ml\u001b[0m\u001b[1;33m,\u001b[0m\u001b[0ml1\u001b[0m\u001b[1;33m)\u001b[0m\u001b[1;33m)\u001b[0m\u001b[1;33m\u001b[0m\u001b[0m\n\u001b[0m",
      "\u001b[1;32m<ipython-input-70-a7826cc05cf4>\u001b[0m in \u001b[0;36mmergeTwoLists\u001b[1;34m(l1, l2)\u001b[0m\n\u001b[0;32m      9\u001b[0m         \u001b[1;32melse\u001b[0m\u001b[1;33m:\u001b[0m\u001b[1;33m\u001b[0m\u001b[0m\n\u001b[0;32m     10\u001b[0m             \u001b[0mtemp\u001b[0m \u001b[1;33m=\u001b[0m \u001b[0mcurrent2\u001b[0m\u001b[1;33m\u001b[0m\u001b[0m\n\u001b[1;32m---> 11\u001b[1;33m             \u001b[0mtemp\u001b[0m\u001b[1;33m.\u001b[0m\u001b[0mnext\u001b[0m \u001b[1;33m=\u001b[0m \u001b[0mmergeTwoLists\u001b[0m\u001b[1;33m(\u001b[0m\u001b[0mcurrent1\u001b[0m\u001b[1;33m,\u001b[0m\u001b[0mcurrent2\u001b[0m\u001b[1;33m.\u001b[0m\u001b[0mnext\u001b[0m\u001b[1;33m)\u001b[0m\u001b[1;33m\u001b[0m\u001b[0m\n\u001b[0m\u001b[0;32m     12\u001b[0m             \u001b[0mpointer\u001b[0m \u001b[1;33m=\u001b[0m \u001b[0mpointer\u001b[0m\u001b[1;33m.\u001b[0m\u001b[0mnext\u001b[0m\u001b[1;33m\u001b[0m\u001b[0m\n\u001b[0;32m     13\u001b[0m     \u001b[1;32mreturn\u001b[0m \u001b[0mtemp\u001b[0m\u001b[1;33m\u001b[0m\u001b[0m\n",
      "\u001b[1;32m<ipython-input-70-a7826cc05cf4>\u001b[0m in \u001b[0;36mmergeTwoLists\u001b[1;34m(l1, l2)\u001b[0m\n\u001b[0;32m      1\u001b[0m \u001b[1;32mdef\u001b[0m \u001b[0mmergeTwoLists\u001b[0m\u001b[1;33m(\u001b[0m\u001b[0ml1\u001b[0m\u001b[1;33m,\u001b[0m \u001b[0ml2\u001b[0m\u001b[1;33m)\u001b[0m\u001b[1;33m:\u001b[0m\u001b[1;33m\u001b[0m\u001b[0m\n\u001b[0;32m      2\u001b[0m     \u001b[0mtemp\u001b[0m \u001b[1;33m=\u001b[0m \u001b[1;32mNone\u001b[0m\u001b[1;33m\u001b[0m\u001b[0m\n\u001b[1;32m----> 3\u001b[1;33m     \u001b[0mcurrent1\u001b[0m \u001b[1;33m=\u001b[0m \u001b[0ml1\u001b[0m\u001b[1;33m.\u001b[0m\u001b[0mhead\u001b[0m\u001b[1;33m\u001b[0m\u001b[0m\n\u001b[0m\u001b[0;32m      4\u001b[0m     \u001b[0mcurrent2\u001b[0m \u001b[1;33m=\u001b[0m \u001b[0ml2\u001b[0m\u001b[1;33m.\u001b[0m\u001b[0mhead\u001b[0m\u001b[1;33m\u001b[0m\u001b[0m\n\u001b[0;32m      5\u001b[0m     \u001b[1;32mwhile\u001b[0m \u001b[0mcurrent1\u001b[0m \u001b[1;33m!=\u001b[0m\u001b[1;32mNone\u001b[0m \u001b[1;32mand\u001b[0m \u001b[0mcurrent2\u001b[0m \u001b[1;33m!=\u001b[0m\u001b[1;32mNone\u001b[0m\u001b[1;33m:\u001b[0m\u001b[1;33m\u001b[0m\u001b[0m\n",
      "\u001b[1;31mAttributeError\u001b[0m: 'Node' object has no attribute 'head'"
     ]
    }
   ],
   "source": [
    "def mergeTwoLists(l1, l2):\n",
    "    temp = None\n",
    "    current1 = l1.head\n",
    "    current2 = l2.head\n",
    "    while current1 !=None and current2 !=None:\n",
    "        if current1.data <= current2.data:\n",
    "            temp = current1\n",
    "            temp.next = mergeTwoLists(current1.next,current2)\n",
    "        else:\n",
    "            temp = current2\n",
    "            temp.next = mergeTwoLists(current1,current2.next)\n",
    "            pointer = pointer.next\n",
    "    return temp\n",
    "\n",
    "l= LinkedList()\n",
    "l.head = Node(159)\n",
    "current = l.head\n",
    "for i in range(1,10):\n",
    "    new_node = Node(i)\n",
    "    current.next = new_node\n",
    "    current = new_node\n",
    "#l.printl()\n",
    "\n",
    "print(\"##################\")\n",
    "l1= LinkedList()\n",
    "l1.head = Node(2)\n",
    "current = l1.head\n",
    "for i in range(3,10):\n",
    "    new_node = Node(i)\n",
    "    current.next = new_node\n",
    "    current = new_node\n",
    "    \n",
    "print(mergeTwoLists(l,l1))"
   ]
  },
  {
   "cell_type": "markdown",
   "metadata": {},
   "source": [
    "Reverse even nodes linked list"
   ]
  },
  {
   "cell_type": "code",
   "execution_count": null,
   "metadata": {
    "collapsed": true
   },
   "outputs": [],
   "source": [
    "def rearrange(self):\n",
    "         \n",
    "        # If linked list has less than 3 nodes, no change\n",
    "        # is required \n",
    "        odd = self.head\n",
    "        if (odd is None or odd.next is None or\n",
    "            odd.next.next is None):\n",
    "            return\n",
    " \n",
    "        # Even points to the beginning of even list\n",
    "        even = odd.next\n",
    "         \n",
    "        # Remove the first even node\n",
    "        odd.next = odd.next.next\n",
    "         \n",
    "        # Odd points to next node in odd list\n",
    "        odd = odd.next\n",
    "         \n",
    "        # Set terminator for even list\n",
    "        even.next = None\n",
    "     \n",
    "        # Traverse the list\n",
    "        while (odd and odd.next):\n",
    "            # Store the next node in odd list\n",
    "            temp = odd.next.next\n",
    "             \n",
    "            # Link the next even node at the beginning\n",
    "            # of even list\n",
    "            odd.next.next = even\n",
    "            even = odd.next\n",
    " \n",
    "            # Remove the even node from middle\n",
    "            odd.next = temp\n",
    "             \n",
    "            # Move odd to the next odd node\n",
    "            if temp is not None:\n",
    "                odd = temp\n",
    "         \n",
    "        # Append the even list at the end of odd list \n",
    "        odd.next = even "
   ]
  },
  {
   "cell_type": "markdown",
   "metadata": {},
   "source": [
    "Rotate linked list by K\n",
    "To rotate the linked list, we need to change next of kth node to NULL, next of last node to previous head node, and finally change head to (k+1)th node. So we need to get hold of three nodes: kth node, (k+1)th node and last node.\n",
    "Traverse the list from beginning and stop at kth node. Store pointer to kth node. We can get (k+1)th node using kthNode->next. Keep traversing till end and store pointer to last node also. "
   ]
  },
  {
   "cell_type": "code",
   "execution_count": null,
   "metadata": {
    "collapsed": true
   },
   "outputs": [],
   "source": [
    "    def rotate(self, k):\n",
    "        if k == 0: \n",
    "            return\n",
    "         \n",
    "        # Let us understand the below code for example k = 4\n",
    "        # and list = 10->20->30->40->50->60\n",
    "        current = self.head\n",
    "         \n",
    "        # current will either point to kth or NULL after\n",
    "        # this loop\n",
    "        # current will point to node 40 in the above example\n",
    "        count = 1\n",
    "        while(count <k and current is not None):\n",
    "            current = current.next\n",
    "            count += 1\n",
    "     \n",
    "        # If current is None, k is greater than or equal \n",
    "        # to count of nodes in linked list. Don't change\n",
    "        # the list in this case\n",
    "        if current is None:\n",
    "            return\n",
    " \n",
    "        # current points to kth node. Store it in a variable\n",
    "        # kth node points to node 40 in the above example\n",
    "        kthNode = current \n",
    "     \n",
    "        # current will point to lsat node after this loop\n",
    "        # current will point to node 60 in above example\n",
    "        while(current.next is not None):\n",
    "            current = current.next\n",
    " \n",
    "        # Change next of last node to previous head\n",
    "        # Next of 60 is now changed to node 10\n",
    "        current.next = self.head\n",
    "         \n",
    "        # Change head to (k+1)th node\n",
    "        # head is not changed to node 50\n",
    "        self.head = kthNode.next\n",
    " \n",
    "        # change next of kth node to NULL \n",
    "        # next of 40 is not NULL \n",
    "        kthNode.next = None\n",
    " "
   ]
  },
  {
   "cell_type": "markdown",
   "metadata": {},
   "source": [
    "Add 2 linked list\n",
    "Traverse both lists. One by one pick nodes of both lists and add the values. If sum is more than 10 then make carry as 1 and reduce sum. If one list has more elements than the other then consider remaining values of this list as 0."
   ]
  },
  {
   "cell_type": "code",
   "execution_count": null,
   "metadata": {
    "collapsed": true
   },
   "outputs": [],
   "source": [
    "def addTwoLists(self, first, second):\n",
    "        prev = None\n",
    "        temp = None\n",
    "        carry = 0\n",
    " \n",
    "        # While both list exists\n",
    "        while(first is not None or second is not None):\n",
    " \n",
    "            # Calculate the value of next digit in\n",
    "            # resultant list\n",
    "            # The next digit is sum of following things\n",
    "            # (i) Carry\n",
    "            # (ii) Next digit of first list (if ther is a\n",
    "            # next digit)\n",
    "            # (iii) Next digit of second list ( if there\n",
    "            # is a next digit)\n",
    "            fdata = 0 if first is None else first.data\n",
    "            sdata = 0 if second is None else second.data\n",
    "            Sum = carry + fdata + sdata\n",
    " \n",
    "            # update carry for next calculation\n",
    "            carry = 1 if Sum >= 10 else 0\n",
    " \n",
    "            # update sum if it is greater than 10\n",
    "            Sum = Sum if Sum < 10 else Sum % 10\n",
    " \n",
    "            # Create a new node with sum as data\n",
    "            temp = Node(Sum)\n",
    " \n",
    "            # if this is the first node then set it as head\n",
    "            # of resultant list\n",
    "            if self.head is None:\n",
    "                self.head = temp\n",
    "            else :\n",
    "                prev.next = temp \n",
    " \n",
    "            # Set prev for next insertion\n",
    "            prev = temp\n",
    " \n",
    "            # Move first and second pointers to next nodes\n",
    "            if first is not None:\n",
    "                first = first.next\n",
    "            if second is not None:\n",
    "                second = second.next\n",
    " \n",
    "        if carry > 0:\n",
    "            temp.next = Node(carry)"
   ]
  },
  {
   "cell_type": "markdown",
   "metadata": {},
   "source": [
    "Copy linked list with arbitrary pointer = deep copy\n",
    "http://www.geeksforgeeks.org/a-linked-list-with-next-and-arbit-pointer/"
   ]
  },
  {
   "cell_type": "code",
   "execution_count": null,
   "metadata": {
    "collapsed": true
   },
   "outputs": [],
   "source": [
    "# class RandomListNode:\n",
    "#     def __init__(self, x):\n",
    "#         self.label = x\n",
    "#         self.next = None\n",
    "#         self.random = None\n",
    "\n",
    "\n",
    "def copyRandomList(self, head):\n",
    "    return self.copyRandomListRec(head, {})\n",
    "        \n",
    "def copyRandomListRec(self, head, used):\n",
    "    if head == None:\n",
    "        return None\n",
    "    if head in used:\n",
    "        return used[head]\n",
    "    node = RandomListNode(head.label)\n",
    "    used[head] = node\n",
    "    node.next = self.copyRandomListRec(head.next, used)\n",
    "    node.random = self.copyRandomListRec(head.random, used)\n",
    "    return node"
   ]
  },
  {
   "cell_type": "markdown",
   "metadata": {},
   "source": [
    "Determine if Two Trees are Identical"
   ]
  },
  {
   "cell_type": "code",
   "execution_count": null,
   "metadata": {
    "collapsed": true
   },
   "outputs": [],
   "source": [
    "# Python program to determine if two trees are identical\n",
    " \n",
    "# A binary tree node has data, pointer to left child\n",
    "# and a pointer to right child\n",
    "class Node:\n",
    "    # Constructor to create a new node\n",
    "    def __init__(self, data):\n",
    "        self.data = data\n",
    "        self.left = None\n",
    "        self.right = None\n",
    "     \n",
    " \n",
    "# Given two trees, return true if they are structurally\n",
    "# identical\n",
    "def identicalTrees(a, b):\n",
    "     \n",
    "    # 1. Both empty\n",
    "    if a is None and b is None:\n",
    "        return True\n",
    " \n",
    "    # 2. Both non-empty -> Compare them\n",
    "    if a is not None and b is not None:\n",
    "        return ((a.data == b.data) and\n",
    "                identicalTrees(a.left, b.left)and\n",
    "                identicalTrees(a.right, b.right))\n",
    "     \n",
    "    # 3. one empty, one not -- false\n",
    "    return False\n",
    " \n",
    "# Driver program to test identicalTress function\n",
    "root1 = Node(1)\n",
    "root2 = Node(1)\n",
    "root1.left = Node(2)\n",
    "root1.right = Node(3)\n",
    "root1.left.left = Node(4)\n",
    "root1.left.right = Node(5)\n",
    " \n",
    "root2.left = Node(2)\n",
    "root2.right = Node(3)\n",
    "root2.left.left = Node(4)\n",
    "root2.left.right = Node(5)\n",
    " \n",
    "if identicalTrees(root1, root2):\n",
    "    print \"Both trees are identical\"\n",
    "else:\n",
    "    print \"Trees are not identical\"\n",
    " \n",
    "# This code is contributed by Nikhil Kumar Singh(nickzuck_007)"
   ]
  },
  {
   "cell_type": "markdown",
   "metadata": {},
   "source": [
    "Inorder tree traversal:\n",
    "          1\n",
    "          /   \\\n",
    "        2      3\n",
    "      /  \\\n",
    "    4     5\n",
    "\n",
    "Step 1 Creates an empty stack: S = NULL\n",
    "\n",
    "Step 2 sets current as address of root: current -> 1\n",
    "\n",
    "Step 3 Pushes the current node and set current = current->left until current is NULL\n",
    "     current -> 1\n",
    "     push 1: Stack S -> 1\n",
    "     current -> 2\n",
    "     push 2: Stack S -> 2, 1\n",
    "     current -> 4\n",
    "     push 4: Stack S -> 4, 2, 1\n",
    "     current = NULL\n",
    "\n",
    "Step 4 pops from S\n",
    "     a) Pop 4: Stack S -> 2, 1\n",
    "     b) print \"4\"\n",
    "     c) current = NULL /*right of 4 */ and go to step 3\n",
    "Since current is NULL step 3 doesn't do anything. \n",
    "\n",
    "Step 4 pops again.\n",
    "     a) Pop 2: Stack S -> 1\n",
    "     b) print \"2\"\n",
    "     c) current -> 5/*right of 2 */ and go to step 3\n",
    "\n",
    "Step 3 pushes 5 to stack and makes current NULL\n",
    "     Stack S -> 5, 1\n",
    "     current = NULL\n",
    "\n",
    "Step 4 pops from S\n",
    "     a) Pop 5: Stack S -> 1\n",
    "     b) print \"5\"\n",
    "     c) current = NULL /*right of 5 */ and go to step 3\n",
    "Since current is NULL step 3 doesn't do anything\n",
    "\n",
    "Step 4 pops again.\n",
    "     a) Pop 1: Stack S -> NULL\n",
    "     b) print \"1\"\n",
    "     c) current -> 3 /*right of 5 */  \n",
    "\n",
    "Step 3 pushes 3 to stack and makes current NULL\n",
    "     Stack S -> 3\n",
    "     current = NULL\n",
    "\n",
    "Step 4 pops from S\n",
    "     a) Pop 3: Stack S -> NULL\n",
    "     b) print \"3\"\n",
    "     c) current = NULL /*right of 3 */  \n",
    "\n",
    "Traversal is done now as stack S is empty and current is NULL. "
   ]
  },
  {
   "cell_type": "code",
   "execution_count": null,
   "metadata": {
    "collapsed": true
   },
   "outputs": [],
   "source": [
    "# Python program to do inorder traversal without recursion\n",
    " \n",
    "# A binary tree node\n",
    "class Node:\n",
    "     \n",
    "    # Constructor to create a new node\n",
    "    def __init__(self, data):\n",
    "        self.data = data \n",
    "        self.left = None\n",
    "        self.right = None\n",
    " \n",
    "# Iterative function for inorder tree traversal\n",
    "def inOrder(root):\n",
    "     \n",
    "    # Set current to root of binary tree\n",
    "    current = root \n",
    "    s = [] # initialze stack\n",
    "    done = 0\n",
    "     \n",
    "    while(not done):\n",
    "         \n",
    "        # Reach the left most Node of the current Node\n",
    "        if current is not None:\n",
    "             \n",
    "            # Place pointer to a tree node on the stack \n",
    "            # before traversing the node's left subtree\n",
    "            s.append(current)\n",
    "         \n",
    "            current = current.left \n",
    " \n",
    "         \n",
    "        # BackTrack from the empty subtree and visit the Node\n",
    "        # at the top of the stack; however, if the stack is \n",
    "        # empty you are done\n",
    "        else:\n",
    "            if(len(s) >0 ):\n",
    "                current = s.pop()\n",
    "                print current.data,\n",
    "         \n",
    "                # We have visited the node and its left \n",
    "                # subtree. Now, it's right subtree's turn\n",
    "                current = current.right \n",
    " \n",
    "            else:\n",
    "                done = 1\n",
    " \n",
    "# Driver program to test above function\n",
    " \n",
    "\"\"\" Constructed binary tree is\n",
    "            1\n",
    "          /   \\\n",
    "         2     3\n",
    "       /  \\\n",
    "      4    5   \"\"\"\n",
    " \n",
    "root = Node(1)\n",
    "root.left = Node(2)\n",
    "root.right = Node(3)\n",
    "root.left.left = Node(4)\n",
    "root.left.right = Node(5)\n",
    " \n",
    "inOrder(root)\n",
    " \n",
    "# This code is contributed by Nikhil Kumar Singh(nickzuck_007)\n"
   ]
  },
  {
   "cell_type": "markdown",
   "metadata": {},
   "source": [
    "Level order traversal:\n",
    "There are basically two functions in this method. One is to print all nodes at a given level (printGivenLevel), and other is to print level order traversal of the tree (printLevelorder). printLevelorder makes use of printGivenLevel to print nodes at all levels one by one starting from root.\n",
    "\n",
    "/*Function to print level order traversal of tree*/\n",
    "printLevelorder(tree)\n",
    "for d = 1 to height(tree)\n",
    "   printGivenLevel(tree, d);\n",
    "\n",
    "/*Function to print all nodes at a given level*/\n",
    "printGivenLevel(tree, level)\n",
    "if tree is NULL then return;\n",
    "if level is 1, then\n",
    "    print(tree->data);\n",
    "else if level greater than 1, then\n",
    "    printGivenLevel(tree->left, level-1);\n",
    "    printGivenLevel(tree->right, level-1);"
   ]
  },
  {
   "cell_type": "code",
   "execution_count": null,
   "metadata": {
    "collapsed": true
   },
   "outputs": [],
   "source": [
    "# Recursive Python program for level order traversal of Binary Tree\n",
    " \n",
    "# A node structure\n",
    "class Node:\n",
    " \n",
    "    # A utility function to create a new node\n",
    "    def __init__(self, key):\n",
    "        self.data = key \n",
    "        self.left = None\n",
    "        self.right = None\n",
    " \n",
    " \n",
    "# Function to  print level order traversal of tree\n",
    "def printLevelOrder(root):\n",
    "    h = height(root)\n",
    "    for i in range(1, h+1):\n",
    "        printGivenLevel(root, i)\n",
    " \n",
    " \n",
    "# Print nodes at a given level\n",
    "def printGivenLevel(root , level):\n",
    "    if root is None:\n",
    "        return\n",
    "    if level == 1:\n",
    "        print \"%d\" %(root.data),\n",
    "    elif level > 1 :\n",
    "        printGivenLevel(root.left , level-1)\n",
    "        printGivenLevel(root.right , level-1)\n",
    " \n",
    " \n",
    "\"\"\" Compute the height of a tree--the number of nodes\n",
    "    along the longest path from the root node down to\n",
    "    the farthest leaf node\n",
    "\"\"\"\n",
    "def height(node):\n",
    "    if node is None:\n",
    "        return 0\n",
    "    else :\n",
    "        # Compute the height of each subtree \n",
    "        lheight = height(node.left)\n",
    "        rheight = height(node.right)\n",
    " \n",
    "        #Use the larger one\n",
    "        if lheight > rheight :\n",
    "            return lheight+1\n",
    "        else:\n",
    "            return rheight+1\n",
    " \n",
    "# Driver program to test above function\n",
    "root = Node(1)\n",
    "root.left = Node(2)\n",
    "root.right = Node(3)\n",
    "root.left.left = Node(4)\n",
    "root.left.right = Node(5)\n",
    " \n",
    "print \"Level order traversal of binary tree is -\"\n",
    "printLevelOrder(root)"
   ]
  },
  {
   "cell_type": "markdown",
   "metadata": {},
   "source": [
    "Check if its a binary tree\n",
    "A binary search tree (BST) is a node based binary tree data structure which has the following properties.\n",
    "• The left subtree of a node contains only nodes with keys less than the node’s key.\n",
    "• The right subtree of a node contains only nodes with keys greater than the node’s key.\n",
    "• Both the left and right subtrees must also be binary search trees.\n",
    "\n",
    "From the above properties it naturally follows that:\n",
    "• Each node (item in the tree) has a distinct key"
   ]
  },
  {
   "cell_type": "code",
   "execution_count": null,
   "metadata": {
    "collapsed": true
   },
   "outputs": [],
   "source": [
    "# Python program to check if a binary tree is bst or not\n",
    " \n",
    "INT_MAX = 4294967296\n",
    "INT_MIN = -4294967296\n",
    " \n",
    "# A binary tree node\n",
    "class Node:\n",
    " \n",
    "    # Constructor to create a new node\n",
    "    def __init__(self, data):\n",
    "        self.data = data \n",
    "        self.left = None\n",
    "        self.right = None\n",
    " \n",
    " \n",
    "# Returns true if the given tree is a binary search tree\n",
    "# (efficient version)\n",
    "def isBST(node):\n",
    "    return (isBSTUtil(node, INT_MIN, INT_MAX))\n",
    " \n",
    "# Retusn true if the given tree is a BST and its values\n",
    "# >= min and <= max\n",
    "def isBSTUtil(node, mini, maxi):\n",
    "     \n",
    "    # An empty tree is BST\n",
    "    if node is None:\n",
    "        return True\n",
    " \n",
    "    # False if this node violates min/max constraint\n",
    "    if node.data < mini or node.data > maxi:\n",
    "        return False\n",
    " \n",
    "    # Otherwise check the subtrees recursively\n",
    "    # tightening the min or max constraint\n",
    "    return (isBSTUtil(node.left, mini, node.data -1) and\n",
    "          isBSTUtil(node.right, node.data+1, maxi))\n",
    " \n",
    "# Driver program to test above function\n",
    "root = Node(4)\n",
    "root.left = Node(2)\n",
    "root.right = Node(5)\n",
    "root.left.left = Node(1)\n",
    "root.left.right = Node(3)\n",
    " \n",
    "if (isBST(root)):\n",
    "    print \"Is BST\"\n",
    "else:\n",
    "    print \"Not a BST\"\n",
    " \n",
    "# This code is contributed by Nikhil Kumar Singh(nickzuck_007)"
   ]
  },
  {
   "cell_type": "markdown",
   "metadata": {},
   "source": [
    "Convert binary tree to linkedlist"
   ]
  },
  {
   "cell_type": "code",
   "execution_count": null,
   "metadata": {
    "collapsed": true
   },
   "outputs": [],
   "source": [
    "# Time:  O(n)\n",
    "# Space: O(h), h is height of binary tree\n",
    "#\n",
    "# Given a binary tree, flatten it to a linked list in-place.\n",
    "# \n",
    "# For example,\n",
    "# Given\n",
    "# \n",
    "#          1\n",
    "#         / \\\n",
    "#        2   5\n",
    "#       / \\   \\\n",
    "#      3   4   6\n",
    "# The flattened tree should look like:\n",
    "#    1\n",
    "#     \\\n",
    "#      2\n",
    "#       \\\n",
    "#        3\n",
    "#         \\\n",
    "#          4\n",
    "#           \\\n",
    "#            5\n",
    "#             \\\n",
    "#              6\n",
    "#\n",
    "\n",
    "# Definition for a  binary tree node\n",
    "class TreeNode:\n",
    "    def __init__(self, x):\n",
    "        self.val = x\n",
    "        self.left = None\n",
    "        self.right = None\n",
    "\n",
    "class Solution:\n",
    "    # @param root, a tree node\n",
    "    # @return nothing, do it in place\n",
    "    def flatten(self, root):\n",
    "        return self.flattenRecu(root, None)\n",
    "        \n",
    "    def flattenRecu(self, root, list_head):\n",
    "        if root != None:\n",
    "            list_head = self.flattenRecu(root.right, list_head)\n",
    "            list_head = self.flattenRecu(root.left, list_head)\n",
    "            root.right = list_head\n",
    "            root.left = None\n",
    "            return root\n",
    "        else:\n",
    "            return list_head\n",
    "        \n",
    "class Solution2:\n",
    "    list_head = None\n",
    "    # @param root, a tree node\n",
    "    # @return nothing, do it in place\n",
    "    def flatten(self, root):\n",
    "        if root != None:\n",
    "            self.flatten(root.right)\n",
    "            self.flatten(root.left)\n",
    "            root.right = self.list_head\n",
    "            root.left = None\n",
    "            self.list_head = root\n",
    "            return root\n",
    "        \n",
    "if __name__ == \"__main__\":\n",
    "    root = TreeNode(1)\n",
    "    root.left = TreeNode(2)\n",
    "    root.left.left = TreeNode(3)\n",
    "    root.left.right = TreeNode(4)\n",
    "    root.right = TreeNode(5)\n",
    "    root.right.right = TreeNode(6)\n",
    "    result = Solution().flatten(root)\n",
    "    print result.val\n",
    "    print result.right.val\n",
    "    print result.right.right.val\n",
    "    print result.right.right.right.val\n",
    "    print result.right.right.right.right.val\n",
    "    print result.right.right.right.right.right.val"
   ]
  },
  {
   "cell_type": "markdown",
   "metadata": {},
   "source": [
    "Print the perimeter of the binary tree:\n",
    "    We break the problem in 3 parts:\n",
    "1. Print the left boundary in top-down manner.\n",
    "2. Print all leaf nodes from left to right, which can again be sub-divided into two sub-parts:\n",
    "…..2.1 Print all leaf nodes of left sub-tree from left to right.\n",
    "…..2.2 Print all leaf nodes of right subtree from left to right.\n",
    "3. Print the right boundary in bottom-up manner.\n",
    "\n",
    "We need to take care of one thing that nodes are not printed again"
   ]
  },
  {
   "cell_type": "code",
   "execution_count": null,
   "metadata": {
    "collapsed": true
   },
   "outputs": [],
   "source": [
    "# Python program for binary traversal of binary tree\n",
    " \n",
    "# A binary tree node\n",
    "class Node:\n",
    " \n",
    "    # Constructor to create a new node\n",
    "    def __init__(self, data):\n",
    "        self.data = data \n",
    "        self.left = None\n",
    "        self.right = None\n",
    " \n",
    "# A simple function to print leaf nodes of a Binary Tree\n",
    "def printLeaves(root):\n",
    "    if(root):\n",
    "        printLeaves(root.left)\n",
    "         \n",
    "        # Print it if it is a leaf node\n",
    "        if root.left is None and root.right is None:\n",
    "            print root.data,\n",
    " \n",
    "        printLeaves(root.right)\n",
    " \n",
    "# A function to print all left boundary nodes, except a \n",
    "# leaf node. Print the nodes in TOP DOWN manner\n",
    "def printBoundaryLeft(root):\n",
    "     \n",
    "    if(root):\n",
    "        if (root.left):\n",
    "             \n",
    "            # to ensure top down order, print the node\n",
    "            # before calling itself for left subtree\n",
    "            print root.data,\n",
    "            printBoundaryLeft(root.left)\n",
    "         \n",
    "        elif(root.right):\n",
    "            print root.data,\n",
    "            printBoundaryRight(root.right)\n",
    "         \n",
    "        # do nothing if it is a leaf node, this way we\n",
    "        # avoid duplicates in output\n",
    " \n",
    " \n",
    "# A function to print all right boundary nodes, except\n",
    "# a leaf node. Print the nodes in BOTTOM UP manner\n",
    "def printBoundaryRight(root):\n",
    "     \n",
    "    if(root):\n",
    "        if (root.right):\n",
    "            # to ensure bottom up order, first call for\n",
    "            # right subtree, then print this node\n",
    "            printBoundaryRight(root.right)\n",
    "            print root.data,\n",
    "         \n",
    "        elif(root.left):\n",
    "            printBoundaryRight(root.left)\n",
    "            print root.data,\n",
    " \n",
    "        # do nothing if it is a leaf node, this way we \n",
    "        # avoid duplicates in output\n",
    " \n",
    " \n",
    "# A function to do boundary traversal of a given binary tree\n",
    "def printBoundary(root):\n",
    "    if (root):\n",
    "        print root.data, \n",
    "         \n",
    "        # Print the left boundary in top-down manner\n",
    "        printBoundaryLeft(root.left)\n",
    " \n",
    "        # Print all leaf nodes\n",
    "        printLeaves(root.left)\n",
    "        printLeaves(root.right)\n",
    " \n",
    "        # Print the right boundary in bottom-up manner\n",
    "        printBoundaryRight(root.right)\n",
    " \n",
    " \n",
    "# Driver program to test above function\n",
    "root = Node(20)\n",
    "root.left = Node(8)\n",
    "root.left.left = Node(4)\n",
    "root.left.right = Node(12)\n",
    "root.left.right.left =  Node(10)\n",
    "root.left.right.right = Node(14)\n",
    "root.right = Node(22)\n",
    "root.right.right = Node(25)\n",
    "printBoundary(root)\n",
    " \n",
    "# This code is contributed by Nikhil Kumar Singh(nickzuck_007)"
   ]
  },
  {
   "cell_type": "markdown",
   "metadata": {},
   "source": [
    "serialize or desearialize binary tree"
   ]
  },
  {
   "cell_type": "code",
   "execution_count": null,
   "metadata": {
    "collapsed": true
   },
   "outputs": [],
   "source": [
    "# Time:  O(n)\n",
    "# Space: O(h)\n",
    "\n",
    "# Serialization is the process of converting a data structure or\n",
    "# object into a sequence of bits so that it can be stored in a file\n",
    "# or memory buffer, or transmitted across a network connection link\n",
    "# to be reconstructed later in the same or another computer environment.\n",
    "#\n",
    "# Design an algorithm to serialize and deserialize a binary tree. \n",
    "# There is no restriction on how your serialization/deserialization\n",
    "# algorithm should work. You just need to ensure that a binary tree can \n",
    "# be serialized to a string and this string can be deserialized to the \n",
    "# original tree structure.\n",
    "#\n",
    "# For example, you may serialize the following tree\n",
    "#\n",
    "#     1\n",
    "#   / \\\n",
    "#   2   3\n",
    "#      / \\\n",
    "#     4   5\n",
    "# as \"[1,2,3,null,null,4,5]\", just the same as how LeetCode OJ serializes\n",
    "# a binary tree. You do not necessarily need to follow this format, so \n",
    "# please be creative and come up with different approaches yourself.\n",
    "# Note: Do not use class member/global/static variables to store states. \n",
    "# Your serialize and deserialize algorithms should be stateless.\n",
    "#\n",
    "\n",
    "# Definition for a binary tree node.\n",
    "# class TreeNode(object):\n",
    "#     def __init__(self, x):\n",
    "#         self.val = x\n",
    "#         self.left = None\n",
    "#         self.right = None\n",
    "class Codec:\n",
    "\n",
    "    def serialize(self, root):\n",
    "        \"\"\"Encodes a tree to a single string.\n",
    "        \n",
    "        :type root: TreeNode\n",
    "        :rtype: str\n",
    "        \"\"\"\n",
    "        def serializeHelper(node):\n",
    "            if not node:\n",
    "                vals.append('#')\n",
    "            else:\n",
    "                vals.append(str(node.val))\n",
    "                serializeHelper(node.left)\n",
    "                serializeHelper(node.right)\n",
    "        vals = []\n",
    "        serializeHelper(root)\n",
    "        return ' '.join(vals)\n",
    "\n",
    "\n",
    "    def deserialize(self, data):\n",
    "        \"\"\"Decodes your encoded data to tree.\n",
    "        \n",
    "        :type data: str\n",
    "        :rtype: TreeNode\n",
    "        \"\"\"\n",
    "        def deserializeHelper():\n",
    "            val = next(vals)\n",
    "            if val == '#':\n",
    "                return None\n",
    "            else:\n",
    "                node = TreeNode(int(val))\n",
    "                node.left = deserializeHelper()\n",
    "                node.right = deserializeHelper()\n",
    "                return node\n",
    "        def isplit(source, sep):\n",
    "            sepsize = len(sep)\n",
    "            start = 0\n",
    "            while True:\n",
    "                idx = source.find(sep, start)\n",
    "                if idx == -1:\n",
    "                    yield source[start:]\n",
    "                    return\n",
    "                yield source[start:idx]\n",
    "                start = idx + sepsize\n",
    "        vals = iter(isplit(data, ' '))\n",
    "        return deserializeHelper()"
   ]
  },
  {
   "cell_type": "markdown",
   "metadata": {},
   "source": [
    "Kth smallest element in binary tree"
   ]
  },
  {
   "cell_type": "code",
   "execution_count": null,
   "metadata": {
    "collapsed": true
   },
   "outputs": [],
   "source": [
    "class Solution(object):\n",
    "    def kthSmallest(self, root, k):\n",
    "        \"\"\"\n",
    "        :type root: TreeNode\n",
    "        :type k: int\n",
    "        :rtype: int\n",
    "        \"\"\"\n",
    "        count = []\n",
    "        self.helper(root, count)\n",
    "        return count[k-1]\n",
    "        \n",
    "    def helper(self, node, count):\n",
    "        if not node:\n",
    "            return\n",
    "        \n",
    "        self.helper(node.left, count)\n",
    "        count.append(node.val)\n",
    "        self.helper(node.right, count)"
   ]
  },
  {
   "cell_type": "markdown",
   "metadata": {},
   "source": [
    "Mirror binary tree"
   ]
  },
  {
   "cell_type": "code",
   "execution_count": null,
   "metadata": {
    "collapsed": true
   },
   "outputs": [],
   "source": [
    "def mirror(root):\n",
    "    if root is None:\n",
    "        return\n",
    "    mirror(root.left)\n",
    "    mirror(root.right)\n",
    "    root.left, root.right = root.right, root.left"
   ]
  },
  {
   "cell_type": "markdown",
   "metadata": {},
   "source": [
    "Stack using queues"
   ]
  },
  {
   "cell_type": "code",
   "execution_count": null,
   "metadata": {
    "collapsed": true
   },
   "outputs": [],
   "source": [
    "# Time: push: O(n), pop: O(1), top: O(1)\n",
    "# Space: O(n)\n",
    "#\n",
    "# Implement the following operations of a stack using queues.\n",
    "#\n",
    "# push(x) -- Push element x onto stack.\n",
    "# pop() -- Removes the element on top of the stack.\n",
    "# top() -- Get the top element.\n",
    "# empty() -- Return whether the stack is empty.\n",
    "# Notes:\n",
    "# You must use only standard operations of a queue -- which\n",
    "# means only push to back, peek/pop from front, size, and is\n",
    "# empty operations are valid.\n",
    "# Depending on your language, queue may not be supported natively.\n",
    "# You may simulate a queue by using a list or deque (double-ended\n",
    "# queue), as long as you use only standard operations of a queue.\n",
    "# You may assume that all operations are valid (for example, no pop\n",
    "# or top operations will be called on an empty stack).\n",
    "#\n",
    "\n",
    "class Queue:\n",
    "    def __init__(self):\n",
    "        self.data = collections.deque()\n",
    "        \n",
    "    def push(self, x):\n",
    "        self.data.append(x)\n",
    "    \n",
    "    def peek(self):\n",
    "        return self.data[0]\n",
    "    \n",
    "    def pop(self):\n",
    "        return self.data.popleft()\n",
    "    \n",
    "    def size(self):\n",
    "        return len(self.data)\n",
    "    \n",
    "    def empty(self):\n",
    "        return len(self.data) == 0\n",
    "\n",
    "\n",
    "class Stack:\n",
    "    # initialize your data structure here.\n",
    "    def __init__(self):\n",
    "        self.q_ = Queue()\n",
    "\n",
    "    # @param x, an integer\n",
    "    # @return nothing\n",
    "    def push(self, x):\n",
    "        self.q_.push(x)\n",
    "        for _ in xrange(self.q_.size() - 1):\n",
    "            self.q_.push(self.q_.pop())\n",
    "\n",
    "    # @return nothing\n",
    "    def pop(self):\n",
    "        self.q_.pop()\n",
    "\n",
    "    # @return an integer\n",
    "    def top(self):\n",
    "        return self.q_.peek()\n",
    "\n",
    "    # @return an boolean\n",
    "    def empty(self):\n",
    "        return self.q_.empty()\n",
    "\n",
    "\n",
    "# Time: push: O(1), pop: O(n), top: O(1)\n",
    "# Space: O(n)\n",
    "class Stack2:\n",
    "    # initialize your data structure here.\n",
    "    def __init__(self):\n",
    "        self.q_ = Queue()\n",
    "        self.top_ = None\n",
    "\n",
    "    # @param x, an integer\n",
    "    # @return nothing\n",
    "    def push(self, x):\n",
    "        self.q_.push(x)\n",
    "        self.top_ = x\n",
    "\n",
    "    # @return nothing\n",
    "    def pop(self):\n",
    "        for _ in xrange(self.q_.size() - 1):\n",
    "            self.top_ = self.q_.pop()\n",
    "            self.q_.push(self.top_)\n",
    "        self.q_.pop()\n",
    "\n",
    "    # @return an integer\n",
    "    def top(self):\n",
    "        return self.top_\n",
    "\n",
    "    # @return an boolean\n",
    "    def empty(self):\n",
    "        return self.q_.empty()"
   ]
  },
  {
   "cell_type": "markdown",
   "metadata": {},
   "source": [
    "Queue using stacks"
   ]
  },
  {
   "cell_type": "code",
   "execution_count": null,
   "metadata": {
    "collapsed": true
   },
   "outputs": [],
   "source": [
    "# Time:  O(1), amortized\n",
    "# Space: O(n)\n",
    "#\n",
    "# Implement the following operations of a queue using stacks.\n",
    "#\n",
    "# push(x) -- Push element x to the back of queue.\n",
    "# pop() -- Removes the element from in front of queue.\n",
    "# peek() -- Get the front element.\n",
    "# empty() -- Return whether the queue is empty.\n",
    "#\n",
    "# Notes:\n",
    "# You must use only standard operations of a stack\n",
    "# -- which means only push to top, peek/pop from top, size, and is empty operations are valid.\n",
    "# Depending on your language, stack may not be supported natively.\n",
    "# You may simulate a stack by using a list or deque (double-ended queue),\n",
    "# as long as you use only standard operations of a stack.\n",
    "# You may assume that all operations are valid\n",
    "# (for example, no pop or peek operations will be called on an empty queue).\n",
    "#\n",
    "\n",
    "class Queue:\n",
    "    # initialize your data structure here.\n",
    "    def __init__(self):\n",
    "        self.A, self.B = [], []\n",
    "\n",
    "    # @param x, an integer\n",
    "    # @return nothing\n",
    "    def push(self, x):\n",
    "        self.A.append(x)\n",
    "\n",
    "    # @return nothing\n",
    "    def pop(self):\n",
    "        self.peek()\n",
    "        self.B.pop()\n",
    "        \n",
    "    # @return an integer\n",
    "    def peek(self):\n",
    "        if not self.B:\n",
    "            while self.A:\n",
    "                self.B.append(self.A.pop())\n",
    "        return self.B[-1]\n",
    "        \n",
    "    # @return an boolean\n",
    "    def empty(self):\n",
    "        return not self.A and not self.B"
   ]
  },
  {
   "cell_type": "markdown",
   "metadata": {},
   "source": [
    "Wildcard matching\n",
    "For each element in s\n",
    "If *s==*p or *p == ? which means this is a match, then goes to next element s++ p++.\n",
    "If p=='*', this is also a match, but one or many chars may be available, so let us save this *'s position and the matched s position.\n",
    "If not match, then we check if there is a * previously showed up,\n",
    "       if there is no *,  return false;\n",
    "       if there is an *,  we set current p to the next element of *, and set current s to the next saved s position.\n",
    "       \n",
    "Some examples:\n",
    "isMatch(\"aa\",\"a\") → false\n",
    "isMatch(\"aa\",\"aa\") → true\n",
    "isMatch(\"aaa\",\"aa\") → false\n",
    "isMatch(\"aa\", \"*\") → true\n",
    "isMatch(\"aa\", \"a*\") → true\n",
    "isMatch(\"ab\", \"?*\") → true\n",
    "isMatch(\"aab\", \"c*a*b\") → false"
   ]
  },
  {
   "cell_type": "code",
   "execution_count": null,
   "metadata": {
    "collapsed": true
   },
   "outputs": [],
   "source": [
    "class Solution:\n",
    "    # @param s, an input string\n",
    "    # @param p, a pattern string\n",
    "    # @return a boolean\n",
    "    # @good solution! use 'aaaabaaaab' vs 'a*b*b' as an example\n",
    "    def isMatch(self, s, p):\n",
    "        pPointer=sPointer=ss=0; star=-1\n",
    "        while sPointer<len(s):\n",
    "            if pPointer<len(p) and (s[sPointer]==p[pPointer] or p[pPointer]=='?'):\n",
    "                sPointer+=1; pPointer+=1\n",
    "                continue\n",
    "            if pPointer<len(p) and p[pPointer]=='*':\n",
    "                star=pPointer; pPointer+=1; ss=sPointer;\n",
    "                continue\n",
    "            if star!=-1:\n",
    "                pPointer=star+1; ss+=1; sPointer=ss\n",
    "                continue\n",
    "            return False\n",
    "        while pPointer<len(p) and p[pPointer]=='*':\n",
    "            pPointer+=1\n",
    "        if pPointer==len(p): return True\n",
    "        return False\n",
    "Copy the code"
   ]
  },
  {
   "cell_type": "markdown",
   "metadata": {},
   "source": [
    "Minimum spanning tree"
   ]
  },
  {
   "cell_type": "code",
   "execution_count": null,
   "metadata": {
    "collapsed": true
   },
   "outputs": [],
   "source": [
    "import sys\n",
    "\n",
    "class Vertex:\n",
    "    def __init__(self, node):\n",
    "        self.id = node\n",
    "        self.adjacent = {}\n",
    "        # Set distance to infinity for all nodes\n",
    "        self.distance = sys.maxint\n",
    "        # Mark all nodes unvisited        \n",
    "        self.visited = False  \n",
    "        # Predecessor\n",
    "        self.previous = None\n",
    "\n",
    "    def add_neighbor(self, neighbor, weight=0):\n",
    "        self.adjacent[neighbor] = weight\n",
    "\n",
    "    def get_connections(self):\n",
    "        return self.adjacent.keys()  \n",
    "\n",
    "    def get_id(self):\n",
    "        return self.id\n",
    "\n",
    "    def get_weight(self, neighbor):\n",
    "        return self.adjacent[neighbor]\n",
    "\n",
    "    def set_distance(self, dist):\n",
    "        self.distance = dist\n",
    "\n",
    "    def get_distance(self):\n",
    "        return self.distance\n",
    "\n",
    "    def set_previous(self, prev):\n",
    "        self.previous = prev\n",
    "\n",
    "    def set_visited(self):\n",
    "        self.visited = True\n",
    "\n",
    "    def __str__(self):\n",
    "        return str(self.id) + ' adjacent: ' + str([x.id for x in self.adjacent])\n",
    "\n",
    "class Graph:\n",
    "    def __init__(self):\n",
    "        self.vert_dict = {}\n",
    "        self.num_vertices = 0\n",
    "\n",
    "    def __iter__(self):\n",
    "        return iter(self.vert_dict.values())\n",
    "\n",
    "    def add_vertex(self, node):\n",
    "        self.num_vertices = self.num_vertices + 1\n",
    "        new_vertex = Vertex(node)\n",
    "        self.vert_dict[node] = new_vertex\n",
    "        return new_vertex\n",
    "\n",
    "    def get_vertex(self, n):\n",
    "        if n in self.vert_dict:\n",
    "            return self.vert_dict[n]\n",
    "        else:\n",
    "            return None\n",
    "\n",
    "    def add_edge(self, frm, to, cost = 0):\n",
    "        if frm not in self.vert_dict:\n",
    "            self.add_vertex(frm)\n",
    "        if to not in self.vert_dict:\n",
    "            self.add_vertex(to)\n",
    "\n",
    "        self.vert_dict[frm].add_neighbor(self.vert_dict[to], cost)\n",
    "        self.vert_dict[to].add_neighbor(self.vert_dict[frm], cost)\n",
    "\n",
    "    def get_vertices(self):\n",
    "        return self.vert_dict.keys()\n",
    "\n",
    "    def set_previous(self, current):\n",
    "        self.previous = current\n",
    "\n",
    "    def get_previous(self, current):\n",
    "        return self.previous\n",
    "\n",
    "def shortest(v, path):\n",
    "    ''' make shortest path from v.previous'''\n",
    "    if v.previous:\n",
    "        path.append(v.previous.get_id())\n",
    "        shortest(v.previous, path)\n",
    "    return\n",
    "\n",
    "import heapq\n",
    "\n",
    "def dijkstra(aGraph, start):\n",
    "    print '''Dijkstra's shortest path'''\n",
    "    # Set the distance for the start node to zero \n",
    "    start.set_distance(0)\n",
    "\n",
    "    # Put tuple pair into the priority queue\n",
    "    unvisited_queue = [(v.get_distance(),v) for v in aGraph]\n",
    "    heapq.heapify(unvisited_queue)\n",
    "\n",
    "    while len(unvisited_queue):\n",
    "        # Pops a vertex with the smallest distance \n",
    "        uv = heapq.heappop(unvisited_queue)\n",
    "        current = uv[1]\n",
    "        current.set_visited()\n",
    "\n",
    "        #for next in v.adjacent:\n",
    "        for next in current.adjacent:\n",
    "            # if visited, skip\n",
    "            if next.visited:\n",
    "                continue\n",
    "            new_dist = current.get_distance() + current.get_weight(next)\n",
    "            \n",
    "            if new_dist < next.get_distance():\n",
    "                next.set_distance(new_dist)\n",
    "                next.set_previous(current)\n",
    "                print 'updated : current = %s next = %s new_dist = %s' \\\n",
    "                        %(current.get_id(), next.get_id(), next.get_distance())\n",
    "            else:\n",
    "                print 'not updated : current = %s next = %s new_dist = %s' \\\n",
    "                        %(current.get_id(), next.get_id(), next.get_distance())\n",
    "\n",
    "        # Rebuild heap\n",
    "        # 1. Pop every item\n",
    "        while len(unvisited_queue):\n",
    "            heapq.heappop(unvisited_queue)\n",
    "        # 2. Put all vertices not visited into the queue\n",
    "        unvisited_queue = [(v.get_distance(),v) for v in aGraph if not v.visited]\n",
    "        heapq.heapify(unvisited_queue)\n",
    "\n",
    "\n",
    "if __name__ == '__main__':\n",
    "\n",
    "    g = Graph()\n",
    "\n",
    "    g.add_vertex('a')\n",
    "    g.add_vertex('b')\n",
    "    g.add_vertex('c')\n",
    "    g.add_vertex('d')\n",
    "    g.add_vertex('e')\n",
    "    g.add_vertex('f')\n",
    "\n",
    "    g.add_edge('a', 'b', 7)  \n",
    "    g.add_edge('a', 'c', 9)\n",
    "    g.add_edge('a', 'f', 14)\n",
    "    g.add_edge('b', 'c', 10)\n",
    "    g.add_edge('b', 'd', 15)\n",
    "    g.add_edge('c', 'd', 11)\n",
    "    g.add_edge('c', 'f', 2)\n",
    "    g.add_edge('d', 'e', 6)\n",
    "    g.add_edge('e', 'f', 9)\n",
    "\n",
    "    print 'Graph data:'\n",
    "    for v in g:\n",
    "        for w in v.get_connections():\n",
    "            vid = v.get_id()\n",
    "            wid = w.get_id()\n",
    "            print '( %s , %s, %3d)'  % ( vid, wid, v.get_weight(w))\n",
    "\n",
    "            \n",
    "    dijkstra(g, g.get_vertex('a')) \n",
    "\n",
    "    for t in ['d','e','f']:\n",
    "        target = g.get_vertex(t)\n",
    "        path = [t]\n",
    "        shortest(target, path)\n",
    "        print 'The shortest path for %s : %s' %(t, path[::-1])"
   ]
  },
  {
   "cell_type": "markdown",
   "metadata": {},
   "source": [
    "Clone a directed graph"
   ]
  },
  {
   "cell_type": "code",
   "execution_count": null,
   "metadata": {
    "collapsed": true
   },
   "outputs": [],
   "source": [
    "class Node:\n",
    "    def __init__(self,d):\n",
    "        self.data = d\n",
    "        self.neighbors = []\n",
    "        \n",
    "def clone_rec(root, nodes_completed):\n",
    "    if root == None:\n",
    "        return None\n",
    "    pnew = Node(root.data)\n",
    "    nodes_completed[root] = pnew\n",
    "    \n",
    "    for p in root.neighbors:\n",
    "        x = nodes_completed.get(p)\n",
    "        if x == None:\n",
    "            pnew.neighbors += [clone_rec(p,nodes_completed)]\n",
    "        else:\n",
    "            pnew.neighbors += [x]\n",
    "    return pnew\n",
    "\n",
    "def clone(root):\n",
    "    nodes_completed = {}\n",
    "    return clone_rec(root,nodes_completed)"
   ]
  }
 ],
 "metadata": {
  "kernelspec": {
   "display_name": "Python 3",
   "language": "python",
   "name": "python3"
  },
  "language_info": {
   "codemirror_mode": {
    "name": "ipython",
    "version": 3
   },
   "file_extension": ".py",
   "mimetype": "text/x-python",
   "name": "python",
   "nbconvert_exporter": "python",
   "pygments_lexer": "ipython3",
   "version": "3.6.1"
  }
 },
 "nbformat": 4,
 "nbformat_minor": 2
}
